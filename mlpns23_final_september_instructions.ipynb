{
  "cells": [
    {
      "cell_type": "markdown",
      "metadata": {
        "id": "view-in-github",
        "colab_type": "text"
      },
      "source": [
        "<a href=\"https://colab.research.google.com/github/fedhere/MLPNS_FBianco/blob/main/mlpns23_final_september_instructions.ipynb\" target=\"_parent\"><img src=\"https://colab.research.google.com/assets/colab-badge.svg\" alt=\"Open In Colab\"/></a>"
      ]
    },
    {
      "cell_type": "markdown",
      "source": [
        "copy the notebook to your drive before you start ^^^\n",
        "# MLPNS 2023 September exam\n",
        "\n",
        "#RULES:\n",
        "- ## WORK ALONE\n",
        "\n",
        "- ## ASK QUESTIONS IN #exam_september ON SLACK (no private message unless I direct you to) - questions are very welcome! if you find any issues or mistakes in the description let me know as well!\n",
        "\n",
        "- ## TURN IN YOUR WORK WITHIN 72 HOURS BY SHARING YOUR NOTEBOOK WITH ME  - by Wednesday 9/13 3PM (see instructions on slack #exam_september)\n",
        "\n",
        "- ## DO NOT POST ON GITHUB.\n",
        "\n",
        "Schedule an oral exam within three weeks of the complition of the written exam at https://calendly.com/fbbianco/one-on-one. In the oral session you will duscuss and explain your choices. Your grade will be beased on this discussion, not on the written performance itself (i.e. even if you do all the tasks in the written exam, if you cannot talk about them, describe them and motivate them you will not get a good grade and, conversely, if you have problem getting good models but you can discuss effectively what you did and what you could have done you can get a good grade).\n",
        "\n",
        "## OVERVIEW\n",
        "This is an exercise in identification of cancer in cells from Reman spectra of the cell medium.  Reman spectroscopy is a spectroscopic technique used to determine vibrational modes of molecules from inelastic scattering of photons, known as Raman scattering. You are asked to classify the spectra based on presence and type of cancer.\n",
        "\n",
        "There are 5 cell characterizations (your classes):\n",
        "- melanoma cells - A (A2058) and G (G361) labels\n",
        "- neonatal highly pigmented melanocytes  - HPM label\n",
        "- normal skin fibroblasts - HF label\n",
        "- tumour associated fibroblasts - ZAM label\n",
        "- pure medium (control) - DMEM label\n",
        "\n",
        "For each cells there are two samples with different serum content (e.g. A and A-S) and for each there are 3 different sets corresponding to different mediums: NH2, COOH, (COOH)2 .\n",
        "\n",
        "Whichever model you develop, **develop it on one medium** and you will have the chance to show how it performs on the other two (alternative A, task VII).\n",
        "\n",
        " First try the **simple classification: control vs other**. Then you can attempt a multiclass classification (alternative B, task VII).\n",
        "\n",
        "You can choose any model you want, but Convolutional Neural Networks are known to be succesful in Reman classification - this exercise is inspired directly by this paper (although we use a different dataset) https://www.sciencedirect.com/science/article/pii/S0030401822000402#b28\n",
        "\n",
        "## What I expect in the written exam:\n",
        "I expect that you will perform the following tasks after having acquired the data:\n",
        "\n",
        "- Data exploration\n",
        "\n",
        "- Preprocessing and scaling appropriately as needed\n",
        "\n",
        "- Model development\n",
        "\n",
        "- Fitting and evaluation of your model performance\n",
        "\n",
        "\n",
        "\n",
        "\n",
        "**All figures should have captions and axis labels**\n",
        "\n",
        "Please dont forget axis labels and captions! Make figures wherever apprioriate to understand the data/results (feel free to put figures in addition to the ones requested explicitly below). Also think about your stylistic choices! which choice of color maps, scaling, limits maximize the effectiveness and readability of your figures?\n",
        "\n",
        "**Discussion**\n",
        "\n",
        "Put your \"narrative\" in text cells. Present the code neatly, deleting cells of code used for testing but leaving in all cells needed for the code to work.\n",
        "\n",
        "I expect that you will discuss each step and to what extent it was successful, to what extent it can be improved.\n",
        "\n",
        "I expect a justification for all your choices (e.g. how you deal with missing or redundant values, hyperparameter choices) includind a description of possible shortcomings of your choices.\n",
        "\n",
        "**Reproducibility**\n",
        "\n",
        "I expect your code to be reproducible and to run: _reproducible means that when I run it by Restart Kernel -> Run all I should get the exact same numbers you presented_. Where random numbers are used you should seed your random sequence (by setting a seed or the random_state if available in the model). \"Running\" means that your code should, run with no bugs or breaks top tp bottom; when I click Runtime RunAll the code should not stop until the last cell. Make sure you restart the kernel and rerun your code from the beginning to assure it works before you deliver it! Note: it is not trivial to get reproducible results when running neural networks, so small differences if you used a NN are acceptable\n",
        "\n",
        "\n",
        "\n",
        "\n"
      ],
      "metadata": {
        "id": "fvC9X4tJkx16"
      }
    },
    {
      "cell_type": "markdown",
      "source": [
        "# TASK I :  Data Acquisition\n",
        " You can download the data from kaggle\n",
        " --- https://www.kaggle.com/datasets/andriitrelin/cells-raman-spectra (agree to the competition rules to enable download, find the command to download using python at the bottom of the page, use the kaggle software to download the data within your notebook as done for example in https://github.com/fedhere/DSPS_2019/blob/master/lab9/titanictree.ipynb)\n",
        "\n",
        "The original paper related to this dataset is https://www.sciencedirect.com/science/article/abs/pii/S0925400520300071?via%3Dihub\n",
        "\n",
        " Make sure that the data is obtained in a way that is reproducible but that does not expose your Kaggle API keys (do not print the credentials).\n",
        "\n",
        " (Note: you will have to unzip the folder which will expand into a folder with multiple elements in it. You can ignore the data in the data_i folder.)\n",
        "\n",
        " Important: make a folder on your google drive called MLPNSfinal0923 and put your google drive and work in that folder. This way I do not have to dowmload multiple copies"
      ],
      "metadata": {
        "id": "BxJTWVyLIY4g"
      }
    },
    {
      "cell_type": "code",
      "execution_count": null,
      "metadata": {
        "colab": {
          "base_uri": "https://localhost:8080/"
        },
        "id": "i77yGd_kOQhw",
        "outputId": "796b50ed-7caf-4c95-98f1-ad5256fd35a4"
      },
      "outputs": [
        {
          "output_type": "stream",
          "name": "stdout",
          "text": [
            "Mounted at /content/gdrive\n"
          ]
        }
      ],
      "source": [
        "... mount your drive\n"
      ]
    },
    {
      "cell_type": "code",
      "execution_count": null,
      "metadata": {
        "id": "RoLoXc1YO0t7"
      },
      "outputs": [],
      "source": [
        "... all imports here"
      ]
    },
    {
      "cell_type": "markdown",
      "source": [
        "create a folder \"MLPNSfinal0923\" in the drive and go there with the line command"
      ],
      "metadata": {
        "id": "ybW3EhR5OUqg"
      }
    },
    {
      "cell_type": "code",
      "source": [
        "..."
      ],
      "metadata": {
        "colab": {
          "base_uri": "https://localhost:8080/"
        },
        "id": "9TEnJL4uDOAo",
        "outputId": "3fdc8bed-5c74-4ab8-aa22-5b304a4a88a2"
      },
      "execution_count": null,
      "outputs": [
        {
          "output_type": "stream",
          "name": "stdout",
          "text": [
            "/content/drive/MyDrive/MLPNSfinal0923\n"
          ]
        }
      ]
    },
    {
      "cell_type": "code",
      "source": [
        "..."
      ],
      "metadata": {
        "id": "nwA9UoVipgD5"
      },
      "execution_count": null,
      "outputs": []
    },
    {
      "cell_type": "code",
      "source": [
        "!kaggle ......."
      ],
      "metadata": {
        "colab": {
          "base_uri": "https://localhost:8080/"
        },
        "id": "rsKE5dOfzw2o",
        "outputId": "ec6aa813-c2b6-4196-dd8b-e75fffb01edb"
      },
      "execution_count": null,
      "outputs": [
        {
          "output_type": "stream",
          "name": "stdout",
          "text": [
            "Downloading cells-raman-spectra.zip to /content/drive/MyDrive/MLPNSfinal0923\n",
            " 96% 66.0M/68.5M [00:00<00:00, 97.1MB/s]\n",
            "100% 68.5M/68.5M [00:00<00:00, 80.9MB/s]\n"
          ]
        }
      ]
    },
    {
      "cell_type": "code",
      "source": [
        "..."
      ],
      "metadata": {
        "id": "VZ1V2f2XpisT"
      },
      "execution_count": null,
      "outputs": []
    },
    {
      "cell_type": "code",
      "execution_count": null,
      "metadata": {
        "colab": {
          "base_uri": "https://localhost:8080/"
        },
        "id": "TfnvRmjfjMME",
        "outputId": "890feb6f-ce15-42b2-dd19-34ad7cad4a32"
      },
      "outputs": [
        {
          "output_type": "stream",
          "name": "stdout",
          "text": [
            "\u001b[0m\u001b[01;34mA\u001b[0m/    cells-raman-spectra.zip  \u001b[01;34mDMEM\u001b[0m/    \u001b[01;34mG\u001b[0m/    \u001b[01;34mHF\u001b[0m/    \u001b[01;34mMEL\u001b[0m/    README.txt  \u001b[01;34mZAM-S\u001b[0m/\n",
            "\u001b[01;34mA-S\u001b[0m/  \u001b[01;34mdataset_i\u001b[0m/               \u001b[01;34mDMEM-S\u001b[0m/  \u001b[01;34mG-S\u001b[0m/  \u001b[01;34mHF-S\u001b[0m/  \u001b[01;34mMEL-S\u001b[0m/  \u001b[01;34mZAM\u001b[0m/\n"
          ]
        }
      ],
      "source": [
        "ls"
      ]
    },
    {
      "cell_type": "markdown",
      "source": [
        "# TASK II Data ingestion and visualization\n",
        "\n",
        "For each molecule, read in and plot all the spectra."
      ],
      "metadata": {
        "id": "6Dd70FNgKlO_"
      }
    },
    {
      "cell_type": "markdown",
      "source": [
        "- Read in the data. Make sure you preserve an association between the spectral series and the labels: cancer classification, serum content, medium. Hint: each label, serum, medium combination has multiple spectra stored in the same file. For each medium, I saved the data into a dictionary that has as keys the label of the sample (A, G, A-S...). Remember that you will build the model on one medium and test it on the others, so you can want to create three different variables (for example dictionaries), one for each medium, containing the data. Hint: each file contains more than one spectrum. All spectra shoudl be of the same length.\n",
        "But you do not have to use dictionaries or organize the data how I did. This is just a suggestion you are free to take or leave"
      ],
      "metadata": {
        "id": "uVbM93Nc17EK"
      }
    },
    {
      "cell_type": "markdown",
      "source": [
        "- Start visualizing the data: plot the spectra values against the wavenumber."
      ],
      "metadata": {
        "id": "s2N6pQIStJ21"
      }
    },
    {
      "cell_type": "code",
      "source": [
        "labels = ..."
      ],
      "metadata": {
        "id": "VsepPn8xtqyY"
      },
      "execution_count": null,
      "outputs": []
    },
    {
      "cell_type": "code",
      "source": [
        "labels"
      ],
      "metadata": {
        "colab": {
          "base_uri": "https://localhost:8080/"
        },
        "id": "OQZ47b5ZuYmf",
        "outputId": "37ca9f09-ed2c-445e-e501-426013cd63ed"
      },
      "execution_count": null,
      "outputs": [
        {
          "output_type": "execute_result",
          "data": {
            "text/plain": [
              "['A-S',\n",
              " 'A',\n",
              " 'DMEM-S',\n",
              " 'DMEM',\n",
              " 'G-S',\n",
              " 'G',\n",
              " 'HF-S',\n",
              " 'HF',\n",
              " 'MEL-S',\n",
              " 'MEL',\n",
              " 'ZAM-S',\n",
              " 'ZAM']"
            ]
          },
          "metadata": {},
          "execution_count": 229
        }
      ]
    },
    {
      "cell_type": "code",
      "source": [
        "NH2 = ..."
      ],
      "metadata": {
        "id": "oOxrZVL8sjmm"
      },
      "execution_count": null,
      "outputs": []
    },
    {
      "cell_type": "code",
      "source": [
        "NH2.keys() # you do not need to use a dictionary for each medium tho"
      ],
      "metadata": {
        "colab": {
          "base_uri": "https://localhost:8080/"
        },
        "id": "Jz_6rV4gHzHZ",
        "outputId": "a17ea693-303f-4670-8ed9-ef080138cde6"
      },
      "execution_count": null,
      "outputs": [
        {
          "output_type": "execute_result",
          "data": {
            "text/plain": [
              "dict_keys(['A-S', 'A', 'DMEM-S', 'DMEM', 'G-S', 'G', 'HF-S', 'HF', 'MEL-S', 'MEL', 'ZAM-S', 'ZAM'])"
            ]
          },
          "metadata": {},
          "execution_count": 88
        }
      ]
    },
    {
      "cell_type": "code",
      "source": [
        "..."
      ],
      "metadata": {
        "id": "rNgxHJz77_S9"
      },
      "execution_count": null,
      "outputs": []
    },
    {
      "cell_type": "markdown",
      "source": [
        "As discussed in the kaggle dataset documentation, all spectra are saved as arrays with values corresponding to  wavenumbers in inverse centimeters units starting from $100~ cm^{-1}$ to $4278~cm^{-1}$\n",
        "\n",
        "Note: the conversion from wavenumbers to wavelengths is as follows:\n",
        "${\\displaystyle \\Delta {\\tilde {\\nu }}({\\text{cm}}^{-1})=\\left({\\frac {1}{\\lambda _{0}({\\text{nm}})}}-{\\frac {1}{\\lambda _{1}({\\text{nm}})}}\\right)\\times {\\frac {(10^{7}{\\text{nm}})}{({\\text{cm}})}}.}$\n",
        "\n",
        "\n",
        "\n",
        "Find out the size of the data arrays (all spectra shoudl be the same length, but you should check!) and create a suitable x axis which you can use for your vsualizations"
      ],
      "metadata": {
        "id": "ZAjd0e--1FIB"
      }
    },
    {
      "cell_type": "code",
      "source": [
        "x = ....."
      ],
      "metadata": {
        "id": "KF-ajl-cxtIg"
      },
      "execution_count": null,
      "outputs": []
    },
    {
      "cell_type": "code",
      "source": [
        "..."
      ],
      "metadata": {
        "id": "4bGLuky48DWb"
      },
      "execution_count": null,
      "outputs": []
    },
    {
      "cell_type": "markdown",
      "source": [
        "# TASK III :  Data Explorations\n",
        "\n"
      ],
      "metadata": {
        "id": "3lF92ScmQtqI"
      }
    },
    {
      "cell_type": "markdown",
      "source": [
        "You should try and get a sense of how difficult your classification task is going to be: are the spectra similar in the different classes. Are they more similar within a class than across classes?\n",
        "You started answering this question when you plotted the spectra but you can do better. How about correlation matrices?\n",
        "\n",
        "\n"
      ],
      "metadata": {
        "id": "DUachKdBOwWJ"
      }
    },
    {
      "cell_type": "code",
      "source": [
        "..."
      ],
      "metadata": {
        "id": "gxPRS6yl8V7i"
      },
      "execution_count": null,
      "outputs": []
    },
    {
      "cell_type": "markdown",
      "source": [
        "# TASK IV :  Data Cleaning, Preparation, and Fusion\n",
        "\n",
        "\n"
      ],
      "metadata": {
        "id": "rywxKndOLA1w"
      }
    },
    {
      "cell_type": "markdown",
      "source": [
        "- If you have uploaded each file in a separate variables (e.g. different values within a dictionary) you will at this point have put them together into a single dataframe or array and create labels for each spectrum. Remember you have 2 classification problems: one-vs-all cancer/control and the other, classify each type of cancer. So you will need two target variables.\n",
        "\n",
        "- For the binary classification you can choose to set up the label as numerical or one-hot-encoded, For the multiclass problem definitely create a one-hot encoded set of variables (Hint: we have seen examples of this with the zipcode in the notebook in https://github.com/fedhere/MLPNS_FBianco/tree/main/OHE and in slide deck 6 - at the end you sould have a Nx2 array if you one-hot encoded the binary label and a Nx2 hot encoded for the kinds of cancer)\n",
        "\n",
        "\n",
        "- Scale your data apprioriately (think about this: your features are your intensity value at each wavenumber, your objects are spectra. Which axis should you scale?)\n",
        "\n",
        "- Fix class imbalance where needed."
      ],
      "metadata": {
        "id": "6Qj_588pQoTr"
      }
    },
    {
      "cell_type": "code",
      "source": [
        "NH2.keys()"
      ],
      "metadata": {
        "colab": {
          "base_uri": "https://localhost:8080/"
        },
        "id": "a9S5w2t3zlBt",
        "outputId": "e02bfe82-d58d-42a1-f04e-3601361ee4c1"
      },
      "execution_count": null,
      "outputs": [
        {
          "output_type": "execute_result",
          "data": {
            "text/plain": [
              "dict_keys(['A-S', 'A', 'DMEM-S', 'DMEM', 'G-S', 'G', 'HF-S', 'HF', 'MEL-S', 'MEL', 'ZAM-S', 'ZAM'])"
            ]
          },
          "metadata": {},
          "execution_count": 253
        }
      ]
    },
    {
      "cell_type": "code",
      "source": [
        "..."
      ],
      "metadata": {
        "id": "x5ddSqaf8cMZ"
      },
      "execution_count": null,
      "outputs": []
    },
    {
      "cell_type": "code",
      "source": [
        "..."
      ],
      "metadata": {
        "colab": {
          "base_uri": "https://localhost:8080/"
        },
        "id": "cS02NuyeVs9J",
        "outputId": "1e0a1269-2ef9-433f-a526-b7f840acbb6f"
      },
      "execution_count": null,
      "outputs": [
        {
          "output_type": "stream",
          "name": "stdout",
          "text": [
            "there are 632 labeled objects\n",
            "the shape of the binary classification labels is (632, 2)\n",
            "the shape of the binary classification labels is (632, 5)\n"
          ]
        }
      ]
    },
    {
      "cell_type": "markdown",
      "source": [
        "Now you can plot a single correlation matrix for the whole dataset. Do you still see blocks corresponding to the different classes?"
      ],
      "metadata": {
        "id": "WHfSrS1HZk44"
      }
    },
    {
      "cell_type": "code",
      "source": [
        "print(\"There are {} spectra in the dataset\"...."
      ],
      "metadata": {
        "id": "9QK12eFsLP9G",
        "colab": {
          "base_uri": "https://localhost:8080/"
        },
        "outputId": "a71bdd1a-34af-4ce6-abc2-79cd37402761"
      },
      "execution_count": null,
      "outputs": [
        {
          "output_type": "stream",
          "name": "stdout",
          "text": [
            "There are 632 spectra in the dataset\n"
          ]
        }
      ]
    },
    {
      "cell_type": "code",
      "source": [
        "print(\"There are {} wavenumbers in each spectrum\"..."
      ],
      "metadata": {
        "colab": {
          "base_uri": "https://localhost:8080/"
        },
        "id": "uttOHjjfaTgF",
        "outputId": "e49c0322-1fad-4bf7-c0bd-23b05f9c1870"
      },
      "execution_count": null,
      "outputs": [
        {
          "output_type": "stream",
          "name": "stdout",
          "text": [
            "There are 2090 wavenumbers in each spectrum\n"
          ]
        }
      ]
    },
    {
      "cell_type": "code",
      "source": [
        "print..."
      ],
      "metadata": {
        "colab": {
          "base_uri": "https://localhost:8080/"
        },
        "id": "zL1VnbTcaZ0Q",
        "outputId": "7e7489ad-e895-4cf1-eb66-3c86544dea33"
      },
      "execution_count": null,
      "outputs": [
        {
          "output_type": "stream",
          "name": "stdout",
          "text": [
            "There are 118 control spectra and 514 cancer spectra\n"
          ]
        }
      ]
    },
    {
      "cell_type": "code",
      "source": [
        "print..."
      ],
      "metadata": {
        "colab": {
          "base_uri": "https://localhost:8080/"
        },
        "id": "8N76DawUbBD1",
        "outputId": "8432fe5e-934a-45f6-d7c3-2980e2eac65c"
      },
      "execution_count": null,
      "outputs": [
        {
          "output_type": "stream",
          "name": "stdout",
          "text": [
            "There are 5 classes in the multiclass classification\n"
          ]
        }
      ]
    },
    {
      "cell_type": "code",
      "source": [
        "print..."
      ],
      "metadata": {
        "colab": {
          "base_uri": "https://localhost:8080/"
        },
        "id": "10Ub3YURau6C",
        "outputId": "f0525d3a-8d62-4078-8cab-5f686ee5cedb"
      },
      "execution_count": null,
      "outputs": [
        {
          "output_type": "stream",
          "name": "stdout",
          "text": [
            "There are 118 spectra in class melanoma\n",
            "There are 101 spectra in class melanocytes\n",
            "There are 210 spectra in class normal fibroblasts\n",
            "There are 101 spectra in class tumor fibroblasts\n",
            "There are 102 spectra in class control\n"
          ]
        }
      ]
    },
    {
      "cell_type": "markdown",
      "source": [
        "Create the training and test set for the binary classification. Think about class imbalance"
      ],
      "metadata": {
        "id": "bxWzYVElnMry"
      }
    },
    {
      "cell_type": "code",
      "source": [
        "print(\"training set shape\"...\n",
        "print(\"label ratio in the training set ...\n",
        "print(\"label ratio in the test set ..."
      ],
      "metadata": {
        "colab": {
          "base_uri": "https://localhost:8080/"
        },
        "id": "2SDfVVVi2AvA",
        "outputId": "ac8c8be4-2300-432d-f4df-d73cca7ed552"
      },
      "execution_count": null,
      "outputs": [
        {
          "output_type": "stream",
          "name": "stdout",
          "text": [
            "training set shape (771, 2090)\n",
            "label ratio in the training set 1.00\n",
            "label ratio in the test set 0.99\n"
          ]
        }
      ]
    },
    {
      "cell_type": "markdown",
      "source": [
        "# Task V: Binary classification - model choice and preprocessing\n",
        "Now its time to choose your model.\n",
        "- Justify your choice (based on the nature of the data and task to be performed)\n",
        "- Prepare (scale, whiten) the data accordingly\n",
        "- Split the data into train/test or train/validation/test\n",
        "- Create, Run, Tune the model\n",
        "\n",
        "*(Hint: this is a lot of data! while you are trying out things you probably want to use only a subset of the data, like I suggested above for the visualizations. Before turning in the final version then you can run on the full dataset)*"
      ],
      "metadata": {
        "id": "P3anyRWKYO5c"
      }
    },
    {
      "cell_type": "code",
      "execution_count": null,
      "metadata": {
        "id": "96cPLlVVpxSk"
      },
      "outputs": [],
      "source": [
        "..."
      ]
    },
    {
      "cell_type": "markdown",
      "source": [
        "# Task VI: Binary model evaluation\n",
        "\n",
        "\n",
        "Report on the model performance and results (including overfitting)\n",
        "\n",
        "Visualize the loss, the prediction against the true values of the target variable"
      ],
      "metadata": {
        "id": "7htjAEyZZXxD"
      }
    },
    {
      "cell_type": "code",
      "execution_count": null,
      "metadata": {
        "id": "tCJ1Oq3RqV_u"
      },
      "outputs": [],
      "source": [
        "..."
      ]
    },
    {
      "cell_type": "markdown",
      "source": [
        "# Task VII: Perform (at least) one additional task\n",
        "\n",
        "\n",
        "- **Run your binary classifier on the other mediums** (e.g. if you used NH2 now run it on COOH and (COOH)2 samples) is the model transferable?\n",
        "\n",
        "- **Create a multiclass classifier to distinguish different types of tumors**\n",
        "\n",
        "\n"
      ],
      "metadata": {
        "id": "dbx6sJLREYXk"
      }
    },
    {
      "cell_type": "code",
      "source": [
        "..."
      ],
      "metadata": {
        "id": "toIEyIq0bbCH"
      },
      "execution_count": null,
      "outputs": []
    }
  ],
  "metadata": {
    "colab": {
      "provenance": [],
      "toc_visible": true,
      "include_colab_link": true
    },
    "kernelspec": {
      "display_name": "Python 3",
      "name": "python3"
    },
    "language_info": {
      "name": "python"
    }
  },
  "nbformat": 4,
  "nbformat_minor": 0
}