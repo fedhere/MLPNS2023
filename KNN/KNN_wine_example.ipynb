{
  "nbformat": 4,
  "nbformat_minor": 0,
  "metadata": {
    "colab": {
      "provenance": [],
      "mount_file_id": "1mZlcMmM1svB0o0E6V2GSODFwkMBvIvPc",
      "authorship_tag": "ABX9TyOwO09VjxRetrA7OIf1FWdp",
      "include_colab_link": true
    },
    "kernelspec": {
      "name": "python3",
      "display_name": "Python 3"
    },
    "language_info": {
      "name": "python"
    }
  },
  "cells": [
    {
      "cell_type": "markdown",
      "metadata": {
        "id": "view-in-github",
        "colab_type": "text"
      },
      "source": [
        "<a href=\"https://colab.research.google.com/github/fedhere/MLPNS_FBianco/blob/main/KNN/KNN_wine_example.ipynb\" target=\"_parent\"><img src=\"https://colab.research.google.com/assets/colab-badge.svg\" alt=\"Open In Colab\"/></a>"
      ]
    },
    {
      "cell_type": "markdown",
      "source": [
        "# get the data"
      ],
      "metadata": {
        "id": "B03zlnXR7IH-"
      }
    },
    {
      "cell_type": "code",
      "source": [
        "from google.colab import drive\n",
        "drive.mount('/content/drive')"
      ],
      "metadata": {
        "colab": {
          "base_uri": "https://localhost:8080/"
        },
        "id": "BO_AzyBm6IVT",
        "outputId": "97c73ccd-2da2-4c00-884c-cdbd33c115c0"
      },
      "execution_count": 2,
      "outputs": [
        {
          "output_type": "stream",
          "name": "stdout",
          "text": [
            "Drive already mounted at /content/drive; to attempt to forcibly remount, call drive.mount(\"/content/drive\", force_remount=True).\n"
          ]
        }
      ]
    },
    {
      "cell_type": "code",
      "source": [
        "!ls"
      ],
      "metadata": {
        "id": "-VSQ5P296US1"
      },
      "execution_count": null,
      "outputs": []
    },
    {
      "cell_type": "code",
      "source": [
        "cd /content/drive/MyDrive/"
      ],
      "metadata": {
        "id": "LuidP2tV6Wjm"
      },
      "execution_count": null,
      "outputs": []
    },
    {
      "cell_type": "code",
      "source": [
        "!mkdir MLPNS2023"
      ],
      "metadata": {
        "id": "tl_CPMqY6dXq"
      },
      "execution_count": null,
      "outputs": []
    },
    {
      "cell_type": "code",
      "source": [
        "cd MLPNS2023"
      ],
      "metadata": {
        "id": "B29rNzC76gMR"
      },
      "execution_count": null,
      "outputs": []
    },
    {
      "cell_type": "code",
      "execution_count": null,
      "metadata": {
        "id": "27zpR-Ut88_i"
      },
      "outputs": [],
      "source": [
        "!wget https://archive.ics.uci.edu/ml/machine-learning-databases/wine/wine.data"
      ]
    },
    {
      "cell_type": "code",
      "source": [
        "!wget https://archive.ics.uci.edu/ml/machine-learning-databases/wine/wine.names"
      ],
      "metadata": {
        "id": "7a1dk0B39Vq8"
      },
      "execution_count": null,
      "outputs": []
    },
    {
      "cell_type": "markdown",
      "source": [
        "# ingest the data"
      ],
      "metadata": {
        "id": "CRQq6iyh7K_6"
      }
    },
    {
      "cell_type": "code",
      "source": [
        "import pandas as pd"
      ],
      "metadata": {
        "id": "FNnF6nRH9eOi"
      },
      "execution_count": null,
      "outputs": []
    },
    {
      "cell_type": "code",
      "source": [
        "wines = pd.read_csv(\"wine.data\", header=None)\n",
        "wines"
      ],
      "metadata": {
        "id": "ynjO0JBP9g0b"
      },
      "execution_count": null,
      "outputs": []
    },
    {
      "cell_type": "code",
      "source": [
        "columns = {0:\"quality\",\n",
        "           1:\"Alcohol\",2:\"Malic acid\",3:\"Ash\",4:\"Alcalinity of ash\",5:\"Magnesium\",\n",
        "\t        6:\"Total phenols\",7:\"Flavanoids\",8:\"Nonflavanoid phenols\",9:\"Proanthocyanins\",\n",
        "          10:\"Color intensity\",11:\"Hue\",12:\"OD280/OD315 of diluted wines\",13:\"Proline\"}\n",
        "\n",
        "wines.rename(columns=columns, inplace=True)\n",
        "wines"
      ],
      "metadata": {
        "id": "52Jxo6Wr9owg"
      },
      "execution_count": null,
      "outputs": []
    },
    {
      "cell_type": "markdown",
      "source": [
        "# preprocessing"
      ],
      "metadata": {
        "id": "0uOvycOF7OVo"
      }
    },
    {
      "cell_type": "code",
      "source": [
        "from sklearn import preprocessing"
      ],
      "metadata": {
        "id": "PdFGvQMF_SXP"
      },
      "execution_count": null,
      "outputs": []
    },
    {
      "cell_type": "code",
      "source": [
        "X = preprocessing.scale(wines.iloc[:,1:])"
      ],
      "metadata": {
        "id": "OJ5aVQIGAL4g"
      },
      "execution_count": null,
      "outputs": []
    },
    {
      "cell_type": "code",
      "source": [
        "X.mean(axis=0).shape"
      ],
      "metadata": {
        "id": "vjsNtXGFAWSU"
      },
      "execution_count": null,
      "outputs": []
    },
    {
      "cell_type": "markdown",
      "source": [
        "# data exploration"
      ],
      "metadata": {
        "id": "RPqdWk2f7TNG"
      }
    },
    {
      "cell_type": "code",
      "source": [
        "from sklearn.model_selection import train_test_split\n",
        "X_train, X_test, y_train, y_test = train_test_split(X, wines[\"quality\"], random_state=302)"
      ],
      "metadata": {
        "id": "KwsEEG4aPqwp"
      },
      "execution_count": null,
      "outputs": []
    },
    {
      "cell_type": "code",
      "source": [
        "import sklearn.manifold as man\n",
        "tsne_wines = man.TSNE(n_components=2, perplexity=30.0, early_exaggeration=90.0,\n",
        "                      random_state=302).fit(X)\n",
        "wine_proj = tsne_wines.fit_transform(X)\n",
        "wine_proj_test = tsne_wines.fit_transform(X_test)"
      ],
      "metadata": {
        "id": "Hb0zxEX7L6s4"
      },
      "execution_count": null,
      "outputs": []
    },
    {
      "cell_type": "code",
      "source": [
        "import matplotlib.pyplot as plt\n",
        "import seaborn as sns\n",
        "from sklearn.inspection import DecisionBoundaryDisplay\n",
        "_, ax = plt.subplots()\n",
        "\n",
        "\n",
        "ax.scatter(wine_proj.T[0], wine_proj.T[1], s=10, c = wines[\"quality\"]/3);\n",
        "ax.set_title(\"true labels\")"
      ],
      "metadata": {
        "id": "q2QCb3ZM7gYK"
      },
      "execution_count": null,
      "outputs": []
    },
    {
      "cell_type": "markdown",
      "source": [
        "# modeling"
      ],
      "metadata": {
        "id": "G6eFXepD7X1k"
      }
    },
    {
      "cell_type": "code",
      "source": [
        "import sklearn.neighbors as nb"
      ],
      "metadata": {
        "id": "LSS8-fvcAbIL"
      },
      "execution_count": null,
      "outputs": []
    },
    {
      "cell_type": "code",
      "source": [
        "clf = nb.KNeighborsClassifier()\n",
        "clf.fit(X_train, y_train)"
      ],
      "metadata": {
        "id": "uAOIVQrsArz9"
      },
      "execution_count": null,
      "outputs": []
    },
    {
      "cell_type": "code",
      "source": [
        "pred = clf.predict(X_test)\n",
        "pred"
      ],
      "metadata": {
        "id": "ER-jNLmkDBKu"
      },
      "execution_count": null,
      "outputs": []
    },
    {
      "cell_type": "code",
      "source": [
        "y_score = clf.predict_proba(X_test)\n",
        "y_score"
      ],
      "metadata": {
        "id": "-mK5hs-sLzF4"
      },
      "execution_count": null,
      "outputs": []
    },
    {
      "cell_type": "code",
      "source": [
        "\n",
        "\n",
        "_, ax = plt.subplots()\n",
        "ax.scatter(wine_proj_test.T[0], wine_proj_test.T[1], s=40, c = y_test/3);\n",
        "ax.set_title(\"true labels\")\n",
        "\n",
        "_, ax = plt.subplots(1)\n",
        "\n",
        "ax.scatter(wine_proj_test.T[0], wine_proj_test.T[1], s=40, c = pred/3);\n",
        "ax.set_title(\"predicted labels\");\n"
      ],
      "metadata": {
        "id": "8hKNzqAWBnEh"
      },
      "execution_count": null,
      "outputs": []
    },
    {
      "cell_type": "markdown",
      "source": [
        "# model evaluation"
      ],
      "metadata": {
        "id": "Hu-hqVSO7aMU"
      }
    },
    {
      "cell_type": "code",
      "source": [
        "from sklearn.metrics import confusion_matrix, ConfusionMatrixDisplay\n",
        "cm = confusion_matrix(y_test, pred);\n",
        "disp = ConfusionMatrixDisplay.from_estimator(clf, X_test, y_test, cmap=\"bone\")"
      ],
      "metadata": {
        "id": "d4necCB9CE5W"
      },
      "execution_count": null,
      "outputs": []
    },
    {
      "cell_type": "code",
      "source": [
        "disp = ConfusionMatrixDisplay.from_estimator(clf, X_test, y_test, cmap=\"bone\", normalize=\"true\")"
      ],
      "metadata": {
        "id": "-2A4jr1RMdYy"
      },
      "execution_count": null,
      "outputs": []
    },
    {
      "cell_type": "code",
      "source": [
        "y_pred"
      ],
      "metadata": {
        "id": "u4ZX_fgoSK-I"
      },
      "execution_count": null,
      "outputs": []
    },
    {
      "cell_type": "code",
      "source": [
        "from sklearn import metrics\n",
        "\n",
        "precision, recall = metrics.precision_score(y_test, pred, average='macro'), \\\n",
        "                    metrics.recall_score(y_test, pred, average='macro')\n",
        "\n",
        "\n",
        "precision, recall"
      ],
      "metadata": {
        "id": "22MUIrrHFbVt"
      },
      "execution_count": null,
      "outputs": []
    },
    {
      "cell_type": "code",
      "source": [
        "from sklearn.metrics import RocCurveDisplay\n",
        "import numpy as np\n",
        "from sklearn.preprocessing import LabelBinarizer\n",
        "\n",
        "label_binarizer = LabelBinarizer().fit(y_test)\n",
        "y_onehot_test = label_binarizer.transform(y_test)\n",
        "y_onehot_test.shape  # (n_samples, n_classes)\n",
        "\n",
        "label_binarizer.transform([0])\n",
        "\n"
      ],
      "metadata": {
        "id": "ozxRHZZqHaur"
      },
      "execution_count": null,
      "outputs": []
    },
    {
      "cell_type": "code",
      "source": [
        "label_binarizer.transform(y_test)"
      ],
      "metadata": {
        "id": "nF2LRZSMOsXy"
      },
      "execution_count": null,
      "outputs": []
    },
    {
      "cell_type": "code",
      "source": [
        "\n",
        "class_id = np.flatnonzero(label_binarizer.classes_ == class_of_interest)[0]\n",
        "y_score = clf.fit(X, wines[\"quality\"]).predict_proba(X_test)\n",
        "y_score"
      ],
      "metadata": {
        "id": "zdgR_LO8ISkC"
      },
      "execution_count": null,
      "outputs": []
    },
    {
      "cell_type": "code",
      "source": [
        "for i in range(1, 4):\n",
        "  class_of_interest = i\n",
        "  class_id = np.flatnonzero(label_binarizer.classes_ == class_of_interest)[0]\n",
        " \n",
        "\n",
        "  RocCurveDisplay.from_predictions(\n",
        "    y_onehot_test[:, class_id],\n",
        "    y_score[:, class_id],\n",
        "    name=f\"{class_of_interest} vs the rest\",\n",
        "    color=\"darkorange\",\n",
        "  )\n",
        "  plt.plot([0, 1], [0, 1], \"k--\", label=\"chance level (AUC = 0.5)\")\n",
        "  plt.axis(\"square\")\n",
        "  plt.xlabel(\"False Positive Rate\")\n",
        "  plt.ylabel(\"True Positive Rate\")\n",
        "  plt.title(\"One-vs-Rest ROC curves:\\n {} vs other\".format(class_of_interest))\n",
        "  plt.legend()\n",
        "  plt.show()\n"
      ],
      "metadata": {
        "id": "Ri_41peVJn8I"
      },
      "execution_count": null,
      "outputs": []
    },
    {
      "cell_type": "code",
      "source": [
        "y_score"
      ],
      "metadata": {
        "id": "jCBFUb2JO_5z"
      },
      "execution_count": null,
      "outputs": []
    },
    {
      "cell_type": "code",
      "source": [
        "from sklearn.metrics import roc_curve, roc_auc_score\n",
        "fpr, tpr, thresholds = roc_curve(y_test, pred, pos_label=2)\n",
        "auc = roc_auc_score(label_binarizer.transform(y_test), y_score, multi_class=\"ovr\")\n",
        "auc"
      ],
      "metadata": {
        "id": "0Mj-LgQ2G1ox"
      },
      "execution_count": null,
      "outputs": []
    }
  ]
}