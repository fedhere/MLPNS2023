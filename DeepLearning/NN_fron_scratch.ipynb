{
  "nbformat": 4,
  "nbformat_minor": 0,
  "metadata": {
    "colab": {
      "provenance": [],
      "authorship_tag": "ABX9TyMjDqvqM6HtUMkqKs5trY84",
      "include_colab_link": true
    },
    "kernelspec": {
      "name": "python3",
      "display_name": "Python 3"
    },
    "language_info": {
      "name": "python"
    }
  },
  "cells": [
    {
      "cell_type": "markdown",
      "metadata": {
        "id": "view-in-github",
        "colab_type": "text"
      },
      "source": [
        "<a href=\"https://colab.research.google.com/github/fedhere/MLPNS_FBianco/blob/main/NeuralNetworks/NN_fron_scratch.ipynb\" target=\"_parent\"><img src=\"https://colab.research.google.com/assets/colab-badge.svg\" alt=\"Open In Colab\"/></a>"
      ]
    },
    {
      "cell_type": "code",
      "execution_count": null,
      "metadata": {
        "id": "6e5RPopnKNZx"
      },
      "outputs": [],
      "source": [
        "import numpy as np\n",
        "import pylab as pl"
      ]
    },
    {
      "cell_type": "code",
      "source": [
        "# input data\n",
        "X = np.array(\n",
        "    [[0,0,1],\n",
        "     [1,1,1],\n",
        "     [1,0,1],\n",
        "     [0,1,1]])"
      ],
      "metadata": {
        "id": "1X63UhdgKR5f"
      },
      "execution_count": null,
      "outputs": []
    },
    {
      "cell_type": "code",
      "source": [
        "pl.imshow(X);\n",
        "pl.axis('off');\n",
        "pl.title(\"input data\");"
      ],
      "metadata": {
        "colab": {
          "base_uri": "https://localhost:8080/",
          "height": 428
        },
        "id": "3RfixrvYK5__",
        "outputId": "d5a47dbf-0fdb-40e5-8899-0e80a76bb9c2"
      },
      "execution_count": null,
      "outputs": [
        {
          "output_type": "display_data",
          "data": {
            "text/plain": [
              "<Figure size 640x480 with 1 Axes>"
            ],
            "image/png": "[encoded data removed]"
          },
          "metadata": {}
        }
      ]
    },
    {
      "cell_type": "code",
      "source": [
        "# output data\n",
        "y = np.array([[0,1,1,0]]).T\n",
        "y"
      ],
      "metadata": {
        "colab": {
          "base_uri": "https://localhost:8080/"
        },
        "id": "2OI0WrfAK72n",
        "outputId": "8b31596d-633a-4d46-eeae-1f89afe6414c"
      },
      "execution_count": null,
      "outputs": [
        {
          "output_type": "execute_result",
          "data": {
            "text/plain": [
              "array([[0],\n",
              "       [1],\n",
              "       [1],\n",
              "       [0]])"
            ]
          },
          "metadata": {},
          "execution_count": 7
        }
      ]
    },
    {
      "cell_type": "code",
      "source": [
        "y.shape"
      ],
      "metadata": {
        "colab": {
          "base_uri": "https://localhost:8080/"
        },
        "id": "1SY6yhLcLLlL",
        "outputId": "a9271c32-c012-4d0c-e7d5-639951a0b11e"
      },
      "execution_count": null,
      "outputs": [
        {
          "output_type": "execute_result",
          "data": {
            "text/plain": [
              "(4, 1)"
            ]
          },
          "metadata": {},
          "execution_count": 8
        }
      ]
    },
    {
      "cell_type": "code",
      "source": [
        "print(\"input\\n\", X)\n",
        "print(\"output\\n\", y)"
      ],
      "metadata": {
        "colab": {
          "base_uri": "https://localhost:8080/"
        },
        "id": "pYrorLdnLOrY",
        "outputId": "c41b6271-cdd2-44eb-f6cc-06a284e126b0"
      },
      "execution_count": null,
      "outputs": [
        {
          "output_type": "stream",
          "name": "stdout",
          "text": [
            "input\n",
            " [[0 0 1]\n",
            " [1 1 1]\n",
            " [1 0 1]\n",
            " [0 1 1]]\n",
            "output\n",
            " [[0]\n",
            " [1]\n",
            " [1]\n",
            " [0]]\n"
          ]
        }
      ]
    },
    {
      "cell_type": "markdown",
      "source": [
        "# basic architecture: 1 layer\n",
        "4 osservazioni\n",
        "\n",
        "3 neuroni\n",
        "\n",
        "1 layer"
      ],
      "metadata": {
        "id": "3uAPRzo5LX5m"
      }
    },
    {
      "cell_type": "code",
      "source": [
        "def sigmoid(x):\n",
        "  ''' activation function\n",
        "  Input: x array-like - the input from the neuron multilinear regression \n",
        "  Output: sigmoid value of each input '''\n",
        "  return 1. / (1. + np.exp(-x))"
      ],
      "metadata": {
        "id": "v7kf5PLqLwbi"
      },
      "execution_count": null,
      "outputs": []
    },
    {
      "cell_type": "code",
      "source": [
        "def dsigmoid(s):\n",
        "  ''' functional form of the derivative of the sigmoid function:\n",
        "  Input: the output of a layer (passed through the activation function: sigpoid(M-P neuron output))\n",
        "  Output: the derivative at the output value'''\n",
        "  return  s * (1. - s)"
      ],
      "metadata": {
        "id": "pNvHNnbAM8uj"
      },
      "execution_count": null,
      "outputs": []
    },
    {
      "cell_type": "code",
      "source": [
        "pl.plot(np.arange(-10, 10, 0.1), sigmoid(np.arange(-10, 10, 0.1)));"
      ],
      "metadata": {
        "colab": {
          "base_uri": "https://localhost:8080/",
          "height": 430
        },
        "id": "_E3Gi3ULMLBS",
        "outputId": "a53be5d1-f5d9-4e24-8f3a-23237e3a9eaf"
      },
      "execution_count": null,
      "outputs": [
        {
          "output_type": "display_data",
          "data": {
            "text/plain": [
              "<Figure size 640x480 with 1 Axes>"
            ],
            "image/png": "[encoded data removed]"
          },
          "metadata": {}
        }
      ]
    },
    {
      "cell_type": "code",
      "source": [
        "def loss(prediction, target):\n",
        "  \"\"\" per neuron difference of target and data\n",
        "  Input: \n",
        "  target : training labels\n",
        "  prediction : array-like (same dimensions as target)\"\"\"\n",
        "  return target - prediction"
      ],
      "metadata": {
        "id": "kQTriPGAMU3v"
      },
      "execution_count": null,
      "outputs": []
    },
    {
      "cell_type": "markdown",
      "source": [
        "## Neural network "
      ],
      "metadata": {
        "id": "e3zp4ZpCMtkR"
      }
    },
    {
      "cell_type": "code",
      "source": [
        "\n",
        "training = 6000"
      ],
      "metadata": {
        "id": "uEf7kW7QNMN6"
      },
      "execution_count": null,
      "outputs": []
    },
    {
      "cell_type": "code",
      "source": [
        "# layer of synopses / neurons\n",
        "# 4 x 3 dot 3 x 1 \n"
      ],
      "metadata": {
        "id": "MaZh2SvyNyLj"
      },
      "execution_count": null,
      "outputs": []
    },
    {
      "cell_type": "code",
      "source": [
        "np.random.seed(302)\n",
        "\n",
        "syn0 =  2 * np.random.random((3, 1)) - 1 #normalized 0-1\n",
        "print(syn0.shape)\n",
        "print(syn0)\n",
        "\n",
        "loss_output = []\n",
        "\n",
        "for iter in range(training):\n",
        "  inputLayer = X\n",
        "  \n",
        "  # forward propagation\n",
        "\n",
        "  #linear regression (dot product linear algebra solution)\n",
        "  l1 = np.dot(inputLayer, syn0)\n",
        "  #activations\n",
        "  output = sigmoid(l1)\n",
        "  #calculate error\n",
        "  output_error = loss(output, y)\n",
        "  loss_output.append(np.abs(output_error).sum())\n",
        "\n",
        "  # backward propagation\n",
        "\n",
        "  #caluclate correction\n",
        "  output_delta = output_error * dsigmoid(output)\n",
        "  #apply correction to weights\n",
        "  syn0 += np.dot(inputLayer.T, output_delta)\n",
        "\n",
        "print(\"output after training\\n\", output)\n",
        "print(\"output target\\n\", y)"
      ],
      "metadata": {
        "colab": {
          "base_uri": "https://localhost:8080/"
        },
        "id": "LMFy0kAOObNP",
        "outputId": "f000e496-4640-44fb-c1a3-99d7642bf0a3"
      },
      "execution_count": null,
      "outputs": [
        {
          "output_type": "stream",
          "name": "stdout",
          "text": [
            "(3, 1)\n",
            "[[ 0.27256242]\n",
            " [ 0.65008468]\n",
            " [-0.31671053]]\n",
            "output after training\n",
            " [[0.01254551]\n",
            " [0.98977455]\n",
            " [0.99169035]\n",
            " [0.0101995 ]]\n",
            "output target\n",
            " [[0]\n",
            " [1]\n",
            " [1]\n",
            " [0]]\n"
          ]
        }
      ]
    },
    {
      "cell_type": "code",
      "source": [
        "pl.plot(loss_output, label=\"output\")\n",
        "pl.legend()\n",
        "pl.xlabel(\"iteration (epoch)\")\n",
        "pl.ylabel(\"global loss\");"
      ],
      "metadata": {
        "colab": {
          "base_uri": "https://localhost:8080/",
          "height": 449
        },
        "id": "3orXkYtWQEjz",
        "outputId": "2289e583-2580-41cb-e5b2-a29ca434cee9"
      },
      "execution_count": null,
      "outputs": [
        {
          "output_type": "display_data",
          "data": {
            "text/plain": [
              "<Figure size 640x480 with 1 Axes>"
            ],
            "image/png": "[encoded data removed]"
          },
          "metadata": {}
        }
      ]
    },
    {
      "cell_type": "code",
      "source": [
        "np.random.seed(302)\n",
        "\n",
        "# 4x3 -> 3x5 ->5x1 => 4x1\n",
        "syn0 =  2 * np.random.random((3, 5)) - 1 #normalized 0-1\n",
        "syn1 =  2 * np.random.random((5, 1)) - 1 #normalized 0-1\n",
        "\n",
        "\n",
        "loss_output = []\n",
        "loss_hidden = []\n",
        "\n",
        "for iter in range(training):\n",
        "  inputLayer = X\n",
        "  \n",
        "  # forward propagation\n",
        "\n",
        "  #linear regression (dot product linear algebra solution)\n",
        "  l1 = np.dot(inputLayer, syn0)\n",
        "  #activations\n",
        "  hidden = sigmoid(l1)\n",
        "  hidden_error = loss(hidden, y)\n",
        "  loss_hidden.append(np.abs(hidden_error).sum())\n",
        "\n",
        "  l2 = np.dot(hidden, syn1)\n",
        "  #activations\n",
        "  output = sigmoid(l2)\n",
        "\n",
        "  #calculate error\n",
        "  output_error = loss(output, y)\n",
        "  loss_output.append(np.abs(output_error).sum())\n",
        "\n",
        "  # backward propagation\n",
        "\n",
        "  #caluclate correction\n",
        "  output_delta = output_error * dsigmoid(output)\n",
        "  hidden_delta = hidden_error * dsigmoid(hidden)\n",
        "\n",
        "  #apply correction to weights\n",
        "  syn0 += np.dot(inputLayer.T, hidden_delta)\n",
        "  syn1 += np.dot(hidden.T, output_delta)\n",
        "\n",
        "print(\"output after training\\n\", output)\n",
        "print(\"output target\\n\", y)"
      ],
      "metadata": {
        "colab": {
          "base_uri": "https://localhost:8080/"
        },
        "id": "YOtogat4QwsO",
        "outputId": "ca03a88e-fc22-4478-f0f6-45a02e484005"
      },
      "execution_count": null,
      "outputs": [
        {
          "output_type": "stream",
          "name": "stdout",
          "text": [
            "output after training\n",
            " [[0.51014223]\n",
            " [0.96082801]\n",
            " [0.96106129]\n",
            " [0.50823968]]\n",
            "output target\n",
            " [[0]\n",
            " [1]\n",
            " [1]\n",
            " [0]]\n"
          ]
        }
      ]
    },
    {
      "cell_type": "code",
      "source": [
        "pl.plot(loss_output, label=\"output\")\n",
        "pl.plot(loss_hidden, label=\"hidden\")\n",
        "pl.legend()\n",
        "pl.xlabel(\"iteration (epoch)\")\n",
        "pl.ylabel(\"global loss\");"
      ],
      "metadata": {
        "colab": {
          "base_uri": "https://localhost:8080/",
          "height": 455
        },
        "id": "hYwzWZ43au1d",
        "outputId": "590e2204-588e-4a5d-fc99-0274e3cf4f55"
      },
      "execution_count": null,
      "outputs": [
        {
          "output_type": "display_data",
          "data": {
            "text/plain": [
              "<Figure size 640x480 with 1 Axes>"
            ],
            "image/png": "[encoded data removed]"
          },
          "metadata": {}
        }
      ]
    },
    {
      "cell_type": "code",
      "source": [],
      "metadata": {
        "id": "nSrmwDu7a3ss"
      },
      "execution_count": null,
      "outputs": []
    }
  ]
}
