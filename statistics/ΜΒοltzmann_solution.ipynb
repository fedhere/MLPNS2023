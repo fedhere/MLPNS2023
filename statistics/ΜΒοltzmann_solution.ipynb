{
  "nbformat": 4,
  "nbformat_minor": 0,
  "metadata": {
    "colab": {
      "provenance": [],
      "include_colab_link": true
    },
    "kernelspec": {
      "display_name": "Python 3",
      "language": "python",
      "name": "python3"
    },
    "language_info": {
      "codemirror_mode": {
        "name": "ipython",
        "version": 3
      },
      "file_extension": ".py",
      "mimetype": "text/x-python",
      "name": "python",
      "nbconvert_exporter": "python",
      "pygments_lexer": "ipython3",
      "version": "3.7.3"
    },
    "latex_envs": {
      "LaTeX_envs_menu_present": true,
      "autoclose": false,
      "autocomplete": true,
      "bibliofile": "biblio.bib",
      "cite_by": "apalike",
      "current_citInitial": 1,
      "eqLabelWithNumbers": true,
      "eqNumInitial": 1,
      "hotkeys": {
        "equation": "Ctrl-E",
        "itemize": "Ctrl-I"
      },
      "labels_anchors": false,
      "latex_user_defs": false,
      "report_style_numbering": false,
      "user_envs_cfg": false
    },
    "nbTranslate": {
      "displayLangs": [
        "*"
      ],
      "hotkey": "alt-t",
      "langInMainMenu": true,
      "sourceLang": "en",
      "targetLang": "fr",
      "useGoogleTranslate": true
    },
    "toc": {
      "base_numbering": 1,
      "nav_menu": {},
      "number_sections": true,
      "sideBar": true,
      "skip_h1_title": false,
      "title_cell": "Table of Contents",
      "title_sidebar": "Contents",
      "toc_cell": false,
      "toc_position": {},
      "toc_section_display": true,
      "toc_window_display": false
    }
  },
  "cells": [
    {
      "cell_type": "markdown",
      "metadata": {
        "id": "view-in-github",
        "colab_type": "text"
      },
      "source": [
        "<a href=\"https://colab.research.google.com/github/fedhere/MLPNS_FBianco/blob/main/statistics/%CE%9C%CE%92%CE%BFltzmann_solution.ipynb\" target=\"_parent\"><img src=\"https://colab.research.google.com/assets/colab-badge.svg\" alt=\"Open In Colab\"/></a>"
      ]
    },
    {
      "cell_type": "markdown",
      "metadata": {
        "ExecuteTime": {
          "end_time": "2019-09-04T04:50:01.872913Z",
          "start_time": "2019-09-04T04:50:01.869703Z"
        },
        "id": "r5vpCO-ROApi"
      },
      "source": [
        " Written by Federica B. Bianco @fedhere\n",
        "UDel DSPS "
      ]
    },
    {
      "cell_type": "code",
      "metadata": {
        "ExecuteTime": {
          "end_time": "2019-09-07T13:44:43.100808Z",
          "start_time": "2019-09-07T13:44:41.738717Z"
        },
        "colab": {
          "base_uri": "https://localhost:8080/"
        },
        "id": "iQaonMUBqtX2",
        "outputId": "149696b9-6d8b-4d86-8d29-300e78cf9b3d"
      },
      "source": [
        "from __future__ import print_function, division\n",
        "import numpy as np\n",
        "import scipy as sp\n",
        "from scipy import stats\n",
        "import pylab as pl\n",
        "%pylab inline \n",
        "# only needed if you are on your computer not on colab\n",
        "#pl.style.use(\"https://raw.githubusercontent.com/fedhere/DSPS_FBianco/master/fbb.mplstyle\")\n"
      ],
      "execution_count": 2,
      "outputs": [
        {
          "output_type": "stream",
          "name": "stdout",
          "text": [
            "Populating the interactive namespace from numpy and matplotlib\n"
          ]
        }
      ]
    },
    {
      "cell_type": "markdown",
      "metadata": {
        "id": "zu5QKDi5b7vW"
      },
      "source": [
        "# Homework 1: Maxwell Boltzmann distribution"
      ]
    },
    {
      "cell_type": "markdown",
      "metadata": {
        "id": "ueaB0mHCO_iM"
      },
      "source": [
        "In Physics, statistics can help us describe the macroscopic behavior of a system if we know its microscopic properties in a statistical sense. We cannot know the motion of each molecule in a gas, but we can know the distribution of their velocities and positions.   In the mid to late 1800s, James Clerk Maxwell and Ludwig Boltzmann modeled the *distribution of speed of molecules in a gas*. As you probably know, and can intuitive realize, the speed of the molecules depends on the temperature of the gas, which is a macroscopic property, i.e. the velocity of the molecules is different for different gas temperatures. **This distribution is called the Maxwell-Boltzmann distribution.**\n"
      ]
    },
    {
      "cell_type": "markdown",
      "metadata": {
        "id": "7LpR51uQSvN9"
      },
      "source": [
        "It turns out that the Maxwel-Boltzmann distribution is a special case of the *Chi distribution* with 3 degrees of freedom, and with a scale parameter corresponding to the temperature in some way. "
      ]
    },
    {
      "cell_type": "markdown",
      "metadata": {
        "id": "Pc25lN9SUxQL"
      },
      "source": [
        "Below I have created 3 distributions. Based on the description above\n",
        "\n",
        "\n",
        "# 1) label the axis in the plot, "
      ]
    },
    {
      "cell_type": "code",
      "metadata": {
        "ExecuteTime": {
          "end_time": "2019-09-07T13:46:41.700418Z",
          "start_time": "2019-09-07T13:46:41.261487Z"
        },
        "colab": {
          "base_uri": "https://localhost:8080/",
          "height": 279
        },
        "id": "LZm2afzhUwuG",
        "outputId": "dcd929f8-499e-48f6-f014-50bb8fd12628"
      },
      "source": [
        "np.random.randn(123)\n",
        "fig, ax = pl.subplots()\n",
        "for a in [0.2, 0.6, 1.0]:\n",
        "    ax.hist(sp.stats.maxwell.rvs(scale=a, size=1000), \n",
        "          bins=np.arange(0,5,0.1), alpha=0.7,\n",
        "       label=\"a = %.1f\"%a);\n",
        "\n",
        "# your code here\n",
        "pl.legend();\n",
        "pl.xlabel(\"speed of molecules \") #any reference to \"speed\" or \"velocity\" is acceptable\n",
        "pl.ylabel(\"number of molecules\"); #probability gets 50% of the points, \"counts\" or \"numbers\" without a reference to counts of waht is 30% of the points\n"
      ],
      "execution_count": 3,
      "outputs": [
        {
          "output_type": "display_data",
          "data": {
            "text/plain": [
              "<Figure size 432x288 with 1 Axes>"
            ],
            "image/png": "[encoded data removed]"
          },
          "metadata": {
            "needs_background": "light"
          }
        }
      ]
    },
    {
      "cell_type": "markdown",
      "metadata": {
        "id": "MGdILsLAaopl"
      },
      "source": [
        "# 2) knowing that the *scale* parameter *a* is a function of the temperature  *T*, and that the dependency is to a power 1/2, which is correct: \n",
        "   **$a \\propto \\sqrt{T}$**  or **$a \\propto \\sqrt{1/T}$**? \n",
        " "
      ]
    },
    {
      "cell_type": "markdown",
      "metadata": {
        "id": "vMGhorbvcrFM"
      },
      "source": [
        "$\\alpha \\propto \\sqrt{T}$"
      ]
    },
    {
      "cell_type": "markdown",
      "metadata": {
        "id": "hGeeXYttXLO1"
      },
      "source": [
        "\n",
        "# 3) What is the mean of all three distributions. How does it compare to the most probable molecular speed? \n",
        "From the wikipedia page of the Chi distribution find the formula of the mean of the Chi distribution. The distribution we are using has a scale parameter *a* in addition to the number of degrees of freedom. The mean scales linearly with this parameter:\n",
        "\n",
        "$\\mu_{\\mathrm{MB}, k, a} = a \\cdot \\mu_{\\mathrm{chi}, k}$\n",
        "\n",
        "*Using the scipy function ```sp.special.gamma()```  calculate the gamma $\\Gamma$ function,\n",
        "\n",
        "**calculate the mean of all three distributions. How does it compare to the most probable molecular speed.**"
      ]
    },
    {
      "cell_type": "code",
      "metadata": {
        "ExecuteTime": {
          "end_time": "2019-09-07T13:57:19.021192Z",
          "start_time": "2019-09-07T13:57:19.016266Z"
        },
        "colab": {
          "base_uri": "https://localhost:8080/"
        },
        "id": "-8htAA4mRAVa",
        "outputId": "3efa7f42-175b-4f47-c8bf-21780ac1e66b"
      },
      "source": [
        "# if you use the definition of the mean for the generic chi2 distribution\n",
        "def mean(k, a):\n",
        "  \"\"\" mean of the chi2 distribution\n",
        "  Input: \n",
        "  k: number of degrees of freedom of the distribution\n",
        "  a: maxwell parameter\"\"\"\n",
        "  return np.sqrt(2) * sp.special.gamma((k+1)/2) / sp.special.gamma(k/2) * a\n",
        "# if you use the definition of the mean for the Maxwell-Boltzmann distribution\n",
        "def meanMB(a):\n",
        "  \"\"\" mean of the chi2 distribution\n",
        "  Input: \n",
        "  a: maxwell parameter\"\"\"\n",
        "  return 2 * a * np.sqrt(2/np.pi)\n",
        "\n",
        "for a in 0.2, 0.6, 1:\n",
        "    print(\"the mean of distribution (chi2) with a={:.1f} is {:.1f}\".format(a, \n",
        "                                                          mean(3, a)))\n",
        "    \n",
        "    print(\"the mean of distribution (MB) with a={:.1f} is {:.1f}\".format(a, \n",
        "                                                          meanMB(a)))\n",
        "    \n",
        "print(\"\"\"The peak represents the most probable speed (mode).  + \n",
        "      The distribution is longer tailed on the right so the mean is to the right of the peak, \n",
        "      which is the most probable speed \"\"\")\n",
        "\n",
        "# if this was an exam:\n",
        "# more than 2 significant digits gets 10% less points\n",
        "# just printing the values and not saying which a they correspond to gets 50% of the points\n",
        "# creating a funciont like i did above does not get extra points but should be commented and good"
      ],
      "execution_count": 4,
      "outputs": [
        {
          "output_type": "stream",
          "name": "stdout",
          "text": [
            "the mean of distribution (chi2) with a=0.2 is 0.3\n",
            "the mean of distribution (MB) with a=0.2 is 0.3\n",
            "the mean of distribution (chi2) with a=0.6 is 1.0\n",
            "the mean of distribution (MB) with a=0.6 is 1.0\n",
            "the mean of distribution (chi2) with a=1.0 is 1.6\n",
            "the mean of distribution (MB) with a=1.0 is 1.6\n",
            "The peak represents the most probable speed (mode).  + \n",
            "      The distribution is longer tailed on the right so the mean is to the right of the peak, \n",
            "      which is the most probable speed \n"
          ]
        }
      ]
    },
    {
      "cell_type": "code",
      "metadata": {
        "colab": {
          "base_uri": "https://localhost:8080/"
        },
        "id": "AY067XHVOgia",
        "outputId": "e8400160-c9d2-4424-8e57-0e0b7c04584e"
      },
      "source": [
        "# mean derived from data\n",
        "for a in [0.2, 0.6, 1.0]:\n",
        "    print(\"mean for a={}: {:.2f}\".format(a,\n",
        "                                     sp.stats.maxwell.rvs(scale=a, size=1000).mean()))\n"
      ],
      "execution_count": 5,
      "outputs": [
        {
          "output_type": "stream",
          "name": "stdout",
          "text": [
            "mean for a=0.2: 0.33\n",
            "mean for a=0.6: 0.96\n",
            "mean for a=1.0: 1.62\n"
          ]
        }
      ]
    },
    {
      "cell_type": "markdown",
      "metadata": {
        "id": "r7oes80EQER-"
      },
      "source": [
        "This really only holds for perfect gasses, which means under 4 assumptions: \n",
        "- the diameter of the molecules is much smaller than the distance between them\n",
        "- the collisions between molecules conserve energy\n",
        "- the molecules do not interact between collisions and are not subject to any other forces (move at constant speed in a straight line)\n",
        "- the initial position and velocity are random."
      ]
    },
    {
      "cell_type": "markdown",
      "metadata": {
        "id": "3PJ9hjLzQjyA"
      },
      "source": [
        "# Extra Credit:\n",
        "\n",
        "can you create a python (2D) simulation where the molecules behave as describe and calculate their speed evolution from an initial speed that is gaussian distributed? (rather hard!!)\n"
      ]
    },
    {
      "cell_type": "code",
      "metadata": {
        "ExecuteTime": {
          "end_time": "2019-09-07T13:58:09.071074Z",
          "start_time": "2019-09-07T13:58:09.068836Z"
        },
        "id": "6LJU9GPVRO7B"
      },
      "source": [
        "# your code here\n",
        "# just note if tried and failed and if succeeded, or if there is an animation, let me know and I will look at it.\n"
      ],
      "execution_count": 6,
      "outputs": []
    },
    {
      "cell_type": "code",
      "metadata": {
        "id": "GfulgrIBOApp"
      },
      "source": [],
      "execution_count": 6,
      "outputs": []
    }
  ]
}