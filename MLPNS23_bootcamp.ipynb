{
  "nbformat": 4,
  "nbformat_minor": 0,
  "metadata": {
    "colab": {
      "provenance": [],
      "authorship_tag": "ABX9TyPYydBJ5Hmh+/xbbH6YL8Oh",
      "include_colab_link": true
    },
    "kernelspec": {
      "name": "python3",
      "display_name": "Python 3"
    },
    "language_info": {
      "name": "python"
    }
  },
  "cells": [
    {
      "cell_type": "markdown",
      "metadata": {
        "id": "view-in-github",
        "colab_type": "text"
      },
      "source": [
        "<a href=\"https://colab.research.google.com/github/fedhere/MLPNS_FBianco/blob/main/MLPNS23_bootcamp.ipynb\" target=\"_parent\"><img src=\"https://colab.research.google.com/assets/colab-badge.svg\" alt=\"Open In Colab\"/></a>"
      ]
    },
    {
      "cell_type": "code",
      "execution_count": 1,
      "metadata": {
        "colab": {
          "base_uri": "https://localhost:8080/"
        },
        "id": "2YICL70E0JfZ",
        "outputId": "35e31fcc-b110-4eb7-9528-ed5a75e5dfe7"
      },
      "outputs": [
        {
          "output_type": "execute_result",
          "data": {
            "text/plain": [
              "4"
            ]
          },
          "metadata": {},
          "execution_count": 1
        }
      ],
      "source": [
        "2 * 2 "
      ]
    },
    {
      "cell_type": "code",
      "source": [
        "2 * 2"
      ],
      "metadata": {
        "colab": {
          "base_uri": "https://localhost:8080/"
        },
        "id": "vwb0qs3O1MLF",
        "outputId": "4eb50522-5cf7-47a5-d670-d9b99113e466"
      },
      "execution_count": 2,
      "outputs": [
        {
          "output_type": "execute_result",
          "data": {
            "text/plain": [
              "4"
            ]
          },
          "metadata": {},
          "execution_count": 2
        }
      ]
    },
    {
      "cell_type": "markdown",
      "source": [
        "# First markdown cell\n",
        "This is a text cell in markdown syntax\n",
        "\n"
      ],
      "metadata": {
        "id": "F-U_YrBO1abr"
      }
    },
    {
      "cell_type": "markdown",
      "source": [
        "# here we start coding"
      ],
      "metadata": {
        "id": "oGKbH2p01R1o"
      }
    },
    {
      "cell_type": "markdown",
      "source": [
        "# native variables and variable types"
      ],
      "metadata": {
        "id": "eR7gonac2liY"
      }
    },
    {
      "cell_type": "markdown",
      "source": [
        "## integers"
      ],
      "metadata": {
        "id": "6g84xQQJ62-z"
      }
    },
    {
      "cell_type": "code",
      "source": [
        "intVar = 3"
      ],
      "metadata": {
        "id": "9yd6nVyh1ZD4"
      },
      "execution_count": 37,
      "outputs": []
    },
    {
      "cell_type": "code",
      "source": [
        "type(intVar)"
      ],
      "metadata": {
        "colab": {
          "base_uri": "https://localhost:8080/"
        },
        "id": "nUuMvekQ3SqT",
        "outputId": "8bac5750-2228-4f84-d2db-3844622b4b31"
      },
      "execution_count": 4,
      "outputs": [
        {
          "output_type": "execute_result",
          "data": {
            "text/plain": [
              "int"
            ]
          },
          "metadata": {},
          "execution_count": 4
        }
      ]
    },
    {
      "cell_type": "markdown",
      "source": [
        "## floats"
      ],
      "metadata": {
        "id": "lw7MNxmt66Uz"
      }
    },
    {
      "cell_type": "code",
      "source": [
        "floatVar = 3.0"
      ],
      "metadata": {
        "id": "r-Ol_rH93VEG"
      },
      "execution_count": 7,
      "outputs": []
    },
    {
      "cell_type": "code",
      "source": [
        "type(floatVar)"
      ],
      "metadata": {
        "colab": {
          "base_uri": "https://localhost:8080/"
        },
        "id": "yuHbpbfu3b7N",
        "outputId": "ec1ab12c-e8b2-492f-a2af-b85dc64b4776"
      },
      "execution_count": 8,
      "outputs": [
        {
          "output_type": "execute_result",
          "data": {
            "text/plain": [
              "float"
            ]
          },
          "metadata": {},
          "execution_count": 8
        }
      ]
    },
    {
      "cell_type": "code",
      "source": [
        "float2Var = float(intVar)"
      ],
      "metadata": {
        "id": "x2Wqhtmb3dhc"
      },
      "execution_count": 10,
      "outputs": []
    },
    {
      "cell_type": "code",
      "source": [
        "type(float2Var)"
      ],
      "metadata": {
        "colab": {
          "base_uri": "https://localhost:8080/"
        },
        "id": "JMsJQI0z3qgs",
        "outputId": "c413b9cb-0296-4b5d-a1ac-c6864ca665d7"
      },
      "execution_count": 11,
      "outputs": [
        {
          "output_type": "execute_result",
          "data": {
            "text/plain": [
              "float"
            ]
          },
          "metadata": {},
          "execution_count": 11
        }
      ]
    },
    {
      "cell_type": "code",
      "source": [
        "intVar * floatVar"
      ],
      "metadata": {
        "colab": {
          "base_uri": "https://localhost:8080/"
        },
        "id": "NwsqNUQv3wll",
        "outputId": "f2c7adbd-d7ed-483d-e4b0-84ca84bd993b"
      },
      "execution_count": 14,
      "outputs": [
        {
          "output_type": "execute_result",
          "data": {
            "text/plain": [
              "9.0"
            ]
          },
          "metadata": {},
          "execution_count": 14
        }
      ]
    },
    {
      "cell_type": "code",
      "source": [
        "intVar / 2"
      ],
      "metadata": {
        "colab": {
          "base_uri": "https://localhost:8080/"
        },
        "id": "VQ4_1wNk36tO",
        "outputId": "558d086f-6f2e-46e4-fbd5-60029290d9d2"
      },
      "execution_count": 15,
      "outputs": [
        {
          "output_type": "execute_result",
          "data": {
            "text/plain": [
              "1.5"
            ]
          },
          "metadata": {},
          "execution_count": 15
        }
      ]
    },
    {
      "cell_type": "code",
      "source": [
        "intVar + floatVar"
      ],
      "metadata": {
        "colab": {
          "base_uri": "https://localhost:8080/"
        },
        "id": "Kzr5oYvv4VxJ",
        "outputId": "5e29c66e-7343-4c7e-95c8-2ae9ce82daea"
      },
      "execution_count": 16,
      "outputs": [
        {
          "output_type": "execute_result",
          "data": {
            "text/plain": [
              "6.0"
            ]
          },
          "metadata": {},
          "execution_count": 16
        }
      ]
    },
    {
      "cell_type": "code",
      "source": [
        "(intVar + floatVar - intVar) / 2"
      ],
      "metadata": {
        "colab": {
          "base_uri": "https://localhost:8080/"
        },
        "id": "ViB6kksI4bpn",
        "outputId": "11b96c0b-afcb-4c5b-aaa3-37e03d5a9c7b"
      },
      "execution_count": 19,
      "outputs": [
        {
          "output_type": "execute_result",
          "data": {
            "text/plain": [
              "1.5"
            ]
          },
          "metadata": {},
          "execution_count": 19
        }
      ]
    },
    {
      "cell_type": "markdown",
      "source": [
        "## strings"
      ],
      "metadata": {
        "id": "teD8-N25679_"
      }
    },
    {
      "cell_type": "code",
      "source": [
        "print('Hello world')"
      ],
      "metadata": {
        "colab": {
          "base_uri": "https://localhost:8080/"
        },
        "id": "75TcqLpV43kx",
        "outputId": "efcc3195-f957-45a5-a0e6-7cc8cd820b6b"
      },
      "execution_count": 25,
      "outputs": [
        {
          "output_type": "stream",
          "name": "stdout",
          "text": [
            "Hello world\n"
          ]
        }
      ]
    },
    {
      "cell_type": "code",
      "source": [
        "strVar = 'Hello world'"
      ],
      "metadata": {
        "id": "kxsBZYhF5bnD"
      },
      "execution_count": 26,
      "outputs": []
    },
    {
      "cell_type": "code",
      "source": [
        "print(strVar)"
      ],
      "metadata": {
        "colab": {
          "base_uri": "https://localhost:8080/"
        },
        "id": "62umZi-H6aPi",
        "outputId": "79720247-8c0e-4f4d-b9f6-9cf8a8bec28c"
      },
      "execution_count": 28,
      "outputs": [
        {
          "output_type": "stream",
          "name": "stdout",
          "text": [
            "Hello world\n"
          ]
        }
      ]
    },
    {
      "cell_type": "markdown",
      "source": [
        "## boolean variables"
      ],
      "metadata": {
        "id": "aDG2r0VE7AX-"
      }
    },
    {
      "cell_type": "code",
      "source": [
        "True"
      ],
      "metadata": {
        "colab": {
          "base_uri": "https://localhost:8080/"
        },
        "id": "iNkPb7aJ6ssR",
        "outputId": "04cfa099-0c21-4779-93c5-bbd6ba431521"
      },
      "execution_count": 29,
      "outputs": [
        {
          "output_type": "execute_result",
          "data": {
            "text/plain": [
              "True"
            ]
          },
          "metadata": {},
          "execution_count": 29
        }
      ]
    },
    {
      "cell_type": "code",
      "source": [
        "False"
      ],
      "metadata": {
        "colab": {
          "base_uri": "https://localhost:8080/"
        },
        "id": "OPSmiCdN7S5-",
        "outputId": "edf5d99a-0a54-4c31-a47e-13f8404cf3d6"
      },
      "execution_count": 30,
      "outputs": [
        {
          "output_type": "execute_result",
          "data": {
            "text/plain": [
              "False"
            ]
          },
          "metadata": {},
          "execution_count": 30
        }
      ]
    },
    {
      "cell_type": "code",
      "source": [
        "intVar == floatVar"
      ],
      "metadata": {
        "colab": {
          "base_uri": "https://localhost:8080/"
        },
        "id": "dhI6QIx68TW2",
        "outputId": "f1c3a741-647a-4635-ad60-98916c4ada2a"
      },
      "execution_count": 39,
      "outputs": [
        {
          "output_type": "execute_result",
          "data": {
            "text/plain": [
              "True"
            ]
          },
          "metadata": {},
          "execution_count": 39
        }
      ]
    },
    {
      "cell_type": "code",
      "source": [
        "if intVar > floatVar:\n",
        "  print(\"this is true\")\n",
        "  print(intVar * floatVar)\n",
        "else: \n",
        "  print(\"condition was false\")"
      ],
      "metadata": {
        "colab": {
          "base_uri": "https://localhost:8080/"
        },
        "id": "HcZbOYqg7fG0",
        "outputId": "ea7f4b21-3ea4-4940-e328-c14595a28df6"
      },
      "execution_count": 41,
      "outputs": [
        {
          "output_type": "stream",
          "name": "stdout",
          "text": [
            "condition was false\n"
          ]
        }
      ]
    },
    {
      "cell_type": "code",
      "source": [
        "# == is equal?\n",
        "print(intVar == floatVar)\n",
        "# > greater\n",
        "print(intVar > floatVar)\n",
        "# < greater\n",
        "print(intVar < floatVar)\n",
        "# != not equal \n",
        "print(intVar != floatVar)\n"
      ],
      "metadata": {
        "colab": {
          "base_uri": "https://localhost:8080/"
        },
        "id": "D2VHTtWk7jrW",
        "outputId": "c2b95ab1-b073-4c13-9f97-986524e55b15"
      },
      "execution_count": 45,
      "outputs": [
        {
          "output_type": "stream",
          "name": "stdout",
          "text": [
            "True\n",
            "False\n",
            "False\n",
            "False\n"
          ]
        }
      ]
    },
    {
      "cell_type": "code",
      "source": [
        "# | is logical OR\n",
        "(intVar > floatVar) | (intVar == floatVar)\n",
        "# & is logical AND\n",
        "(intVar > floatVar) & (intVar == floatVar)"
      ],
      "metadata": {
        "id": "Y5RV7n5e9ZJY"
      },
      "execution_count": 49,
      "outputs": []
    },
    {
      "cell_type": "code",
      "source": [
        "True == 1"
      ],
      "metadata": {
        "colab": {
          "base_uri": "https://localhost:8080/"
        },
        "id": "QaIvr5sp-BDc",
        "outputId": "d781ce7b-10f8-46ee-8dd4-e7d60432851c"
      },
      "execution_count": 54,
      "outputs": [
        {
          "output_type": "execute_result",
          "data": {
            "text/plain": [
              "True"
            ]
          },
          "metadata": {},
          "execution_count": 54
        }
      ]
    },
    {
      "cell_type": "code",
      "source": [
        "# * is logical AND\n",
        "if (intVar > floatVar) * (intVar == floatVar):\n",
        "  print(\"True\")\n",
        "else:\n",
        "  print(\"False\")"
      ],
      "metadata": {
        "colab": {
          "base_uri": "https://localhost:8080/"
        },
        "id": "McAgy8xz-ZDs",
        "outputId": "ebbb3748-35e3-48c1-8f88-5e8037065ff0"
      },
      "execution_count": 57,
      "outputs": [
        {
          "output_type": "stream",
          "name": "stdout",
          "text": [
            "False\n"
          ]
        }
      ]
    },
    {
      "cell_type": "code",
      "source": [
        "# ? is logical OR\n",
        "if (intVar > floatVar) + (intVar == floatVar) + (intVar == 3):\n",
        "  print(\"True\")\n",
        "else:\n",
        "  print(\"False\")"
      ],
      "metadata": {
        "colab": {
          "base_uri": "https://localhost:8080/"
        },
        "id": "Ir6cxzgn-wQu",
        "outputId": "13176e7c-71f2-43a5-f0c3-5ae3f912a741"
      },
      "execution_count": 59,
      "outputs": [
        {
          "output_type": "stream",
          "name": "stdout",
          "text": [
            "True\n"
          ]
        }
      ]
    },
    {
      "cell_type": "code",
      "source": [
        "if 2:\n",
        "  print(\"something\")"
      ],
      "metadata": {
        "colab": {
          "base_uri": "https://localhost:8080/"
        },
        "id": "s-Tg3u9n_DmQ",
        "outputId": "a7ad8e87-b27a-4fa5-ab90-a5b0d35a8ce9"
      },
      "execution_count": 61,
      "outputs": [
        {
          "output_type": "stream",
          "name": "stdout",
          "text": [
            "something\n"
          ]
        }
      ]
    },
    {
      "cell_type": "code",
      "source": [
        "for i in range(1, 10, 3):\n",
        "  print(i)"
      ],
      "metadata": {
        "colab": {
          "base_uri": "https://localhost:8080/"
        },
        "id": "N6c50FTlBQya",
        "outputId": "73173514-05c2-46f9-92a9-10051b9cd8fa"
      },
      "execution_count": 66,
      "outputs": [
        {
          "output_type": "stream",
          "name": "stdout",
          "text": [
            "1\n",
            "4\n",
            "7\n"
          ]
        }
      ]
    },
    {
      "cell_type": "markdown",
      "source": [
        "# variable as objects"
      ],
      "metadata": {
        "id": "wI0dxxX3_Raj"
      }
    },
    {
      "cell_type": "code",
      "source": [
        "strVar = \"hello world\"\n",
        "strVar"
      ],
      "metadata": {
        "colab": {
          "base_uri": "https://localhost:8080/",
          "height": 35
        },
        "id": "CSzUm0SfCh-Z",
        "outputId": "37a0da45-5305-4edc-f9cc-57c3fdd0ccd2"
      },
      "execution_count": 69,
      "outputs": [
        {
          "output_type": "execute_result",
          "data": {
            "text/plain": [
              "'hello world'"
            ],
            "application/vnd.google.colaboratory.intrinsic+json": {
              "type": "string"
            }
          },
          "metadata": {},
          "execution_count": 69
        }
      ]
    },
    {
      "cell_type": "code",
      "source": [
        "strVar.capitalize()"
      ],
      "metadata": {
        "colab": {
          "base_uri": "https://localhost:8080/",
          "height": 35
        },
        "id": "OuNPFZd8Ci1j",
        "outputId": "3bdbb752-0139-429a-8434-ebe763884648"
      },
      "execution_count": 70,
      "outputs": [
        {
          "output_type": "execute_result",
          "data": {
            "text/plain": [
              "'Hello world'"
            ],
            "application/vnd.google.colaboratory.intrinsic+json": {
              "type": "string"
            }
          },
          "metadata": {},
          "execution_count": 70
        }
      ]
    },
    {
      "cell_type": "code",
      "source": [
        "strVar.upper()"
      ],
      "metadata": {
        "colab": {
          "base_uri": "https://localhost:8080/",
          "height": 35
        },
        "id": "C4YTL99lC2XO",
        "outputId": "d2770cce-1e85-47ed-878d-96f09918d3f9"
      },
      "execution_count": 71,
      "outputs": [
        {
          "output_type": "execute_result",
          "data": {
            "text/plain": [
              "'HELLO WORLD'"
            ],
            "application/vnd.google.colaboratory.intrinsic+json": {
              "type": "string"
            }
          },
          "metadata": {},
          "execution_count": 71
        }
      ]
    },
    {
      "cell_type": "code",
      "source": [
        "strVar.isdigit()"
      ],
      "metadata": {
        "colab": {
          "base_uri": "https://localhost:8080/"
        },
        "id": "Kqq5Z_2kC-hc",
        "outputId": "c66c9da2-1ec3-4897-ea47-17b9cc9ea834"
      },
      "execution_count": 72,
      "outputs": [
        {
          "output_type": "execute_result",
          "data": {
            "text/plain": [
              "False"
            ]
          },
          "metadata": {},
          "execution_count": 72
        }
      ]
    },
    {
      "cell_type": "code",
      "source": [
        "\"3\".isdigit()"
      ],
      "metadata": {
        "colab": {
          "base_uri": "https://localhost:8080/"
        },
        "id": "Coz4VoquDC9c",
        "outputId": "87adc5ea-e6d4-44e0-a247-a507190cdaca"
      },
      "execution_count": 73,
      "outputs": [
        {
          "output_type": "execute_result",
          "data": {
            "text/plain": [
              "True"
            ]
          },
          "metadata": {},
          "execution_count": 73
        }
      ]
    },
    {
      "cell_type": "code",
      "source": [
        "floatVar.is_integer()"
      ],
      "metadata": {
        "colab": {
          "base_uri": "https://localhost:8080/"
        },
        "id": "Upg95avJDNdD",
        "outputId": "9823040b-2cdc-4e34-dbec-381f5a5a8229"
      },
      "execution_count": 74,
      "outputs": [
        {
          "output_type": "execute_result",
          "data": {
            "text/plain": [
              "True"
            ]
          },
          "metadata": {},
          "execution_count": 74
        }
      ]
    },
    {
      "cell_type": "markdown",
      "source": [
        "# list "
      ],
      "metadata": {
        "id": "f3Asc3JFEUZt"
      }
    },
    {
      "cell_type": "code",
      "source": [
        "listVar = [intVar, floatVar, strVar, 0, True]\n",
        "listVar"
      ],
      "metadata": {
        "colab": {
          "base_uri": "https://localhost:8080/"
        },
        "id": "zYkvs7byEboH",
        "outputId": "78850dfa-ab6e-4ce3-c863-f1dd41cb3154"
      },
      "execution_count": 75,
      "outputs": [
        {
          "output_type": "execute_result",
          "data": {
            "text/plain": [
              "[3, 3.0, 'hello world', 0, True]"
            ]
          },
          "metadata": {},
          "execution_count": 75
        }
      ]
    },
    {
      "cell_type": "code",
      "source": [
        "listVar.append(11)\n",
        "listVar"
      ],
      "metadata": {
        "colab": {
          "base_uri": "https://localhost:8080/"
        },
        "id": "abvR2WF3Ebdt",
        "outputId": "0c47b4d5-25d2-4649-ba42-a7ee22d35e5f"
      },
      "execution_count": 76,
      "outputs": [
        {
          "output_type": "execute_result",
          "data": {
            "text/plain": [
              "[3, 3.0, 'hello world', 0, True, 11]"
            ]
          },
          "metadata": {},
          "execution_count": 76
        }
      ]
    },
    {
      "cell_type": "code",
      "source": [
        "listVar[0]"
      ],
      "metadata": {
        "colab": {
          "base_uri": "https://localhost:8080/"
        },
        "id": "4X6WWgxMEbY5",
        "outputId": "c42d458c-244c-4d70-ed5b-8c9a1514fc66"
      },
      "execution_count": 77,
      "outputs": [
        {
          "output_type": "execute_result",
          "data": {
            "text/plain": [
              "3"
            ]
          },
          "metadata": {},
          "execution_count": 77
        }
      ]
    },
    {
      "cell_type": "code",
      "source": [
        "strVar[0]"
      ],
      "metadata": {
        "colab": {
          "base_uri": "https://localhost:8080/",
          "height": 35
        },
        "id": "HnjK-J5CEbIm",
        "outputId": "cc91c40e-7c1a-4f8e-8ecf-b3fe41f27515"
      },
      "execution_count": 78,
      "outputs": [
        {
          "output_type": "execute_result",
          "data": {
            "text/plain": [
              "'h'"
            ],
            "application/vnd.google.colaboratory.intrinsic+json": {
              "type": "string"
            }
          },
          "metadata": {},
          "execution_count": 78
        }
      ]
    },
    {
      "cell_type": "code",
      "source": [
        "'h' in strVar"
      ],
      "metadata": {
        "colab": {
          "base_uri": "https://localhost:8080/"
        },
        "id": "1fE68JwpFWLP",
        "outputId": "4029c95c-e10d-424d-f1d3-ee0f8f0317ce"
      },
      "execution_count": 79,
      "outputs": [
        {
          "output_type": "execute_result",
          "data": {
            "text/plain": [
              "True"
            ]
          },
          "metadata": {},
          "execution_count": 79
        }
      ]
    },
    {
      "cell_type": "code",
      "source": [
        "64 in listVar"
      ],
      "metadata": {
        "colab": {
          "base_uri": "https://localhost:8080/"
        },
        "id": "vOP14kR7FaKe",
        "outputId": "8a13294a-ea1c-4d32-d0f8-ae39cf480d3a"
      },
      "execution_count": 81,
      "outputs": [
        {
          "output_type": "execute_result",
          "data": {
            "text/plain": [
              "False"
            ]
          },
          "metadata": {},
          "execution_count": 81
        }
      ]
    },
    {
      "cell_type": "code",
      "source": [
        "listVar"
      ],
      "metadata": {
        "colab": {
          "base_uri": "https://localhost:8080/"
        },
        "id": "KybKkhQqFeij",
        "outputId": "377f717a-a740-4a3b-e37c-9b2484a41574"
      },
      "execution_count": 82,
      "outputs": [
        {
          "output_type": "execute_result",
          "data": {
            "text/plain": [
              "[3, 3.0, 'hello world', 0, True, 11]"
            ]
          },
          "metadata": {},
          "execution_count": 82
        }
      ]
    },
    {
      "cell_type": "code",
      "source": [
        "listVar[1] = 9"
      ],
      "metadata": {
        "id": "jUKB6yBGFed5"
      },
      "execution_count": 84,
      "outputs": []
    },
    {
      "cell_type": "code",
      "source": [
        "listVar"
      ],
      "metadata": {
        "colab": {
          "base_uri": "https://localhost:8080/"
        },
        "id": "LPow_RDVFeY6",
        "outputId": "12070718-072f-40fa-e2c8-ec282853ede9"
      },
      "execution_count": 85,
      "outputs": [
        {
          "output_type": "execute_result",
          "data": {
            "text/plain": [
              "[3, 9, 'hello world', 0, True, 11]"
            ]
          },
          "metadata": {},
          "execution_count": 85
        }
      ]
    },
    {
      "cell_type": "code",
      "source": [
        "strVar[0] = \"H\""
      ],
      "metadata": {
        "colab": {
          "base_uri": "https://localhost:8080/",
          "height": 169
        },
        "id": "ph2fVzOOFeTT",
        "outputId": "f1b63822-1dd0-468c-8355-e283cabdbd36"
      },
      "execution_count": 86,
      "outputs": [
        {
          "output_type": "error",
          "ename": "TypeError",
          "evalue": "ignored",
          "traceback": [
            "\u001b[0;31m---------------------------------------------------------------------------\u001b[0m",
            "\u001b[0;31mTypeError\u001b[0m                                 Traceback (most recent call last)",
            "\u001b[0;32m<ipython-input-86-a6a92d1160b2>\u001b[0m in \u001b[0;36m<module>\u001b[0;34m\u001b[0m\n\u001b[0;32m----> 1\u001b[0;31m \u001b[0mstrVar\u001b[0m\u001b[0;34m[\u001b[0m\u001b[0;36m0\u001b[0m\u001b[0;34m]\u001b[0m \u001b[0;34m=\u001b[0m \u001b[0;34m\"H\"\u001b[0m\u001b[0;34m\u001b[0m\u001b[0;34m\u001b[0m\u001b[0m\n\u001b[0m",
            "\u001b[0;31mTypeError\u001b[0m: 'str' object does not support item assignment"
          ]
        }
      ]
    },
    {
      "cell_type": "code",
      "source": [],
      "metadata": {
        "id": "h6qvkDHFFePB"
      },
      "execution_count": null,
      "outputs": []
    },
    {
      "cell_type": "markdown",
      "source": [
        "EXERCISE\n",
        "Reproduce the famous \"Wordle\" game functionality\n",
        "\n",
        "create a piece of code (a function if you know how to write one) that takes a two strings\n",
        "checks if the strings are the same\n",
        "if they are not, it checks if any letter is correct and in the right place\n",
        "checks if any letter is correct but in the wrong place\n",
        "prints out a list wich marks the indices where the characters are correct and in the write place and where they are correct but in the wrong place\n",
        "I wrote mine in a python file named pywordle.py and I can import it from it and run it (see below)"
      ],
      "metadata": {
        "id": "LkdjZG3nDead"
      }
    },
    {
      "cell_type": "code",
      "source": [
        "target = \"acres\"\n",
        "guess = \"Acres\"\n",
        "test = [\"_\"] * 5\n",
        "\n",
        "target = target.lower()\n",
        "guess = guess.lower()\n",
        "\n",
        "if len(target) != len(guess):\n",
        "  print(\"wrong word length\")\n",
        "\n",
        "\n",
        "else:\n",
        "  if target == guess:\n",
        "    print(\"DONE!\")\n",
        "  else:\n",
        "    print(\"try again\")\n",
        "    for i in range(len(test)):\n",
        "      if guess[i] == target[i]:\n",
        "        test[i] = guess[i]\n",
        "      elif guess[i] in target:\n",
        "        test[i] = \"*\"\n",
        "\n",
        "\"\".join(test)"
      ],
      "metadata": {
        "id": "_zWXuDhnEDul"
      },
      "execution_count": 87,
      "outputs": []
    },
    {
      "cell_type": "markdown",
      "source": [
        "# functions"
      ],
      "metadata": {
        "id": "hSQRFM8aQSQc"
      }
    },
    {
      "cell_type": "code",
      "source": [
        "list_stings_var = [\"H\", \"e\", \"l\", \"l\", \"o\"]\n",
        "\"\".join(list_stings_var)"
      ],
      "metadata": {
        "colab": {
          "base_uri": "https://localhost:8080/",
          "height": 35
        },
        "id": "W00Bv7lnQUQC",
        "outputId": "e61fd89a-f213-477a-8374-9ca05d666cef"
      },
      "execution_count": 94,
      "outputs": [
        {
          "output_type": "execute_result",
          "data": {
            "text/plain": [
              "'Hello'"
            ],
            "application/vnd.google.colaboratory.intrinsic+json": {
              "type": "string"
            }
          },
          "metadata": {},
          "execution_count": 94
        }
      ]
    },
    {
      "cell_type": "code",
      "source": [
        "def wordle(guess, target):\n",
        "  \"\"\"\n",
        "  A function that checks a word guess against a target\n",
        "  Input:\n",
        "    guess: a string\n",
        "  Return:\n",
        "    a string\n",
        "  \"\"\"\n",
        "  test = [\"_\"] * 5\n",
        "\n",
        "  target = target.lower()\n",
        "  guess = guess.lower()\n",
        "\n",
        "  if len(target) != len(guess):\n",
        "    print(\"wrong word length\")\n",
        "  else:\n",
        "    if target == guess:\n",
        "      print(\"DONE!\")\n",
        "      test = guess\n",
        "    else:\n",
        "      print(\"try again\")\n",
        "      for i in range(len(test)):\n",
        "        if guess[i] == target[i]:\n",
        "          test[i] = guess[i]\n",
        "          \n",
        "        elif guess[i] in target:\n",
        "          test[i] = \"*\"\n",
        "    print(\"\".join(test))\n",
        "\n",
        "  return "
      ],
      "metadata": {
        "id": "vfZWsqUHQR0l"
      },
      "execution_count": 100,
      "outputs": []
    },
    {
      "cell_type": "code",
      "source": [
        "wordle(\"Acres\", \"acres\")"
      ],
      "metadata": {
        "colab": {
          "base_uri": "https://localhost:8080/"
        },
        "id": "rqpjC39eQU8E",
        "outputId": "b7debe49-b1d2-46f9-b2c7-88147158ece1"
      },
      "execution_count": 101,
      "outputs": [
        {
          "output_type": "stream",
          "name": "stdout",
          "text": [
            "DONE!\n",
            "acres\n"
          ]
        }
      ]
    },
    {
      "cell_type": "markdown",
      "source": [
        "# importing packages"
      ],
      "metadata": {
        "id": "hQt7qjbcRKae"
      }
    },
    {
      "cell_type": "markdown",
      "source": [
        "typical packages that we will see\n",
        "### pandas\n",
        "  manipulation of tabular data\n",
        "### numpy\n",
        "  manipulation of numerical data\n",
        "### scipy\n",
        "  statistica (also statsmodels)\n",
        "### matplotlib (pylab)\n",
        "  visualizations and plotting\n",
        "### sklearn (scikitlearn)\n",
        "  machine learning\n",
        "### tensorflow\n",
        "  neural networks"
      ],
      "metadata": {
        "id": "_sVeBBvISWWc"
      }
    },
    {
      "cell_type": "code",
      "source": [
        "import pandas as pd\n",
        "## from pandas import * # NEVER!!!\n"
      ],
      "metadata": {
        "id": "4K6kYY8sR_GQ"
      },
      "execution_count": 103,
      "outputs": []
    },
    {
      "cell_type": "code",
      "source": [
        "url = \"https://raw.githubusercontent.com/fedhere/PyBOOT/master/311_Service_Requests_from_2010_to_Present.csv\""
      ],
      "metadata": {
        "id": "gRP9gWwwS4t3"
      },
      "execution_count": 104,
      "outputs": []
    },
    {
      "cell_type": "code",
      "source": [
        "df = pd.read_csv(url)\n"
      ],
      "metadata": {
        "id": "rA5MJ2g-U6WC"
      },
      "execution_count": 106,
      "outputs": []
    },
    {
      "cell_type": "code",
      "source": [
        "df.shape"
      ],
      "metadata": {
        "colab": {
          "base_uri": "https://localhost:8080/"
        },
        "id": "eqM_pz2hVGTV",
        "outputId": "939300bf-44c8-4b27-bbbc-2dae29f06b34"
      },
      "execution_count": 112,
      "outputs": [
        {
          "output_type": "execute_result",
          "data": {
            "text/plain": [
              "(924, 41)"
            ]
          },
          "metadata": {},
          "execution_count": 112
        }
      ]
    },
    {
      "cell_type": "code",
      "source": [
        "df.columns"
      ],
      "metadata": {
        "colab": {
          "base_uri": "https://localhost:8080/"
        },
        "id": "c97RYnj4VVtZ",
        "outputId": "76c2447a-c023-449d-e339-09264117f26a"
      },
      "execution_count": 110,
      "outputs": [
        {
          "output_type": "execute_result",
          "data": {
            "text/plain": [
              "Index(['Unique Key', 'Created Date', 'Closed Date', 'Agency', 'Agency Name',\n",
              "       'Complaint Type', 'Descriptor', 'Location Type', 'Incident Zip',\n",
              "       'Incident Address', 'Street Name', 'Cross Street 1', 'Cross Street 2',\n",
              "       'Intersection Street 1', 'Intersection Street 2', 'Address Type',\n",
              "       'City', 'Landmark', 'Facility Type', 'Status', 'Due Date',\n",
              "       'Resolution Description', 'Resolution Action Updated Date',\n",
              "       'Community Board', 'BBL', 'Borough', 'X Coordinate (State Plane)',\n",
              "       'Y Coordinate (State Plane)', 'Open Data Channel Type',\n",
              "       'Park Facility Name', 'Park Borough', 'Vehicle Type',\n",
              "       'Taxi Company Borough', 'Taxi Pick Up Location', 'Bridge Highway Name',\n",
              "       'Bridge Highway Direction', 'Road Ramp', 'Bridge Highway Segment',\n",
              "       'Latitude', 'Longitude', 'Location'],\n",
              "      dtype='object')"
            ]
          },
          "metadata": {},
          "execution_count": 110
        }
      ]
    },
    {
      "cell_type": "code",
      "source": [
        "df.loc[:, 'Created Date']"
      ],
      "metadata": {
        "colab": {
          "base_uri": "https://localhost:8080/"
        },
        "id": "stHwFJfAVuuB",
        "outputId": "1e226bf2-52c3-4f07-a47d-04d492f52d6a"
      },
      "execution_count": 117,
      "outputs": [
        {
          "output_type": "execute_result",
          "data": {
            "text/plain": [
              "0      05/01/2022 12:00:03 AM\n",
              "1      05/01/2022 12:00:09 AM\n",
              "2      05/01/2022 12:00:17 AM\n",
              "3      05/01/2022 12:00:21 AM\n",
              "4      05/01/2022 12:00:25 AM\n",
              "                ...          \n",
              "919    05/01/2022 02:04:45 AM\n",
              "920    05/01/2022 02:05:35 AM\n",
              "921    05/01/2022 02:05:38 AM\n",
              "922    05/01/2022 02:06:13 AM\n",
              "923    05/01/2022 02:06:26 AM\n",
              "Name: Created Date, Length: 924, dtype: object"
            ]
          },
          "metadata": {},
          "execution_count": 117
        }
      ]
    },
    {
      "cell_type": "code",
      "source": [
        "url = \"https://raw.githubusercontent.com/fedhere/UInotebooks/master/dataWrangling/movies.dat\""
      ],
      "metadata": {
        "id": "fvmhbeRFWNBR"
      },
      "execution_count": 118,
      "outputs": []
    },
    {
      "cell_type": "code",
      "source": [
        "colnames = [\"title\", \"genre\"]\n",
        "movies = pd.read_csv(url, sep=\"::\", index_col=0, header=None, names=colnames);\n",
        "movies"
      ],
      "metadata": {
        "colab": {
          "base_uri": "https://localhost:8080/",
          "height": 423
        },
        "id": "keo_8LxsXCr2",
        "outputId": "3ef5833f-a3e6-452c-b684-29f1a44bda94"
      },
      "execution_count": 133,
      "outputs": [
        {
          "output_type": "execute_result",
          "data": {
            "text/plain": [
              "                                   title                         genre\n",
              "1                       Toy Story (1995)   Animation|Children's|Comedy\n",
              "2                         Jumanji (1995)  Adventure|Children's|Fantasy\n",
              "3                Grumpier Old Men (1995)                Comedy|Romance\n",
              "4               Waiting to Exhale (1995)                  Comedy|Drama\n",
              "5     Father of the Bride Part II (1995)                        Comedy\n",
              "...                                  ...                           ...\n",
              "3948             Meet the Parents (2000)                        Comedy\n",
              "3949          Requiem for a Dream (2000)                         Drama\n",
              "3950                    Tigerland (2000)                         Drama\n",
              "3951             Two Family House (2000)                         Drama\n",
              "3952               Contender, The (2000)                Drama|Thriller\n",
              "\n",
              "[3883 rows x 2 columns]"
            ],
            "text/html": [
              "\n",
              "  <div id=\"df-60f3d0e5-1445-429f-bcd3-5d6aa988a533\">\n",
              "    <div class=\"colab-df-container\">\n",
              "      <div>\n",
              "<style scoped>\n",
              "    .dataframe tbody tr th:only-of-type {\n",
              "        vertical-align: middle;\n",
              "    }\n",
              "\n",
              "    .dataframe tbody tr th {\n",
              "        vertical-align: top;\n",
              "    }\n",
              "\n",
              "    .dataframe thead th {\n",
              "        text-align: right;\n",
              "    }\n",
              "</style>\n",
              "<table border=\"1\" class=\"dataframe\">\n",
              "  <thead>\n",
              "    <tr style=\"text-align: right;\">\n",
              "      <th></th>\n",
              "      <th>title</th>\n",
              "      <th>genre</th>\n",
              "    </tr>\n",
              "  </thead>\n",
              "  <tbody>\n",
              "    <tr>\n",
              "      <th>1</th>\n",
              "      <td>Toy Story (1995)</td>\n",
              "      <td>Animation|Children's|Comedy</td>\n",
              "    </tr>\n",
              "    <tr>\n",
              "      <th>2</th>\n",
              "      <td>Jumanji (1995)</td>\n",
              "      <td>Adventure|Children's|Fantasy</td>\n",
              "    </tr>\n",
              "    <tr>\n",
              "      <th>3</th>\n",
              "      <td>Grumpier Old Men (1995)</td>\n",
              "      <td>Comedy|Romance</td>\n",
              "    </tr>\n",
              "    <tr>\n",
              "      <th>4</th>\n",
              "      <td>Waiting to Exhale (1995)</td>\n",
              "      <td>Comedy|Drama</td>\n",
              "    </tr>\n",
              "    <tr>\n",
              "      <th>5</th>\n",
              "      <td>Father of the Bride Part II (1995)</td>\n",
              "      <td>Comedy</td>\n",
              "    </tr>\n",
              "    <tr>\n",
              "      <th>...</th>\n",
              "      <td>...</td>\n",
              "      <td>...</td>\n",
              "    </tr>\n",
              "    <tr>\n",
              "      <th>3948</th>\n",
              "      <td>Meet the Parents (2000)</td>\n",
              "      <td>Comedy</td>\n",
              "    </tr>\n",
              "    <tr>\n",
              "      <th>3949</th>\n",
              "      <td>Requiem for a Dream (2000)</td>\n",
              "      <td>Drama</td>\n",
              "    </tr>\n",
              "    <tr>\n",
              "      <th>3950</th>\n",
              "      <td>Tigerland (2000)</td>\n",
              "      <td>Drama</td>\n",
              "    </tr>\n",
              "    <tr>\n",
              "      <th>3951</th>\n",
              "      <td>Two Family House (2000)</td>\n",
              "      <td>Drama</td>\n",
              "    </tr>\n",
              "    <tr>\n",
              "      <th>3952</th>\n",
              "      <td>Contender, The (2000)</td>\n",
              "      <td>Drama|Thriller</td>\n",
              "    </tr>\n",
              "  </tbody>\n",
              "</table>\n",
              "<p>3883 rows × 2 columns</p>\n",
              "</div>\n",
              "      <button class=\"colab-df-convert\" onclick=\"convertToInteractive('df-60f3d0e5-1445-429f-bcd3-5d6aa988a533')\"\n",
              "              title=\"Convert this dataframe to an interactive table.\"\n",
              "              style=\"display:none;\">\n",
              "        \n",
              "  <svg xmlns=\"http://www.w3.org/2000/svg\" height=\"24px\"viewBox=\"0 0 24 24\"\n",
              "       width=\"24px\">\n",
              "    <path d=\"M0 0h24v24H0V0z\" fill=\"none\"/>\n",
              "    <path d=\"M18.56 5.44l.94 2.06.94-2.06 2.06-.94-2.06-.94-.94-2.06-.94 2.06-2.06.94zm-11 1L8.5 8.5l.94-2.06 2.06-.94-2.06-.94L8.5 2.5l-.94 2.06-2.06.94zm10 10l.94 2.06.94-2.06 2.06-.94-2.06-.94-.94-2.06-.94 2.06-2.06.94z\"/><path d=\"M17.41 7.96l-1.37-1.37c-.4-.4-.92-.59-1.43-.59-.52 0-1.04.2-1.43.59L10.3 9.45l-7.72 7.72c-.78.78-.78 2.05 0 2.83L4 21.41c.39.39.9.59 1.41.59.51 0 1.02-.2 1.41-.59l7.78-7.78 2.81-2.81c.8-.78.8-2.07 0-2.86zM5.41 20L4 18.59l7.72-7.72 1.47 1.35L5.41 20z\"/>\n",
              "  </svg>\n",
              "      </button>\n",
              "      \n",
              "  <style>\n",
              "    .colab-df-container {\n",
              "      display:flex;\n",
              "      flex-wrap:wrap;\n",
              "      gap: 12px;\n",
              "    }\n",
              "\n",
              "    .colab-df-convert {\n",
              "      background-color: #E8F0FE;\n",
              "      border: none;\n",
              "      border-radius: 50%;\n",
              "      cursor: pointer;\n",
              "      display: none;\n",
              "      fill: #1967D2;\n",
              "      height: 32px;\n",
              "      padding: 0 0 0 0;\n",
              "      width: 32px;\n",
              "    }\n",
              "\n",
              "    .colab-df-convert:hover {\n",
              "      background-color: #E2EBFA;\n",
              "      box-shadow: 0px 1px 2px rgba(60, 64, 67, 0.3), 0px 1px 3px 1px rgba(60, 64, 67, 0.15);\n",
              "      fill: #174EA6;\n",
              "    }\n",
              "\n",
              "    [theme=dark] .colab-df-convert {\n",
              "      background-color: #3B4455;\n",
              "      fill: #D2E3FC;\n",
              "    }\n",
              "\n",
              "    [theme=dark] .colab-df-convert:hover {\n",
              "      background-color: #434B5C;\n",
              "      box-shadow: 0px 1px 3px 1px rgba(0, 0, 0, 0.15);\n",
              "      filter: drop-shadow(0px 1px 2px rgba(0, 0, 0, 0.3));\n",
              "      fill: #FFFFFF;\n",
              "    }\n",
              "  </style>\n",
              "\n",
              "      <script>\n",
              "        const buttonEl =\n",
              "          document.querySelector('#df-60f3d0e5-1445-429f-bcd3-5d6aa988a533 button.colab-df-convert');\n",
              "        buttonEl.style.display =\n",
              "          google.colab.kernel.accessAllowed ? 'block' : 'none';\n",
              "\n",
              "        async function convertToInteractive(key) {\n",
              "          const element = document.querySelector('#df-60f3d0e5-1445-429f-bcd3-5d6aa988a533');\n",
              "          const dataTable =\n",
              "            await google.colab.kernel.invokeFunction('convertToInteractive',\n",
              "                                                     [key], {});\n",
              "          if (!dataTable) return;\n",
              "\n",
              "          const docLinkHtml = 'Like what you see? Visit the ' +\n",
              "            '<a target=\"_blank\" href=https://colab.research.google.com/notebooks/data_table.ipynb>data table notebook</a>'\n",
              "            + ' to learn more about interactive tables.';\n",
              "          element.innerHTML = '';\n",
              "          dataTable['output_type'] = 'display_data';\n",
              "          await google.colab.output.renderOutput(dataTable, element);\n",
              "          const docLink = document.createElement('div');\n",
              "          docLink.innerHTML = docLinkHtml;\n",
              "          element.appendChild(docLink);\n",
              "        }\n",
              "      </script>\n",
              "    </div>\n",
              "  </div>\n",
              "  "
            ]
          },
          "metadata": {},
          "execution_count": 133
        }
      ]
    },
    {
      "cell_type": "code",
      "source": [
        "movies.shape"
      ],
      "metadata": {
        "colab": {
          "base_uri": "https://localhost:8080/"
        },
        "id": "6rAqA4wpXQJI",
        "outputId": "a1e5ac96-ffd7-4dda-91fe-a233785dd62a"
      },
      "execution_count": 134,
      "outputs": [
        {
          "output_type": "execute_result",
          "data": {
            "text/plain": [
              "(3883, 2)"
            ]
          },
          "metadata": {},
          "execution_count": 134
        }
      ]
    },
    {
      "cell_type": "code",
      "source": [
        "movies.columns"
      ],
      "metadata": {
        "colab": {
          "base_uri": "https://localhost:8080/"
        },
        "id": "7c3k_1-uYgOo",
        "outputId": "d59e7bd3-234e-47cb-ce06-52019a9c98d1"
      },
      "execution_count": 135,
      "outputs": [
        {
          "output_type": "execute_result",
          "data": {
            "text/plain": [
              "Index(['title', 'genre'], dtype='object')"
            ]
          },
          "metadata": {},
          "execution_count": 135
        }
      ]
    },
    {
      "cell_type": "code",
      "source": [
        "movies[\"title\"]"
      ],
      "metadata": {
        "colab": {
          "base_uri": "https://localhost:8080/"
        },
        "id": "T9U3zyQGYmk4",
        "outputId": "bc464992-40f5-4b03-eb26-76e5de582c6c"
      },
      "execution_count": 137,
      "outputs": [
        {
          "output_type": "execute_result",
          "data": {
            "text/plain": [
              "1                         Toy Story (1995)\n",
              "2                           Jumanji (1995)\n",
              "3                  Grumpier Old Men (1995)\n",
              "4                 Waiting to Exhale (1995)\n",
              "5       Father of the Bride Part II (1995)\n",
              "                       ...                \n",
              "3948               Meet the Parents (2000)\n",
              "3949            Requiem for a Dream (2000)\n",
              "3950                      Tigerland (2000)\n",
              "3951               Two Family House (2000)\n",
              "3952                 Contender, The (2000)\n",
              "Name: title, Length: 3883, dtype: object"
            ]
          },
          "metadata": {},
          "execution_count": 137
        }
      ]
    },
    {
      "cell_type": "code",
      "source": [
        "movies[\"title\"]"
      ],
      "metadata": {
        "colab": {
          "base_uri": "https://localhost:8080/"
        },
        "id": "JjH-ft9IYpyZ",
        "outputId": "654d8608-92fc-4756-d2db-eb4323467cd5"
      },
      "execution_count": 143,
      "outputs": [
        {
          "output_type": "execute_result",
          "data": {
            "text/plain": [
              "1                         Toy Story (1995)\n",
              "2                           Jumanji (1995)\n",
              "3                  Grumpier Old Men (1995)\n",
              "4                 Waiting to Exhale (1995)\n",
              "5       Father of the Bride Part II (1995)\n",
              "                       ...                \n",
              "3948               Meet the Parents (2000)\n",
              "3949            Requiem for a Dream (2000)\n",
              "3950                      Tigerland (2000)\n",
              "3951               Two Family House (2000)\n",
              "3952                 Contender, The (2000)\n",
              "Name: title, Length: 3883, dtype: object"
            ]
          },
          "metadata": {},
          "execution_count": 143
        }
      ]
    },
    {
      "cell_type": "code",
      "source": [
        "\"Toy Story (1995)\".split()[-1].replace(\"(\",\"\").strip(\")\")"
      ],
      "metadata": {
        "colab": {
          "base_uri": "https://localhost:8080/",
          "height": 35
        },
        "id": "dZ08m5i3ZK7D",
        "outputId": "e285a03f-e0eb-4084-84e1-52b8a6c80310"
      },
      "execution_count": 149,
      "outputs": [
        {
          "output_type": "execute_result",
          "data": {
            "text/plain": [
              "'1995'"
            ],
            "application/vnd.google.colaboratory.intrinsic+json": {
              "type": "string"
            }
          },
          "metadata": {},
          "execution_count": 149
        }
      ]
    },
    {
      "cell_type": "code",
      "source": [
        "\"Toy Story (1995)\".split(\"(\")[-1].strip(\")\")"
      ],
      "metadata": {
        "colab": {
          "base_uri": "https://localhost:8080/",
          "height": 35
        },
        "id": "fOk4CMIca5T1",
        "outputId": "56ca8820-92a9-4de0-9725-c1ea95633298"
      },
      "execution_count": 159,
      "outputs": [
        {
          "output_type": "execute_result",
          "data": {
            "text/plain": [
              "'1995'"
            ],
            "application/vnd.google.colaboratory.intrinsic+json": {
              "type": "string"
            }
          },
          "metadata": {},
          "execution_count": 159
        }
      ]
    },
    {
      "cell_type": "code",
      "source": [
        "def get_year(mtitle):\n",
        "  \"\"\"\n",
        "  \"\"\"\n",
        "  return int(mtitle.split(\"(\")[-1].strip(\")\"))\n",
        "\n"
      ],
      "metadata": {
        "id": "E7pPoG8cZsQd"
      },
      "execution_count": 160,
      "outputs": []
    },
    {
      "cell_type": "code",
      "source": [
        "movies[\"year\"] = movies[\"title\"].map(get_year)"
      ],
      "metadata": {
        "id": "ZvBo_bdEahQY"
      },
      "execution_count": 163,
      "outputs": []
    },
    {
      "cell_type": "code",
      "source": [
        "movies"
      ],
      "metadata": {
        "colab": {
          "base_uri": "https://localhost:8080/",
          "height": 423
        },
        "id": "oGz4-4ymajsg",
        "outputId": "04dc2f70-c7e9-40ab-fd32-04f639f1595e"
      },
      "execution_count": 164,
      "outputs": [
        {
          "output_type": "execute_result",
          "data": {
            "text/plain": [
              "                                   title                         genre  year\n",
              "1                       Toy Story (1995)   Animation|Children's|Comedy  1995\n",
              "2                         Jumanji (1995)  Adventure|Children's|Fantasy  1995\n",
              "3                Grumpier Old Men (1995)                Comedy|Romance  1995\n",
              "4               Waiting to Exhale (1995)                  Comedy|Drama  1995\n",
              "5     Father of the Bride Part II (1995)                        Comedy  1995\n",
              "...                                  ...                           ...   ...\n",
              "3948             Meet the Parents (2000)                        Comedy  2000\n",
              "3949          Requiem for a Dream (2000)                         Drama  2000\n",
              "3950                    Tigerland (2000)                         Drama  2000\n",
              "3951             Two Family House (2000)                         Drama  2000\n",
              "3952               Contender, The (2000)                Drama|Thriller  2000\n",
              "\n",
              "[3883 rows x 3 columns]"
            ],
            "text/html": [
              "\n",
              "  <div id=\"df-b5226048-20ae-47e9-97e0-718e34b07ece\">\n",
              "    <div class=\"colab-df-container\">\n",
              "      <div>\n",
              "<style scoped>\n",
              "    .dataframe tbody tr th:only-of-type {\n",
              "        vertical-align: middle;\n",
              "    }\n",
              "\n",
              "    .dataframe tbody tr th {\n",
              "        vertical-align: top;\n",
              "    }\n",
              "\n",
              "    .dataframe thead th {\n",
              "        text-align: right;\n",
              "    }\n",
              "</style>\n",
              "<table border=\"1\" class=\"dataframe\">\n",
              "  <thead>\n",
              "    <tr style=\"text-align: right;\">\n",
              "      <th></th>\n",
              "      <th>title</th>\n",
              "      <th>genre</th>\n",
              "      <th>year</th>\n",
              "    </tr>\n",
              "  </thead>\n",
              "  <tbody>\n",
              "    <tr>\n",
              "      <th>1</th>\n",
              "      <td>Toy Story (1995)</td>\n",
              "      <td>Animation|Children's|Comedy</td>\n",
              "      <td>1995</td>\n",
              "    </tr>\n",
              "    <tr>\n",
              "      <th>2</th>\n",
              "      <td>Jumanji (1995)</td>\n",
              "      <td>Adventure|Children's|Fantasy</td>\n",
              "      <td>1995</td>\n",
              "    </tr>\n",
              "    <tr>\n",
              "      <th>3</th>\n",
              "      <td>Grumpier Old Men (1995)</td>\n",
              "      <td>Comedy|Romance</td>\n",
              "      <td>1995</td>\n",
              "    </tr>\n",
              "    <tr>\n",
              "      <th>4</th>\n",
              "      <td>Waiting to Exhale (1995)</td>\n",
              "      <td>Comedy|Drama</td>\n",
              "      <td>1995</td>\n",
              "    </tr>\n",
              "    <tr>\n",
              "      <th>5</th>\n",
              "      <td>Father of the Bride Part II (1995)</td>\n",
              "      <td>Comedy</td>\n",
              "      <td>1995</td>\n",
              "    </tr>\n",
              "    <tr>\n",
              "      <th>...</th>\n",
              "      <td>...</td>\n",
              "      <td>...</td>\n",
              "      <td>...</td>\n",
              "    </tr>\n",
              "    <tr>\n",
              "      <th>3948</th>\n",
              "      <td>Meet the Parents (2000)</td>\n",
              "      <td>Comedy</td>\n",
              "      <td>2000</td>\n",
              "    </tr>\n",
              "    <tr>\n",
              "      <th>3949</th>\n",
              "      <td>Requiem for a Dream (2000)</td>\n",
              "      <td>Drama</td>\n",
              "      <td>2000</td>\n",
              "    </tr>\n",
              "    <tr>\n",
              "      <th>3950</th>\n",
              "      <td>Tigerland (2000)</td>\n",
              "      <td>Drama</td>\n",
              "      <td>2000</td>\n",
              "    </tr>\n",
              "    <tr>\n",
              "      <th>3951</th>\n",
              "      <td>Two Family House (2000)</td>\n",
              "      <td>Drama</td>\n",
              "      <td>2000</td>\n",
              "    </tr>\n",
              "    <tr>\n",
              "      <th>3952</th>\n",
              "      <td>Contender, The (2000)</td>\n",
              "      <td>Drama|Thriller</td>\n",
              "      <td>2000</td>\n",
              "    </tr>\n",
              "  </tbody>\n",
              "</table>\n",
              "<p>3883 rows × 3 columns</p>\n",
              "</div>\n",
              "      <button class=\"colab-df-convert\" onclick=\"convertToInteractive('df-b5226048-20ae-47e9-97e0-718e34b07ece')\"\n",
              "              title=\"Convert this dataframe to an interactive table.\"\n",
              "              style=\"display:none;\">\n",
              "        \n",
              "  <svg xmlns=\"http://www.w3.org/2000/svg\" height=\"24px\"viewBox=\"0 0 24 24\"\n",
              "       width=\"24px\">\n",
              "    <path d=\"M0 0h24v24H0V0z\" fill=\"none\"/>\n",
              "    <path d=\"M18.56 5.44l.94 2.06.94-2.06 2.06-.94-2.06-.94-.94-2.06-.94 2.06-2.06.94zm-11 1L8.5 8.5l.94-2.06 2.06-.94-2.06-.94L8.5 2.5l-.94 2.06-2.06.94zm10 10l.94 2.06.94-2.06 2.06-.94-2.06-.94-.94-2.06-.94 2.06-2.06.94z\"/><path d=\"M17.41 7.96l-1.37-1.37c-.4-.4-.92-.59-1.43-.59-.52 0-1.04.2-1.43.59L10.3 9.45l-7.72 7.72c-.78.78-.78 2.05 0 2.83L4 21.41c.39.39.9.59 1.41.59.51 0 1.02-.2 1.41-.59l7.78-7.78 2.81-2.81c.8-.78.8-2.07 0-2.86zM5.41 20L4 18.59l7.72-7.72 1.47 1.35L5.41 20z\"/>\n",
              "  </svg>\n",
              "      </button>\n",
              "      \n",
              "  <style>\n",
              "    .colab-df-container {\n",
              "      display:flex;\n",
              "      flex-wrap:wrap;\n",
              "      gap: 12px;\n",
              "    }\n",
              "\n",
              "    .colab-df-convert {\n",
              "      background-color: #E8F0FE;\n",
              "      border: none;\n",
              "      border-radius: 50%;\n",
              "      cursor: pointer;\n",
              "      display: none;\n",
              "      fill: #1967D2;\n",
              "      height: 32px;\n",
              "      padding: 0 0 0 0;\n",
              "      width: 32px;\n",
              "    }\n",
              "\n",
              "    .colab-df-convert:hover {\n",
              "      background-color: #E2EBFA;\n",
              "      box-shadow: 0px 1px 2px rgba(60, 64, 67, 0.3), 0px 1px 3px 1px rgba(60, 64, 67, 0.15);\n",
              "      fill: #174EA6;\n",
              "    }\n",
              "\n",
              "    [theme=dark] .colab-df-convert {\n",
              "      background-color: #3B4455;\n",
              "      fill: #D2E3FC;\n",
              "    }\n",
              "\n",
              "    [theme=dark] .colab-df-convert:hover {\n",
              "      background-color: #434B5C;\n",
              "      box-shadow: 0px 1px 3px 1px rgba(0, 0, 0, 0.15);\n",
              "      filter: drop-shadow(0px 1px 2px rgba(0, 0, 0, 0.3));\n",
              "      fill: #FFFFFF;\n",
              "    }\n",
              "  </style>\n",
              "\n",
              "      <script>\n",
              "        const buttonEl =\n",
              "          document.querySelector('#df-b5226048-20ae-47e9-97e0-718e34b07ece button.colab-df-convert');\n",
              "        buttonEl.style.display =\n",
              "          google.colab.kernel.accessAllowed ? 'block' : 'none';\n",
              "\n",
              "        async function convertToInteractive(key) {\n",
              "          const element = document.querySelector('#df-b5226048-20ae-47e9-97e0-718e34b07ece');\n",
              "          const dataTable =\n",
              "            await google.colab.kernel.invokeFunction('convertToInteractive',\n",
              "                                                     [key], {});\n",
              "          if (!dataTable) return;\n",
              "\n",
              "          const docLinkHtml = 'Like what you see? Visit the ' +\n",
              "            '<a target=\"_blank\" href=https://colab.research.google.com/notebooks/data_table.ipynb>data table notebook</a>'\n",
              "            + ' to learn more about interactive tables.';\n",
              "          element.innerHTML = '';\n",
              "          dataTable['output_type'] = 'display_data';\n",
              "          await google.colab.output.renderOutput(dataTable, element);\n",
              "          const docLink = document.createElement('div');\n",
              "          docLink.innerHTML = docLinkHtml;\n",
              "          element.appendChild(docLink);\n",
              "        }\n",
              "      </script>\n",
              "    </div>\n",
              "  </div>\n",
              "  "
            ]
          },
          "metadata": {},
          "execution_count": 164
        }
      ]
    },
    {
      "cell_type": "code",
      "source": [
        "movies.groupby(\"year\").count().plot(y=\"title\")"
      ],
      "metadata": {
        "colab": {
          "base_uri": "https://localhost:8080/",
          "height": 297
        },
        "id": "F_Puit1QbN84",
        "outputId": "d5517c46-c4d5-4a55-8dc8-53517918a302"
      },
      "execution_count": 170,
      "outputs": [
        {
          "output_type": "execute_result",
          "data": {
            "text/plain": [
              "<AxesSubplot:xlabel='year'>"
            ]
          },
          "metadata": {},
          "execution_count": 170
        },
        {
          "output_type": "display_data",
          "data": {
            "text/plain": [
              "<Figure size 432x288 with 1 Axes>"
            ],
            "image/png": "[encoded data removed]"
          },
          "metadata": {
            "needs_background": "light"
          }
        }
      ]
    },
    {
      "cell_type": "code",
      "source": [],
      "metadata": {
        "id": "YnQ2W8ZObVFu"
      },
      "execution_count": null,
      "outputs": []
    }
  ]
}