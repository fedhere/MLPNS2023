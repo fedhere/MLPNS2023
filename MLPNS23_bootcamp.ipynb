{
  "nbformat": 4,
  "nbformat_minor": 0,
  "metadata": {
    "colab": {
      "provenance": [],
      "authorship_tag": "ABX9TyPjoc9ljHjuyAr17MUSDZRY",
      "include_colab_link": true
    },
    "kernelspec": {
      "name": "python3",
      "display_name": "Python 3"
    },
    "language_info": {
      "name": "python"
    }
  },
  "cells": [
    {
      "cell_type": "markdown",
      "metadata": {
        "id": "view-in-github",
        "colab_type": "text"
      },
      "source": [
        "<a href=\"https://colab.research.google.com/github/fedhere/MLPNS_FBianco/blob/main/MLPNS23_bootcamp.ipynb\" target=\"_parent\"><img src=\"https://colab.research.google.com/assets/colab-badge.svg\" alt=\"Open In Colab\"/></a>"
      ]
    },
    {
      "cell_type": "code",
      "execution_count": 267,
      "metadata": {
        "colab": {
          "base_uri": "https://localhost:8080/"
        },
        "id": "2YICL70E0JfZ",
        "outputId": "2d408347-e832-46c6-b66a-49c614a9834d"
      },
      "outputs": [
        {
          "output_type": "execute_result",
          "data": {
            "text/plain": [
              "4"
            ]
          },
          "metadata": {},
          "execution_count": 267
        }
      ],
      "source": [
        "2 * 2 "
      ]
    },
    {
      "cell_type": "code",
      "source": [
        "2 * 2"
      ],
      "metadata": {
        "colab": {
          "base_uri": "https://localhost:8080/"
        },
        "id": "vwb0qs3O1MLF",
        "outputId": "526b865c-ef8e-475f-d948-1353473140b5"
      },
      "execution_count": 268,
      "outputs": [
        {
          "output_type": "execute_result",
          "data": {
            "text/plain": [
              "4"
            ]
          },
          "metadata": {},
          "execution_count": 268
        }
      ]
    },
    {
      "cell_type": "markdown",
      "source": [
        "# First markdown cell\n",
        "This is a text cell in markdown syntax\n",
        "\n"
      ],
      "metadata": {
        "id": "F-U_YrBO1abr"
      }
    },
    {
      "cell_type": "markdown",
      "source": [
        "# here we start coding"
      ],
      "metadata": {
        "id": "oGKbH2p01R1o"
      }
    },
    {
      "cell_type": "markdown",
      "source": [
        "# native variables and variable types"
      ],
      "metadata": {
        "id": "eR7gonac2liY"
      }
    },
    {
      "cell_type": "markdown",
      "source": [
        "## integers"
      ],
      "metadata": {
        "id": "6g84xQQJ62-z"
      }
    },
    {
      "cell_type": "code",
      "source": [
        "intVar = 3"
      ],
      "metadata": {
        "id": "9yd6nVyh1ZD4"
      },
      "execution_count": 269,
      "outputs": []
    },
    {
      "cell_type": "code",
      "source": [
        "type(intVar)"
      ],
      "metadata": {
        "colab": {
          "base_uri": "https://localhost:8080/"
        },
        "id": "nUuMvekQ3SqT",
        "outputId": "8bd0c54d-bd0f-4b88-9227-ddf402cf8199"
      },
      "execution_count": 270,
      "outputs": [
        {
          "output_type": "execute_result",
          "data": {
            "text/plain": [
              "int"
            ]
          },
          "metadata": {},
          "execution_count": 270
        }
      ]
    },
    {
      "cell_type": "markdown",
      "source": [
        "## floats"
      ],
      "metadata": {
        "id": "lw7MNxmt66Uz"
      }
    },
    {
      "cell_type": "code",
      "source": [
        "floatVar = 3.0"
      ],
      "metadata": {
        "id": "r-Ol_rH93VEG"
      },
      "execution_count": 271,
      "outputs": []
    },
    {
      "cell_type": "code",
      "source": [
        "type(floatVar)"
      ],
      "metadata": {
        "colab": {
          "base_uri": "https://localhost:8080/"
        },
        "id": "yuHbpbfu3b7N",
        "outputId": "2bc1bb67-8591-4111-d3be-0ec5347f1110"
      },
      "execution_count": 272,
      "outputs": [
        {
          "output_type": "execute_result",
          "data": {
            "text/plain": [
              "float"
            ]
          },
          "metadata": {},
          "execution_count": 272
        }
      ]
    },
    {
      "cell_type": "code",
      "source": [
        "float2Var = float(intVar)"
      ],
      "metadata": {
        "id": "x2Wqhtmb3dhc"
      },
      "execution_count": 273,
      "outputs": []
    },
    {
      "cell_type": "code",
      "source": [
        "type(float2Var)"
      ],
      "metadata": {
        "colab": {
          "base_uri": "https://localhost:8080/"
        },
        "id": "JMsJQI0z3qgs",
        "outputId": "4a06ced9-c3b1-4056-8709-388d756ecba5"
      },
      "execution_count": 274,
      "outputs": [
        {
          "output_type": "execute_result",
          "data": {
            "text/plain": [
              "float"
            ]
          },
          "metadata": {},
          "execution_count": 274
        }
      ]
    },
    {
      "cell_type": "code",
      "source": [
        "intVar * floatVar"
      ],
      "metadata": {
        "colab": {
          "base_uri": "https://localhost:8080/"
        },
        "id": "NwsqNUQv3wll",
        "outputId": "a59b5ba4-9808-4411-c90d-2b01d2451a89"
      },
      "execution_count": 275,
      "outputs": [
        {
          "output_type": "execute_result",
          "data": {
            "text/plain": [
              "9.0"
            ]
          },
          "metadata": {},
          "execution_count": 275
        }
      ]
    },
    {
      "cell_type": "code",
      "source": [
        "intVar / 2"
      ],
      "metadata": {
        "colab": {
          "base_uri": "https://localhost:8080/"
        },
        "id": "VQ4_1wNk36tO",
        "outputId": "93475409-e437-4109-def8-774dbabdcb72"
      },
      "execution_count": 276,
      "outputs": [
        {
          "output_type": "execute_result",
          "data": {
            "text/plain": [
              "1.5"
            ]
          },
          "metadata": {},
          "execution_count": 276
        }
      ]
    },
    {
      "cell_type": "code",
      "source": [
        "intVar + floatVar"
      ],
      "metadata": {
        "colab": {
          "base_uri": "https://localhost:8080/"
        },
        "id": "Kzr5oYvv4VxJ",
        "outputId": "22ce08ae-e2be-4f26-c5d1-2eabd566cc59"
      },
      "execution_count": 277,
      "outputs": [
        {
          "output_type": "execute_result",
          "data": {
            "text/plain": [
              "6.0"
            ]
          },
          "metadata": {},
          "execution_count": 277
        }
      ]
    },
    {
      "cell_type": "code",
      "source": [
        "(intVar + floatVar - intVar) / 2"
      ],
      "metadata": {
        "colab": {
          "base_uri": "https://localhost:8080/"
        },
        "id": "ViB6kksI4bpn",
        "outputId": "b2f0de5b-6cee-40aa-af00-011b5b0cc18a"
      },
      "execution_count": 278,
      "outputs": [
        {
          "output_type": "execute_result",
          "data": {
            "text/plain": [
              "1.5"
            ]
          },
          "metadata": {},
          "execution_count": 278
        }
      ]
    },
    {
      "cell_type": "markdown",
      "source": [
        "## strings"
      ],
      "metadata": {
        "id": "teD8-N25679_"
      }
    },
    {
      "cell_type": "code",
      "source": [
        "print('Hello world')"
      ],
      "metadata": {
        "colab": {
          "base_uri": "https://localhost:8080/"
        },
        "id": "75TcqLpV43kx",
        "outputId": "f9445507-6885-4d5b-9d2e-48c2d0e8f23a"
      },
      "execution_count": 279,
      "outputs": [
        {
          "output_type": "stream",
          "name": "stdout",
          "text": [
            "Hello world\n"
          ]
        }
      ]
    },
    {
      "cell_type": "code",
      "source": [
        "strVar = 'Hello world'"
      ],
      "metadata": {
        "id": "kxsBZYhF5bnD"
      },
      "execution_count": 280,
      "outputs": []
    },
    {
      "cell_type": "code",
      "source": [
        "print(strVar)"
      ],
      "metadata": {
        "colab": {
          "base_uri": "https://localhost:8080/"
        },
        "id": "62umZi-H6aPi",
        "outputId": "38f9ab8d-3a66-42a0-f793-8f6478d8b50f"
      },
      "execution_count": 281,
      "outputs": [
        {
          "output_type": "stream",
          "name": "stdout",
          "text": [
            "Hello world\n"
          ]
        }
      ]
    },
    {
      "cell_type": "markdown",
      "source": [
        "## boolean variables"
      ],
      "metadata": {
        "id": "aDG2r0VE7AX-"
      }
    },
    {
      "cell_type": "code",
      "source": [
        "True"
      ],
      "metadata": {
        "colab": {
          "base_uri": "https://localhost:8080/"
        },
        "id": "iNkPb7aJ6ssR",
        "outputId": "f4307939-c3af-44ec-dc2e-e38d903e07e2"
      },
      "execution_count": 282,
      "outputs": [
        {
          "output_type": "execute_result",
          "data": {
            "text/plain": [
              "True"
            ]
          },
          "metadata": {},
          "execution_count": 282
        }
      ]
    },
    {
      "cell_type": "code",
      "source": [
        "False"
      ],
      "metadata": {
        "colab": {
          "base_uri": "https://localhost:8080/"
        },
        "id": "OPSmiCdN7S5-",
        "outputId": "78f4d00f-62b3-47a0-cf79-441111c608ba"
      },
      "execution_count": 283,
      "outputs": [
        {
          "output_type": "execute_result",
          "data": {
            "text/plain": [
              "False"
            ]
          },
          "metadata": {},
          "execution_count": 283
        }
      ]
    },
    {
      "cell_type": "code",
      "source": [
        "intVar == floatVar"
      ],
      "metadata": {
        "colab": {
          "base_uri": "https://localhost:8080/"
        },
        "id": "dhI6QIx68TW2",
        "outputId": "a122e6e7-d4f7-4ff4-a51e-d462881fa96a"
      },
      "execution_count": 284,
      "outputs": [
        {
          "output_type": "execute_result",
          "data": {
            "text/plain": [
              "True"
            ]
          },
          "metadata": {},
          "execution_count": 284
        }
      ]
    },
    {
      "cell_type": "code",
      "source": [
        "if intVar > floatVar:\n",
        "  print(\"this is true\")\n",
        "  print(intVar * floatVar)\n",
        "else: \n",
        "  print(\"condition was false\")"
      ],
      "metadata": {
        "colab": {
          "base_uri": "https://localhost:8080/"
        },
        "id": "HcZbOYqg7fG0",
        "outputId": "9808aace-501f-4898-9a8f-5a28900d79d5"
      },
      "execution_count": 285,
      "outputs": [
        {
          "output_type": "stream",
          "name": "stdout",
          "text": [
            "condition was false\n"
          ]
        }
      ]
    },
    {
      "cell_type": "code",
      "source": [
        "# == is equal?\n",
        "print(intVar == floatVar)\n",
        "# > greater\n",
        "print(intVar > floatVar)\n",
        "# < greater\n",
        "print(intVar < floatVar)\n",
        "# != not equal \n",
        "print(intVar != floatVar)\n"
      ],
      "metadata": {
        "colab": {
          "base_uri": "https://localhost:8080/"
        },
        "id": "D2VHTtWk7jrW",
        "outputId": "3eba58b4-ea2e-4e9a-c1dc-94ce658e93ed"
      },
      "execution_count": 286,
      "outputs": [
        {
          "output_type": "stream",
          "name": "stdout",
          "text": [
            "True\n",
            "False\n",
            "False\n",
            "False\n"
          ]
        }
      ]
    },
    {
      "cell_type": "code",
      "source": [
        "# logical or\n",
        "(intVar > floatVar) or (intVar == floatVar)"
      ],
      "metadata": {
        "colab": {
          "base_uri": "https://localhost:8080/"
        },
        "id": "eHV591Yqw5sN",
        "outputId": "6d770ac7-9b43-4371-d312-ec8f5bc045a4"
      },
      "execution_count": 297,
      "outputs": [
        {
          "output_type": "execute_result",
          "data": {
            "text/plain": [
              "True"
            ]
          },
          "metadata": {},
          "execution_count": 297
        }
      ]
    },
    {
      "cell_type": "code",
      "source": [
        "# logical AND\n",
        "(intVar > floatVar) and (intVar == floatVar)"
      ],
      "metadata": {
        "colab": {
          "base_uri": "https://localhost:8080/"
        },
        "id": "8BEQkLs6xLrc",
        "outputId": "3c449de3-fd13-4487-da52-f804a3a8968a"
      },
      "execution_count": 294,
      "outputs": [
        {
          "output_type": "execute_result",
          "data": {
            "text/plain": [
              "False"
            ]
          },
          "metadata": {},
          "execution_count": 294
        }
      ]
    },
    {
      "cell_type": "code",
      "source": [
        "# | is logical OR\n",
        "(intVar > floatVar) | (intVar == floatVar)\n"
      ],
      "metadata": {
        "id": "Y5RV7n5e9ZJY",
        "colab": {
          "base_uri": "https://localhost:8080/"
        },
        "outputId": "6dc6e2d4-7d83-4eb6-fb0d-9b975cab913d"
      },
      "execution_count": 291,
      "outputs": [
        {
          "output_type": "execute_result",
          "data": {
            "text/plain": [
              "True"
            ]
          },
          "metadata": {},
          "execution_count": 291
        }
      ]
    },
    {
      "cell_type": "code",
      "source": [
        "# & is logical AND\n",
        "(intVar > floatVar) & (intVar == floatVar)"
      ],
      "metadata": {
        "colab": {
          "base_uri": "https://localhost:8080/"
        },
        "id": "AOY6zsWMxJl7",
        "outputId": "53f0b397-62d8-4889-d61f-c60081a3d6b5"
      },
      "execution_count": 290,
      "outputs": [
        {
          "output_type": "execute_result",
          "data": {
            "text/plain": [
              "False"
            ]
          },
          "metadata": {},
          "execution_count": 290
        }
      ]
    },
    {
      "cell_type": "code",
      "source": [
        "True == 1"
      ],
      "metadata": {
        "colab": {
          "base_uri": "https://localhost:8080/"
        },
        "id": "QaIvr5sp-BDc",
        "outputId": "bdb7859d-8f5a-4c98-de24-568df9b15954"
      },
      "execution_count": null,
      "outputs": [
        {
          "output_type": "execute_result",
          "data": {
            "text/plain": [
              "True"
            ]
          },
          "metadata": {},
          "execution_count": 23
        }
      ]
    },
    {
      "cell_type": "code",
      "source": [
        "# * is logical AND\n",
        "if (intVar > floatVar) * (intVar == floatVar):\n",
        "  print(\"True\")\n",
        "else:\n",
        "  print(\"False\")"
      ],
      "metadata": {
        "colab": {
          "base_uri": "https://localhost:8080/"
        },
        "id": "McAgy8xz-ZDs",
        "outputId": "2c0d3e80-e6a1-499a-c61b-e02b936838c1"
      },
      "execution_count": null,
      "outputs": [
        {
          "output_type": "stream",
          "name": "stdout",
          "text": [
            "False\n"
          ]
        }
      ]
    },
    {
      "cell_type": "code",
      "source": [
        "# ? is logical OR\n",
        "if (intVar > floatVar) + (intVar == floatVar) + (intVar == 3):\n",
        "  print(\"True\")\n",
        "else:\n",
        "  print(\"False\")"
      ],
      "metadata": {
        "colab": {
          "base_uri": "https://localhost:8080/"
        },
        "id": "Ir6cxzgn-wQu",
        "outputId": "1853e9df-f1e9-4927-9ca3-7cc12d014faa"
      },
      "execution_count": null,
      "outputs": [
        {
          "output_type": "stream",
          "name": "stdout",
          "text": [
            "True\n"
          ]
        }
      ]
    },
    {
      "cell_type": "code",
      "source": [
        "if 2:\n",
        "  print(\"something\")"
      ],
      "metadata": {
        "colab": {
          "base_uri": "https://localhost:8080/"
        },
        "id": "s-Tg3u9n_DmQ",
        "outputId": "9e9e8bd5-cf59-4d7f-d8b5-1740c728f15e"
      },
      "execution_count": null,
      "outputs": [
        {
          "output_type": "stream",
          "name": "stdout",
          "text": [
            "something\n"
          ]
        }
      ]
    },
    {
      "cell_type": "code",
      "source": [
        "for i in range(1, 10, 3):\n",
        "  print(i)"
      ],
      "metadata": {
        "colab": {
          "base_uri": "https://localhost:8080/"
        },
        "id": "N6c50FTlBQya",
        "outputId": "cace9092-e5ca-4476-ba20-1c896313d2ef"
      },
      "execution_count": null,
      "outputs": [
        {
          "output_type": "stream",
          "name": "stdout",
          "text": [
            "1\n",
            "4\n",
            "7\n"
          ]
        }
      ]
    },
    {
      "cell_type": "markdown",
      "source": [
        "# variable as objects"
      ],
      "metadata": {
        "id": "wI0dxxX3_Raj"
      }
    },
    {
      "cell_type": "code",
      "source": [
        "strVar = \"hello world\"\n",
        "strVar"
      ],
      "metadata": {
        "colab": {
          "base_uri": "https://localhost:8080/",
          "height": 35
        },
        "id": "CSzUm0SfCh-Z",
        "outputId": "a656a25c-ebbc-4266-d46b-6c872f8c14e3"
      },
      "execution_count": null,
      "outputs": [
        {
          "output_type": "execute_result",
          "data": {
            "text/plain": [
              "'hello world'"
            ],
            "application/vnd.google.colaboratory.intrinsic+json": {
              "type": "string"
            }
          },
          "metadata": {},
          "execution_count": 28
        }
      ]
    },
    {
      "cell_type": "code",
      "source": [
        "strVar.capitalize()"
      ],
      "metadata": {
        "colab": {
          "base_uri": "https://localhost:8080/",
          "height": 35
        },
        "id": "OuNPFZd8Ci1j",
        "outputId": "4fbe0c67-a675-49e7-af09-66647f5c4994"
      },
      "execution_count": null,
      "outputs": [
        {
          "output_type": "execute_result",
          "data": {
            "text/plain": [
              "'Hello world'"
            ],
            "application/vnd.google.colaboratory.intrinsic+json": {
              "type": "string"
            }
          },
          "metadata": {},
          "execution_count": 29
        }
      ]
    },
    {
      "cell_type": "code",
      "source": [
        "strVar.upper()"
      ],
      "metadata": {
        "colab": {
          "base_uri": "https://localhost:8080/",
          "height": 35
        },
        "id": "C4YTL99lC2XO",
        "outputId": "bcbbf337-1427-43af-8b8b-d22a8a66d1a6"
      },
      "execution_count": null,
      "outputs": [
        {
          "output_type": "execute_result",
          "data": {
            "text/plain": [
              "'HELLO WORLD'"
            ],
            "application/vnd.google.colaboratory.intrinsic+json": {
              "type": "string"
            }
          },
          "metadata": {},
          "execution_count": 30
        }
      ]
    },
    {
      "cell_type": "code",
      "source": [
        "strVar.isdigit()"
      ],
      "metadata": {
        "colab": {
          "base_uri": "https://localhost:8080/"
        },
        "id": "Kqq5Z_2kC-hc",
        "outputId": "fdc1234d-02f4-4c16-fc0a-205ad8a84204"
      },
      "execution_count": null,
      "outputs": [
        {
          "output_type": "execute_result",
          "data": {
            "text/plain": [
              "False"
            ]
          },
          "metadata": {},
          "execution_count": 31
        }
      ]
    },
    {
      "cell_type": "code",
      "source": [
        "\"3\".isdigit()"
      ],
      "metadata": {
        "colab": {
          "base_uri": "https://localhost:8080/"
        },
        "id": "Coz4VoquDC9c",
        "outputId": "9a8243bf-4e6e-463c-bba2-e8bb01b020db"
      },
      "execution_count": null,
      "outputs": [
        {
          "output_type": "execute_result",
          "data": {
            "text/plain": [
              "True"
            ]
          },
          "metadata": {},
          "execution_count": 32
        }
      ]
    },
    {
      "cell_type": "code",
      "source": [
        "floatVar.is_integer()"
      ],
      "metadata": {
        "colab": {
          "base_uri": "https://localhost:8080/"
        },
        "id": "Upg95avJDNdD",
        "outputId": "85a44945-18f3-49e2-ce57-288762d98f2f"
      },
      "execution_count": null,
      "outputs": [
        {
          "output_type": "execute_result",
          "data": {
            "text/plain": [
              "True"
            ]
          },
          "metadata": {},
          "execution_count": 33
        }
      ]
    },
    {
      "cell_type": "markdown",
      "source": [
        "# list "
      ],
      "metadata": {
        "id": "f3Asc3JFEUZt"
      }
    },
    {
      "cell_type": "code",
      "source": [
        "listVar = [intVar, floatVar, strVar, 0, True]\n",
        "listVar"
      ],
      "metadata": {
        "colab": {
          "base_uri": "https://localhost:8080/"
        },
        "id": "zYkvs7byEboH",
        "outputId": "80da70f5-5853-430b-c0c7-1bb9504b39b0"
      },
      "execution_count": null,
      "outputs": [
        {
          "output_type": "execute_result",
          "data": {
            "text/plain": [
              "[3, 3.0, 'hello world', 0, True]"
            ]
          },
          "metadata": {},
          "execution_count": 34
        }
      ]
    },
    {
      "cell_type": "code",
      "source": [
        "listVar.append(11)\n",
        "listVar"
      ],
      "metadata": {
        "colab": {
          "base_uri": "https://localhost:8080/"
        },
        "id": "abvR2WF3Ebdt",
        "outputId": "5c5b25f4-11c2-4637-a4c8-300b28961ee3"
      },
      "execution_count": null,
      "outputs": [
        {
          "output_type": "execute_result",
          "data": {
            "text/plain": [
              "[3, 3.0, 'hello world', 0, True, 11]"
            ]
          },
          "metadata": {},
          "execution_count": 35
        }
      ]
    },
    {
      "cell_type": "code",
      "source": [
        "listVar[0]"
      ],
      "metadata": {
        "colab": {
          "base_uri": "https://localhost:8080/"
        },
        "id": "4X6WWgxMEbY5",
        "outputId": "5636debb-e43c-4fd3-c230-3a40c5e7c7dd"
      },
      "execution_count": null,
      "outputs": [
        {
          "output_type": "execute_result",
          "data": {
            "text/plain": [
              "3"
            ]
          },
          "metadata": {},
          "execution_count": 36
        }
      ]
    },
    {
      "cell_type": "code",
      "source": [
        "strVar[0]"
      ],
      "metadata": {
        "colab": {
          "base_uri": "https://localhost:8080/",
          "height": 35
        },
        "id": "HnjK-J5CEbIm",
        "outputId": "d8eb5680-055a-48ef-bca2-374bde5589bf"
      },
      "execution_count": null,
      "outputs": [
        {
          "output_type": "execute_result",
          "data": {
            "text/plain": [
              "'h'"
            ],
            "application/vnd.google.colaboratory.intrinsic+json": {
              "type": "string"
            }
          },
          "metadata": {},
          "execution_count": 37
        }
      ]
    },
    {
      "cell_type": "code",
      "source": [
        "'h' in strVar"
      ],
      "metadata": {
        "colab": {
          "base_uri": "https://localhost:8080/"
        },
        "id": "1fE68JwpFWLP",
        "outputId": "9fec228c-9a30-469c-a29c-1ba30bf11aba"
      },
      "execution_count": null,
      "outputs": [
        {
          "output_type": "execute_result",
          "data": {
            "text/plain": [
              "True"
            ]
          },
          "metadata": {},
          "execution_count": 38
        }
      ]
    },
    {
      "cell_type": "code",
      "source": [
        "64 in listVar"
      ],
      "metadata": {
        "colab": {
          "base_uri": "https://localhost:8080/"
        },
        "id": "vOP14kR7FaKe",
        "outputId": "a9d384c5-f4ef-4f6b-f490-df2df6fafe12"
      },
      "execution_count": null,
      "outputs": [
        {
          "output_type": "execute_result",
          "data": {
            "text/plain": [
              "False"
            ]
          },
          "metadata": {},
          "execution_count": 39
        }
      ]
    },
    {
      "cell_type": "code",
      "source": [
        "listVar"
      ],
      "metadata": {
        "colab": {
          "base_uri": "https://localhost:8080/"
        },
        "id": "KybKkhQqFeij",
        "outputId": "c3ca1d53-479c-42de-eeb3-790d16f6b6bd"
      },
      "execution_count": null,
      "outputs": [
        {
          "output_type": "execute_result",
          "data": {
            "text/plain": [
              "[3, 3.0, 'hello world', 0, True, 11]"
            ]
          },
          "metadata": {},
          "execution_count": 40
        }
      ]
    },
    {
      "cell_type": "code",
      "source": [
        "listVar[1] = 9"
      ],
      "metadata": {
        "id": "jUKB6yBGFed5"
      },
      "execution_count": null,
      "outputs": []
    },
    {
      "cell_type": "code",
      "source": [
        "listVar"
      ],
      "metadata": {
        "colab": {
          "base_uri": "https://localhost:8080/"
        },
        "id": "LPow_RDVFeY6",
        "outputId": "570f4e49-b693-4ee5-fb75-ef79d2cb4094"
      },
      "execution_count": null,
      "outputs": [
        {
          "output_type": "execute_result",
          "data": {
            "text/plain": [
              "[3, 9, 'hello world', 0, True, 11]"
            ]
          },
          "metadata": {},
          "execution_count": 42
        }
      ]
    },
    {
      "cell_type": "code",
      "source": [
        "strVar[0] = \"H\""
      ],
      "metadata": {
        "colab": {
          "base_uri": "https://localhost:8080/",
          "height": 169
        },
        "id": "ph2fVzOOFeTT",
        "outputId": "2ffa870b-eafa-4cef-9bfa-aa27810c61d9"
      },
      "execution_count": null,
      "outputs": [
        {
          "output_type": "error",
          "ename": "TypeError",
          "evalue": "ignored",
          "traceback": [
            "\u001b[0;31m---------------------------------------------------------------------------\u001b[0m",
            "\u001b[0;31mTypeError\u001b[0m                                 Traceback (most recent call last)",
            "\u001b[0;32m<ipython-input-43-a6a92d1160b2>\u001b[0m in \u001b[0;36m<module>\u001b[0;34m\u001b[0m\n\u001b[0;32m----> 1\u001b[0;31m \u001b[0mstrVar\u001b[0m\u001b[0;34m[\u001b[0m\u001b[0;36m0\u001b[0m\u001b[0;34m]\u001b[0m \u001b[0;34m=\u001b[0m \u001b[0;34m\"H\"\u001b[0m\u001b[0;34m\u001b[0m\u001b[0;34m\u001b[0m\u001b[0m\n\u001b[0m",
            "\u001b[0;31mTypeError\u001b[0m: 'str' object does not support item assignment"
          ]
        }
      ]
    },
    {
      "cell_type": "code",
      "source": [],
      "metadata": {
        "id": "h6qvkDHFFePB"
      },
      "execution_count": null,
      "outputs": []
    },
    {
      "cell_type": "markdown",
      "source": [
        "EXERCISE\n",
        "Reproduce the famous \"Wordle\" game functionality\n",
        "\n",
        "create a piece of code (a function if you know how to write one) that takes a two strings\n",
        "checks if the strings are the same\n",
        "if they are not, it checks if any letter is correct and in the right place\n",
        "checks if any letter is correct but in the wrong place\n",
        "prints out a list wich marks the indices where the characters are correct and in the write place and where they are correct but in the wrong place\n",
        "I wrote mine in a python file named pywordle.py and I can import it from it and run it (see below)"
      ],
      "metadata": {
        "id": "LkdjZG3nDead"
      }
    },
    {
      "cell_type": "code",
      "source": [
        "target = \"acres\"\n",
        "guess = \"Acres\"\n",
        "test = [\"_\"] * 5\n",
        "\n",
        "target = target.lower()\n",
        "guess = guess.lower()\n",
        "\n",
        "if len(target) != len(guess):\n",
        "  print(\"wrong word length\")\n",
        "\n",
        "\n",
        "else:\n",
        "  if target == guess:\n",
        "    print(\"DONE!\")\n",
        "  else:\n",
        "    print(\"try again\")\n",
        "    for i in range(len(test)):\n",
        "      if guess[i] == target[i]:\n",
        "        test[i] = guess[i]\n",
        "      elif guess[i] in target:\n",
        "        test[i] = \"*\"\n",
        "\n",
        "\"\".join(test)"
      ],
      "metadata": {
        "id": "_zWXuDhnEDul",
        "colab": {
          "base_uri": "https://localhost:8080/",
          "height": 53
        },
        "outputId": "96d5f5f8-b01c-4c8e-eae1-5b23d668dfc4"
      },
      "execution_count": null,
      "outputs": [
        {
          "output_type": "stream",
          "name": "stdout",
          "text": [
            "DONE!\n"
          ]
        },
        {
          "output_type": "execute_result",
          "data": {
            "text/plain": [
              "'_____'"
            ],
            "application/vnd.google.colaboratory.intrinsic+json": {
              "type": "string"
            }
          },
          "metadata": {},
          "execution_count": 44
        }
      ]
    },
    {
      "cell_type": "markdown",
      "source": [
        "# functions"
      ],
      "metadata": {
        "id": "hSQRFM8aQSQc"
      }
    },
    {
      "cell_type": "code",
      "source": [
        "list_stings_var = [\"H\", \"e\", \"l\", \"l\", \"o\"]\n",
        "\"\".join(list_stings_var)"
      ],
      "metadata": {
        "colab": {
          "base_uri": "https://localhost:8080/",
          "height": 35
        },
        "id": "W00Bv7lnQUQC",
        "outputId": "7896bca4-f1ab-481e-a6e2-ccdc2c9570fb"
      },
      "execution_count": null,
      "outputs": [
        {
          "output_type": "execute_result",
          "data": {
            "text/plain": [
              "'Hello'"
            ],
            "application/vnd.google.colaboratory.intrinsic+json": {
              "type": "string"
            }
          },
          "metadata": {},
          "execution_count": 45
        }
      ]
    },
    {
      "cell_type": "code",
      "source": [
        "def wordle(guess, target):\n",
        "  \"\"\"\n",
        "  A function that checks a word guess against a target\n",
        "  Input:\n",
        "    guess: a string\n",
        "  Return:\n",
        "    a string\n",
        "  \"\"\"\n",
        "  test = [\"_\"] * 5\n",
        "\n",
        "  target = target.lower()\n",
        "  guess = guess.lower()\n",
        "\n",
        "  if len(target) != len(guess):\n",
        "    print(\"wrong word length\")\n",
        "  else:\n",
        "    if target == guess:\n",
        "      print(\"DONE!\")\n",
        "      test = guess\n",
        "    else:\n",
        "      print(\"try again\")\n",
        "      for i in range(len(test)):\n",
        "        if guess[i] == target[i]:\n",
        "          test[i] = guess[i]\n",
        "          \n",
        "        elif guess[i] in target:\n",
        "          test[i] = \"*\"\n",
        "    print(\"\".join(test))\n",
        "\n",
        "  return "
      ],
      "metadata": {
        "id": "vfZWsqUHQR0l"
      },
      "execution_count": null,
      "outputs": []
    },
    {
      "cell_type": "code",
      "source": [
        "wordle(\"Acres\", \"acres\")"
      ],
      "metadata": {
        "colab": {
          "base_uri": "https://localhost:8080/"
        },
        "id": "rqpjC39eQU8E",
        "outputId": "977000d2-cd91-4c09-ba88-6c8c9b21d8fe"
      },
      "execution_count": null,
      "outputs": [
        {
          "output_type": "stream",
          "name": "stdout",
          "text": [
            "DONE!\n",
            "acres\n"
          ]
        }
      ]
    },
    {
      "cell_type": "markdown",
      "source": [
        "# importing packages"
      ],
      "metadata": {
        "id": "hQt7qjbcRKae"
      }
    },
    {
      "cell_type": "markdown",
      "source": [
        "typical packages that we will see\n",
        "### pandas\n",
        "  manipulation of tabular data\n",
        "### numpy\n",
        "  manipulation of numerical data\n",
        "### scipy\n",
        "  statistica (also statsmodels)\n",
        "### matplotlib (pylab)\n",
        "  visualizations and plotting\n",
        "### sklearn (scikitlearn)\n",
        "  machine learning\n",
        "### tensorflow\n",
        "  neural networks"
      ],
      "metadata": {
        "id": "_sVeBBvISWWc"
      }
    },
    {
      "cell_type": "code",
      "source": [
        "import pandas as pd\n",
        "## from pandas import * # NEVER!!!\n"
      ],
      "metadata": {
        "id": "4K6kYY8sR_GQ"
      },
      "execution_count": null,
      "outputs": []
    },
    {
      "cell_type": "code",
      "source": [
        "url = \"https://raw.githubusercontent.com/fedhere/PyBOOT/master/311_Service_Requests_from_2010_to_Present.csv\""
      ],
      "metadata": {
        "id": "gRP9gWwwS4t3"
      },
      "execution_count": null,
      "outputs": []
    },
    {
      "cell_type": "code",
      "source": [
        "df = pd.read_csv(url)\n"
      ],
      "metadata": {
        "id": "rA5MJ2g-U6WC"
      },
      "execution_count": null,
      "outputs": []
    },
    {
      "cell_type": "code",
      "source": [
        "df.shape"
      ],
      "metadata": {
        "colab": {
          "base_uri": "https://localhost:8080/"
        },
        "id": "eqM_pz2hVGTV",
        "outputId": "fc0a6ba9-cf2b-49c8-e52a-8d561ca53961"
      },
      "execution_count": null,
      "outputs": [
        {
          "output_type": "execute_result",
          "data": {
            "text/plain": [
              "(924, 41)"
            ]
          },
          "metadata": {},
          "execution_count": 51
        }
      ]
    },
    {
      "cell_type": "code",
      "source": [
        "df.columns"
      ],
      "metadata": {
        "colab": {
          "base_uri": "https://localhost:8080/"
        },
        "id": "c97RYnj4VVtZ",
        "outputId": "42294ab2-012e-429a-f0de-6d2515436c25"
      },
      "execution_count": null,
      "outputs": [
        {
          "output_type": "execute_result",
          "data": {
            "text/plain": [
              "Index(['Unique Key', 'Created Date', 'Closed Date', 'Agency', 'Agency Name',\n",
              "       'Complaint Type', 'Descriptor', 'Location Type', 'Incident Zip',\n",
              "       'Incident Address', 'Street Name', 'Cross Street 1', 'Cross Street 2',\n",
              "       'Intersection Street 1', 'Intersection Street 2', 'Address Type',\n",
              "       'City', 'Landmark', 'Facility Type', 'Status', 'Due Date',\n",
              "       'Resolution Description', 'Resolution Action Updated Date',\n",
              "       'Community Board', 'BBL', 'Borough', 'X Coordinate (State Plane)',\n",
              "       'Y Coordinate (State Plane)', 'Open Data Channel Type',\n",
              "       'Park Facility Name', 'Park Borough', 'Vehicle Type',\n",
              "       'Taxi Company Borough', 'Taxi Pick Up Location', 'Bridge Highway Name',\n",
              "       'Bridge Highway Direction', 'Road Ramp', 'Bridge Highway Segment',\n",
              "       'Latitude', 'Longitude', 'Location'],\n",
              "      dtype='object')"
            ]
          },
          "metadata": {},
          "execution_count": 52
        }
      ]
    },
    {
      "cell_type": "code",
      "source": [
        "df.loc[:, 'Created Date']"
      ],
      "metadata": {
        "colab": {
          "base_uri": "https://localhost:8080/"
        },
        "id": "stHwFJfAVuuB",
        "outputId": "3eafa94f-90ac-46e9-d347-9ca7707b3fde"
      },
      "execution_count": null,
      "outputs": [
        {
          "output_type": "execute_result",
          "data": {
            "text/plain": [
              "0      05/01/2022 12:00:03 AM\n",
              "1      05/01/2022 12:00:09 AM\n",
              "2      05/01/2022 12:00:17 AM\n",
              "3      05/01/2022 12:00:21 AM\n",
              "4      05/01/2022 12:00:25 AM\n",
              "                ...          \n",
              "919    05/01/2022 02:04:45 AM\n",
              "920    05/01/2022 02:05:35 AM\n",
              "921    05/01/2022 02:05:38 AM\n",
              "922    05/01/2022 02:06:13 AM\n",
              "923    05/01/2022 02:06:26 AM\n",
              "Name: Created Date, Length: 924, dtype: object"
            ]
          },
          "metadata": {},
          "execution_count": 53
        }
      ]
    },
    {
      "cell_type": "code",
      "source": [
        "url = \"https://raw.githubusercontent.com/fedhere/UInotebooks/master/dataWrangling/movies.dat\""
      ],
      "metadata": {
        "id": "fvmhbeRFWNBR"
      },
      "execution_count": null,
      "outputs": []
    },
    {
      "cell_type": "code",
      "source": [
        "colnames = [\"title\", \"genre\"]\n",
        "movies = pd.read_csv(url, sep=\"::\", index_col=0, header=None, names=colnames);\n",
        "movies"
      ],
      "metadata": {
        "colab": {
          "base_uri": "https://localhost:8080/",
          "height": 479
        },
        "id": "keo_8LxsXCr2",
        "outputId": "4fa6d640-dd0f-469d-fc4f-a4ed8c2b9b08"
      },
      "execution_count": null,
      "outputs": [
        {
          "output_type": "stream",
          "name": "stderr",
          "text": [
            "/usr/local/lib/python3.9/dist-packages/pandas/util/_decorators.py:311: ParserWarning: Falling back to the 'python' engine because the 'c' engine does not support regex separators (separators > 1 char and different from '\\s+' are interpreted as regex); you can avoid this warning by specifying engine='python'.\n",
            "  return func(*args, **kwargs)\n"
          ]
        },
        {
          "output_type": "execute_result",
          "data": {
            "text/plain": [
              "                                   title                         genre\n",
              "1                       Toy Story (1995)   Animation|Children's|Comedy\n",
              "2                         Jumanji (1995)  Adventure|Children's|Fantasy\n",
              "3                Grumpier Old Men (1995)                Comedy|Romance\n",
              "4               Waiting to Exhale (1995)                  Comedy|Drama\n",
              "5     Father of the Bride Part II (1995)                        Comedy\n",
              "...                                  ...                           ...\n",
              "3948             Meet the Parents (2000)                        Comedy\n",
              "3949          Requiem for a Dream (2000)                         Drama\n",
              "3950                    Tigerland (2000)                         Drama\n",
              "3951             Two Family House (2000)                         Drama\n",
              "3952               Contender, The (2000)                Drama|Thriller\n",
              "\n",
              "[3883 rows x 2 columns]"
            ],
            "text/html": [
              "\n",
              "  <div id=\"df-c10882fb-4eb6-4beb-b17a-d382accd239b\">\n",
              "    <div class=\"colab-df-container\">\n",
              "      <div>\n",
              "<style scoped>\n",
              "    .dataframe tbody tr th:only-of-type {\n",
              "        vertical-align: middle;\n",
              "    }\n",
              "\n",
              "    .dataframe tbody tr th {\n",
              "        vertical-align: top;\n",
              "    }\n",
              "\n",
              "    .dataframe thead th {\n",
              "        text-align: right;\n",
              "    }\n",
              "</style>\n",
              "<table border=\"1\" class=\"dataframe\">\n",
              "  <thead>\n",
              "    <tr style=\"text-align: right;\">\n",
              "      <th></th>\n",
              "      <th>title</th>\n",
              "      <th>genre</th>\n",
              "    </tr>\n",
              "  </thead>\n",
              "  <tbody>\n",
              "    <tr>\n",
              "      <th>1</th>\n",
              "      <td>Toy Story (1995)</td>\n",
              "      <td>Animation|Children's|Comedy</td>\n",
              "    </tr>\n",
              "    <tr>\n",
              "      <th>2</th>\n",
              "      <td>Jumanji (1995)</td>\n",
              "      <td>Adventure|Children's|Fantasy</td>\n",
              "    </tr>\n",
              "    <tr>\n",
              "      <th>3</th>\n",
              "      <td>Grumpier Old Men (1995)</td>\n",
              "      <td>Comedy|Romance</td>\n",
              "    </tr>\n",
              "    <tr>\n",
              "      <th>4</th>\n",
              "      <td>Waiting to Exhale (1995)</td>\n",
              "      <td>Comedy|Drama</td>\n",
              "    </tr>\n",
              "    <tr>\n",
              "      <th>5</th>\n",
              "      <td>Father of the Bride Part II (1995)</td>\n",
              "      <td>Comedy</td>\n",
              "    </tr>\n",
              "    <tr>\n",
              "      <th>...</th>\n",
              "      <td>...</td>\n",
              "      <td>...</td>\n",
              "    </tr>\n",
              "    <tr>\n",
              "      <th>3948</th>\n",
              "      <td>Meet the Parents (2000)</td>\n",
              "      <td>Comedy</td>\n",
              "    </tr>\n",
              "    <tr>\n",
              "      <th>3949</th>\n",
              "      <td>Requiem for a Dream (2000)</td>\n",
              "      <td>Drama</td>\n",
              "    </tr>\n",
              "    <tr>\n",
              "      <th>3950</th>\n",
              "      <td>Tigerland (2000)</td>\n",
              "      <td>Drama</td>\n",
              "    </tr>\n",
              "    <tr>\n",
              "      <th>3951</th>\n",
              "      <td>Two Family House (2000)</td>\n",
              "      <td>Drama</td>\n",
              "    </tr>\n",
              "    <tr>\n",
              "      <th>3952</th>\n",
              "      <td>Contender, The (2000)</td>\n",
              "      <td>Drama|Thriller</td>\n",
              "    </tr>\n",
              "  </tbody>\n",
              "</table>\n",
              "<p>3883 rows × 2 columns</p>\n",
              "</div>\n",
              "      <button class=\"colab-df-convert\" onclick=\"convertToInteractive('df-c10882fb-4eb6-4beb-b17a-d382accd239b')\"\n",
              "              title=\"Convert this dataframe to an interactive table.\"\n",
              "              style=\"display:none;\">\n",
              "        \n",
              "  <svg xmlns=\"http://www.w3.org/2000/svg\" height=\"24px\"viewBox=\"0 0 24 24\"\n",
              "       width=\"24px\">\n",
              "    <path d=\"M0 0h24v24H0V0z\" fill=\"none\"/>\n",
              "    <path d=\"M18.56 5.44l.94 2.06.94-2.06 2.06-.94-2.06-.94-.94-2.06-.94 2.06-2.06.94zm-11 1L8.5 8.5l.94-2.06 2.06-.94-2.06-.94L8.5 2.5l-.94 2.06-2.06.94zm10 10l.94 2.06.94-2.06 2.06-.94-2.06-.94-.94-2.06-.94 2.06-2.06.94z\"/><path d=\"M17.41 7.96l-1.37-1.37c-.4-.4-.92-.59-1.43-.59-.52 0-1.04.2-1.43.59L10.3 9.45l-7.72 7.72c-.78.78-.78 2.05 0 2.83L4 21.41c.39.39.9.59 1.41.59.51 0 1.02-.2 1.41-.59l7.78-7.78 2.81-2.81c.8-.78.8-2.07 0-2.86zM5.41 20L4 18.59l7.72-7.72 1.47 1.35L5.41 20z\"/>\n",
              "  </svg>\n",
              "      </button>\n",
              "      \n",
              "  <style>\n",
              "    .colab-df-container {\n",
              "      display:flex;\n",
              "      flex-wrap:wrap;\n",
              "      gap: 12px;\n",
              "    }\n",
              "\n",
              "    .colab-df-convert {\n",
              "      background-color: #E8F0FE;\n",
              "      border: none;\n",
              "      border-radius: 50%;\n",
              "      cursor: pointer;\n",
              "      display: none;\n",
              "      fill: #1967D2;\n",
              "      height: 32px;\n",
              "      padding: 0 0 0 0;\n",
              "      width: 32px;\n",
              "    }\n",
              "\n",
              "    .colab-df-convert:hover {\n",
              "      background-color: #E2EBFA;\n",
              "      box-shadow: 0px 1px 2px rgba(60, 64, 67, 0.3), 0px 1px 3px 1px rgba(60, 64, 67, 0.15);\n",
              "      fill: #174EA6;\n",
              "    }\n",
              "\n",
              "    [theme=dark] .colab-df-convert {\n",
              "      background-color: #3B4455;\n",
              "      fill: #D2E3FC;\n",
              "    }\n",
              "\n",
              "    [theme=dark] .colab-df-convert:hover {\n",
              "      background-color: #434B5C;\n",
              "      box-shadow: 0px 1px 3px 1px rgba(0, 0, 0, 0.15);\n",
              "      filter: drop-shadow(0px 1px 2px rgba(0, 0, 0, 0.3));\n",
              "      fill: #FFFFFF;\n",
              "    }\n",
              "  </style>\n",
              "\n",
              "      <script>\n",
              "        const buttonEl =\n",
              "          document.querySelector('#df-c10882fb-4eb6-4beb-b17a-d382accd239b button.colab-df-convert');\n",
              "        buttonEl.style.display =\n",
              "          google.colab.kernel.accessAllowed ? 'block' : 'none';\n",
              "\n",
              "        async function convertToInteractive(key) {\n",
              "          const element = document.querySelector('#df-c10882fb-4eb6-4beb-b17a-d382accd239b');\n",
              "          const dataTable =\n",
              "            await google.colab.kernel.invokeFunction('convertToInteractive',\n",
              "                                                     [key], {});\n",
              "          if (!dataTable) return;\n",
              "\n",
              "          const docLinkHtml = 'Like what you see? Visit the ' +\n",
              "            '<a target=\"_blank\" href=https://colab.research.google.com/notebooks/data_table.ipynb>data table notebook</a>'\n",
              "            + ' to learn more about interactive tables.';\n",
              "          element.innerHTML = '';\n",
              "          dataTable['output_type'] = 'display_data';\n",
              "          await google.colab.output.renderOutput(dataTable, element);\n",
              "          const docLink = document.createElement('div');\n",
              "          docLink.innerHTML = docLinkHtml;\n",
              "          element.appendChild(docLink);\n",
              "        }\n",
              "      </script>\n",
              "    </div>\n",
              "  </div>\n",
              "  "
            ]
          },
          "metadata": {},
          "execution_count": 55
        }
      ]
    },
    {
      "cell_type": "code",
      "source": [
        "movies.shape"
      ],
      "metadata": {
        "colab": {
          "base_uri": "https://localhost:8080/"
        },
        "id": "6rAqA4wpXQJI",
        "outputId": "d1e81117-9fe1-4679-9797-e4124b02b28e"
      },
      "execution_count": null,
      "outputs": [
        {
          "output_type": "execute_result",
          "data": {
            "text/plain": [
              "(3883, 2)"
            ]
          },
          "metadata": {},
          "execution_count": 56
        }
      ]
    },
    {
      "cell_type": "code",
      "source": [
        "movies.columns"
      ],
      "metadata": {
        "colab": {
          "base_uri": "https://localhost:8080/"
        },
        "id": "7c3k_1-uYgOo",
        "outputId": "c1f6f0ce-2a90-4e77-cb5d-a1416830030c"
      },
      "execution_count": null,
      "outputs": [
        {
          "output_type": "execute_result",
          "data": {
            "text/plain": [
              "Index(['title', 'genre'], dtype='object')"
            ]
          },
          "metadata": {},
          "execution_count": 57
        }
      ]
    },
    {
      "cell_type": "code",
      "source": [
        "movies[\"title\"]"
      ],
      "metadata": {
        "colab": {
          "base_uri": "https://localhost:8080/"
        },
        "id": "T9U3zyQGYmk4",
        "outputId": "dec9259b-d37c-470c-b8be-f9c9aed62828"
      },
      "execution_count": null,
      "outputs": [
        {
          "output_type": "execute_result",
          "data": {
            "text/plain": [
              "1                         Toy Story (1995)\n",
              "2                           Jumanji (1995)\n",
              "3                  Grumpier Old Men (1995)\n",
              "4                 Waiting to Exhale (1995)\n",
              "5       Father of the Bride Part II (1995)\n",
              "                       ...                \n",
              "3948               Meet the Parents (2000)\n",
              "3949            Requiem for a Dream (2000)\n",
              "3950                      Tigerland (2000)\n",
              "3951               Two Family House (2000)\n",
              "3952                 Contender, The (2000)\n",
              "Name: title, Length: 3883, dtype: object"
            ]
          },
          "metadata": {},
          "execution_count": 58
        }
      ]
    },
    {
      "cell_type": "code",
      "source": [
        "movies[\"title\"]"
      ],
      "metadata": {
        "colab": {
          "base_uri": "https://localhost:8080/"
        },
        "id": "JjH-ft9IYpyZ",
        "outputId": "a788d34a-40ed-4691-d412-778b8ff51ab7"
      },
      "execution_count": null,
      "outputs": [
        {
          "output_type": "execute_result",
          "data": {
            "text/plain": [
              "1                         Toy Story (1995)\n",
              "2                           Jumanji (1995)\n",
              "3                  Grumpier Old Men (1995)\n",
              "4                 Waiting to Exhale (1995)\n",
              "5       Father of the Bride Part II (1995)\n",
              "                       ...                \n",
              "3948               Meet the Parents (2000)\n",
              "3949            Requiem for a Dream (2000)\n",
              "3950                      Tigerland (2000)\n",
              "3951               Two Family House (2000)\n",
              "3952                 Contender, The (2000)\n",
              "Name: title, Length: 3883, dtype: object"
            ]
          },
          "metadata": {},
          "execution_count": 59
        }
      ]
    },
    {
      "cell_type": "code",
      "source": [
        "\"Toy Story (1995)\".split()[-1].replace(\"(\",\"\").strip(\")\")"
      ],
      "metadata": {
        "colab": {
          "base_uri": "https://localhost:8080/",
          "height": 35
        },
        "id": "dZ08m5i3ZK7D",
        "outputId": "4ecc8155-1571-4de5-feb7-d3461c8c58f3"
      },
      "execution_count": null,
      "outputs": [
        {
          "output_type": "execute_result",
          "data": {
            "text/plain": [
              "'1995'"
            ],
            "application/vnd.google.colaboratory.intrinsic+json": {
              "type": "string"
            }
          },
          "metadata": {},
          "execution_count": 60
        }
      ]
    },
    {
      "cell_type": "code",
      "source": [
        "\"Toy Story (1995)\".split(\"(\")[-1].strip(\")\")"
      ],
      "metadata": {
        "colab": {
          "base_uri": "https://localhost:8080/",
          "height": 35
        },
        "id": "fOk4CMIca5T1",
        "outputId": "376963ab-6571-492f-fa9e-c9573272687d"
      },
      "execution_count": null,
      "outputs": [
        {
          "output_type": "execute_result",
          "data": {
            "text/plain": [
              "'1995'"
            ],
            "application/vnd.google.colaboratory.intrinsic+json": {
              "type": "string"
            }
          },
          "metadata": {},
          "execution_count": 61
        }
      ]
    },
    {
      "cell_type": "code",
      "source": [
        "def get_year(mtitle):\n",
        "  \"\"\"\n",
        "  \"\"\"\n",
        "  return int(mtitle.split(\"(\")[-1].strip(\")\"))\n",
        "\n"
      ],
      "metadata": {
        "id": "E7pPoG8cZsQd"
      },
      "execution_count": null,
      "outputs": []
    },
    {
      "cell_type": "code",
      "source": [
        "movies[\"year\"] = movies[\"title\"].map(get_year)"
      ],
      "metadata": {
        "id": "ZvBo_bdEahQY"
      },
      "execution_count": null,
      "outputs": []
    },
    {
      "cell_type": "code",
      "source": [
        "movies"
      ],
      "metadata": {
        "colab": {
          "base_uri": "https://localhost:8080/",
          "height": 423
        },
        "id": "oGz4-4ymajsg",
        "outputId": "40140b87-7f5c-4a56-9abd-f66073ca1bab"
      },
      "execution_count": null,
      "outputs": [
        {
          "output_type": "execute_result",
          "data": {
            "text/plain": [
              "                                   title                         genre  year\n",
              "1                       Toy Story (1995)   Animation|Children's|Comedy  1995\n",
              "2                         Jumanji (1995)  Adventure|Children's|Fantasy  1995\n",
              "3                Grumpier Old Men (1995)                Comedy|Romance  1995\n",
              "4               Waiting to Exhale (1995)                  Comedy|Drama  1995\n",
              "5     Father of the Bride Part II (1995)                        Comedy  1995\n",
              "...                                  ...                           ...   ...\n",
              "3948             Meet the Parents (2000)                        Comedy  2000\n",
              "3949          Requiem for a Dream (2000)                         Drama  2000\n",
              "3950                    Tigerland (2000)                         Drama  2000\n",
              "3951             Two Family House (2000)                         Drama  2000\n",
              "3952               Contender, The (2000)                Drama|Thriller  2000\n",
              "\n",
              "[3883 rows x 3 columns]"
            ],
            "text/html": [
              "\n",
              "  <div id=\"df-0e653f1e-5ccd-404c-b6d5-f03d1755eb4f\">\n",
              "    <div class=\"colab-df-container\">\n",
              "      <div>\n",
              "<style scoped>\n",
              "    .dataframe tbody tr th:only-of-type {\n",
              "        vertical-align: middle;\n",
              "    }\n",
              "\n",
              "    .dataframe tbody tr th {\n",
              "        vertical-align: top;\n",
              "    }\n",
              "\n",
              "    .dataframe thead th {\n",
              "        text-align: right;\n",
              "    }\n",
              "</style>\n",
              "<table border=\"1\" class=\"dataframe\">\n",
              "  <thead>\n",
              "    <tr style=\"text-align: right;\">\n",
              "      <th></th>\n",
              "      <th>title</th>\n",
              "      <th>genre</th>\n",
              "      <th>year</th>\n",
              "    </tr>\n",
              "  </thead>\n",
              "  <tbody>\n",
              "    <tr>\n",
              "      <th>1</th>\n",
              "      <td>Toy Story (1995)</td>\n",
              "      <td>Animation|Children's|Comedy</td>\n",
              "      <td>1995</td>\n",
              "    </tr>\n",
              "    <tr>\n",
              "      <th>2</th>\n",
              "      <td>Jumanji (1995)</td>\n",
              "      <td>Adventure|Children's|Fantasy</td>\n",
              "      <td>1995</td>\n",
              "    </tr>\n",
              "    <tr>\n",
              "      <th>3</th>\n",
              "      <td>Grumpier Old Men (1995)</td>\n",
              "      <td>Comedy|Romance</td>\n",
              "      <td>1995</td>\n",
              "    </tr>\n",
              "    <tr>\n",
              "      <th>4</th>\n",
              "      <td>Waiting to Exhale (1995)</td>\n",
              "      <td>Comedy|Drama</td>\n",
              "      <td>1995</td>\n",
              "    </tr>\n",
              "    <tr>\n",
              "      <th>5</th>\n",
              "      <td>Father of the Bride Part II (1995)</td>\n",
              "      <td>Comedy</td>\n",
              "      <td>1995</td>\n",
              "    </tr>\n",
              "    <tr>\n",
              "      <th>...</th>\n",
              "      <td>...</td>\n",
              "      <td>...</td>\n",
              "      <td>...</td>\n",
              "    </tr>\n",
              "    <tr>\n",
              "      <th>3948</th>\n",
              "      <td>Meet the Parents (2000)</td>\n",
              "      <td>Comedy</td>\n",
              "      <td>2000</td>\n",
              "    </tr>\n",
              "    <tr>\n",
              "      <th>3949</th>\n",
              "      <td>Requiem for a Dream (2000)</td>\n",
              "      <td>Drama</td>\n",
              "      <td>2000</td>\n",
              "    </tr>\n",
              "    <tr>\n",
              "      <th>3950</th>\n",
              "      <td>Tigerland (2000)</td>\n",
              "      <td>Drama</td>\n",
              "      <td>2000</td>\n",
              "    </tr>\n",
              "    <tr>\n",
              "      <th>3951</th>\n",
              "      <td>Two Family House (2000)</td>\n",
              "      <td>Drama</td>\n",
              "      <td>2000</td>\n",
              "    </tr>\n",
              "    <tr>\n",
              "      <th>3952</th>\n",
              "      <td>Contender, The (2000)</td>\n",
              "      <td>Drama|Thriller</td>\n",
              "      <td>2000</td>\n",
              "    </tr>\n",
              "  </tbody>\n",
              "</table>\n",
              "<p>3883 rows × 3 columns</p>\n",
              "</div>\n",
              "      <button class=\"colab-df-convert\" onclick=\"convertToInteractive('df-0e653f1e-5ccd-404c-b6d5-f03d1755eb4f')\"\n",
              "              title=\"Convert this dataframe to an interactive table.\"\n",
              "              style=\"display:none;\">\n",
              "        \n",
              "  <svg xmlns=\"http://www.w3.org/2000/svg\" height=\"24px\"viewBox=\"0 0 24 24\"\n",
              "       width=\"24px\">\n",
              "    <path d=\"M0 0h24v24H0V0z\" fill=\"none\"/>\n",
              "    <path d=\"M18.56 5.44l.94 2.06.94-2.06 2.06-.94-2.06-.94-.94-2.06-.94 2.06-2.06.94zm-11 1L8.5 8.5l.94-2.06 2.06-.94-2.06-.94L8.5 2.5l-.94 2.06-2.06.94zm10 10l.94 2.06.94-2.06 2.06-.94-2.06-.94-.94-2.06-.94 2.06-2.06.94z\"/><path d=\"M17.41 7.96l-1.37-1.37c-.4-.4-.92-.59-1.43-.59-.52 0-1.04.2-1.43.59L10.3 9.45l-7.72 7.72c-.78.78-.78 2.05 0 2.83L4 21.41c.39.39.9.59 1.41.59.51 0 1.02-.2 1.41-.59l7.78-7.78 2.81-2.81c.8-.78.8-2.07 0-2.86zM5.41 20L4 18.59l7.72-7.72 1.47 1.35L5.41 20z\"/>\n",
              "  </svg>\n",
              "      </button>\n",
              "      \n",
              "  <style>\n",
              "    .colab-df-container {\n",
              "      display:flex;\n",
              "      flex-wrap:wrap;\n",
              "      gap: 12px;\n",
              "    }\n",
              "\n",
              "    .colab-df-convert {\n",
              "      background-color: #E8F0FE;\n",
              "      border: none;\n",
              "      border-radius: 50%;\n",
              "      cursor: pointer;\n",
              "      display: none;\n",
              "      fill: #1967D2;\n",
              "      height: 32px;\n",
              "      padding: 0 0 0 0;\n",
              "      width: 32px;\n",
              "    }\n",
              "\n",
              "    .colab-df-convert:hover {\n",
              "      background-color: #E2EBFA;\n",
              "      box-shadow: 0px 1px 2px rgba(60, 64, 67, 0.3), 0px 1px 3px 1px rgba(60, 64, 67, 0.15);\n",
              "      fill: #174EA6;\n",
              "    }\n",
              "\n",
              "    [theme=dark] .colab-df-convert {\n",
              "      background-color: #3B4455;\n",
              "      fill: #D2E3FC;\n",
              "    }\n",
              "\n",
              "    [theme=dark] .colab-df-convert:hover {\n",
              "      background-color: #434B5C;\n",
              "      box-shadow: 0px 1px 3px 1px rgba(0, 0, 0, 0.15);\n",
              "      filter: drop-shadow(0px 1px 2px rgba(0, 0, 0, 0.3));\n",
              "      fill: #FFFFFF;\n",
              "    }\n",
              "  </style>\n",
              "\n",
              "      <script>\n",
              "        const buttonEl =\n",
              "          document.querySelector('#df-0e653f1e-5ccd-404c-b6d5-f03d1755eb4f button.colab-df-convert');\n",
              "        buttonEl.style.display =\n",
              "          google.colab.kernel.accessAllowed ? 'block' : 'none';\n",
              "\n",
              "        async function convertToInteractive(key) {\n",
              "          const element = document.querySelector('#df-0e653f1e-5ccd-404c-b6d5-f03d1755eb4f');\n",
              "          const dataTable =\n",
              "            await google.colab.kernel.invokeFunction('convertToInteractive',\n",
              "                                                     [key], {});\n",
              "          if (!dataTable) return;\n",
              "\n",
              "          const docLinkHtml = 'Like what you see? Visit the ' +\n",
              "            '<a target=\"_blank\" href=https://colab.research.google.com/notebooks/data_table.ipynb>data table notebook</a>'\n",
              "            + ' to learn more about interactive tables.';\n",
              "          element.innerHTML = '';\n",
              "          dataTable['output_type'] = 'display_data';\n",
              "          await google.colab.output.renderOutput(dataTable, element);\n",
              "          const docLink = document.createElement('div');\n",
              "          docLink.innerHTML = docLinkHtml;\n",
              "          element.appendChild(docLink);\n",
              "        }\n",
              "      </script>\n",
              "    </div>\n",
              "  </div>\n",
              "  "
            ]
          },
          "metadata": {},
          "execution_count": 64
        }
      ]
    },
    {
      "cell_type": "code",
      "source": [
        "movies.groupby(\"year\")"
      ],
      "metadata": {
        "colab": {
          "base_uri": "https://localhost:8080/"
        },
        "id": "-qbrjoLbNtTl",
        "outputId": "08ffd927-4e10-4356-8666-e8077fbc6895"
      },
      "execution_count": null,
      "outputs": [
        {
          "output_type": "execute_result",
          "data": {
            "text/plain": [
              "<pandas.core.groupby.generic.DataFrameGroupBy object at 0x7fbd2e2d4c40>"
            ]
          },
          "metadata": {},
          "execution_count": 66
        }
      ]
    },
    {
      "cell_type": "code",
      "source": [
        "movies.groupby(\"year\").count()"
      ],
      "metadata": {
        "colab": {
          "base_uri": "https://localhost:8080/",
          "height": 455
        },
        "id": "F_Puit1QbN84",
        "outputId": "22c2f43a-8fea-4741-d8cf-d3cee866f5c2"
      },
      "execution_count": null,
      "outputs": [
        {
          "output_type": "execute_result",
          "data": {
            "text/plain": [
              "      title  genre\n",
              "year              \n",
              "1919      3      3\n",
              "1920      2      2\n",
              "1921      1      1\n",
              "1922      2      2\n",
              "1923      3      3\n",
              "...     ...    ...\n",
              "1996    345    345\n",
              "1997    315    315\n",
              "1998    337    337\n",
              "1999    283    283\n",
              "2000    156    156\n",
              "\n",
              "[81 rows x 2 columns]"
            ],
            "text/html": [
              "\n",
              "  <div id=\"df-6cbff7d0-0395-4e61-840d-be366f516795\">\n",
              "    <div class=\"colab-df-container\">\n",
              "      <div>\n",
              "<style scoped>\n",
              "    .dataframe tbody tr th:only-of-type {\n",
              "        vertical-align: middle;\n",
              "    }\n",
              "\n",
              "    .dataframe tbody tr th {\n",
              "        vertical-align: top;\n",
              "    }\n",
              "\n",
              "    .dataframe thead th {\n",
              "        text-align: right;\n",
              "    }\n",
              "</style>\n",
              "<table border=\"1\" class=\"dataframe\">\n",
              "  <thead>\n",
              "    <tr style=\"text-align: right;\">\n",
              "      <th></th>\n",
              "      <th>title</th>\n",
              "      <th>genre</th>\n",
              "    </tr>\n",
              "    <tr>\n",
              "      <th>year</th>\n",
              "      <th></th>\n",
              "      <th></th>\n",
              "    </tr>\n",
              "  </thead>\n",
              "  <tbody>\n",
              "    <tr>\n",
              "      <th>1919</th>\n",
              "      <td>3</td>\n",
              "      <td>3</td>\n",
              "    </tr>\n",
              "    <tr>\n",
              "      <th>1920</th>\n",
              "      <td>2</td>\n",
              "      <td>2</td>\n",
              "    </tr>\n",
              "    <tr>\n",
              "      <th>1921</th>\n",
              "      <td>1</td>\n",
              "      <td>1</td>\n",
              "    </tr>\n",
              "    <tr>\n",
              "      <th>1922</th>\n",
              "      <td>2</td>\n",
              "      <td>2</td>\n",
              "    </tr>\n",
              "    <tr>\n",
              "      <th>1923</th>\n",
              "      <td>3</td>\n",
              "      <td>3</td>\n",
              "    </tr>\n",
              "    <tr>\n",
              "      <th>...</th>\n",
              "      <td>...</td>\n",
              "      <td>...</td>\n",
              "    </tr>\n",
              "    <tr>\n",
              "      <th>1996</th>\n",
              "      <td>345</td>\n",
              "      <td>345</td>\n",
              "    </tr>\n",
              "    <tr>\n",
              "      <th>1997</th>\n",
              "      <td>315</td>\n",
              "      <td>315</td>\n",
              "    </tr>\n",
              "    <tr>\n",
              "      <th>1998</th>\n",
              "      <td>337</td>\n",
              "      <td>337</td>\n",
              "    </tr>\n",
              "    <tr>\n",
              "      <th>1999</th>\n",
              "      <td>283</td>\n",
              "      <td>283</td>\n",
              "    </tr>\n",
              "    <tr>\n",
              "      <th>2000</th>\n",
              "      <td>156</td>\n",
              "      <td>156</td>\n",
              "    </tr>\n",
              "  </tbody>\n",
              "</table>\n",
              "<p>81 rows × 2 columns</p>\n",
              "</div>\n",
              "      <button class=\"colab-df-convert\" onclick=\"convertToInteractive('df-6cbff7d0-0395-4e61-840d-be366f516795')\"\n",
              "              title=\"Convert this dataframe to an interactive table.\"\n",
              "              style=\"display:none;\">\n",
              "        \n",
              "  <svg xmlns=\"http://www.w3.org/2000/svg\" height=\"24px\"viewBox=\"0 0 24 24\"\n",
              "       width=\"24px\">\n",
              "    <path d=\"M0 0h24v24H0V0z\" fill=\"none\"/>\n",
              "    <path d=\"M18.56 5.44l.94 2.06.94-2.06 2.06-.94-2.06-.94-.94-2.06-.94 2.06-2.06.94zm-11 1L8.5 8.5l.94-2.06 2.06-.94-2.06-.94L8.5 2.5l-.94 2.06-2.06.94zm10 10l.94 2.06.94-2.06 2.06-.94-2.06-.94-.94-2.06-.94 2.06-2.06.94z\"/><path d=\"M17.41 7.96l-1.37-1.37c-.4-.4-.92-.59-1.43-.59-.52 0-1.04.2-1.43.59L10.3 9.45l-7.72 7.72c-.78.78-.78 2.05 0 2.83L4 21.41c.39.39.9.59 1.41.59.51 0 1.02-.2 1.41-.59l7.78-7.78 2.81-2.81c.8-.78.8-2.07 0-2.86zM5.41 20L4 18.59l7.72-7.72 1.47 1.35L5.41 20z\"/>\n",
              "  </svg>\n",
              "      </button>\n",
              "      \n",
              "  <style>\n",
              "    .colab-df-container {\n",
              "      display:flex;\n",
              "      flex-wrap:wrap;\n",
              "      gap: 12px;\n",
              "    }\n",
              "\n",
              "    .colab-df-convert {\n",
              "      background-color: #E8F0FE;\n",
              "      border: none;\n",
              "      border-radius: 50%;\n",
              "      cursor: pointer;\n",
              "      display: none;\n",
              "      fill: #1967D2;\n",
              "      height: 32px;\n",
              "      padding: 0 0 0 0;\n",
              "      width: 32px;\n",
              "    }\n",
              "\n",
              "    .colab-df-convert:hover {\n",
              "      background-color: #E2EBFA;\n",
              "      box-shadow: 0px 1px 2px rgba(60, 64, 67, 0.3), 0px 1px 3px 1px rgba(60, 64, 67, 0.15);\n",
              "      fill: #174EA6;\n",
              "    }\n",
              "\n",
              "    [theme=dark] .colab-df-convert {\n",
              "      background-color: #3B4455;\n",
              "      fill: #D2E3FC;\n",
              "    }\n",
              "\n",
              "    [theme=dark] .colab-df-convert:hover {\n",
              "      background-color: #434B5C;\n",
              "      box-shadow: 0px 1px 3px 1px rgba(0, 0, 0, 0.15);\n",
              "      filter: drop-shadow(0px 1px 2px rgba(0, 0, 0, 0.3));\n",
              "      fill: #FFFFFF;\n",
              "    }\n",
              "  </style>\n",
              "\n",
              "      <script>\n",
              "        const buttonEl =\n",
              "          document.querySelector('#df-6cbff7d0-0395-4e61-840d-be366f516795 button.colab-df-convert');\n",
              "        buttonEl.style.display =\n",
              "          google.colab.kernel.accessAllowed ? 'block' : 'none';\n",
              "\n",
              "        async function convertToInteractive(key) {\n",
              "          const element = document.querySelector('#df-6cbff7d0-0395-4e61-840d-be366f516795');\n",
              "          const dataTable =\n",
              "            await google.colab.kernel.invokeFunction('convertToInteractive',\n",
              "                                                     [key], {});\n",
              "          if (!dataTable) return;\n",
              "\n",
              "          const docLinkHtml = 'Like what you see? Visit the ' +\n",
              "            '<a target=\"_blank\" href=https://colab.research.google.com/notebooks/data_table.ipynb>data table notebook</a>'\n",
              "            + ' to learn more about interactive tables.';\n",
              "          element.innerHTML = '';\n",
              "          dataTable['output_type'] = 'display_data';\n",
              "          await google.colab.output.renderOutput(dataTable, element);\n",
              "          const docLink = document.createElement('div');\n",
              "          docLink.innerHTML = docLinkHtml;\n",
              "          element.appendChild(docLink);\n",
              "        }\n",
              "      </script>\n",
              "    </div>\n",
              "  </div>\n",
              "  "
            ]
          },
          "metadata": {},
          "execution_count": 67
        }
      ]
    },
    {
      "cell_type": "code",
      "source": [
        "movies.groupby(\"year\").count().plot(y=\"title\");"
      ],
      "metadata": {
        "id": "YnQ2W8ZObVFu",
        "colab": {
          "base_uri": "https://localhost:8080/",
          "height": 279
        },
        "outputId": "1ee16e26-55d4-44dc-aff3-4e8c71e0879a"
      },
      "execution_count": null,
      "outputs": [
        {
          "output_type": "display_data",
          "data": {
            "text/plain": [
              "<Figure size 432x288 with 1 Axes>"
            ],
            "image/png": "[encoded data removed]"
          },
          "metadata": {
            "needs_background": "light"
          }
        }
      ]
    },
    {
      "cell_type": "code",
      "source": [
        "\n",
        "\n",
        "movies['genres'] = movies.genre.map(lambda x: x.split('|'))"
      ],
      "metadata": {
        "id": "zhI1T9PYOTt2"
      },
      "execution_count": null,
      "outputs": []
    },
    {
      "cell_type": "code",
      "source": [
        "movies[movies['genre'] == \"Fantasy\"]"
      ],
      "metadata": {
        "colab": {
          "base_uri": "https://localhost:8080/",
          "height": 81
        },
        "id": "k5fCiKlyOzQS",
        "outputId": "b25ee420-1f1f-49ca-cb61-0a8f67130f12"
      },
      "execution_count": null,
      "outputs": [
        {
          "output_type": "execute_result",
          "data": {
            "text/plain": [
              "                              title    genre  year     genres\n",
              "792  Hungarian Fairy Tale, A (1987)  Fantasy  1987  [Fantasy]"
            ],
            "text/html": [
              "\n",
              "  <div id=\"df-d6b166ff-faff-44a0-9fc8-728605ee0313\">\n",
              "    <div class=\"colab-df-container\">\n",
              "      <div>\n",
              "<style scoped>\n",
              "    .dataframe tbody tr th:only-of-type {\n",
              "        vertical-align: middle;\n",
              "    }\n",
              "\n",
              "    .dataframe tbody tr th {\n",
              "        vertical-align: top;\n",
              "    }\n",
              "\n",
              "    .dataframe thead th {\n",
              "        text-align: right;\n",
              "    }\n",
              "</style>\n",
              "<table border=\"1\" class=\"dataframe\">\n",
              "  <thead>\n",
              "    <tr style=\"text-align: right;\">\n",
              "      <th></th>\n",
              "      <th>title</th>\n",
              "      <th>genre</th>\n",
              "      <th>year</th>\n",
              "      <th>genres</th>\n",
              "    </tr>\n",
              "  </thead>\n",
              "  <tbody>\n",
              "    <tr>\n",
              "      <th>792</th>\n",
              "      <td>Hungarian Fairy Tale, A (1987)</td>\n",
              "      <td>Fantasy</td>\n",
              "      <td>1987</td>\n",
              "      <td>[Fantasy]</td>\n",
              "    </tr>\n",
              "  </tbody>\n",
              "</table>\n",
              "</div>\n",
              "      <button class=\"colab-df-convert\" onclick=\"convertToInteractive('df-d6b166ff-faff-44a0-9fc8-728605ee0313')\"\n",
              "              title=\"Convert this dataframe to an interactive table.\"\n",
              "              style=\"display:none;\">\n",
              "        \n",
              "  <svg xmlns=\"http://www.w3.org/2000/svg\" height=\"24px\"viewBox=\"0 0 24 24\"\n",
              "       width=\"24px\">\n",
              "    <path d=\"M0 0h24v24H0V0z\" fill=\"none\"/>\n",
              "    <path d=\"M18.56 5.44l.94 2.06.94-2.06 2.06-.94-2.06-.94-.94-2.06-.94 2.06-2.06.94zm-11 1L8.5 8.5l.94-2.06 2.06-.94-2.06-.94L8.5 2.5l-.94 2.06-2.06.94zm10 10l.94 2.06.94-2.06 2.06-.94-2.06-.94-.94-2.06-.94 2.06-2.06.94z\"/><path d=\"M17.41 7.96l-1.37-1.37c-.4-.4-.92-.59-1.43-.59-.52 0-1.04.2-1.43.59L10.3 9.45l-7.72 7.72c-.78.78-.78 2.05 0 2.83L4 21.41c.39.39.9.59 1.41.59.51 0 1.02-.2 1.41-.59l7.78-7.78 2.81-2.81c.8-.78.8-2.07 0-2.86zM5.41 20L4 18.59l7.72-7.72 1.47 1.35L5.41 20z\"/>\n",
              "  </svg>\n",
              "      </button>\n",
              "      \n",
              "  <style>\n",
              "    .colab-df-container {\n",
              "      display:flex;\n",
              "      flex-wrap:wrap;\n",
              "      gap: 12px;\n",
              "    }\n",
              "\n",
              "    .colab-df-convert {\n",
              "      background-color: #E8F0FE;\n",
              "      border: none;\n",
              "      border-radius: 50%;\n",
              "      cursor: pointer;\n",
              "      display: none;\n",
              "      fill: #1967D2;\n",
              "      height: 32px;\n",
              "      padding: 0 0 0 0;\n",
              "      width: 32px;\n",
              "    }\n",
              "\n",
              "    .colab-df-convert:hover {\n",
              "      background-color: #E2EBFA;\n",
              "      box-shadow: 0px 1px 2px rgba(60, 64, 67, 0.3), 0px 1px 3px 1px rgba(60, 64, 67, 0.15);\n",
              "      fill: #174EA6;\n",
              "    }\n",
              "\n",
              "    [theme=dark] .colab-df-convert {\n",
              "      background-color: #3B4455;\n",
              "      fill: #D2E3FC;\n",
              "    }\n",
              "\n",
              "    [theme=dark] .colab-df-convert:hover {\n",
              "      background-color: #434B5C;\n",
              "      box-shadow: 0px 1px 3px 1px rgba(0, 0, 0, 0.15);\n",
              "      filter: drop-shadow(0px 1px 2px rgba(0, 0, 0, 0.3));\n",
              "      fill: #FFFFFF;\n",
              "    }\n",
              "  </style>\n",
              "\n",
              "      <script>\n",
              "        const buttonEl =\n",
              "          document.querySelector('#df-d6b166ff-faff-44a0-9fc8-728605ee0313 button.colab-df-convert');\n",
              "        buttonEl.style.display =\n",
              "          google.colab.kernel.accessAllowed ? 'block' : 'none';\n",
              "\n",
              "        async function convertToInteractive(key) {\n",
              "          const element = document.querySelector('#df-d6b166ff-faff-44a0-9fc8-728605ee0313');\n",
              "          const dataTable =\n",
              "            await google.colab.kernel.invokeFunction('convertToInteractive',\n",
              "                                                     [key], {});\n",
              "          if (!dataTable) return;\n",
              "\n",
              "          const docLinkHtml = 'Like what you see? Visit the ' +\n",
              "            '<a target=\"_blank\" href=https://colab.research.google.com/notebooks/data_table.ipynb>data table notebook</a>'\n",
              "            + ' to learn more about interactive tables.';\n",
              "          element.innerHTML = '';\n",
              "          dataTable['output_type'] = 'display_data';\n",
              "          await google.colab.output.renderOutput(dataTable, element);\n",
              "          const docLink = document.createElement('div');\n",
              "          docLink.innerHTML = docLinkHtml;\n",
              "          element.appendChild(docLink);\n",
              "        }\n",
              "      </script>\n",
              "    </div>\n",
              "  </div>\n",
              "  "
            ]
          },
          "metadata": {},
          "execution_count": 83
        }
      ]
    },
    {
      "cell_type": "code",
      "source": [
        "#regular for loop solution\n",
        "glist = []\n",
        "for m in movies['genre']:\n",
        "  print(\"Fantasy\" in m)\n",
        "  glist.append(\"Fantasy\" in m)\n",
        "glist"
      ],
      "metadata": {
        "id": "FvuhO3xkPRPB"
      },
      "execution_count": null,
      "outputs": []
    },
    {
      "cell_type": "code",
      "source": [
        "# list comprehension\n",
        "[\"Fantasy\" in m for m in movies['genre']]"
      ],
      "metadata": {
        "id": "3umhNIltQGlN"
      },
      "execution_count": null,
      "outputs": []
    },
    {
      "cell_type": "code",
      "source": [
        "movies[[\"Fantasy\" in m for m in movies['genre']]]"
      ],
      "metadata": {
        "colab": {
          "base_uri": "https://localhost:8080/",
          "height": 589
        },
        "id": "STUaOkBgQr0F",
        "outputId": "ca2f6473-bd25-4f00-c954-8f1d9cb4caf7"
      },
      "execution_count": null,
      "outputs": [
        {
          "output_type": "execute_result",
          "data": {
            "text/plain": [
              "                                                  title  \\\n",
              "2                                        Jumanji (1995)   \n",
              "56                       Kids of the Round Table (1995)   \n",
              "60                   Indian in the Cupboard, The (1995)   \n",
              "126                   NeverEnding Story III, The (1994)   \n",
              "247                           Heavenly Creatures (1994)   \n",
              "...                                                 ...   \n",
              "3479                                   Ladyhawke (1985)   \n",
              "3489                                        Hook (1991)   \n",
              "3877                                   Supergirl (1984)   \n",
              "3889                         Highlander: Endgame (2000)   \n",
              "3920  Faraway, So Close (In Weiter Ferne, So Nah!) (...   \n",
              "\n",
              "                               genre  year  \\\n",
              "2       Adventure|Children's|Fantasy  1995   \n",
              "56      Adventure|Children's|Fantasy  1995   \n",
              "60      Adventure|Children's|Fantasy  1995   \n",
              "126     Adventure|Children's|Fantasy  1994   \n",
              "247   Drama|Fantasy|Romance|Thriller  1994   \n",
              "...                              ...   ...   \n",
              "3479       Adventure|Fantasy|Romance  1985   \n",
              "3489               Adventure|Fantasy  1991   \n",
              "3877        Action|Adventure|Fantasy  1984   \n",
              "3889        Action|Adventure|Fantasy  2000   \n",
              "3920                   Drama|Fantasy  1993   \n",
              "\n",
              "                                   genres  \n",
              "2        [Adventure, Children's, Fantasy]  \n",
              "56       [Adventure, Children's, Fantasy]  \n",
              "60       [Adventure, Children's, Fantasy]  \n",
              "126      [Adventure, Children's, Fantasy]  \n",
              "247   [Drama, Fantasy, Romance, Thriller]  \n",
              "...                                   ...  \n",
              "3479        [Adventure, Fantasy, Romance]  \n",
              "3489                 [Adventure, Fantasy]  \n",
              "3877         [Action, Adventure, Fantasy]  \n",
              "3889         [Action, Adventure, Fantasy]  \n",
              "3920                     [Drama, Fantasy]  \n",
              "\n",
              "[68 rows x 4 columns]"
            ],
            "text/html": [
              "\n",
              "  <div id=\"df-f48880eb-1edc-4c83-a0a8-678d186d5f5c\">\n",
              "    <div class=\"colab-df-container\">\n",
              "      <div>\n",
              "<style scoped>\n",
              "    .dataframe tbody tr th:only-of-type {\n",
              "        vertical-align: middle;\n",
              "    }\n",
              "\n",
              "    .dataframe tbody tr th {\n",
              "        vertical-align: top;\n",
              "    }\n",
              "\n",
              "    .dataframe thead th {\n",
              "        text-align: right;\n",
              "    }\n",
              "</style>\n",
              "<table border=\"1\" class=\"dataframe\">\n",
              "  <thead>\n",
              "    <tr style=\"text-align: right;\">\n",
              "      <th></th>\n",
              "      <th>title</th>\n",
              "      <th>genre</th>\n",
              "      <th>year</th>\n",
              "      <th>genres</th>\n",
              "    </tr>\n",
              "  </thead>\n",
              "  <tbody>\n",
              "    <tr>\n",
              "      <th>2</th>\n",
              "      <td>Jumanji (1995)</td>\n",
              "      <td>Adventure|Children's|Fantasy</td>\n",
              "      <td>1995</td>\n",
              "      <td>[Adventure, Children's, Fantasy]</td>\n",
              "    </tr>\n",
              "    <tr>\n",
              "      <th>56</th>\n",
              "      <td>Kids of the Round Table (1995)</td>\n",
              "      <td>Adventure|Children's|Fantasy</td>\n",
              "      <td>1995</td>\n",
              "      <td>[Adventure, Children's, Fantasy]</td>\n",
              "    </tr>\n",
              "    <tr>\n",
              "      <th>60</th>\n",
              "      <td>Indian in the Cupboard, The (1995)</td>\n",
              "      <td>Adventure|Children's|Fantasy</td>\n",
              "      <td>1995</td>\n",
              "      <td>[Adventure, Children's, Fantasy]</td>\n",
              "    </tr>\n",
              "    <tr>\n",
              "      <th>126</th>\n",
              "      <td>NeverEnding Story III, The (1994)</td>\n",
              "      <td>Adventure|Children's|Fantasy</td>\n",
              "      <td>1994</td>\n",
              "      <td>[Adventure, Children's, Fantasy]</td>\n",
              "    </tr>\n",
              "    <tr>\n",
              "      <th>247</th>\n",
              "      <td>Heavenly Creatures (1994)</td>\n",
              "      <td>Drama|Fantasy|Romance|Thriller</td>\n",
              "      <td>1994</td>\n",
              "      <td>[Drama, Fantasy, Romance, Thriller]</td>\n",
              "    </tr>\n",
              "    <tr>\n",
              "      <th>...</th>\n",
              "      <td>...</td>\n",
              "      <td>...</td>\n",
              "      <td>...</td>\n",
              "      <td>...</td>\n",
              "    </tr>\n",
              "    <tr>\n",
              "      <th>3479</th>\n",
              "      <td>Ladyhawke (1985)</td>\n",
              "      <td>Adventure|Fantasy|Romance</td>\n",
              "      <td>1985</td>\n",
              "      <td>[Adventure, Fantasy, Romance]</td>\n",
              "    </tr>\n",
              "    <tr>\n",
              "      <th>3489</th>\n",
              "      <td>Hook (1991)</td>\n",
              "      <td>Adventure|Fantasy</td>\n",
              "      <td>1991</td>\n",
              "      <td>[Adventure, Fantasy]</td>\n",
              "    </tr>\n",
              "    <tr>\n",
              "      <th>3877</th>\n",
              "      <td>Supergirl (1984)</td>\n",
              "      <td>Action|Adventure|Fantasy</td>\n",
              "      <td>1984</td>\n",
              "      <td>[Action, Adventure, Fantasy]</td>\n",
              "    </tr>\n",
              "    <tr>\n",
              "      <th>3889</th>\n",
              "      <td>Highlander: Endgame (2000)</td>\n",
              "      <td>Action|Adventure|Fantasy</td>\n",
              "      <td>2000</td>\n",
              "      <td>[Action, Adventure, Fantasy]</td>\n",
              "    </tr>\n",
              "    <tr>\n",
              "      <th>3920</th>\n",
              "      <td>Faraway, So Close (In Weiter Ferne, So Nah!) (...</td>\n",
              "      <td>Drama|Fantasy</td>\n",
              "      <td>1993</td>\n",
              "      <td>[Drama, Fantasy]</td>\n",
              "    </tr>\n",
              "  </tbody>\n",
              "</table>\n",
              "<p>68 rows × 4 columns</p>\n",
              "</div>\n",
              "      <button class=\"colab-df-convert\" onclick=\"convertToInteractive('df-f48880eb-1edc-4c83-a0a8-678d186d5f5c')\"\n",
              "              title=\"Convert this dataframe to an interactive table.\"\n",
              "              style=\"display:none;\">\n",
              "        \n",
              "  <svg xmlns=\"http://www.w3.org/2000/svg\" height=\"24px\"viewBox=\"0 0 24 24\"\n",
              "       width=\"24px\">\n",
              "    <path d=\"M0 0h24v24H0V0z\" fill=\"none\"/>\n",
              "    <path d=\"M18.56 5.44l.94 2.06.94-2.06 2.06-.94-2.06-.94-.94-2.06-.94 2.06-2.06.94zm-11 1L8.5 8.5l.94-2.06 2.06-.94-2.06-.94L8.5 2.5l-.94 2.06-2.06.94zm10 10l.94 2.06.94-2.06 2.06-.94-2.06-.94-.94-2.06-.94 2.06-2.06.94z\"/><path d=\"M17.41 7.96l-1.37-1.37c-.4-.4-.92-.59-1.43-.59-.52 0-1.04.2-1.43.59L10.3 9.45l-7.72 7.72c-.78.78-.78 2.05 0 2.83L4 21.41c.39.39.9.59 1.41.59.51 0 1.02-.2 1.41-.59l7.78-7.78 2.81-2.81c.8-.78.8-2.07 0-2.86zM5.41 20L4 18.59l7.72-7.72 1.47 1.35L5.41 20z\"/>\n",
              "  </svg>\n",
              "      </button>\n",
              "      \n",
              "  <style>\n",
              "    .colab-df-container {\n",
              "      display:flex;\n",
              "      flex-wrap:wrap;\n",
              "      gap: 12px;\n",
              "    }\n",
              "\n",
              "    .colab-df-convert {\n",
              "      background-color: #E8F0FE;\n",
              "      border: none;\n",
              "      border-radius: 50%;\n",
              "      cursor: pointer;\n",
              "      display: none;\n",
              "      fill: #1967D2;\n",
              "      height: 32px;\n",
              "      padding: 0 0 0 0;\n",
              "      width: 32px;\n",
              "    }\n",
              "\n",
              "    .colab-df-convert:hover {\n",
              "      background-color: #E2EBFA;\n",
              "      box-shadow: 0px 1px 2px rgba(60, 64, 67, 0.3), 0px 1px 3px 1px rgba(60, 64, 67, 0.15);\n",
              "      fill: #174EA6;\n",
              "    }\n",
              "\n",
              "    [theme=dark] .colab-df-convert {\n",
              "      background-color: #3B4455;\n",
              "      fill: #D2E3FC;\n",
              "    }\n",
              "\n",
              "    [theme=dark] .colab-df-convert:hover {\n",
              "      background-color: #434B5C;\n",
              "      box-shadow: 0px 1px 3px 1px rgba(0, 0, 0, 0.15);\n",
              "      filter: drop-shadow(0px 1px 2px rgba(0, 0, 0, 0.3));\n",
              "      fill: #FFFFFF;\n",
              "    }\n",
              "  </style>\n",
              "\n",
              "      <script>\n",
              "        const buttonEl =\n",
              "          document.querySelector('#df-f48880eb-1edc-4c83-a0a8-678d186d5f5c button.colab-df-convert');\n",
              "        buttonEl.style.display =\n",
              "          google.colab.kernel.accessAllowed ? 'block' : 'none';\n",
              "\n",
              "        async function convertToInteractive(key) {\n",
              "          const element = document.querySelector('#df-f48880eb-1edc-4c83-a0a8-678d186d5f5c');\n",
              "          const dataTable =\n",
              "            await google.colab.kernel.invokeFunction('convertToInteractive',\n",
              "                                                     [key], {});\n",
              "          if (!dataTable) return;\n",
              "\n",
              "          const docLinkHtml = 'Like what you see? Visit the ' +\n",
              "            '<a target=\"_blank\" href=https://colab.research.google.com/notebooks/data_table.ipynb>data table notebook</a>'\n",
              "            + ' to learn more about interactive tables.';\n",
              "          element.innerHTML = '';\n",
              "          dataTable['output_type'] = 'display_data';\n",
              "          await google.colab.output.renderOutput(dataTable, element);\n",
              "          const docLink = document.createElement('div');\n",
              "          docLink.innerHTML = docLinkHtml;\n",
              "          element.appendChild(docLink);\n",
              "        }\n",
              "      </script>\n",
              "    </div>\n",
              "  </div>\n",
              "  "
            ]
          },
          "metadata": {},
          "execution_count": 92
        }
      ]
    },
    {
      "cell_type": "code",
      "source": [
        "movies.groupby(\"genre\").count()[movies.groupby(\"genre\").count()[\"title\"] == 1]"
      ],
      "metadata": {
        "colab": {
          "base_uri": "https://localhost:8080/",
          "height": 455
        },
        "id": "yA2d-I02Q_LI",
        "outputId": "08f65519-88ee-43d1-e352-7375e4702c96"
      },
      "execution_count": null,
      "outputs": [
        {
          "output_type": "execute_result",
          "data": {
            "text/plain": [
              "                                               title  year  genres\n",
              "genre                                                             \n",
              "Action|Adventure|Animation                         1     1       1\n",
              "Action|Adventure|Animation|Children's|Fantasy      1     1       1\n",
              "Action|Adventure|Animation|Horror|Sci-Fi           1     1       1\n",
              "Action|Adventure|Children's                        1     1       1\n",
              "Action|Adventure|Children's|Fantasy                1     1       1\n",
              "...                                              ...   ...     ...\n",
              "Musical|War                                        1     1       1\n",
              "Mystery|Sci-Fi|Thriller                            1     1       1\n",
              "Romance|Western                                    1     1       1\n",
              "Sci-Fi|Thriller|War                                1     1       1\n",
              "Sci-Fi|War                                         1     1       1\n",
              "\n",
              "[130 rows x 3 columns]"
            ],
            "text/html": [
              "\n",
              "  <div id=\"df-4a5d232c-3c66-4be9-be4b-fd878ef3d83d\">\n",
              "    <div class=\"colab-df-container\">\n",
              "      <div>\n",
              "<style scoped>\n",
              "    .dataframe tbody tr th:only-of-type {\n",
              "        vertical-align: middle;\n",
              "    }\n",
              "\n",
              "    .dataframe tbody tr th {\n",
              "        vertical-align: top;\n",
              "    }\n",
              "\n",
              "    .dataframe thead th {\n",
              "        text-align: right;\n",
              "    }\n",
              "</style>\n",
              "<table border=\"1\" class=\"dataframe\">\n",
              "  <thead>\n",
              "    <tr style=\"text-align: right;\">\n",
              "      <th></th>\n",
              "      <th>title</th>\n",
              "      <th>year</th>\n",
              "      <th>genres</th>\n",
              "    </tr>\n",
              "    <tr>\n",
              "      <th>genre</th>\n",
              "      <th></th>\n",
              "      <th></th>\n",
              "      <th></th>\n",
              "    </tr>\n",
              "  </thead>\n",
              "  <tbody>\n",
              "    <tr>\n",
              "      <th>Action|Adventure|Animation</th>\n",
              "      <td>1</td>\n",
              "      <td>1</td>\n",
              "      <td>1</td>\n",
              "    </tr>\n",
              "    <tr>\n",
              "      <th>Action|Adventure|Animation|Children's|Fantasy</th>\n",
              "      <td>1</td>\n",
              "      <td>1</td>\n",
              "      <td>1</td>\n",
              "    </tr>\n",
              "    <tr>\n",
              "      <th>Action|Adventure|Animation|Horror|Sci-Fi</th>\n",
              "      <td>1</td>\n",
              "      <td>1</td>\n",
              "      <td>1</td>\n",
              "    </tr>\n",
              "    <tr>\n",
              "      <th>Action|Adventure|Children's</th>\n",
              "      <td>1</td>\n",
              "      <td>1</td>\n",
              "      <td>1</td>\n",
              "    </tr>\n",
              "    <tr>\n",
              "      <th>Action|Adventure|Children's|Fantasy</th>\n",
              "      <td>1</td>\n",
              "      <td>1</td>\n",
              "      <td>1</td>\n",
              "    </tr>\n",
              "    <tr>\n",
              "      <th>...</th>\n",
              "      <td>...</td>\n",
              "      <td>...</td>\n",
              "      <td>...</td>\n",
              "    </tr>\n",
              "    <tr>\n",
              "      <th>Musical|War</th>\n",
              "      <td>1</td>\n",
              "      <td>1</td>\n",
              "      <td>1</td>\n",
              "    </tr>\n",
              "    <tr>\n",
              "      <th>Mystery|Sci-Fi|Thriller</th>\n",
              "      <td>1</td>\n",
              "      <td>1</td>\n",
              "      <td>1</td>\n",
              "    </tr>\n",
              "    <tr>\n",
              "      <th>Romance|Western</th>\n",
              "      <td>1</td>\n",
              "      <td>1</td>\n",
              "      <td>1</td>\n",
              "    </tr>\n",
              "    <tr>\n",
              "      <th>Sci-Fi|Thriller|War</th>\n",
              "      <td>1</td>\n",
              "      <td>1</td>\n",
              "      <td>1</td>\n",
              "    </tr>\n",
              "    <tr>\n",
              "      <th>Sci-Fi|War</th>\n",
              "      <td>1</td>\n",
              "      <td>1</td>\n",
              "      <td>1</td>\n",
              "    </tr>\n",
              "  </tbody>\n",
              "</table>\n",
              "<p>130 rows × 3 columns</p>\n",
              "</div>\n",
              "      <button class=\"colab-df-convert\" onclick=\"convertToInteractive('df-4a5d232c-3c66-4be9-be4b-fd878ef3d83d')\"\n",
              "              title=\"Convert this dataframe to an interactive table.\"\n",
              "              style=\"display:none;\">\n",
              "        \n",
              "  <svg xmlns=\"http://www.w3.org/2000/svg\" height=\"24px\"viewBox=\"0 0 24 24\"\n",
              "       width=\"24px\">\n",
              "    <path d=\"M0 0h24v24H0V0z\" fill=\"none\"/>\n",
              "    <path d=\"M18.56 5.44l.94 2.06.94-2.06 2.06-.94-2.06-.94-.94-2.06-.94 2.06-2.06.94zm-11 1L8.5 8.5l.94-2.06 2.06-.94-2.06-.94L8.5 2.5l-.94 2.06-2.06.94zm10 10l.94 2.06.94-2.06 2.06-.94-2.06-.94-.94-2.06-.94 2.06-2.06.94z\"/><path d=\"M17.41 7.96l-1.37-1.37c-.4-.4-.92-.59-1.43-.59-.52 0-1.04.2-1.43.59L10.3 9.45l-7.72 7.72c-.78.78-.78 2.05 0 2.83L4 21.41c.39.39.9.59 1.41.59.51 0 1.02-.2 1.41-.59l7.78-7.78 2.81-2.81c.8-.78.8-2.07 0-2.86zM5.41 20L4 18.59l7.72-7.72 1.47 1.35L5.41 20z\"/>\n",
              "  </svg>\n",
              "      </button>\n",
              "      \n",
              "  <style>\n",
              "    .colab-df-container {\n",
              "      display:flex;\n",
              "      flex-wrap:wrap;\n",
              "      gap: 12px;\n",
              "    }\n",
              "\n",
              "    .colab-df-convert {\n",
              "      background-color: #E8F0FE;\n",
              "      border: none;\n",
              "      border-radius: 50%;\n",
              "      cursor: pointer;\n",
              "      display: none;\n",
              "      fill: #1967D2;\n",
              "      height: 32px;\n",
              "      padding: 0 0 0 0;\n",
              "      width: 32px;\n",
              "    }\n",
              "\n",
              "    .colab-df-convert:hover {\n",
              "      background-color: #E2EBFA;\n",
              "      box-shadow: 0px 1px 2px rgba(60, 64, 67, 0.3), 0px 1px 3px 1px rgba(60, 64, 67, 0.15);\n",
              "      fill: #174EA6;\n",
              "    }\n",
              "\n",
              "    [theme=dark] .colab-df-convert {\n",
              "      background-color: #3B4455;\n",
              "      fill: #D2E3FC;\n",
              "    }\n",
              "\n",
              "    [theme=dark] .colab-df-convert:hover {\n",
              "      background-color: #434B5C;\n",
              "      box-shadow: 0px 1px 3px 1px rgba(0, 0, 0, 0.15);\n",
              "      filter: drop-shadow(0px 1px 2px rgba(0, 0, 0, 0.3));\n",
              "      fill: #FFFFFF;\n",
              "    }\n",
              "  </style>\n",
              "\n",
              "      <script>\n",
              "        const buttonEl =\n",
              "          document.querySelector('#df-4a5d232c-3c66-4be9-be4b-fd878ef3d83d button.colab-df-convert');\n",
              "        buttonEl.style.display =\n",
              "          google.colab.kernel.accessAllowed ? 'block' : 'none';\n",
              "\n",
              "        async function convertToInteractive(key) {\n",
              "          const element = document.querySelector('#df-4a5d232c-3c66-4be9-be4b-fd878ef3d83d');\n",
              "          const dataTable =\n",
              "            await google.colab.kernel.invokeFunction('convertToInteractive',\n",
              "                                                     [key], {});\n",
              "          if (!dataTable) return;\n",
              "\n",
              "          const docLinkHtml = 'Like what you see? Visit the ' +\n",
              "            '<a target=\"_blank\" href=https://colab.research.google.com/notebooks/data_table.ipynb>data table notebook</a>'\n",
              "            + ' to learn more about interactive tables.';\n",
              "          element.innerHTML = '';\n",
              "          dataTable['output_type'] = 'display_data';\n",
              "          await google.colab.output.renderOutput(dataTable, element);\n",
              "          const docLink = document.createElement('div');\n",
              "          docLink.innerHTML = docLinkHtml;\n",
              "          element.appendChild(docLink);\n",
              "        }\n",
              "      </script>\n",
              "    </div>\n",
              "  </div>\n",
              "  "
            ]
          },
          "metadata": {},
          "execution_count": 96
        }
      ]
    },
    {
      "cell_type": "code",
      "source": [
        "movies[movies[\"genre\"] == \"Musical|War\"]"
      ],
      "metadata": {
        "colab": {
          "base_uri": "https://localhost:8080/",
          "height": 81
        },
        "id": "pDqxb0VGRhM7",
        "outputId": "182f41a5-a758-40fa-c081-b23a0f8e3d5b"
      },
      "execution_count": null,
      "outputs": [
        {
          "output_type": "execute_result",
          "data": {
            "text/plain": [
              "               title        genre  year          genres\n",
              "3545  Cabaret (1972)  Musical|War  1972  [Musical, War]"
            ],
            "text/html": [
              "\n",
              "  <div id=\"df-98114b55-e6a1-400e-a95f-620e75a0a73a\">\n",
              "    <div class=\"colab-df-container\">\n",
              "      <div>\n",
              "<style scoped>\n",
              "    .dataframe tbody tr th:only-of-type {\n",
              "        vertical-align: middle;\n",
              "    }\n",
              "\n",
              "    .dataframe tbody tr th {\n",
              "        vertical-align: top;\n",
              "    }\n",
              "\n",
              "    .dataframe thead th {\n",
              "        text-align: right;\n",
              "    }\n",
              "</style>\n",
              "<table border=\"1\" class=\"dataframe\">\n",
              "  <thead>\n",
              "    <tr style=\"text-align: right;\">\n",
              "      <th></th>\n",
              "      <th>title</th>\n",
              "      <th>genre</th>\n",
              "      <th>year</th>\n",
              "      <th>genres</th>\n",
              "    </tr>\n",
              "  </thead>\n",
              "  <tbody>\n",
              "    <tr>\n",
              "      <th>3545</th>\n",
              "      <td>Cabaret (1972)</td>\n",
              "      <td>Musical|War</td>\n",
              "      <td>1972</td>\n",
              "      <td>[Musical, War]</td>\n",
              "    </tr>\n",
              "  </tbody>\n",
              "</table>\n",
              "</div>\n",
              "      <button class=\"colab-df-convert\" onclick=\"convertToInteractive('df-98114b55-e6a1-400e-a95f-620e75a0a73a')\"\n",
              "              title=\"Convert this dataframe to an interactive table.\"\n",
              "              style=\"display:none;\">\n",
              "        \n",
              "  <svg xmlns=\"http://www.w3.org/2000/svg\" height=\"24px\"viewBox=\"0 0 24 24\"\n",
              "       width=\"24px\">\n",
              "    <path d=\"M0 0h24v24H0V0z\" fill=\"none\"/>\n",
              "    <path d=\"M18.56 5.44l.94 2.06.94-2.06 2.06-.94-2.06-.94-.94-2.06-.94 2.06-2.06.94zm-11 1L8.5 8.5l.94-2.06 2.06-.94-2.06-.94L8.5 2.5l-.94 2.06-2.06.94zm10 10l.94 2.06.94-2.06 2.06-.94-2.06-.94-.94-2.06-.94 2.06-2.06.94z\"/><path d=\"M17.41 7.96l-1.37-1.37c-.4-.4-.92-.59-1.43-.59-.52 0-1.04.2-1.43.59L10.3 9.45l-7.72 7.72c-.78.78-.78 2.05 0 2.83L4 21.41c.39.39.9.59 1.41.59.51 0 1.02-.2 1.41-.59l7.78-7.78 2.81-2.81c.8-.78.8-2.07 0-2.86zM5.41 20L4 18.59l7.72-7.72 1.47 1.35L5.41 20z\"/>\n",
              "  </svg>\n",
              "      </button>\n",
              "      \n",
              "  <style>\n",
              "    .colab-df-container {\n",
              "      display:flex;\n",
              "      flex-wrap:wrap;\n",
              "      gap: 12px;\n",
              "    }\n",
              "\n",
              "    .colab-df-convert {\n",
              "      background-color: #E8F0FE;\n",
              "      border: none;\n",
              "      border-radius: 50%;\n",
              "      cursor: pointer;\n",
              "      display: none;\n",
              "      fill: #1967D2;\n",
              "      height: 32px;\n",
              "      padding: 0 0 0 0;\n",
              "      width: 32px;\n",
              "    }\n",
              "\n",
              "    .colab-df-convert:hover {\n",
              "      background-color: #E2EBFA;\n",
              "      box-shadow: 0px 1px 2px rgba(60, 64, 67, 0.3), 0px 1px 3px 1px rgba(60, 64, 67, 0.15);\n",
              "      fill: #174EA6;\n",
              "    }\n",
              "\n",
              "    [theme=dark] .colab-df-convert {\n",
              "      background-color: #3B4455;\n",
              "      fill: #D2E3FC;\n",
              "    }\n",
              "\n",
              "    [theme=dark] .colab-df-convert:hover {\n",
              "      background-color: #434B5C;\n",
              "      box-shadow: 0px 1px 3px 1px rgba(0, 0, 0, 0.15);\n",
              "      filter: drop-shadow(0px 1px 2px rgba(0, 0, 0, 0.3));\n",
              "      fill: #FFFFFF;\n",
              "    }\n",
              "  </style>\n",
              "\n",
              "      <script>\n",
              "        const buttonEl =\n",
              "          document.querySelector('#df-98114b55-e6a1-400e-a95f-620e75a0a73a button.colab-df-convert');\n",
              "        buttonEl.style.display =\n",
              "          google.colab.kernel.accessAllowed ? 'block' : 'none';\n",
              "\n",
              "        async function convertToInteractive(key) {\n",
              "          const element = document.querySelector('#df-98114b55-e6a1-400e-a95f-620e75a0a73a');\n",
              "          const dataTable =\n",
              "            await google.colab.kernel.invokeFunction('convertToInteractive',\n",
              "                                                     [key], {});\n",
              "          if (!dataTable) return;\n",
              "\n",
              "          const docLinkHtml = 'Like what you see? Visit the ' +\n",
              "            '<a target=\"_blank\" href=https://colab.research.google.com/notebooks/data_table.ipynb>data table notebook</a>'\n",
              "            + ' to learn more about interactive tables.';\n",
              "          element.innerHTML = '';\n",
              "          dataTable['output_type'] = 'display_data';\n",
              "          await google.colab.output.renderOutput(dataTable, element);\n",
              "          const docLink = document.createElement('div');\n",
              "          docLink.innerHTML = docLinkHtml;\n",
              "          element.appendChild(docLink);\n",
              "        }\n",
              "      </script>\n",
              "    </div>\n",
              "  </div>\n",
              "  "
            ]
          },
          "metadata": {},
          "execution_count": 97
        }
      ]
    },
    {
      "cell_type": "code",
      "source": [
        "groupedmovies = movies.groupby(\"genre\").count()"
      ],
      "metadata": {
        "id": "XkiVR_raR96N"
      },
      "execution_count": null,
      "outputs": []
    },
    {
      "cell_type": "code",
      "source": [
        "groupedmovies.sort_values(by=\"title\", ascending=False)"
      ],
      "metadata": {
        "colab": {
          "base_uri": "https://localhost:8080/",
          "height": 455
        },
        "id": "ZcTOkaHCSpu9",
        "outputId": "99618398-5df9-4b2c-cbe7-42fc02ac6988"
      },
      "execution_count": null,
      "outputs": [
        {
          "output_type": "execute_result",
          "data": {
            "text/plain": [
              "                                      title  year  genres\n",
              "genre                                                    \n",
              "Drama                                   843   843     843\n",
              "Comedy                                  521   521     521\n",
              "Horror                                  178   178     178\n",
              "Comedy|Drama                            162   162     162\n",
              "Comedy|Romance                          142   142     142\n",
              "...                                     ...   ...     ...\n",
              "Animation|Children's|Drama|Fantasy        1     1       1\n",
              "Animation|Children's|Fantasy|War          1     1       1\n",
              "Animation|Children's|Musical|Romance      1     1       1\n",
              "Animation|Mystery                         1     1       1\n",
              "Animation|Children's|Fantasy|Musical      1     1       1\n",
              "\n",
              "[301 rows x 3 columns]"
            ],
            "text/html": [
              "\n",
              "  <div id=\"df-1db8ca62-27b2-48d0-b074-e0c7daaa132e\">\n",
              "    <div class=\"colab-df-container\">\n",
              "      <div>\n",
              "<style scoped>\n",
              "    .dataframe tbody tr th:only-of-type {\n",
              "        vertical-align: middle;\n",
              "    }\n",
              "\n",
              "    .dataframe tbody tr th {\n",
              "        vertical-align: top;\n",
              "    }\n",
              "\n",
              "    .dataframe thead th {\n",
              "        text-align: right;\n",
              "    }\n",
              "</style>\n",
              "<table border=\"1\" class=\"dataframe\">\n",
              "  <thead>\n",
              "    <tr style=\"text-align: right;\">\n",
              "      <th></th>\n",
              "      <th>title</th>\n",
              "      <th>year</th>\n",
              "      <th>genres</th>\n",
              "    </tr>\n",
              "    <tr>\n",
              "      <th>genre</th>\n",
              "      <th></th>\n",
              "      <th></th>\n",
              "      <th></th>\n",
              "    </tr>\n",
              "  </thead>\n",
              "  <tbody>\n",
              "    <tr>\n",
              "      <th>Drama</th>\n",
              "      <td>843</td>\n",
              "      <td>843</td>\n",
              "      <td>843</td>\n",
              "    </tr>\n",
              "    <tr>\n",
              "      <th>Comedy</th>\n",
              "      <td>521</td>\n",
              "      <td>521</td>\n",
              "      <td>521</td>\n",
              "    </tr>\n",
              "    <tr>\n",
              "      <th>Horror</th>\n",
              "      <td>178</td>\n",
              "      <td>178</td>\n",
              "      <td>178</td>\n",
              "    </tr>\n",
              "    <tr>\n",
              "      <th>Comedy|Drama</th>\n",
              "      <td>162</td>\n",
              "      <td>162</td>\n",
              "      <td>162</td>\n",
              "    </tr>\n",
              "    <tr>\n",
              "      <th>Comedy|Romance</th>\n",
              "      <td>142</td>\n",
              "      <td>142</td>\n",
              "      <td>142</td>\n",
              "    </tr>\n",
              "    <tr>\n",
              "      <th>...</th>\n",
              "      <td>...</td>\n",
              "      <td>...</td>\n",
              "      <td>...</td>\n",
              "    </tr>\n",
              "    <tr>\n",
              "      <th>Animation|Children's|Drama|Fantasy</th>\n",
              "      <td>1</td>\n",
              "      <td>1</td>\n",
              "      <td>1</td>\n",
              "    </tr>\n",
              "    <tr>\n",
              "      <th>Animation|Children's|Fantasy|War</th>\n",
              "      <td>1</td>\n",
              "      <td>1</td>\n",
              "      <td>1</td>\n",
              "    </tr>\n",
              "    <tr>\n",
              "      <th>Animation|Children's|Musical|Romance</th>\n",
              "      <td>1</td>\n",
              "      <td>1</td>\n",
              "      <td>1</td>\n",
              "    </tr>\n",
              "    <tr>\n",
              "      <th>Animation|Mystery</th>\n",
              "      <td>1</td>\n",
              "      <td>1</td>\n",
              "      <td>1</td>\n",
              "    </tr>\n",
              "    <tr>\n",
              "      <th>Animation|Children's|Fantasy|Musical</th>\n",
              "      <td>1</td>\n",
              "      <td>1</td>\n",
              "      <td>1</td>\n",
              "    </tr>\n",
              "  </tbody>\n",
              "</table>\n",
              "<p>301 rows × 3 columns</p>\n",
              "</div>\n",
              "      <button class=\"colab-df-convert\" onclick=\"convertToInteractive('df-1db8ca62-27b2-48d0-b074-e0c7daaa132e')\"\n",
              "              title=\"Convert this dataframe to an interactive table.\"\n",
              "              style=\"display:none;\">\n",
              "        \n",
              "  <svg xmlns=\"http://www.w3.org/2000/svg\" height=\"24px\"viewBox=\"0 0 24 24\"\n",
              "       width=\"24px\">\n",
              "    <path d=\"M0 0h24v24H0V0z\" fill=\"none\"/>\n",
              "    <path d=\"M18.56 5.44l.94 2.06.94-2.06 2.06-.94-2.06-.94-.94-2.06-.94 2.06-2.06.94zm-11 1L8.5 8.5l.94-2.06 2.06-.94-2.06-.94L8.5 2.5l-.94 2.06-2.06.94zm10 10l.94 2.06.94-2.06 2.06-.94-2.06-.94-.94-2.06-.94 2.06-2.06.94z\"/><path d=\"M17.41 7.96l-1.37-1.37c-.4-.4-.92-.59-1.43-.59-.52 0-1.04.2-1.43.59L10.3 9.45l-7.72 7.72c-.78.78-.78 2.05 0 2.83L4 21.41c.39.39.9.59 1.41.59.51 0 1.02-.2 1.41-.59l7.78-7.78 2.81-2.81c.8-.78.8-2.07 0-2.86zM5.41 20L4 18.59l7.72-7.72 1.47 1.35L5.41 20z\"/>\n",
              "  </svg>\n",
              "      </button>\n",
              "      \n",
              "  <style>\n",
              "    .colab-df-container {\n",
              "      display:flex;\n",
              "      flex-wrap:wrap;\n",
              "      gap: 12px;\n",
              "    }\n",
              "\n",
              "    .colab-df-convert {\n",
              "      background-color: #E8F0FE;\n",
              "      border: none;\n",
              "      border-radius: 50%;\n",
              "      cursor: pointer;\n",
              "      display: none;\n",
              "      fill: #1967D2;\n",
              "      height: 32px;\n",
              "      padding: 0 0 0 0;\n",
              "      width: 32px;\n",
              "    }\n",
              "\n",
              "    .colab-df-convert:hover {\n",
              "      background-color: #E2EBFA;\n",
              "      box-shadow: 0px 1px 2px rgba(60, 64, 67, 0.3), 0px 1px 3px 1px rgba(60, 64, 67, 0.15);\n",
              "      fill: #174EA6;\n",
              "    }\n",
              "\n",
              "    [theme=dark] .colab-df-convert {\n",
              "      background-color: #3B4455;\n",
              "      fill: #D2E3FC;\n",
              "    }\n",
              "\n",
              "    [theme=dark] .colab-df-convert:hover {\n",
              "      background-color: #434B5C;\n",
              "      box-shadow: 0px 1px 3px 1px rgba(0, 0, 0, 0.15);\n",
              "      filter: drop-shadow(0px 1px 2px rgba(0, 0, 0, 0.3));\n",
              "      fill: #FFFFFF;\n",
              "    }\n",
              "  </style>\n",
              "\n",
              "      <script>\n",
              "        const buttonEl =\n",
              "          document.querySelector('#df-1db8ca62-27b2-48d0-b074-e0c7daaa132e button.colab-df-convert');\n",
              "        buttonEl.style.display =\n",
              "          google.colab.kernel.accessAllowed ? 'block' : 'none';\n",
              "\n",
              "        async function convertToInteractive(key) {\n",
              "          const element = document.querySelector('#df-1db8ca62-27b2-48d0-b074-e0c7daaa132e');\n",
              "          const dataTable =\n",
              "            await google.colab.kernel.invokeFunction('convertToInteractive',\n",
              "                                                     [key], {});\n",
              "          if (!dataTable) return;\n",
              "\n",
              "          const docLinkHtml = 'Like what you see? Visit the ' +\n",
              "            '<a target=\"_blank\" href=https://colab.research.google.com/notebooks/data_table.ipynb>data table notebook</a>'\n",
              "            + ' to learn more about interactive tables.';\n",
              "          element.innerHTML = '';\n",
              "          dataTable['output_type'] = 'display_data';\n",
              "          await google.colab.output.renderOutput(dataTable, element);\n",
              "          const docLink = document.createElement('div');\n",
              "          docLink.innerHTML = docLinkHtml;\n",
              "          element.appendChild(docLink);\n",
              "        }\n",
              "      </script>\n",
              "    </div>\n",
              "  </div>\n",
              "  "
            ]
          },
          "metadata": {},
          "execution_count": 104
        }
      ]
    },
    {
      "cell_type": "code",
      "source": [
        "groupedmovies.describe()"
      ],
      "metadata": {
        "colab": {
          "base_uri": "https://localhost:8080/",
          "height": 300
        },
        "id": "o4IrrVP3SGnO",
        "outputId": "049a34ad-7d75-4d1e-e011-da5b5c4e1896"
      },
      "execution_count": null,
      "outputs": [
        {
          "output_type": "execute_result",
          "data": {
            "text/plain": [
              "            title        year      genres\n",
              "count  301.000000  301.000000  301.000000\n",
              "mean    12.900332   12.900332   12.900332\n",
              "std     60.277055   60.277055   60.277055\n",
              "min      1.000000    1.000000    1.000000\n",
              "25%      1.000000    1.000000    1.000000\n",
              "50%      2.000000    2.000000    2.000000\n",
              "75%      5.000000    5.000000    5.000000\n",
              "max    843.000000  843.000000  843.000000"
            ],
            "text/html": [
              "\n",
              "  <div id=\"df-fec74934-8343-4e0c-8c73-0051999442c3\">\n",
              "    <div class=\"colab-df-container\">\n",
              "      <div>\n",
              "<style scoped>\n",
              "    .dataframe tbody tr th:only-of-type {\n",
              "        vertical-align: middle;\n",
              "    }\n",
              "\n",
              "    .dataframe tbody tr th {\n",
              "        vertical-align: top;\n",
              "    }\n",
              "\n",
              "    .dataframe thead th {\n",
              "        text-align: right;\n",
              "    }\n",
              "</style>\n",
              "<table border=\"1\" class=\"dataframe\">\n",
              "  <thead>\n",
              "    <tr style=\"text-align: right;\">\n",
              "      <th></th>\n",
              "      <th>title</th>\n",
              "      <th>year</th>\n",
              "      <th>genres</th>\n",
              "    </tr>\n",
              "  </thead>\n",
              "  <tbody>\n",
              "    <tr>\n",
              "      <th>count</th>\n",
              "      <td>301.000000</td>\n",
              "      <td>301.000000</td>\n",
              "      <td>301.000000</td>\n",
              "    </tr>\n",
              "    <tr>\n",
              "      <th>mean</th>\n",
              "      <td>12.900332</td>\n",
              "      <td>12.900332</td>\n",
              "      <td>12.900332</td>\n",
              "    </tr>\n",
              "    <tr>\n",
              "      <th>std</th>\n",
              "      <td>60.277055</td>\n",
              "      <td>60.277055</td>\n",
              "      <td>60.277055</td>\n",
              "    </tr>\n",
              "    <tr>\n",
              "      <th>min</th>\n",
              "      <td>1.000000</td>\n",
              "      <td>1.000000</td>\n",
              "      <td>1.000000</td>\n",
              "    </tr>\n",
              "    <tr>\n",
              "      <th>25%</th>\n",
              "      <td>1.000000</td>\n",
              "      <td>1.000000</td>\n",
              "      <td>1.000000</td>\n",
              "    </tr>\n",
              "    <tr>\n",
              "      <th>50%</th>\n",
              "      <td>2.000000</td>\n",
              "      <td>2.000000</td>\n",
              "      <td>2.000000</td>\n",
              "    </tr>\n",
              "    <tr>\n",
              "      <th>75%</th>\n",
              "      <td>5.000000</td>\n",
              "      <td>5.000000</td>\n",
              "      <td>5.000000</td>\n",
              "    </tr>\n",
              "    <tr>\n",
              "      <th>max</th>\n",
              "      <td>843.000000</td>\n",
              "      <td>843.000000</td>\n",
              "      <td>843.000000</td>\n",
              "    </tr>\n",
              "  </tbody>\n",
              "</table>\n",
              "</div>\n",
              "      <button class=\"colab-df-convert\" onclick=\"convertToInteractive('df-fec74934-8343-4e0c-8c73-0051999442c3')\"\n",
              "              title=\"Convert this dataframe to an interactive table.\"\n",
              "              style=\"display:none;\">\n",
              "        \n",
              "  <svg xmlns=\"http://www.w3.org/2000/svg\" height=\"24px\"viewBox=\"0 0 24 24\"\n",
              "       width=\"24px\">\n",
              "    <path d=\"M0 0h24v24H0V0z\" fill=\"none\"/>\n",
              "    <path d=\"M18.56 5.44l.94 2.06.94-2.06 2.06-.94-2.06-.94-.94-2.06-.94 2.06-2.06.94zm-11 1L8.5 8.5l.94-2.06 2.06-.94-2.06-.94L8.5 2.5l-.94 2.06-2.06.94zm10 10l.94 2.06.94-2.06 2.06-.94-2.06-.94-.94-2.06-.94 2.06-2.06.94z\"/><path d=\"M17.41 7.96l-1.37-1.37c-.4-.4-.92-.59-1.43-.59-.52 0-1.04.2-1.43.59L10.3 9.45l-7.72 7.72c-.78.78-.78 2.05 0 2.83L4 21.41c.39.39.9.59 1.41.59.51 0 1.02-.2 1.41-.59l7.78-7.78 2.81-2.81c.8-.78.8-2.07 0-2.86zM5.41 20L4 18.59l7.72-7.72 1.47 1.35L5.41 20z\"/>\n",
              "  </svg>\n",
              "      </button>\n",
              "      \n",
              "  <style>\n",
              "    .colab-df-container {\n",
              "      display:flex;\n",
              "      flex-wrap:wrap;\n",
              "      gap: 12px;\n",
              "    }\n",
              "\n",
              "    .colab-df-convert {\n",
              "      background-color: #E8F0FE;\n",
              "      border: none;\n",
              "      border-radius: 50%;\n",
              "      cursor: pointer;\n",
              "      display: none;\n",
              "      fill: #1967D2;\n",
              "      height: 32px;\n",
              "      padding: 0 0 0 0;\n",
              "      width: 32px;\n",
              "    }\n",
              "\n",
              "    .colab-df-convert:hover {\n",
              "      background-color: #E2EBFA;\n",
              "      box-shadow: 0px 1px 2px rgba(60, 64, 67, 0.3), 0px 1px 3px 1px rgba(60, 64, 67, 0.15);\n",
              "      fill: #174EA6;\n",
              "    }\n",
              "\n",
              "    [theme=dark] .colab-df-convert {\n",
              "      background-color: #3B4455;\n",
              "      fill: #D2E3FC;\n",
              "    }\n",
              "\n",
              "    [theme=dark] .colab-df-convert:hover {\n",
              "      background-color: #434B5C;\n",
              "      box-shadow: 0px 1px 3px 1px rgba(0, 0, 0, 0.15);\n",
              "      filter: drop-shadow(0px 1px 2px rgba(0, 0, 0, 0.3));\n",
              "      fill: #FFFFFF;\n",
              "    }\n",
              "  </style>\n",
              "\n",
              "      <script>\n",
              "        const buttonEl =\n",
              "          document.querySelector('#df-fec74934-8343-4e0c-8c73-0051999442c3 button.colab-df-convert');\n",
              "        buttonEl.style.display =\n",
              "          google.colab.kernel.accessAllowed ? 'block' : 'none';\n",
              "\n",
              "        async function convertToInteractive(key) {\n",
              "          const element = document.querySelector('#df-fec74934-8343-4e0c-8c73-0051999442c3');\n",
              "          const dataTable =\n",
              "            await google.colab.kernel.invokeFunction('convertToInteractive',\n",
              "                                                     [key], {});\n",
              "          if (!dataTable) return;\n",
              "\n",
              "          const docLinkHtml = 'Like what you see? Visit the ' +\n",
              "            '<a target=\"_blank\" href=https://colab.research.google.com/notebooks/data_table.ipynb>data table notebook</a>'\n",
              "            + ' to learn more about interactive tables.';\n",
              "          element.innerHTML = '';\n",
              "          dataTable['output_type'] = 'display_data';\n",
              "          await google.colab.output.renderOutput(dataTable, element);\n",
              "          const docLink = document.createElement('div');\n",
              "          docLink.innerHTML = docLinkHtml;\n",
              "          element.appendChild(docLink);\n",
              "        }\n",
              "      </script>\n",
              "    </div>\n",
              "  </div>\n",
              "  "
            ]
          },
          "metadata": {},
          "execution_count": 100
        }
      ]
    },
    {
      "cell_type": "markdown",
      "source": [
        "# numpy"
      ],
      "metadata": {
        "id": "Mk9xj2ySSKem"
      }
    },
    {
      "cell_type": "code",
      "source": [
        "import numpy as np\n",
        "from numpy import random"
      ],
      "metadata": {
        "id": "_zSquNl5T3qF"
      },
      "execution_count": null,
      "outputs": []
    },
    {
      "cell_type": "code",
      "source": [
        "a = 3\n",
        "type(a)"
      ],
      "metadata": {
        "colab": {
          "base_uri": "https://localhost:8080/"
        },
        "id": "yrU0JQ7kT8dj",
        "outputId": "3f8b333f-d81d-44d1-b3fe-8ea73c1f9bce"
      },
      "execution_count": null,
      "outputs": [
        {
          "output_type": "execute_result",
          "data": {
            "text/plain": [
              "int"
            ]
          },
          "metadata": {},
          "execution_count": 106
        }
      ]
    },
    {
      "cell_type": "code",
      "source": [
        "a = np.int16(3)"
      ],
      "metadata": {
        "id": "-95UhNigUBjc"
      },
      "execution_count": null,
      "outputs": []
    },
    {
      "cell_type": "code",
      "source": [
        "a.dtype"
      ],
      "metadata": {
        "colab": {
          "base_uri": "https://localhost:8080/"
        },
        "id": "YFFY2SJnUJ1s",
        "outputId": "949505b8-c2e8-4a22-e7a8-c5ec092cabfe"
      },
      "execution_count": null,
      "outputs": [
        {
          "output_type": "execute_result",
          "data": {
            "text/plain": [
              "dtype('int16')"
            ]
          },
          "metadata": {},
          "execution_count": 108
        }
      ]
    },
    {
      "cell_type": "code",
      "source": [
        "a = np.int8(3) #max 128 min -128"
      ],
      "metadata": {
        "id": "T9PjkQonUPTB"
      },
      "execution_count": null,
      "outputs": []
    },
    {
      "cell_type": "code",
      "source": [
        "print(np.uint8(256)) #max 255 min 0"
      ],
      "metadata": {
        "colab": {
          "base_uri": "https://localhost:8080/"
        },
        "id": "INtCzs_nUgcO",
        "outputId": "84b36380-af04-4384-d981-719f005b9efd"
      },
      "execution_count": null,
      "outputs": [
        {
          "output_type": "stream",
          "name": "stdout",
          "text": [
            "0\n"
          ]
        }
      ]
    },
    {
      "cell_type": "code",
      "source": [
        "glist[3:5]"
      ],
      "metadata": {
        "colab": {
          "base_uri": "https://localhost:8080/"
        },
        "id": "EDItLpKxV9vz",
        "outputId": "512a6e48-313d-4aab-8de7-5279fac9e3b1"
      },
      "execution_count": null,
      "outputs": [
        {
          "output_type": "execute_result",
          "data": {
            "text/plain": [
              "[False, False]"
            ]
          },
          "metadata": {},
          "execution_count": 121
        }
      ]
    },
    {
      "cell_type": "code",
      "source": [
        "np.array(glist)[3:5]"
      ],
      "metadata": {
        "colab": {
          "base_uri": "https://localhost:8080/"
        },
        "id": "eYyvKrNlUqvT",
        "outputId": "fb4f6f9a-bc69-4844-eaea-fe28dabc872c"
      },
      "execution_count": null,
      "outputs": [
        {
          "output_type": "execute_result",
          "data": {
            "text/plain": [
              "array([False, False])"
            ]
          },
          "metadata": {},
          "execution_count": 122
        }
      ]
    },
    {
      "cell_type": "code",
      "source": [
        "listVar"
      ],
      "metadata": {
        "colab": {
          "base_uri": "https://localhost:8080/"
        },
        "id": "v370BObkWJpz",
        "outputId": "029068be-2f2e-4e8b-d78b-9f57743388c3"
      },
      "execution_count": null,
      "outputs": [
        {
          "output_type": "execute_result",
          "data": {
            "text/plain": [
              "[3, 9, 'hello world', 0, True, 11]"
            ]
          },
          "metadata": {},
          "execution_count": 123
        }
      ]
    },
    {
      "cell_type": "code",
      "source": [
        "np.array(listVar)"
      ],
      "metadata": {
        "colab": {
          "base_uri": "https://localhost:8080/"
        },
        "id": "ypeMfQ8MV334",
        "outputId": "fedf2b6c-2b5d-446b-b953-3ba6b711c510"
      },
      "execution_count": null,
      "outputs": [
        {
          "output_type": "execute_result",
          "data": {
            "text/plain": [
              "array(['3', '9', 'hello world', '0', 'True', '11'], dtype='<U21')"
            ]
          },
          "metadata": {},
          "execution_count": 124
        }
      ]
    },
    {
      "cell_type": "code",
      "source": [
        "randArr = np.random.rand(10, 2, 3)"
      ],
      "metadata": {
        "id": "aw3E5M1sWLJ2"
      },
      "execution_count": null,
      "outputs": []
    },
    {
      "cell_type": "code",
      "source": [
        "randArr[0].shape #estrae la prima colonna"
      ],
      "metadata": {
        "colab": {
          "base_uri": "https://localhost:8080/"
        },
        "id": "CoGQAApSWWya",
        "outputId": "a1b22129-dbe8-4c6a-f93c-e2ef99bfdd9b"
      },
      "execution_count": null,
      "outputs": [
        {
          "output_type": "execute_result",
          "data": {
            "text/plain": [
              "(2, 3)"
            ]
          },
          "metadata": {},
          "execution_count": 139
        }
      ]
    },
    {
      "cell_type": "code",
      "source": [
        "randArr[1:6].shape"
      ],
      "metadata": {
        "colab": {
          "base_uri": "https://localhost:8080/"
        },
        "id": "M21_tzbzXOf0",
        "outputId": "0b9e3cc9-7339-43df-ac46-018ce3d61d5f"
      },
      "execution_count": null,
      "outputs": [
        {
          "output_type": "execute_result",
          "data": {
            "text/plain": [
              "(5, 2, 3)"
            ]
          },
          "metadata": {},
          "execution_count": 141
        }
      ]
    },
    {
      "cell_type": "code",
      "source": [
        "randArr[:, 0].shape"
      ],
      "metadata": {
        "colab": {
          "base_uri": "https://localhost:8080/"
        },
        "id": "j5TutrzgXo5l",
        "outputId": "7bc23eff-e9fd-4b77-a4ed-ad717d3acf42"
      },
      "execution_count": null,
      "outputs": [
        {
          "output_type": "execute_result",
          "data": {
            "text/plain": [
              "(10, 3)"
            ]
          },
          "metadata": {},
          "execution_count": 143
        }
      ]
    },
    {
      "cell_type": "code",
      "source": [
        "randArr[:, 0, :2]"
      ],
      "metadata": {
        "colab": {
          "base_uri": "https://localhost:8080/"
        },
        "id": "W3DqNZ4YX54j",
        "outputId": "c02e4011-5255-463e-909f-ceb4946f639e"
      },
      "execution_count": null,
      "outputs": [
        {
          "output_type": "execute_result",
          "data": {
            "text/plain": [
              "array([[0.62180957, 0.57471536],\n",
              "       [0.21744535, 0.66176351],\n",
              "       [0.06128703, 0.46735424],\n",
              "       [0.62315049, 0.17748786],\n",
              "       [0.94990916, 0.09232524],\n",
              "       [0.01506839, 0.76042978],\n",
              "       [0.7978359 , 0.69723272],\n",
              "       [0.77570121, 0.20306983],\n",
              "       [0.1696453 , 0.18435738],\n",
              "       [0.19089865, 0.26209147]])"
            ]
          },
          "metadata": {},
          "execution_count": 144
        }
      ]
    },
    {
      "cell_type": "code",
      "source": [
        "randArr[randArr > 0].shape"
      ],
      "metadata": {
        "colab": {
          "base_uri": "https://localhost:8080/"
        },
        "id": "lbqmNjQ8YAjH",
        "outputId": "c2d10e04-45f7-4d69-b1e1-fc28fad43acf"
      },
      "execution_count": null,
      "outputs": [
        {
          "output_type": "execute_result",
          "data": {
            "text/plain": [
              "(60,)"
            ]
          },
          "metadata": {},
          "execution_count": 146
        }
      ]
    },
    {
      "cell_type": "code",
      "source": [
        "list10 = list(range(10))\n",
        "list10"
      ],
      "metadata": {
        "colab": {
          "base_uri": "https://localhost:8080/"
        },
        "id": "7QrHH3erYiO5",
        "outputId": "149815c9-4e50-4e9a-dd20-79bf6fb0a8a9"
      },
      "execution_count": null,
      "outputs": [
        {
          "output_type": "execute_result",
          "data": {
            "text/plain": [
              "[0, 1, 2, 3, 4, 5, 6, 7, 8, 9]"
            ]
          },
          "metadata": {},
          "execution_count": 160
        }
      ]
    },
    {
      "cell_type": "code",
      "source": [
        "rageArr1 = np.arange(0, 100, 1)"
      ],
      "metadata": {
        "id": "nwA0wc17YSDw"
      },
      "execution_count": null,
      "outputs": []
    },
    {
      "cell_type": "code",
      "source": [
        "rageArr1 = rageArr1.reshape(10,10)"
      ],
      "metadata": {
        "id": "IURQvh37YtqF"
      },
      "execution_count": null,
      "outputs": []
    },
    {
      "cell_type": "code",
      "source": [
        "rageArr1"
      ],
      "metadata": {
        "colab": {
          "base_uri": "https://localhost:8080/"
        },
        "id": "gY8xHuw6ZO2f",
        "outputId": "6d24d5d8-d4f5-41fb-a862-c61ac2d871cf"
      },
      "execution_count": null,
      "outputs": [
        {
          "output_type": "execute_result",
          "data": {
            "text/plain": [
              "array([[ 0,  1,  2,  3,  4,  5,  6,  7,  8,  9],\n",
              "       [10, 11, 12, 13, 14, 15, 16, 17, 18, 19],\n",
              "       [20, 21, 22, 23, 24, 25, 26, 27, 28, 29],\n",
              "       [30, 31, 32, 33, 34, 35, 36, 37, 38, 39],\n",
              "       [40, 41, 42, 43, 44, 45, 46, 47, 48, 49],\n",
              "       [50, 51, 52, 53, 54, 55, 56, 57, 58, 59],\n",
              "       [60, 61, 62, 63, 64, 65, 66, 67, 68, 69],\n",
              "       [70, 71, 72, 73, 74, 75, 76, 77, 78, 79],\n",
              "       [80, 81, 82, 83, 84, 85, 86, 87, 88, 89],\n",
              "       [90, 91, 92, 93, 94, 95, 96, 97, 98, 99]])"
            ]
          },
          "metadata": {},
          "execution_count": 164
        }
      ]
    },
    {
      "cell_type": "code",
      "source": [
        "rageArr1 * 2"
      ],
      "metadata": {
        "colab": {
          "base_uri": "https://localhost:8080/"
        },
        "id": "q9mrymFaY8Qi",
        "outputId": "00ede3e6-eac5-4914-8130-fe6656391c6a"
      },
      "execution_count": null,
      "outputs": [
        {
          "output_type": "execute_result",
          "data": {
            "text/plain": [
              "array([[  0,   2,   4,   6,   8,  10,  12,  14,  16,  18],\n",
              "       [ 20,  22,  24,  26,  28,  30,  32,  34,  36,  38],\n",
              "       [ 40,  42,  44,  46,  48,  50,  52,  54,  56,  58],\n",
              "       [ 60,  62,  64,  66,  68,  70,  72,  74,  76,  78],\n",
              "       [ 80,  82,  84,  86,  88,  90,  92,  94,  96,  98],\n",
              "       [100, 102, 104, 106, 108, 110, 112, 114, 116, 118],\n",
              "       [120, 122, 124, 126, 128, 130, 132, 134, 136, 138],\n",
              "       [140, 142, 144, 146, 148, 150, 152, 154, 156, 158],\n",
              "       [160, 162, 164, 166, 168, 170, 172, 174, 176, 178],\n",
              "       [180, 182, 184, 186, 188, 190, 192, 194, 196, 198]])"
            ]
          },
          "metadata": {},
          "execution_count": 165
        }
      ]
    },
    {
      "cell_type": "code",
      "source": [
        "list10 * 2"
      ],
      "metadata": {
        "colab": {
          "base_uri": "https://localhost:8080/"
        },
        "id": "ZqZOk8lIZM4D",
        "outputId": "3a409e9b-bfdf-4d08-e927-d678d7776e92"
      },
      "execution_count": null,
      "outputs": [
        {
          "output_type": "execute_result",
          "data": {
            "text/plain": [
              "[0, 1, 2, 3, 4, 5, 6, 7, 8, 9, 0, 1, 2, 3, 4, 5, 6, 7, 8, 9]"
            ]
          },
          "metadata": {},
          "execution_count": 166
        }
      ]
    },
    {
      "cell_type": "code",
      "source": [
        "list10 + list10"
      ],
      "metadata": {
        "colab": {
          "base_uri": "https://localhost:8080/"
        },
        "id": "dbltFABwZaxC",
        "outputId": "5834971e-2273-4731-a707-11e99297f5ff"
      },
      "execution_count": null,
      "outputs": [
        {
          "output_type": "execute_result",
          "data": {
            "text/plain": [
              "[0, 1, 2, 3, 4, 5, 6, 7, 8, 9, 0, 1, 2, 3, 4, 5, 6, 7, 8, 9]"
            ]
          },
          "metadata": {},
          "execution_count": 167
        }
      ]
    },
    {
      "cell_type": "code",
      "source": [
        "rageArr1 + 2"
      ],
      "metadata": {
        "colab": {
          "base_uri": "https://localhost:8080/"
        },
        "id": "Vyz8GvwnZexW",
        "outputId": "87033df7-0e50-4941-eb15-dac55500726f"
      },
      "execution_count": null,
      "outputs": [
        {
          "output_type": "execute_result",
          "data": {
            "text/plain": [
              "array([[  2,   3,   4,   5,   6,   7,   8,   9,  10,  11],\n",
              "       [ 12,  13,  14,  15,  16,  17,  18,  19,  20,  21],\n",
              "       [ 22,  23,  24,  25,  26,  27,  28,  29,  30,  31],\n",
              "       [ 32,  33,  34,  35,  36,  37,  38,  39,  40,  41],\n",
              "       [ 42,  43,  44,  45,  46,  47,  48,  49,  50,  51],\n",
              "       [ 52,  53,  54,  55,  56,  57,  58,  59,  60,  61],\n",
              "       [ 62,  63,  64,  65,  66,  67,  68,  69,  70,  71],\n",
              "       [ 72,  73,  74,  75,  76,  77,  78,  79,  80,  81],\n",
              "       [ 82,  83,  84,  85,  86,  87,  88,  89,  90,  91],\n",
              "       [ 92,  93,  94,  95,  96,  97,  98,  99, 100, 101]])"
            ]
          },
          "metadata": {},
          "execution_count": 168
        }
      ]
    },
    {
      "cell_type": "code",
      "source": [
        "rageArr1 * randArr[:,0,0]"
      ],
      "metadata": {
        "colab": {
          "base_uri": "https://localhost:8080/"
        },
        "id": "zoU_mzAPZiXN",
        "outputId": "9c9921c8-c790-4c01-a1e6-671345b1f79b"
      },
      "execution_count": null,
      "outputs": [
        {
          "output_type": "execute_result",
          "data": {
            "text/plain": [
              "array([[0.00000000e+00, 2.17445350e-01, 1.22574068e-01, 1.86945147e+00,\n",
              "        3.79963666e+00, 7.53419355e-02, 4.78701540e+00, 5.42990845e+00,\n",
              "        1.35716243e+00, 1.71808785e+00],\n",
              "       [6.21809573e+00, 2.39189884e+00, 7.35444407e-01, 8.10095637e+00,\n",
              "        1.32987283e+01, 2.26025807e-01, 1.27653744e+01, 1.31869205e+01,\n",
              "        3.05361547e+00, 3.62707435e+00],\n",
              "       [1.24361915e+01, 4.56635234e+00, 1.34831475e+00, 1.43324613e+01,\n",
              "        2.27978199e+01, 3.76709678e-01, 2.07437334e+01, 2.09439326e+01,\n",
              "        4.75006851e+00, 5.53606085e+00],\n",
              "       [1.86542872e+01, 6.74080583e+00, 1.96118508e+00, 2.05639662e+01,\n",
              "        3.22969116e+01, 5.27393549e-01, 2.87220924e+01, 2.87009446e+01,\n",
              "        6.44652155e+00, 7.44504735e+00],\n",
              "       [2.48723829e+01, 8.91525933e+00, 2.57405542e+00, 2.67954711e+01,\n",
              "        4.17960032e+01, 6.78077420e-01, 3.67004514e+01, 3.64579567e+01,\n",
              "        8.14297459e+00, 9.35403385e+00],\n",
              "       [3.10904787e+01, 1.10897128e+01, 3.18692576e+00, 3.30269760e+01,\n",
              "        5.12950948e+01, 8.28761291e-01, 4.46788104e+01, 4.42149688e+01,\n",
              "        9.83942763e+00, 1.12630203e+01],\n",
              "       [3.73085744e+01, 1.32641663e+01, 3.79979610e+00, 3.92584809e+01,\n",
              "        6.07941865e+01, 9.79445162e-01, 5.26571694e+01, 5.19719808e+01,\n",
              "        1.15358807e+01, 1.31720068e+01],\n",
              "       [4.35266701e+01, 1.54386198e+01, 4.41266644e+00, 4.54899858e+01,\n",
              "        7.02932781e+01, 1.13012903e+00, 6.06355284e+01, 5.97289929e+01,\n",
              "        1.32323337e+01, 1.50809933e+01],\n",
              "       [4.97447659e+01, 1.76130733e+01, 5.02553678e+00, 5.17214907e+01,\n",
              "        7.97923698e+01, 1.28081290e+00, 6.86138874e+01, 6.74860050e+01,\n",
              "        1.49287867e+01, 1.69899798e+01],\n",
              "       [5.59628616e+01, 1.97875268e+01, 5.63840712e+00, 5.79529956e+01,\n",
              "        8.92914614e+01, 1.43149677e+00, 7.65922464e+01, 7.52430170e+01,\n",
              "        1.66252398e+01, 1.88989663e+01]])"
            ]
          },
          "metadata": {},
          "execution_count": 177
        }
      ]
    },
    {
      "cell_type": "code",
      "source": [
        "def ispalyndrom(word):\n",
        "  \"\"\"\n",
        "  \"\"\"\n",
        "  #assert istype(word, str), \"you gave me the wrong data type\"\n",
        "\n",
        "  word = word.lower()\n",
        "  lw = len(word)\n",
        "  #if lw % 2 == 0:\n",
        "  rword = word[::-1]\n",
        "  if word[:int(lw / 2)] == rword[:int(lw/2)]:\n",
        "      print(\"YES!\")\n",
        "  else:\n",
        "      print(\"no\")\n",
        "  "
      ],
      "metadata": {
        "id": "rpNGgBX3Zle_"
      },
      "execution_count": null,
      "outputs": []
    },
    {
      "cell_type": "code",
      "source": [
        "ispalyndrom(\"zaaz\")"
      ],
      "metadata": {
        "colab": {
          "base_uri": "https://localhost:8080/"
        },
        "id": "8bJMIHhXav0h",
        "outputId": "8f187a86-9eed-46bc-a101-a90fc89b8a0c"
      },
      "execution_count": null,
      "outputs": [
        {
          "output_type": "stream",
          "name": "stdout",
          "text": [
            "YES!\n"
          ]
        }
      ]
    },
    {
      "cell_type": "code",
      "source": [
        "strhere = \"hanna\" \n",
        "strhere[::-1]"
      ],
      "metadata": {
        "colab": {
          "base_uri": "https://localhost:8080/",
          "height": 35
        },
        "id": "73bgIlnFbQBP",
        "outputId": "c088c862-10ac-494d-a6a2-60bcab2493f2"
      },
      "execution_count": null,
      "outputs": [
        {
          "output_type": "execute_result",
          "data": {
            "text/plain": [
              "'annah'"
            ],
            "application/vnd.google.colaboratory.intrinsic+json": {
              "type": "string"
            }
          },
          "metadata": {},
          "execution_count": 212
        }
      ]
    },
    {
      "cell_type": "code",
      "source": [
        "int(len(strhere) / 2)"
      ],
      "metadata": {
        "colab": {
          "base_uri": "https://localhost:8080/"
        },
        "id": "NbritUCSbkMl",
        "outputId": "36a71771-5bdf-4a8f-b91d-a05c34594bcf"
      },
      "execution_count": null,
      "outputs": [
        {
          "output_type": "execute_result",
          "data": {
            "text/plain": [
              "2"
            ]
          },
          "metadata": {},
          "execution_count": 210
        }
      ]
    },
    {
      "cell_type": "code",
      "source": [
        "strhere[:int(len(strhere) / 2)]"
      ],
      "metadata": {
        "colab": {
          "base_uri": "https://localhost:8080/",
          "height": 35
        },
        "id": "UK68Xn39e06S",
        "outputId": "29c6ed80-b008-43c0-f4e6-cddbb6d589a5"
      },
      "execution_count": null,
      "outputs": [
        {
          "output_type": "execute_result",
          "data": {
            "text/plain": [
              "'ha'"
            ],
            "application/vnd.google.colaboratory.intrinsic+json": {
              "type": "string"
            }
          },
          "metadata": {},
          "execution_count": 213
        }
      ]
    },
    {
      "cell_type": "code",
      "source": [
        "strhere[:int(len(strhere) / 2)]"
      ],
      "metadata": {
        "colab": {
          "base_uri": "https://localhost:8080/",
          "height": 35
        },
        "id": "ij_xh1nlbe6a",
        "outputId": "91b7560c-9675-4717-ac89-97f84eb5c197"
      },
      "execution_count": null,
      "outputs": [
        {
          "output_type": "execute_result",
          "data": {
            "text/plain": [
              "'han'"
            ],
            "application/vnd.google.colaboratory.intrinsic+json": {
              "type": "string"
            }
          },
          "metadata": {},
          "execution_count": 189
        }
      ]
    },
    {
      "cell_type": "code",
      "source": [
        "strhere = strhere[::-1]"
      ],
      "metadata": {
        "id": "RoIdeCcwbhxE"
      },
      "execution_count": null,
      "outputs": []
    },
    {
      "cell_type": "code",
      "source": [
        "strhere[:int(len(strhere) / 2)]"
      ],
      "metadata": {
        "id": "DZ1hai2jbsb4"
      },
      "execution_count": null,
      "outputs": []
    },
    {
      "cell_type": "code",
      "source": [
        "isinstance(\"hanna\", str)"
      ],
      "metadata": {
        "colab": {
          "base_uri": "https://localhost:8080/",
          "height": 169
        },
        "id": "qKPqhjcsdb1A",
        "outputId": "7c75314f-2f2a-48b8-9af3-639a28c7623d"
      },
      "execution_count": null,
      "outputs": [
        {
          "output_type": "error",
          "ename": "TypeError",
          "evalue": "ignored",
          "traceback": [
            "\u001b[0;31m---------------------------------------------------------------------------\u001b[0m",
            "\u001b[0;31mTypeError\u001b[0m                                 Traceback (most recent call last)",
            "\u001b[0;32m<ipython-input-201-84fa8aee4582>\u001b[0m in \u001b[0;36m<module>\u001b[0;34m\u001b[0m\n\u001b[0;32m----> 1\u001b[0;31m \u001b[0misinstance\u001b[0m\u001b[0;34m(\u001b[0m\u001b[0;34m\"hanna\"\u001b[0m\u001b[0;34m,\u001b[0m \u001b[0mstr\u001b[0m\u001b[0;34m)\u001b[0m\u001b[0;34m\u001b[0m\u001b[0;34m\u001b[0m\u001b[0m\n\u001b[0m",
            "\u001b[0;31mTypeError\u001b[0m: isinstance() arg 2 must be a type or tuple of types"
          ]
        }
      ]
    },
    {
      "cell_type": "code",
      "source": [
        "len(\"annah\") % 2"
      ],
      "metadata": {
        "colab": {
          "base_uri": "https://localhost:8080/"
        },
        "id": "KryW9wcidcVI",
        "outputId": "fd45a533-af38-4b57-f941-e8a35c309aa5"
      },
      "execution_count": null,
      "outputs": [
        {
          "output_type": "execute_result",
          "data": {
            "text/plain": [
              "1"
            ]
          },
          "metadata": {},
          "execution_count": 204
        }
      ]
    },
    {
      "cell_type": "markdown",
      "source": [
        "EXERCISE:\n",
        "\n",
        "create a numpy array containing numbers from 1 to 10\n",
        "\n",
        "extract only even numbers with boolean operations\n",
        "\n",
        "reverse it\n",
        "\n",
        "make all those number odd (hint: you can use use range or np.arange to create the array)\n"
      ],
      "metadata": {
        "id": "apzUFk9Fd_Xw"
      }
    },
    {
      "cell_type": "code",
      "source": [],
      "metadata": {
        "id": "TL_e5Dk4fEYQ"
      },
      "execution_count": null,
      "outputs": []
    },
    {
      "cell_type": "markdown",
      "source": [
        "# matplotlib"
      ],
      "metadata": {
        "id": "_9DU2MU8fwcH"
      }
    },
    {
      "cell_type": "code",
      "source": [
        "import matplotlib as mpl"
      ],
      "metadata": {
        "id": "nAd_c2w_gIlp"
      },
      "execution_count": null,
      "outputs": []
    },
    {
      "cell_type": "code",
      "source": [
        "import pylab as pl\n",
        "%pylab inline  "
      ],
      "metadata": {
        "colab": {
          "base_uri": "https://localhost:8080/"
        },
        "id": "HNMC__dZgLYQ",
        "outputId": "22acef21-80fc-4441-b6a6-505db55f7653"
      },
      "execution_count": null,
      "outputs": [
        {
          "output_type": "stream",
          "name": "stdout",
          "text": [
            "Populating the interactive namespace from numpy and matplotlib\n"
          ]
        }
      ]
    },
    {
      "cell_type": "code",
      "source": [
        "# non c'e bisogno di pylab inline in colab ma locally si\n"
      ],
      "metadata": {
        "id": "y73lXvQdgN6S"
      },
      "execution_count": null,
      "outputs": []
    },
    {
      "cell_type": "code",
      "source": [
        "pl.rcParams"
      ],
      "metadata": {
        "colab": {
          "base_uri": "https://localhost:8080/"
        },
        "id": "mzFIcNCbglWi",
        "outputId": "642a7cff-d337-4cfc-b457-e67b54c822bc"
      },
      "execution_count": null,
      "outputs": [
        {
          "output_type": "execute_result",
          "data": {
            "text/plain": [
              "RcParams({'_internal.classic_mode': False,\n",
              "          'agg.path.chunksize': 0,\n",
              "          'animation.bitrate': -1,\n",
              "          'animation.codec': 'h264',\n",
              "          'animation.convert_args': [],\n",
              "          'animation.convert_path': 'convert',\n",
              "          'animation.embed_limit': 20.0,\n",
              "          'animation.ffmpeg_args': [],\n",
              "          'animation.ffmpeg_path': 'ffmpeg',\n",
              "          'animation.frame_format': 'png',\n",
              "          'animation.html': 'none',\n",
              "          'animation.writer': 'ffmpeg',\n",
              "          'axes.autolimit_mode': 'data',\n",
              "          'axes.axisbelow': 'line',\n",
              "          'axes.edgecolor': 'black',\n",
              "          'axes.facecolor': 'white',\n",
              "          'axes.formatter.limits': [-5, 6],\n",
              "          'axes.formatter.min_exponent': 0,\n",
              "          'axes.formatter.offset_threshold': 4,\n",
              "          'axes.formatter.use_locale': False,\n",
              "          'axes.formatter.use_mathtext': False,\n",
              "          'axes.formatter.useoffset': True,\n",
              "          'axes.grid': False,\n",
              "          'axes.grid.axis': 'both',\n",
              "          'axes.grid.which': 'major',\n",
              "          'axes.labelcolor': 'black',\n",
              "          'axes.labelpad': 4.0,\n",
              "          'axes.labelsize': 'medium',\n",
              "          'axes.labelweight': 'normal',\n",
              "          'axes.linewidth': 0.8,\n",
              "          'axes.prop_cycle': cycler('color', ['#1f77b4', '#ff7f0e', '#2ca02c', '#d62728', '#9467bd', '#8c564b', '#e377c2', '#7f7f7f', '#bcbd22', '#17becf']),\n",
              "          'axes.spines.bottom': True,\n",
              "          'axes.spines.left': True,\n",
              "          'axes.spines.right': True,\n",
              "          'axes.spines.top': True,\n",
              "          'axes.titlecolor': 'auto',\n",
              "          'axes.titlelocation': 'center',\n",
              "          'axes.titlepad': 6.0,\n",
              "          'axes.titlesize': 'large',\n",
              "          'axes.titleweight': 'normal',\n",
              "          'axes.titley': None,\n",
              "          'axes.unicode_minus': True,\n",
              "          'axes.xmargin': 0.05,\n",
              "          'axes.ymargin': 0.05,\n",
              "          'axes.zmargin': 0.05,\n",
              "          'axes3d.grid': True,\n",
              "          'backend': 'module://ipykernel.pylab.backend_inline',\n",
              "          'backend_fallback': True,\n",
              "          'boxplot.bootstrap': None,\n",
              "          'boxplot.boxprops.color': 'black',\n",
              "          'boxplot.boxprops.linestyle': '-',\n",
              "          'boxplot.boxprops.linewidth': 1.0,\n",
              "          'boxplot.capprops.color': 'black',\n",
              "          'boxplot.capprops.linestyle': '-',\n",
              "          'boxplot.capprops.linewidth': 1.0,\n",
              "          'boxplot.flierprops.color': 'black',\n",
              "          'boxplot.flierprops.linestyle': 'none',\n",
              "          'boxplot.flierprops.linewidth': 1.0,\n",
              "          'boxplot.flierprops.marker': 'o',\n",
              "          'boxplot.flierprops.markeredgecolor': 'black',\n",
              "          'boxplot.flierprops.markeredgewidth': 1.0,\n",
              "          'boxplot.flierprops.markerfacecolor': 'none',\n",
              "          'boxplot.flierprops.markersize': 6.0,\n",
              "          'boxplot.meanline': False,\n",
              "          'boxplot.meanprops.color': 'C2',\n",
              "          'boxplot.meanprops.linestyle': '--',\n",
              "          'boxplot.meanprops.linewidth': 1.0,\n",
              "          'boxplot.meanprops.marker': '^',\n",
              "          'boxplot.meanprops.markeredgecolor': 'C2',\n",
              "          'boxplot.meanprops.markerfacecolor': 'C2',\n",
              "          'boxplot.meanprops.markersize': 6.0,\n",
              "          'boxplot.medianprops.color': 'C1',\n",
              "          'boxplot.medianprops.linestyle': '-',\n",
              "          'boxplot.medianprops.linewidth': 1.0,\n",
              "          'boxplot.notch': False,\n",
              "          'boxplot.patchartist': False,\n",
              "          'boxplot.showbox': True,\n",
              "          'boxplot.showcaps': True,\n",
              "          'boxplot.showfliers': True,\n",
              "          'boxplot.showmeans': False,\n",
              "          'boxplot.vertical': True,\n",
              "          'boxplot.whiskerprops.color': 'black',\n",
              "          'boxplot.whiskerprops.linestyle': '-',\n",
              "          'boxplot.whiskerprops.linewidth': 1.0,\n",
              "          'boxplot.whiskers': 1.5,\n",
              "          'contour.corner_mask': True,\n",
              "          'contour.linewidth': None,\n",
              "          'contour.negative_linestyle': 'dashed',\n",
              "          'date.autoformatter.day': '%Y-%m-%d',\n",
              "          'date.autoformatter.hour': '%m-%d %H',\n",
              "          'date.autoformatter.microsecond': '%M:%S.%f',\n",
              "          'date.autoformatter.minute': '%d %H:%M',\n",
              "          'date.autoformatter.month': '%Y-%m',\n",
              "          'date.autoformatter.second': '%H:%M:%S',\n",
              "          'date.autoformatter.year': '%Y',\n",
              "          'date.converter': 'auto',\n",
              "          'date.epoch': '1970-01-01T00:00:00',\n",
              "          'date.interval_multiples': True,\n",
              "          'docstring.hardcopy': False,\n",
              "          'errorbar.capsize': 0.0,\n",
              "          'figure.autolayout': False,\n",
              "          'figure.constrained_layout.h_pad': 0.04167,\n",
              "          'figure.constrained_layout.hspace': 0.02,\n",
              "          'figure.constrained_layout.use': False,\n",
              "          'figure.constrained_layout.w_pad': 0.04167,\n",
              "          'figure.constrained_layout.wspace': 0.02,\n",
              "          'figure.dpi': 72.0,\n",
              "          'figure.edgecolor': (1, 1, 1, 0),\n",
              "          'figure.facecolor': (1, 1, 1, 0),\n",
              "          'figure.figsize': [6.0, 4.0],\n",
              "          'figure.frameon': True,\n",
              "          'figure.max_open_warning': 20,\n",
              "          'figure.raise_window': True,\n",
              "          'figure.subplot.bottom': 0.125,\n",
              "          'figure.subplot.hspace': 0.2,\n",
              "          'figure.subplot.left': 0.125,\n",
              "          'figure.subplot.right': 0.9,\n",
              "          'figure.subplot.top': 0.88,\n",
              "          'figure.subplot.wspace': 0.2,\n",
              "          'figure.titlesize': 'large',\n",
              "          'figure.titleweight': 'normal',\n",
              "          'font.cursive': ['Apple Chancery',\n",
              "                           'Textile',\n",
              "                           'Zapf Chancery',\n",
              "                           'Sand',\n",
              "                           'Script MT',\n",
              "                           'Felipa',\n",
              "                           'Comic Neue',\n",
              "                           'Comic Sans MS',\n",
              "                           'cursive'],\n",
              "          'font.family': ['sans-serif'],\n",
              "          'font.fantasy': ['Chicago',\n",
              "                           'Charcoal',\n",
              "                           'Impact',\n",
              "                           'Western',\n",
              "                           'Humor Sans',\n",
              "                           'xkcd',\n",
              "                           'fantasy'],\n",
              "          'font.monospace': ['DejaVu Sans Mono',\n",
              "                             'Bitstream Vera Sans Mono',\n",
              "                             'Computer Modern Typewriter',\n",
              "                             'Andale Mono',\n",
              "                             'Nimbus Mono L',\n",
              "                             'Courier New',\n",
              "                             'Courier',\n",
              "                             'Fixed',\n",
              "                             'Terminal',\n",
              "                             'monospace'],\n",
              "          'font.sans-serif': ['DejaVu Sans',\n",
              "                              'Bitstream Vera Sans',\n",
              "                              'Computer Modern Sans Serif',\n",
              "                              'Lucida Grande',\n",
              "                              'Verdana',\n",
              "                              'Geneva',\n",
              "                              'Lucid',\n",
              "                              'Arial',\n",
              "                              'Helvetica',\n",
              "                              'Avant Garde',\n",
              "                              'sans-serif'],\n",
              "          'font.serif': ['DejaVu Serif',\n",
              "                         'Bitstream Vera Serif',\n",
              "                         'Computer Modern Roman',\n",
              "                         'New Century Schoolbook',\n",
              "                         'Century Schoolbook L',\n",
              "                         'Utopia',\n",
              "                         'ITC Bookman',\n",
              "                         'Bookman',\n",
              "                         'Nimbus Roman No9 L',\n",
              "                         'Times New Roman',\n",
              "                         'Times',\n",
              "                         'Palatino',\n",
              "                         'Charter',\n",
              "                         'serif'],\n",
              "          'font.size': 10.0,\n",
              "          'font.stretch': 'normal',\n",
              "          'font.style': 'normal',\n",
              "          'font.variant': 'normal',\n",
              "          'font.weight': 'normal',\n",
              "          'grid.alpha': 1.0,\n",
              "          'grid.color': '#b0b0b0',\n",
              "          'grid.linestyle': '-',\n",
              "          'grid.linewidth': 0.8,\n",
              "          'hatch.color': 'black',\n",
              "          'hatch.linewidth': 1.0,\n",
              "          'hist.bins': 10,\n",
              "          'image.aspect': 'equal',\n",
              "          'image.cmap': 'viridis',\n",
              "          'image.composite_image': True,\n",
              "          'image.interpolation': 'antialiased',\n",
              "          'image.lut': 256,\n",
              "          'image.origin': 'upper',\n",
              "          'image.resample': True,\n",
              "          'interactive': True,\n",
              "          'keymap.back': ['left', 'c', 'backspace', 'MouseButton.BACK'],\n",
              "          'keymap.copy': ['ctrl+c', 'cmd+c'],\n",
              "          'keymap.forward': ['right', 'v', 'MouseButton.FORWARD'],\n",
              "          'keymap.fullscreen': ['f', 'ctrl+f'],\n",
              "          'keymap.grid': ['g'],\n",
              "          'keymap.grid_minor': ['G'],\n",
              "          'keymap.help': ['f1'],\n",
              "          'keymap.home': ['h', 'r', 'home'],\n",
              "          'keymap.pan': ['p'],\n",
              "          'keymap.quit': ['ctrl+w', 'cmd+w', 'q'],\n",
              "          'keymap.quit_all': [],\n",
              "          'keymap.save': ['s', 'ctrl+s'],\n",
              "          'keymap.xscale': ['k', 'L'],\n",
              "          'keymap.yscale': ['l'],\n",
              "          'keymap.zoom': ['o'],\n",
              "          'legend.borderaxespad': 0.5,\n",
              "          'legend.borderpad': 0.4,\n",
              "          'legend.columnspacing': 2.0,\n",
              "          'legend.edgecolor': '0.8',\n",
              "          'legend.facecolor': 'inherit',\n",
              "          'legend.fancybox': True,\n",
              "          'legend.fontsize': 'medium',\n",
              "          'legend.framealpha': 0.8,\n",
              "          'legend.frameon': True,\n",
              "          'legend.handleheight': 0.7,\n",
              "          'legend.handlelength': 2.0,\n",
              "          'legend.handletextpad': 0.8,\n",
              "          'legend.labelcolor': 'None',\n",
              "          'legend.labelspacing': 0.5,\n",
              "          'legend.loc': 'best',\n",
              "          'legend.markerscale': 1.0,\n",
              "          'legend.numpoints': 1,\n",
              "          'legend.scatterpoints': 1,\n",
              "          'legend.shadow': False,\n",
              "          'legend.title_fontsize': None,\n",
              "          'lines.antialiased': True,\n",
              "          'lines.color': 'C0',\n",
              "          'lines.dash_capstyle': <CapStyle.butt: 'butt'>,\n",
              "          'lines.dash_joinstyle': <JoinStyle.round: 'round'>,\n",
              "          'lines.dashdot_pattern': [6.4, 1.6, 1.0, 1.6],\n",
              "          'lines.dashed_pattern': [3.7, 1.6],\n",
              "          'lines.dotted_pattern': [1.0, 1.65],\n",
              "          'lines.linestyle': '-',\n",
              "          'lines.linewidth': 1.5,\n",
              "          'lines.marker': 'None',\n",
              "          'lines.markeredgecolor': 'auto',\n",
              "          'lines.markeredgewidth': 1.0,\n",
              "          'lines.markerfacecolor': 'auto',\n",
              "          'lines.markersize': 6.0,\n",
              "          'lines.scale_dashes': True,\n",
              "          'lines.solid_capstyle': <CapStyle.projecting: 'projecting'>,\n",
              "          'lines.solid_joinstyle': <JoinStyle.round: 'round'>,\n",
              "          'markers.fillstyle': 'full',\n",
              "          'mathtext.bf': 'sans:bold',\n",
              "          'mathtext.cal': 'cursive',\n",
              "          'mathtext.default': 'it',\n",
              "          'mathtext.fallback': 'cm',\n",
              "          'mathtext.fontset': 'dejavusans',\n",
              "          'mathtext.it': 'sans:italic',\n",
              "          'mathtext.rm': 'sans',\n",
              "          'mathtext.sf': 'sans',\n",
              "          'mathtext.tt': 'monospace',\n",
              "          'patch.antialiased': True,\n",
              "          'patch.edgecolor': 'black',\n",
              "          'patch.facecolor': 'C0',\n",
              "          'patch.force_edgecolor': False,\n",
              "          'patch.linewidth': 1.0,\n",
              "          'path.effects': [],\n",
              "          'path.simplify': True,\n",
              "          'path.simplify_threshold': 0.111111111111,\n",
              "          'path.sketch': None,\n",
              "          'path.snap': True,\n",
              "          'pcolor.shading': 'auto',\n",
              "          'pcolormesh.snap': True,\n",
              "          'pdf.compression': 6,\n",
              "          'pdf.fonttype': 3,\n",
              "          'pdf.inheritcolor': False,\n",
              "          'pdf.use14corefonts': False,\n",
              "          'pgf.preamble': '',\n",
              "          'pgf.rcfonts': True,\n",
              "          'pgf.texsystem': 'xelatex',\n",
              "          'polaraxes.grid': True,\n",
              "          'ps.distiller.res': 6000,\n",
              "          'ps.fonttype': 3,\n",
              "          'ps.papersize': 'letter',\n",
              "          'ps.useafm': False,\n",
              "          'ps.usedistiller': None,\n",
              "          'savefig.bbox': None,\n",
              "          'savefig.directory': '~',\n",
              "          'savefig.dpi': 'figure',\n",
              "          'savefig.edgecolor': 'auto',\n",
              "          'savefig.facecolor': 'auto',\n",
              "          'savefig.format': 'png',\n",
              "          'savefig.orientation': 'portrait',\n",
              "          'savefig.pad_inches': 0.1,\n",
              "          'savefig.transparent': False,\n",
              "          'scatter.edgecolors': 'face',\n",
              "          'scatter.marker': 'o',\n",
              "          'svg.fonttype': 'path',\n",
              "          'svg.hashsalt': None,\n",
              "          'svg.image_inline': True,\n",
              "          'text.antialiased': True,\n",
              "          'text.color': 'black',\n",
              "          'text.hinting': 'force_autohint',\n",
              "          'text.hinting_factor': 8,\n",
              "          'text.kerning_factor': 0,\n",
              "          'text.latex.preamble': '',\n",
              "          'text.usetex': False,\n",
              "          'timezone': 'UTC',\n",
              "          'tk.window_focus': False,\n",
              "          'toolbar': 'toolbar2',\n",
              "          'webagg.address': '127.0.0.1',\n",
              "          'webagg.open_in_browser': True,\n",
              "          'webagg.port': 8988,\n",
              "          'webagg.port_retries': 50,\n",
              "          'xaxis.labellocation': 'center',\n",
              "          'xtick.alignment': 'center',\n",
              "          'xtick.bottom': True,\n",
              "          'xtick.color': 'black',\n",
              "          'xtick.direction': 'out',\n",
              "          'xtick.labelbottom': True,\n",
              "          'xtick.labelcolor': 'inherit',\n",
              "          'xtick.labelsize': 'medium',\n",
              "          'xtick.labeltop': False,\n",
              "          'xtick.major.bottom': True,\n",
              "          'xtick.major.pad': 3.5,\n",
              "          'xtick.major.size': 3.5,\n",
              "          'xtick.major.top': True,\n",
              "          'xtick.major.width': 0.8,\n",
              "          'xtick.minor.bottom': True,\n",
              "          'xtick.minor.pad': 3.4,\n",
              "          'xtick.minor.size': 2.0,\n",
              "          'xtick.minor.top': True,\n",
              "          'xtick.minor.visible': False,\n",
              "          'xtick.minor.width': 0.6,\n",
              "          'xtick.top': False,\n",
              "          'yaxis.labellocation': 'center',\n",
              "          'ytick.alignment': 'center_baseline',\n",
              "          'ytick.color': 'black',\n",
              "          'ytick.direction': 'out',\n",
              "          'ytick.labelcolor': 'inherit',\n",
              "          'ytick.labelleft': True,\n",
              "          'ytick.labelright': False,\n",
              "          'ytick.labelsize': 'medium',\n",
              "          'ytick.left': True,\n",
              "          'ytick.major.left': True,\n",
              "          'ytick.major.pad': 3.5,\n",
              "          'ytick.major.right': True,\n",
              "          'ytick.major.size': 3.5,\n",
              "          'ytick.major.width': 0.8,\n",
              "          'ytick.minor.left': True,\n",
              "          'ytick.minor.pad': 3.4,\n",
              "          'ytick.minor.right': True,\n",
              "          'ytick.minor.size': 2.0,\n",
              "          'ytick.minor.visible': False,\n",
              "          'ytick.minor.width': 0.6,\n",
              "          'ytick.right': False})"
            ]
          },
          "metadata": {},
          "execution_count": 227
        }
      ]
    },
    {
      "cell_type": "code",
      "source": [
        "pl.rcParams['font.size'] = 20"
      ],
      "metadata": {
        "id": "GRhLFjQPgp97"
      },
      "execution_count": null,
      "outputs": []
    },
    {
      "cell_type": "code",
      "source": [
        "pl.rcParams"
      ],
      "metadata": {
        "colab": {
          "base_uri": "https://localhost:8080/"
        },
        "id": "Ls_ZO8tUhA_W",
        "outputId": "4dc675ba-c6c3-41fc-ab66-8b14da8649ac"
      },
      "execution_count": null,
      "outputs": [
        {
          "output_type": "execute_result",
          "data": {
            "text/plain": [
              "RcParams({'_internal.classic_mode': False,\n",
              "          'agg.path.chunksize': 0,\n",
              "          'animation.bitrate': -1,\n",
              "          'animation.codec': 'h264',\n",
              "          'animation.convert_args': [],\n",
              "          'animation.convert_path': 'convert',\n",
              "          'animation.embed_limit': 20.0,\n",
              "          'animation.ffmpeg_args': [],\n",
              "          'animation.ffmpeg_path': 'ffmpeg',\n",
              "          'animation.frame_format': 'png',\n",
              "          'animation.html': 'none',\n",
              "          'animation.writer': 'ffmpeg',\n",
              "          'axes.autolimit_mode': 'data',\n",
              "          'axes.axisbelow': 'line',\n",
              "          'axes.edgecolor': 'black',\n",
              "          'axes.facecolor': 'white',\n",
              "          'axes.formatter.limits': [-5, 6],\n",
              "          'axes.formatter.min_exponent': 0,\n",
              "          'axes.formatter.offset_threshold': 4,\n",
              "          'axes.formatter.use_locale': False,\n",
              "          'axes.formatter.use_mathtext': False,\n",
              "          'axes.formatter.useoffset': True,\n",
              "          'axes.grid': False,\n",
              "          'axes.grid.axis': 'both',\n",
              "          'axes.grid.which': 'major',\n",
              "          'axes.labelcolor': 'black',\n",
              "          'axes.labelpad': 4.0,\n",
              "          'axes.labelsize': 'medium',\n",
              "          'axes.labelweight': 'normal',\n",
              "          'axes.linewidth': 0.8,\n",
              "          'axes.prop_cycle': cycler('color', ['#1f77b4', '#ff7f0e', '#2ca02c', '#d62728', '#9467bd', '#8c564b', '#e377c2', '#7f7f7f', '#bcbd22', '#17becf']),\n",
              "          'axes.spines.bottom': True,\n",
              "          'axes.spines.left': True,\n",
              "          'axes.spines.right': True,\n",
              "          'axes.spines.top': True,\n",
              "          'axes.titlecolor': 'auto',\n",
              "          'axes.titlelocation': 'center',\n",
              "          'axes.titlepad': 6.0,\n",
              "          'axes.titlesize': 'large',\n",
              "          'axes.titleweight': 'normal',\n",
              "          'axes.titley': None,\n",
              "          'axes.unicode_minus': True,\n",
              "          'axes.xmargin': 0.05,\n",
              "          'axes.ymargin': 0.05,\n",
              "          'axes.zmargin': 0.05,\n",
              "          'axes3d.grid': True,\n",
              "          'backend': 'module://ipykernel.pylab.backend_inline',\n",
              "          'backend_fallback': True,\n",
              "          'boxplot.bootstrap': None,\n",
              "          'boxplot.boxprops.color': 'black',\n",
              "          'boxplot.boxprops.linestyle': '-',\n",
              "          'boxplot.boxprops.linewidth': 1.0,\n",
              "          'boxplot.capprops.color': 'black',\n",
              "          'boxplot.capprops.linestyle': '-',\n",
              "          'boxplot.capprops.linewidth': 1.0,\n",
              "          'boxplot.flierprops.color': 'black',\n",
              "          'boxplot.flierprops.linestyle': 'none',\n",
              "          'boxplot.flierprops.linewidth': 1.0,\n",
              "          'boxplot.flierprops.marker': 'o',\n",
              "          'boxplot.flierprops.markeredgecolor': 'black',\n",
              "          'boxplot.flierprops.markeredgewidth': 1.0,\n",
              "          'boxplot.flierprops.markerfacecolor': 'none',\n",
              "          'boxplot.flierprops.markersize': 6.0,\n",
              "          'boxplot.meanline': False,\n",
              "          'boxplot.meanprops.color': 'C2',\n",
              "          'boxplot.meanprops.linestyle': '--',\n",
              "          'boxplot.meanprops.linewidth': 1.0,\n",
              "          'boxplot.meanprops.marker': '^',\n",
              "          'boxplot.meanprops.markeredgecolor': 'C2',\n",
              "          'boxplot.meanprops.markerfacecolor': 'C2',\n",
              "          'boxplot.meanprops.markersize': 6.0,\n",
              "          'boxplot.medianprops.color': 'C1',\n",
              "          'boxplot.medianprops.linestyle': '-',\n",
              "          'boxplot.medianprops.linewidth': 1.0,\n",
              "          'boxplot.notch': False,\n",
              "          'boxplot.patchartist': False,\n",
              "          'boxplot.showbox': True,\n",
              "          'boxplot.showcaps': True,\n",
              "          'boxplot.showfliers': True,\n",
              "          'boxplot.showmeans': False,\n",
              "          'boxplot.vertical': True,\n",
              "          'boxplot.whiskerprops.color': 'black',\n",
              "          'boxplot.whiskerprops.linestyle': '-',\n",
              "          'boxplot.whiskerprops.linewidth': 1.0,\n",
              "          'boxplot.whiskers': 1.5,\n",
              "          'contour.corner_mask': True,\n",
              "          'contour.linewidth': None,\n",
              "          'contour.negative_linestyle': 'dashed',\n",
              "          'date.autoformatter.day': '%Y-%m-%d',\n",
              "          'date.autoformatter.hour': '%m-%d %H',\n",
              "          'date.autoformatter.microsecond': '%M:%S.%f',\n",
              "          'date.autoformatter.minute': '%d %H:%M',\n",
              "          'date.autoformatter.month': '%Y-%m',\n",
              "          'date.autoformatter.second': '%H:%M:%S',\n",
              "          'date.autoformatter.year': '%Y',\n",
              "          'date.converter': 'auto',\n",
              "          'date.epoch': '1970-01-01T00:00:00',\n",
              "          'date.interval_multiples': True,\n",
              "          'docstring.hardcopy': False,\n",
              "          'errorbar.capsize': 0.0,\n",
              "          'figure.autolayout': False,\n",
              "          'figure.constrained_layout.h_pad': 0.04167,\n",
              "          'figure.constrained_layout.hspace': 0.02,\n",
              "          'figure.constrained_layout.use': False,\n",
              "          'figure.constrained_layout.w_pad': 0.04167,\n",
              "          'figure.constrained_layout.wspace': 0.02,\n",
              "          'figure.dpi': 72.0,\n",
              "          'figure.edgecolor': (1, 1, 1, 0),\n",
              "          'figure.facecolor': (1, 1, 1, 0),\n",
              "          'figure.figsize': [6.0, 4.0],\n",
              "          'figure.frameon': True,\n",
              "          'figure.max_open_warning': 20,\n",
              "          'figure.raise_window': True,\n",
              "          'figure.subplot.bottom': 0.125,\n",
              "          'figure.subplot.hspace': 0.2,\n",
              "          'figure.subplot.left': 0.125,\n",
              "          'figure.subplot.right': 0.9,\n",
              "          'figure.subplot.top': 0.88,\n",
              "          'figure.subplot.wspace': 0.2,\n",
              "          'figure.titlesize': 'large',\n",
              "          'figure.titleweight': 'normal',\n",
              "          'font.cursive': ['Apple Chancery',\n",
              "                           'Textile',\n",
              "                           'Zapf Chancery',\n",
              "                           'Sand',\n",
              "                           'Script MT',\n",
              "                           'Felipa',\n",
              "                           'Comic Neue',\n",
              "                           'Comic Sans MS',\n",
              "                           'cursive'],\n",
              "          'font.family': ['sans-serif'],\n",
              "          'font.fantasy': ['Chicago',\n",
              "                           'Charcoal',\n",
              "                           'Impact',\n",
              "                           'Western',\n",
              "                           'Humor Sans',\n",
              "                           'xkcd',\n",
              "                           'fantasy'],\n",
              "          'font.monospace': ['DejaVu Sans Mono',\n",
              "                             'Bitstream Vera Sans Mono',\n",
              "                             'Computer Modern Typewriter',\n",
              "                             'Andale Mono',\n",
              "                             'Nimbus Mono L',\n",
              "                             'Courier New',\n",
              "                             'Courier',\n",
              "                             'Fixed',\n",
              "                             'Terminal',\n",
              "                             'monospace'],\n",
              "          'font.sans-serif': ['DejaVu Sans',\n",
              "                              'Bitstream Vera Sans',\n",
              "                              'Computer Modern Sans Serif',\n",
              "                              'Lucida Grande',\n",
              "                              'Verdana',\n",
              "                              'Geneva',\n",
              "                              'Lucid',\n",
              "                              'Arial',\n",
              "                              'Helvetica',\n",
              "                              'Avant Garde',\n",
              "                              'sans-serif'],\n",
              "          'font.serif': ['DejaVu Serif',\n",
              "                         'Bitstream Vera Serif',\n",
              "                         'Computer Modern Roman',\n",
              "                         'New Century Schoolbook',\n",
              "                         'Century Schoolbook L',\n",
              "                         'Utopia',\n",
              "                         'ITC Bookman',\n",
              "                         'Bookman',\n",
              "                         'Nimbus Roman No9 L',\n",
              "                         'Times New Roman',\n",
              "                         'Times',\n",
              "                         'Palatino',\n",
              "                         'Charter',\n",
              "                         'serif'],\n",
              "          'font.size': 20.0,\n",
              "          'font.stretch': 'normal',\n",
              "          'font.style': 'normal',\n",
              "          'font.variant': 'normal',\n",
              "          'font.weight': 'normal',\n",
              "          'grid.alpha': 1.0,\n",
              "          'grid.color': '#b0b0b0',\n",
              "          'grid.linestyle': '-',\n",
              "          'grid.linewidth': 0.8,\n",
              "          'hatch.color': 'black',\n",
              "          'hatch.linewidth': 1.0,\n",
              "          'hist.bins': 10,\n",
              "          'image.aspect': 'equal',\n",
              "          'image.cmap': 'viridis',\n",
              "          'image.composite_image': True,\n",
              "          'image.interpolation': 'antialiased',\n",
              "          'image.lut': 256,\n",
              "          'image.origin': 'upper',\n",
              "          'image.resample': True,\n",
              "          'interactive': True,\n",
              "          'keymap.back': ['left', 'c', 'backspace', 'MouseButton.BACK'],\n",
              "          'keymap.copy': ['ctrl+c', 'cmd+c'],\n",
              "          'keymap.forward': ['right', 'v', 'MouseButton.FORWARD'],\n",
              "          'keymap.fullscreen': ['f', 'ctrl+f'],\n",
              "          'keymap.grid': ['g'],\n",
              "          'keymap.grid_minor': ['G'],\n",
              "          'keymap.help': ['f1'],\n",
              "          'keymap.home': ['h', 'r', 'home'],\n",
              "          'keymap.pan': ['p'],\n",
              "          'keymap.quit': ['ctrl+w', 'cmd+w', 'q'],\n",
              "          'keymap.quit_all': [],\n",
              "          'keymap.save': ['s', 'ctrl+s'],\n",
              "          'keymap.xscale': ['k', 'L'],\n",
              "          'keymap.yscale': ['l'],\n",
              "          'keymap.zoom': ['o'],\n",
              "          'legend.borderaxespad': 0.5,\n",
              "          'legend.borderpad': 0.4,\n",
              "          'legend.columnspacing': 2.0,\n",
              "          'legend.edgecolor': '0.8',\n",
              "          'legend.facecolor': 'inherit',\n",
              "          'legend.fancybox': True,\n",
              "          'legend.fontsize': 'medium',\n",
              "          'legend.framealpha': 0.8,\n",
              "          'legend.frameon': True,\n",
              "          'legend.handleheight': 0.7,\n",
              "          'legend.handlelength': 2.0,\n",
              "          'legend.handletextpad': 0.8,\n",
              "          'legend.labelcolor': 'None',\n",
              "          'legend.labelspacing': 0.5,\n",
              "          'legend.loc': 'best',\n",
              "          'legend.markerscale': 1.0,\n",
              "          'legend.numpoints': 1,\n",
              "          'legend.scatterpoints': 1,\n",
              "          'legend.shadow': False,\n",
              "          'legend.title_fontsize': None,\n",
              "          'lines.antialiased': True,\n",
              "          'lines.color': 'C0',\n",
              "          'lines.dash_capstyle': <CapStyle.butt: 'butt'>,\n",
              "          'lines.dash_joinstyle': <JoinStyle.round: 'round'>,\n",
              "          'lines.dashdot_pattern': [6.4, 1.6, 1.0, 1.6],\n",
              "          'lines.dashed_pattern': [3.7, 1.6],\n",
              "          'lines.dotted_pattern': [1.0, 1.65],\n",
              "          'lines.linestyle': '-',\n",
              "          'lines.linewidth': 1.5,\n",
              "          'lines.marker': 'None',\n",
              "          'lines.markeredgecolor': 'auto',\n",
              "          'lines.markeredgewidth': 1.0,\n",
              "          'lines.markerfacecolor': 'auto',\n",
              "          'lines.markersize': 6.0,\n",
              "          'lines.scale_dashes': True,\n",
              "          'lines.solid_capstyle': <CapStyle.projecting: 'projecting'>,\n",
              "          'lines.solid_joinstyle': <JoinStyle.round: 'round'>,\n",
              "          'markers.fillstyle': 'full',\n",
              "          'mathtext.bf': 'sans:bold',\n",
              "          'mathtext.cal': 'cursive',\n",
              "          'mathtext.default': 'it',\n",
              "          'mathtext.fallback': 'cm',\n",
              "          'mathtext.fontset': 'dejavusans',\n",
              "          'mathtext.it': 'sans:italic',\n",
              "          'mathtext.rm': 'sans',\n",
              "          'mathtext.sf': 'sans',\n",
              "          'mathtext.tt': 'monospace',\n",
              "          'patch.antialiased': True,\n",
              "          'patch.edgecolor': 'black',\n",
              "          'patch.facecolor': 'C0',\n",
              "          'patch.force_edgecolor': False,\n",
              "          'patch.linewidth': 1.0,\n",
              "          'path.effects': [],\n",
              "          'path.simplify': True,\n",
              "          'path.simplify_threshold': 0.111111111111,\n",
              "          'path.sketch': None,\n",
              "          'path.snap': True,\n",
              "          'pcolor.shading': 'auto',\n",
              "          'pcolormesh.snap': True,\n",
              "          'pdf.compression': 6,\n",
              "          'pdf.fonttype': 3,\n",
              "          'pdf.inheritcolor': False,\n",
              "          'pdf.use14corefonts': False,\n",
              "          'pgf.preamble': '',\n",
              "          'pgf.rcfonts': True,\n",
              "          'pgf.texsystem': 'xelatex',\n",
              "          'polaraxes.grid': True,\n",
              "          'ps.distiller.res': 6000,\n",
              "          'ps.fonttype': 3,\n",
              "          'ps.papersize': 'letter',\n",
              "          'ps.useafm': False,\n",
              "          'ps.usedistiller': None,\n",
              "          'savefig.bbox': None,\n",
              "          'savefig.directory': '~',\n",
              "          'savefig.dpi': 'figure',\n",
              "          'savefig.edgecolor': 'auto',\n",
              "          'savefig.facecolor': 'auto',\n",
              "          'savefig.format': 'png',\n",
              "          'savefig.orientation': 'portrait',\n",
              "          'savefig.pad_inches': 0.1,\n",
              "          'savefig.transparent': False,\n",
              "          'scatter.edgecolors': 'face',\n",
              "          'scatter.marker': 'o',\n",
              "          'svg.fonttype': 'path',\n",
              "          'svg.hashsalt': None,\n",
              "          'svg.image_inline': True,\n",
              "          'text.antialiased': True,\n",
              "          'text.color': 'black',\n",
              "          'text.hinting': 'force_autohint',\n",
              "          'text.hinting_factor': 8,\n",
              "          'text.kerning_factor': 0,\n",
              "          'text.latex.preamble': '',\n",
              "          'text.usetex': False,\n",
              "          'timezone': 'UTC',\n",
              "          'tk.window_focus': False,\n",
              "          'toolbar': 'toolbar2',\n",
              "          'webagg.address': '127.0.0.1',\n",
              "          'webagg.open_in_browser': True,\n",
              "          'webagg.port': 8988,\n",
              "          'webagg.port_retries': 50,\n",
              "          'xaxis.labellocation': 'center',\n",
              "          'xtick.alignment': 'center',\n",
              "          'xtick.bottom': True,\n",
              "          'xtick.color': 'black',\n",
              "          'xtick.direction': 'out',\n",
              "          'xtick.labelbottom': True,\n",
              "          'xtick.labelcolor': 'inherit',\n",
              "          'xtick.labelsize': 'medium',\n",
              "          'xtick.labeltop': False,\n",
              "          'xtick.major.bottom': True,\n",
              "          'xtick.major.pad': 3.5,\n",
              "          'xtick.major.size': 3.5,\n",
              "          'xtick.major.top': True,\n",
              "          'xtick.major.width': 0.8,\n",
              "          'xtick.minor.bottom': True,\n",
              "          'xtick.minor.pad': 3.4,\n",
              "          'xtick.minor.size': 2.0,\n",
              "          'xtick.minor.top': True,\n",
              "          'xtick.minor.visible': False,\n",
              "          'xtick.minor.width': 0.6,\n",
              "          'xtick.top': False,\n",
              "          'yaxis.labellocation': 'center',\n",
              "          'ytick.alignment': 'center_baseline',\n",
              "          'ytick.color': 'black',\n",
              "          'ytick.direction': 'out',\n",
              "          'ytick.labelcolor': 'inherit',\n",
              "          'ytick.labelleft': True,\n",
              "          'ytick.labelright': False,\n",
              "          'ytick.labelsize': 'medium',\n",
              "          'ytick.left': True,\n",
              "          'ytick.major.left': True,\n",
              "          'ytick.major.pad': 3.5,\n",
              "          'ytick.major.right': True,\n",
              "          'ytick.major.size': 3.5,\n",
              "          'ytick.major.width': 0.8,\n",
              "          'ytick.minor.left': True,\n",
              "          'ytick.minor.pad': 3.4,\n",
              "          'ytick.minor.right': True,\n",
              "          'ytick.minor.size': 2.0,\n",
              "          'ytick.minor.visible': False,\n",
              "          'ytick.minor.width': 0.6,\n",
              "          'ytick.right': False})"
            ]
          },
          "metadata": {},
          "execution_count": 231
        }
      ]
    },
    {
      "cell_type": "code",
      "source": [
        "# changing default settings with rcParams\n",
        "s = {'font.size': 20, 'figure.figsize': (10,10)}\n",
        "pylab.rcParams.update(s)"
      ],
      "metadata": {
        "id": "oIH8IOBChEjL"
      },
      "execution_count": null,
      "outputs": []
    },
    {
      "cell_type": "code",
      "source": [
        "myx = np.arange(10)"
      ],
      "metadata": {
        "id": "y0IA0MrVhR8G"
      },
      "execution_count": null,
      "outputs": []
    },
    {
      "cell_type": "code",
      "source": [
        "myy = np.arange(0, 100, 10)"
      ],
      "metadata": {
        "id": "tkt_9OKhhYrB"
      },
      "execution_count": null,
      "outputs": []
    },
    {
      "cell_type": "code",
      "source": [
        "myy2 = np.linspace(0, 25, 10)"
      ],
      "metadata": {
        "id": "x-aYcJagiinL"
      },
      "execution_count": null,
      "outputs": []
    },
    {
      "cell_type": "code",
      "source": [
        "pl.rcParams['font.size'] = 12"
      ],
      "metadata": {
        "id": "FbwMFtZwiMs1"
      },
      "execution_count": null,
      "outputs": []
    },
    {
      "cell_type": "code",
      "source": [
        "fig = pl.figure(figsize=(3,3))\n",
        "ax = fig.add_subplot(1,1,1)"
      ],
      "metadata": {
        "colab": {
          "base_uri": "https://localhost:8080/",
          "height": 219
        },
        "id": "rqbA3oJRhcYh",
        "outputId": "f27f6830-d21a-45f7-fdec-905ee2a841e9"
      },
      "execution_count": null,
      "outputs": [
        {
          "output_type": "display_data",
          "data": {
            "text/plain": [
              "<Figure size 216x216 with 1 Axes>"
            ],
            "image/png": "[encoded data removed]"
          },
          "metadata": {
            "needs_background": "light"
          }
        }
      ]
    },
    {
      "cell_type": "code",
      "source": [
        "fig = pl.figure()\n",
        "ax1 = fig.add_subplot(121)\n",
        "ax2 = fig.add_subplot(122)\n",
        "ax1.errorbar(myx, myy, yerr=myy2, color='k', ls='--', label=\"some y value\")\n",
        "ax2.plot(myx, myy2, 'ro', ms=20, label=\"somethingelse\")\n",
        "ax1.legend(fontsize=20)\n",
        "ax2.legend(fontsize=20)\n",
        "ylim = ax1.get_ylim()\n",
        "ax2.set_ylim(ylim)"
      ],
      "metadata": {
        "colab": {
          "base_uri": "https://localhost:8080/",
          "height": 614
        },
        "id": "PS1M8ruyhhGi",
        "outputId": "72ed54de-0fa4-4297-e58c-3ca8b474aa1f"
      },
      "execution_count": null,
      "outputs": [
        {
          "output_type": "execute_result",
          "data": {
            "text/plain": [
              "(-5.75, 120.75)"
            ]
          },
          "metadata": {},
          "execution_count": 259
        },
        {
          "output_type": "display_data",
          "data": {
            "text/plain": [
              "<Figure size 720x720 with 2 Axes>"
            ],
            "image/png": "[encoded data removed]"
          },
          "metadata": {
            "needs_background": "light"
          }
        }
      ]
    },
    {
      "cell_type": "code",
      "source": [
        "pl.imshow(np.random.randn(10,10), interpolation='bilinear');\n",
        "pl.colorbar()"
      ],
      "metadata": {
        "colab": {
          "base_uri": "https://localhost:8080/",
          "height": 592
        },
        "id": "S62z4duOi1OX",
        "outputId": "970792ad-2cff-42fe-88a4-c5a997ff505a"
      },
      "execution_count": null,
      "outputs": [
        {
          "output_type": "execute_result",
          "data": {
            "text/plain": [
              "<matplotlib.colorbar.Colorbar at 0x7fbd27aa8580>"
            ]
          },
          "metadata": {},
          "execution_count": 264
        },
        {
          "output_type": "display_data",
          "data": {
            "text/plain": [
              "<Figure size 720x720 with 2 Axes>"
            ],
            "image/png": "[encoded data removed]"
          },
          "metadata": {
            "needs_background": "light"
          }
        }
      ]
    },
    {
      "cell_type": "code",
      "source": [],
      "metadata": {
        "id": "iN7N65RCkXrU"
      },
      "execution_count": null,
      "outputs": []
    }
  ]
}