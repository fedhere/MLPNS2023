{
  "nbformat": 4,
  "nbformat_minor": 0,
  "metadata": {
    "kernelspec": {
      "display_name": "Python 3",
      "language": "python",
      "name": "python3"
    },
    "language_info": {
      "codemirror_mode": {
        "name": "ipython",
        "version": 3
      },
      "file_extension": ".py",
      "mimetype": "text/x-python",
      "name": "python",
      "nbconvert_exporter": "python",
      "pygments_lexer": "ipython3",
      "version": "3.6.3"
    },
    "toc": {
      "colors": {
        "hover_highlight": "#DAA520",
        "running_highlight": "#FF0000",
        "selected_highlight": "#FFD700"
      },
      "moveMenuLeft": true,
      "nav_menu": {
        "height": "485px",
        "width": "251px"
      },
      "navigate_menu": true,
      "number_sections": true,
      "sideBar": true,
      "threshold": 4,
      "toc_cell": false,
      "toc_section_display": "block",
      "toc_window_display": false
    },
    "colab": {
      "provenance": [],
      "include_colab_link": true
    }
  },
  "cells": [
    {
      "cell_type": "markdown",
      "metadata": {
        "id": "view-in-github",
        "colab_type": "text"
      },
      "source": [
        "<a href=\"https://colab.research.google.com/github/fedhere/MLPNS_FBianco/blob/main/viz/Anscombe's_Quartet.ipynb\" target=\"_parent\"><img src=\"https://colab.research.google.com/assets/colab-badge.svg\" alt=\"Open In Colab\"/></a>"
      ]
    },
    {
      "cell_type": "markdown",
      "metadata": {
        "run_control": {
          "frozen": false,
          "read_only": false
        },
        "id": "QOUkcNwn-29M"
      },
      "source": [
        "# Author: FBB\n",
        "\n",
        "### This is a demo of the famous Anscombe's Quartet \n",
        "### developed BY Federica B Bianco, NYU @fedhere \n",
        "### for CUSP Principle of Urban Informatics. \n",
        "\n",
        "## The moral of the story is: look at your data!\n",
        "### version 1: August 2015 \n",
        "### last update: October 2021\n"
      ]
    },
    {
      "cell_type": "code",
      "metadata": {
        "ExecuteTime": {
          "end_time": "2018-11-14T16:31:06.388583Z",
          "start_time": "2018-11-14T16:31:06.370466Z"
        },
        "run_control": {
          "frozen": false,
          "read_only": false
        },
        "colab": {
          "base_uri": "https://localhost:8080/"
        },
        "id": "HdMHN86e-29P",
        "outputId": "37dbf19b-7b2b-4242-cb2a-2258b62a7c25"
      },
      "source": [
        "import os\n",
        "import sys\n",
        "import numpy as np\n",
        "import pylab as pl\n",
        "pl.style.use(\"https://raw.githubusercontent.com/fedhere/DSPS_FBianco/master/fbb.mplstyle\")\n",
        "pl.rcParams['font.size'] = 20\n",
        "\n",
        "%pylab inline"
      ],
      "execution_count": null,
      "outputs": [
        {
          "output_type": "stream",
          "name": "stdout",
          "text": [
            "Populating the interactive namespace from numpy and matplotlib\n"
          ]
        }
      ]
    },
    {
      "cell_type": "markdown",
      "metadata": {
        "run_control": {
          "frozen": false,
          "read_only": false
        },
        "id": "QPvMWdMi-29R"
      },
      "source": [
        "### lets read in a file which is not a regular csv file, called anscombe.txt, but let's use the pandas moduleand its read_csv function"
      ]
    },
    {
      "cell_type": "code",
      "metadata": {
        "ExecuteTime": {
          "end_time": "2018-11-14T16:31:06.412059Z",
          "start_time": "2018-11-14T16:31:06.393172Z"
        },
        "run_control": {
          "frozen": false,
          "read_only": false
        },
        "colab": {
          "base_uri": "https://localhost:8080/",
          "height": 592
        },
        "id": "PO-G5g1a-29S",
        "outputId": "9dc8d8dd-a8c0-4e64-db63-411a7317fb36"
      },
      "source": [
        "import pandas as pd\n",
        "if not os.path.isfile(\"anscombe.txt\"):\n",
        "    !curl -O https://raw.githubusercontent.com/fedhere/UInotebooks/master/anscombe.txt\n",
        "pd.read_csv(\"anscombe.txt\")"
      ],
      "execution_count": null,
      "outputs": [
        {
          "output_type": "stream",
          "name": "stdout",
          "text": [
            "  % Total    % Received % Xferd  Average Speed   Time    Time     Time  Current\n",
            "                                 Dload  Upload   Total   Spent    Left  Speed\n",
            "100   651  100   651    0     0   3636      0 --:--:-- --:--:-- --:--:--  3636\n"
          ]
        },
        {
          "output_type": "execute_result",
          "data": {
            "text/html": [
              "<div>\n",
              "<style scoped>\n",
              "    .dataframe tbody tr th:only-of-type {\n",
              "        vertical-align: middle;\n",
              "    }\n",
              "\n",
              "    .dataframe tbody tr th {\n",
              "        vertical-align: top;\n",
              "    }\n",
              "\n",
              "    .dataframe thead th {\n",
              "        text-align: right;\n",
              "    }\n",
              "</style>\n",
              "<table border=\"1\" class=\"dataframe\">\n",
              "  <thead>\n",
              "    <tr style=\"text-align: right;\">\n",
              "      <th></th>\n",
              "      <th>Anscombe's Quartet</th>\n",
              "    </tr>\n",
              "  </thead>\n",
              "  <tbody>\n",
              "    <tr>\n",
              "      <th>0</th>\n",
              "      <td>Anscombe-Data-Set I I II II III III IV IV</td>\n",
              "    </tr>\n",
              "    <tr>\n",
              "      <th>1</th>\n",
              "      <td>X Y X Y X Y X Y</td>\n",
              "    </tr>\n",
              "    <tr>\n",
              "      <th>2</th>\n",
              "      <td>10 8.04 10 9.14 10 7.46 8 6.58</td>\n",
              "    </tr>\n",
              "    <tr>\n",
              "      <th>3</th>\n",
              "      <td>8 6.95 8 8.14 8 6.77 8 5.76</td>\n",
              "    </tr>\n",
              "    <tr>\n",
              "      <th>4</th>\n",
              "      <td>13 7.58 13 8.74 13 12.74 8 7.71</td>\n",
              "    </tr>\n",
              "    <tr>\n",
              "      <th>5</th>\n",
              "      <td>9 8.81 9 8.77 9 7.11 8 8.84</td>\n",
              "    </tr>\n",
              "    <tr>\n",
              "      <th>6</th>\n",
              "      <td>11 8.33 11 9.26 11 7.81 8 8.47</td>\n",
              "    </tr>\n",
              "    <tr>\n",
              "      <th>7</th>\n",
              "      <td>14 9.96 14 8.1 14 8.84 8 7.04</td>\n",
              "    </tr>\n",
              "    <tr>\n",
              "      <th>8</th>\n",
              "      <td>6 7.24 6 6.13 6 6.08 8 5.25</td>\n",
              "    </tr>\n",
              "    <tr>\n",
              "      <th>9</th>\n",
              "      <td>4 4.26 4 3.1 4 5.39 19 12.5</td>\n",
              "    </tr>\n",
              "    <tr>\n",
              "      <th>10</th>\n",
              "      <td>12 10.84 12 9.13 12 8.15 8 5.56</td>\n",
              "    </tr>\n",
              "    <tr>\n",
              "      <th>11</th>\n",
              "      <td>7 4.82 7 7.26 7 6.42 8 7.91</td>\n",
              "    </tr>\n",
              "    <tr>\n",
              "      <th>12</th>\n",
              "      <td>5 5.68 5 4.74 5 5.73 8 6.89</td>\n",
              "    </tr>\n",
              "    <tr>\n",
              "      <th>13</th>\n",
              "      <td>9.00 7.50 9.00 7.50 9.00 7.50 9.00 7.50 Mean</td>\n",
              "    </tr>\n",
              "    <tr>\n",
              "      <th>14</th>\n",
              "      <td>10.00 3.75 10.00 3.75 10.00 3.75 10.00 3.75 V...</td>\n",
              "    </tr>\n",
              "    <tr>\n",
              "      <th>15</th>\n",
              "      <td>0.816  0.816  0.816  0.817  Correlation (Pear...</td>\n",
              "    </tr>\n",
              "  </tbody>\n",
              "</table>\n",
              "</div>"
            ],
            "text/plain": [
              "                              Anscombe's Quartet     \n",
              "0         Anscombe-Data-Set I I II II III III IV IV  \n",
              "1                                   X Y X Y X Y X Y  \n",
              "2                    10 8.04 10 9.14 10 7.46 8 6.58  \n",
              "3                       8 6.95 8 8.14 8 6.77 8 5.76  \n",
              "4                   13 7.58 13 8.74 13 12.74 8 7.71  \n",
              "5                       9 8.81 9 8.77 9 7.11 8 8.84  \n",
              "6                    11 8.33 11 9.26 11 7.81 8 8.47  \n",
              "7                     14 9.96 14 8.1 14 8.84 8 7.04  \n",
              "8                       6 7.24 6 6.13 6 6.08 8 5.25  \n",
              "9                       4 4.26 4 3.1 4 5.39 19 12.5  \n",
              "10                  12 10.84 12 9.13 12 8.15 8 5.56  \n",
              "11                      7 4.82 7 7.26 7 6.42 8 7.91  \n",
              "12                      5 5.68 5 4.74 5 5.73 8 6.89  \n",
              "13      9.00 7.50 9.00 7.50 9.00 7.50 9.00 7.50 Mean \n",
              "14   10.00 3.75 10.00 3.75 10.00 3.75 10.00 3.75 V...\n",
              "15   0.816  0.816  0.816  0.817  Correlation (Pear..."
            ]
          },
          "metadata": {},
          "execution_count": 3
        }
      ]
    },
    {
      "cell_type": "markdown",
      "metadata": {
        "run_control": {
          "frozen": false,
          "read_only": false
        },
        "id": "0Qr0MV0p-29S"
      },
      "source": [
        "notice that I used the link to github starting with raw: https://raw.githubusercontent.com/fedhere/UInotebooks/master/anscombe.txt. The page https://github.com/fedhere/UInotebooks/blob/master/anscombe.txt is an html file hosting the text for rendering. Downloading that would download an html file. Try it. "
      ]
    },
    {
      "cell_type": "markdown",
      "metadata": {
        "run_control": {
          "frozen": false,
          "read_only": false
        },
        "id": "QuvwBb0--29S"
      },
      "source": [
        "## pandas organizes datasets in \"data frames\"\n",
        "\n",
        "## lets read the file a little better by identifying what to use as header to name our variables"
      ]
    },
    {
      "cell_type": "code",
      "metadata": {
        "ExecuteTime": {
          "end_time": "2018-11-14T16:31:06.468828Z",
          "start_time": "2018-11-14T16:31:06.415866Z"
        },
        "run_control": {
          "frozen": false,
          "read_only": false
        },
        "colab": {
          "base_uri": "https://localhost:8080/",
          "height": 601
        },
        "id": "8QGG1L_d-29T",
        "outputId": "bdd82e98-af46-4a4c-f805-d27f7e215051"
      },
      "source": [
        "pd.read_csv(\"anscombe.txt\", header = [1, 2], delimiter=' ')"
      ],
      "execution_count": null,
      "outputs": [
        {
          "output_type": "execute_result",
          "data": {
            "text/html": [
              "<div>\n",
              "<style scoped>\n",
              "    .dataframe tbody tr th:only-of-type {\n",
              "        vertical-align: middle;\n",
              "    }\n",
              "\n",
              "    .dataframe tbody tr th {\n",
              "        vertical-align: top;\n",
              "    }\n",
              "\n",
              "    .dataframe thead tr th {\n",
              "        text-align: left;\n",
              "    }\n",
              "</style>\n",
              "<table border=\"1\" class=\"dataframe\">\n",
              "  <thead>\n",
              "    <tr>\n",
              "      <th></th>\n",
              "      <th>Anscombe-Data-Set</th>\n",
              "      <th colspan=\"2\" halign=\"left\">I</th>\n",
              "      <th colspan=\"2\" halign=\"left\">II</th>\n",
              "      <th colspan=\"2\" halign=\"left\">III</th>\n",
              "      <th colspan=\"2\" halign=\"left\">IV</th>\n",
              "      <th>Unnamed: 9_level_0</th>\n",
              "      <th>Unnamed: 10_level_0</th>\n",
              "    </tr>\n",
              "    <tr>\n",
              "      <th></th>\n",
              "      <th>Unnamed: 0_level_1</th>\n",
              "      <th>X</th>\n",
              "      <th>Y</th>\n",
              "      <th>X</th>\n",
              "      <th>Y</th>\n",
              "      <th>X</th>\n",
              "      <th>Y</th>\n",
              "      <th>X</th>\n",
              "      <th>Y</th>\n",
              "      <th>Unnamed: 9_level_1</th>\n",
              "      <th>Unnamed: 10_level_1</th>\n",
              "    </tr>\n",
              "  </thead>\n",
              "  <tbody>\n",
              "    <tr>\n",
              "      <th>0</th>\n",
              "      <td>NaN</td>\n",
              "      <td>10.000</td>\n",
              "      <td>8.04</td>\n",
              "      <td>10.000</td>\n",
              "      <td>9.14</td>\n",
              "      <td>10.000</td>\n",
              "      <td>7.46</td>\n",
              "      <td>8.000</td>\n",
              "      <td>6.58</td>\n",
              "      <td>NaN</td>\n",
              "      <td>NaN</td>\n",
              "    </tr>\n",
              "    <tr>\n",
              "      <th>1</th>\n",
              "      <td>NaN</td>\n",
              "      <td>8.000</td>\n",
              "      <td>6.95</td>\n",
              "      <td>8.000</td>\n",
              "      <td>8.14</td>\n",
              "      <td>8.000</td>\n",
              "      <td>6.77</td>\n",
              "      <td>8.000</td>\n",
              "      <td>5.76</td>\n",
              "      <td>NaN</td>\n",
              "      <td>NaN</td>\n",
              "    </tr>\n",
              "    <tr>\n",
              "      <th>2</th>\n",
              "      <td>NaN</td>\n",
              "      <td>13.000</td>\n",
              "      <td>7.58</td>\n",
              "      <td>13.000</td>\n",
              "      <td>8.74</td>\n",
              "      <td>13.000</td>\n",
              "      <td>12.74</td>\n",
              "      <td>8.000</td>\n",
              "      <td>7.71</td>\n",
              "      <td>NaN</td>\n",
              "      <td>NaN</td>\n",
              "    </tr>\n",
              "    <tr>\n",
              "      <th>3</th>\n",
              "      <td>NaN</td>\n",
              "      <td>9.000</td>\n",
              "      <td>8.81</td>\n",
              "      <td>9.000</td>\n",
              "      <td>8.77</td>\n",
              "      <td>9.000</td>\n",
              "      <td>7.11</td>\n",
              "      <td>8.000</td>\n",
              "      <td>8.84</td>\n",
              "      <td>NaN</td>\n",
              "      <td>NaN</td>\n",
              "    </tr>\n",
              "    <tr>\n",
              "      <th>4</th>\n",
              "      <td>NaN</td>\n",
              "      <td>11.000</td>\n",
              "      <td>8.33</td>\n",
              "      <td>11.000</td>\n",
              "      <td>9.26</td>\n",
              "      <td>11.000</td>\n",
              "      <td>7.81</td>\n",
              "      <td>8.000</td>\n",
              "      <td>8.47</td>\n",
              "      <td>NaN</td>\n",
              "      <td>NaN</td>\n",
              "    </tr>\n",
              "    <tr>\n",
              "      <th>5</th>\n",
              "      <td>NaN</td>\n",
              "      <td>14.000</td>\n",
              "      <td>9.96</td>\n",
              "      <td>14.000</td>\n",
              "      <td>8.10</td>\n",
              "      <td>14.000</td>\n",
              "      <td>8.84</td>\n",
              "      <td>8.000</td>\n",
              "      <td>7.04</td>\n",
              "      <td>NaN</td>\n",
              "      <td>NaN</td>\n",
              "    </tr>\n",
              "    <tr>\n",
              "      <th>6</th>\n",
              "      <td>NaN</td>\n",
              "      <td>6.000</td>\n",
              "      <td>7.24</td>\n",
              "      <td>6.000</td>\n",
              "      <td>6.13</td>\n",
              "      <td>6.000</td>\n",
              "      <td>6.08</td>\n",
              "      <td>8.000</td>\n",
              "      <td>5.25</td>\n",
              "      <td>NaN</td>\n",
              "      <td>NaN</td>\n",
              "    </tr>\n",
              "    <tr>\n",
              "      <th>7</th>\n",
              "      <td>NaN</td>\n",
              "      <td>4.000</td>\n",
              "      <td>4.26</td>\n",
              "      <td>4.000</td>\n",
              "      <td>3.10</td>\n",
              "      <td>4.000</td>\n",
              "      <td>5.39</td>\n",
              "      <td>19.000</td>\n",
              "      <td>12.50</td>\n",
              "      <td>NaN</td>\n",
              "      <td>NaN</td>\n",
              "    </tr>\n",
              "    <tr>\n",
              "      <th>8</th>\n",
              "      <td>NaN</td>\n",
              "      <td>12.000</td>\n",
              "      <td>10.84</td>\n",
              "      <td>12.000</td>\n",
              "      <td>9.13</td>\n",
              "      <td>12.000</td>\n",
              "      <td>8.15</td>\n",
              "      <td>8.000</td>\n",
              "      <td>5.56</td>\n",
              "      <td>NaN</td>\n",
              "      <td>NaN</td>\n",
              "    </tr>\n",
              "    <tr>\n",
              "      <th>9</th>\n",
              "      <td>NaN</td>\n",
              "      <td>7.000</td>\n",
              "      <td>4.82</td>\n",
              "      <td>7.000</td>\n",
              "      <td>7.26</td>\n",
              "      <td>7.000</td>\n",
              "      <td>6.42</td>\n",
              "      <td>8.000</td>\n",
              "      <td>7.91</td>\n",
              "      <td>NaN</td>\n",
              "      <td>NaN</td>\n",
              "    </tr>\n",
              "    <tr>\n",
              "      <th>10</th>\n",
              "      <td>NaN</td>\n",
              "      <td>5.000</td>\n",
              "      <td>5.68</td>\n",
              "      <td>5.000</td>\n",
              "      <td>4.74</td>\n",
              "      <td>5.000</td>\n",
              "      <td>5.73</td>\n",
              "      <td>8.000</td>\n",
              "      <td>6.89</td>\n",
              "      <td>NaN</td>\n",
              "      <td>NaN</td>\n",
              "    </tr>\n",
              "    <tr>\n",
              "      <th>11</th>\n",
              "      <td>NaN</td>\n",
              "      <td>NaN</td>\n",
              "      <td>NaN</td>\n",
              "      <td>NaN</td>\n",
              "      <td>NaN</td>\n",
              "      <td>NaN</td>\n",
              "      <td>NaN</td>\n",
              "      <td>NaN</td>\n",
              "      <td>NaN</td>\n",
              "      <td>NaN</td>\n",
              "      <td>NaN</td>\n",
              "    </tr>\n",
              "    <tr>\n",
              "      <th>12</th>\n",
              "      <td>NaN</td>\n",
              "      <td>9.000</td>\n",
              "      <td>7.50</td>\n",
              "      <td>9.000</td>\n",
              "      <td>7.50</td>\n",
              "      <td>9.000</td>\n",
              "      <td>7.50</td>\n",
              "      <td>9.000</td>\n",
              "      <td>7.50</td>\n",
              "      <td>Mean</td>\n",
              "      <td>NaN</td>\n",
              "    </tr>\n",
              "    <tr>\n",
              "      <th>13</th>\n",
              "      <td>NaN</td>\n",
              "      <td>NaN</td>\n",
              "      <td>NaN</td>\n",
              "      <td>NaN</td>\n",
              "      <td>NaN</td>\n",
              "      <td>NaN</td>\n",
              "      <td>NaN</td>\n",
              "      <td>NaN</td>\n",
              "      <td>NaN</td>\n",
              "      <td>NaN</td>\n",
              "      <td>NaN</td>\n",
              "    </tr>\n",
              "    <tr>\n",
              "      <th>14</th>\n",
              "      <td>NaN</td>\n",
              "      <td>10.000</td>\n",
              "      <td>3.75</td>\n",
              "      <td>10.000</td>\n",
              "      <td>3.75</td>\n",
              "      <td>10.000</td>\n",
              "      <td>3.75</td>\n",
              "      <td>10.000</td>\n",
              "      <td>3.75</td>\n",
              "      <td>Variance</td>\n",
              "      <td>(Population)</td>\n",
              "    </tr>\n",
              "    <tr>\n",
              "      <th>15</th>\n",
              "      <td>NaN</td>\n",
              "      <td>NaN</td>\n",
              "      <td>NaN</td>\n",
              "      <td>NaN</td>\n",
              "      <td>NaN</td>\n",
              "      <td>NaN</td>\n",
              "      <td>NaN</td>\n",
              "      <td>NaN</td>\n",
              "      <td>NaN</td>\n",
              "      <td>NaN</td>\n",
              "      <td>NaN</td>\n",
              "    </tr>\n",
              "    <tr>\n",
              "      <th>16</th>\n",
              "      <td>NaN</td>\n",
              "      <td>0.816</td>\n",
              "      <td>NaN</td>\n",
              "      <td>0.816</td>\n",
              "      <td>NaN</td>\n",
              "      <td>0.816</td>\n",
              "      <td>NaN</td>\n",
              "      <td>0.817</td>\n",
              "      <td>NaN</td>\n",
              "      <td>Correlation</td>\n",
              "      <td>(Pearson)</td>\n",
              "    </tr>\n",
              "  </tbody>\n",
              "</table>\n",
              "</div>"
            ],
            "text/plain": [
              "    Anscombe-Data-Set       I  ... Unnamed: 9_level_0 Unnamed: 10_level_0\n",
              "   Unnamed: 0_level_1       X  ... Unnamed: 9_level_1 Unnamed: 10_level_1\n",
              "0                 NaN  10.000  ...                NaN                 NaN\n",
              "1                 NaN   8.000  ...                NaN                 NaN\n",
              "2                 NaN  13.000  ...                NaN                 NaN\n",
              "3                 NaN   9.000  ...                NaN                 NaN\n",
              "4                 NaN  11.000  ...                NaN                 NaN\n",
              "5                 NaN  14.000  ...                NaN                 NaN\n",
              "6                 NaN   6.000  ...                NaN                 NaN\n",
              "7                 NaN   4.000  ...                NaN                 NaN\n",
              "8                 NaN  12.000  ...                NaN                 NaN\n",
              "9                 NaN   7.000  ...                NaN                 NaN\n",
              "10                NaN   5.000  ...                NaN                 NaN\n",
              "11                NaN     NaN  ...                NaN                 NaN\n",
              "12                NaN   9.000  ...               Mean                 NaN\n",
              "13                NaN     NaN  ...                NaN                 NaN\n",
              "14                NaN  10.000  ...           Variance        (Population)\n",
              "15                NaN     NaN  ...                NaN                 NaN\n",
              "16                NaN   0.816  ...        Correlation           (Pearson)\n",
              "\n",
              "[17 rows x 11 columns]"
            ]
          },
          "metadata": {},
          "execution_count": 4
        }
      ]
    },
    {
      "cell_type": "markdown",
      "metadata": {
        "run_control": {
          "frozen": false,
          "read_only": false
        },
        "id": "rC3WxiZv-29T"
      },
      "source": [
        "## lets read the file a little better yet by only reading the rows we want "
      ]
    },
    {
      "cell_type": "code",
      "metadata": {
        "ExecuteTime": {
          "end_time": "2018-11-14T16:31:06.522290Z",
          "start_time": "2018-11-14T16:31:06.473471Z"
        },
        "run_control": {
          "frozen": false,
          "read_only": false
        },
        "colab": {
          "base_uri": "https://localhost:8080/",
          "height": 416
        },
        "id": "miUNTCjm-29U",
        "outputId": "59525d91-0a5c-40db-d689-9bae0a953203"
      },
      "source": [
        "pd.read_csv(\"anscombe.txt\", header = [1, 2], nrows = 11, delimiter=' ')"
      ],
      "execution_count": null,
      "outputs": [
        {
          "output_type": "execute_result",
          "data": {
            "text/html": [
              "<div>\n",
              "<style scoped>\n",
              "    .dataframe tbody tr th:only-of-type {\n",
              "        vertical-align: middle;\n",
              "    }\n",
              "\n",
              "    .dataframe tbody tr th {\n",
              "        vertical-align: top;\n",
              "    }\n",
              "\n",
              "    .dataframe thead tr th {\n",
              "        text-align: left;\n",
              "    }\n",
              "</style>\n",
              "<table border=\"1\" class=\"dataframe\">\n",
              "  <thead>\n",
              "    <tr>\n",
              "      <th></th>\n",
              "      <th>Anscombe-Data-Set</th>\n",
              "      <th colspan=\"2\" halign=\"left\">I</th>\n",
              "      <th colspan=\"2\" halign=\"left\">II</th>\n",
              "      <th colspan=\"2\" halign=\"left\">III</th>\n",
              "      <th colspan=\"2\" halign=\"left\">IV</th>\n",
              "      <th>Unnamed: 9_level_0</th>\n",
              "      <th>Unnamed: 10_level_0</th>\n",
              "    </tr>\n",
              "    <tr>\n",
              "      <th></th>\n",
              "      <th>Unnamed: 0_level_1</th>\n",
              "      <th>X</th>\n",
              "      <th>Y</th>\n",
              "      <th>X</th>\n",
              "      <th>Y</th>\n",
              "      <th>X</th>\n",
              "      <th>Y</th>\n",
              "      <th>X</th>\n",
              "      <th>Y</th>\n",
              "      <th>Unnamed: 9_level_1</th>\n",
              "      <th>Unnamed: 10_level_1</th>\n",
              "    </tr>\n",
              "  </thead>\n",
              "  <tbody>\n",
              "    <tr>\n",
              "      <th>0</th>\n",
              "      <td>NaN</td>\n",
              "      <td>10</td>\n",
              "      <td>8.04</td>\n",
              "      <td>10</td>\n",
              "      <td>9.14</td>\n",
              "      <td>10</td>\n",
              "      <td>7.46</td>\n",
              "      <td>8</td>\n",
              "      <td>6.58</td>\n",
              "      <td>NaN</td>\n",
              "      <td>NaN</td>\n",
              "    </tr>\n",
              "    <tr>\n",
              "      <th>1</th>\n",
              "      <td>NaN</td>\n",
              "      <td>8</td>\n",
              "      <td>6.95</td>\n",
              "      <td>8</td>\n",
              "      <td>8.14</td>\n",
              "      <td>8</td>\n",
              "      <td>6.77</td>\n",
              "      <td>8</td>\n",
              "      <td>5.76</td>\n",
              "      <td>NaN</td>\n",
              "      <td>NaN</td>\n",
              "    </tr>\n",
              "    <tr>\n",
              "      <th>2</th>\n",
              "      <td>NaN</td>\n",
              "      <td>13</td>\n",
              "      <td>7.58</td>\n",
              "      <td>13</td>\n",
              "      <td>8.74</td>\n",
              "      <td>13</td>\n",
              "      <td>12.74</td>\n",
              "      <td>8</td>\n",
              "      <td>7.71</td>\n",
              "      <td>NaN</td>\n",
              "      <td>NaN</td>\n",
              "    </tr>\n",
              "    <tr>\n",
              "      <th>3</th>\n",
              "      <td>NaN</td>\n",
              "      <td>9</td>\n",
              "      <td>8.81</td>\n",
              "      <td>9</td>\n",
              "      <td>8.77</td>\n",
              "      <td>9</td>\n",
              "      <td>7.11</td>\n",
              "      <td>8</td>\n",
              "      <td>8.84</td>\n",
              "      <td>NaN</td>\n",
              "      <td>NaN</td>\n",
              "    </tr>\n",
              "    <tr>\n",
              "      <th>4</th>\n",
              "      <td>NaN</td>\n",
              "      <td>11</td>\n",
              "      <td>8.33</td>\n",
              "      <td>11</td>\n",
              "      <td>9.26</td>\n",
              "      <td>11</td>\n",
              "      <td>7.81</td>\n",
              "      <td>8</td>\n",
              "      <td>8.47</td>\n",
              "      <td>NaN</td>\n",
              "      <td>NaN</td>\n",
              "    </tr>\n",
              "    <tr>\n",
              "      <th>5</th>\n",
              "      <td>NaN</td>\n",
              "      <td>14</td>\n",
              "      <td>9.96</td>\n",
              "      <td>14</td>\n",
              "      <td>8.10</td>\n",
              "      <td>14</td>\n",
              "      <td>8.84</td>\n",
              "      <td>8</td>\n",
              "      <td>7.04</td>\n",
              "      <td>NaN</td>\n",
              "      <td>NaN</td>\n",
              "    </tr>\n",
              "    <tr>\n",
              "      <th>6</th>\n",
              "      <td>NaN</td>\n",
              "      <td>6</td>\n",
              "      <td>7.24</td>\n",
              "      <td>6</td>\n",
              "      <td>6.13</td>\n",
              "      <td>6</td>\n",
              "      <td>6.08</td>\n",
              "      <td>8</td>\n",
              "      <td>5.25</td>\n",
              "      <td>NaN</td>\n",
              "      <td>NaN</td>\n",
              "    </tr>\n",
              "    <tr>\n",
              "      <th>7</th>\n",
              "      <td>NaN</td>\n",
              "      <td>4</td>\n",
              "      <td>4.26</td>\n",
              "      <td>4</td>\n",
              "      <td>3.10</td>\n",
              "      <td>4</td>\n",
              "      <td>5.39</td>\n",
              "      <td>19</td>\n",
              "      <td>12.50</td>\n",
              "      <td>NaN</td>\n",
              "      <td>NaN</td>\n",
              "    </tr>\n",
              "    <tr>\n",
              "      <th>8</th>\n",
              "      <td>NaN</td>\n",
              "      <td>12</td>\n",
              "      <td>10.84</td>\n",
              "      <td>12</td>\n",
              "      <td>9.13</td>\n",
              "      <td>12</td>\n",
              "      <td>8.15</td>\n",
              "      <td>8</td>\n",
              "      <td>5.56</td>\n",
              "      <td>NaN</td>\n",
              "      <td>NaN</td>\n",
              "    </tr>\n",
              "    <tr>\n",
              "      <th>9</th>\n",
              "      <td>NaN</td>\n",
              "      <td>7</td>\n",
              "      <td>4.82</td>\n",
              "      <td>7</td>\n",
              "      <td>7.26</td>\n",
              "      <td>7</td>\n",
              "      <td>6.42</td>\n",
              "      <td>8</td>\n",
              "      <td>7.91</td>\n",
              "      <td>NaN</td>\n",
              "      <td>NaN</td>\n",
              "    </tr>\n",
              "    <tr>\n",
              "      <th>10</th>\n",
              "      <td>NaN</td>\n",
              "      <td>5</td>\n",
              "      <td>5.68</td>\n",
              "      <td>5</td>\n",
              "      <td>4.74</td>\n",
              "      <td>5</td>\n",
              "      <td>5.73</td>\n",
              "      <td>8</td>\n",
              "      <td>6.89</td>\n",
              "      <td>NaN</td>\n",
              "      <td>NaN</td>\n",
              "    </tr>\n",
              "  </tbody>\n",
              "</table>\n",
              "</div>"
            ],
            "text/plain": [
              "    Anscombe-Data-Set   I         ...     IV Unnamed: 9_level_0 Unnamed: 10_level_0\n",
              "   Unnamed: 0_level_1   X      Y  ...      Y Unnamed: 9_level_1 Unnamed: 10_level_1\n",
              "0                 NaN  10   8.04  ...   6.58                NaN                 NaN\n",
              "1                 NaN   8   6.95  ...   5.76                NaN                 NaN\n",
              "2                 NaN  13   7.58  ...   7.71                NaN                 NaN\n",
              "3                 NaN   9   8.81  ...   8.84                NaN                 NaN\n",
              "4                 NaN  11   8.33  ...   8.47                NaN                 NaN\n",
              "5                 NaN  14   9.96  ...   7.04                NaN                 NaN\n",
              "6                 NaN   6   7.24  ...   5.25                NaN                 NaN\n",
              "7                 NaN   4   4.26  ...  12.50                NaN                 NaN\n",
              "8                 NaN  12  10.84  ...   5.56                NaN                 NaN\n",
              "9                 NaN   7   4.82  ...   7.91                NaN                 NaN\n",
              "10                NaN   5   5.68  ...   6.89                NaN                 NaN\n",
              "\n",
              "[11 rows x 11 columns]"
            ]
          },
          "metadata": {},
          "execution_count": 5
        }
      ]
    },
    {
      "cell_type": "markdown",
      "metadata": {
        "run_control": {
          "frozen": false,
          "read_only": false
        },
        "id": "XjuNppZY-29U"
      },
      "source": [
        "## if we are happy lets save the data frame read by pandas\n",
        "### (we could drop the columns we do not need after that, but I'm not gonna bother)"
      ]
    },
    {
      "cell_type": "code",
      "metadata": {
        "ExecuteTime": {
          "end_time": "2018-11-14T16:31:06.657449Z",
          "start_time": "2018-11-14T16:31:06.526401Z"
        },
        "run_control": {
          "frozen": false,
          "read_only": false
        },
        "colab": {
          "base_uri": "https://localhost:8080/"
        },
        "id": "Vrgr4-jo-29V",
        "outputId": "fdc4203d-6301-46b4-dcb3-3515db6095df"
      },
      "source": [
        "ansc = pd.read_csv(\"anscombe.txt\", header = [1, 2], nrows = 11, delimiter=' ')\n",
        "#fig=pl.figure(figsize=(10,10))\n",
        "\n",
        "ansc.info()"
      ],
      "execution_count": null,
      "outputs": [
        {
          "output_type": "stream",
          "name": "stdout",
          "text": [
            "<class 'pandas.core.frame.DataFrame'>\n",
            "RangeIndex: 11 entries, 0 to 10\n",
            "Data columns (total 11 columns):\n",
            " #   Column                                      Non-Null Count  Dtype  \n",
            "---  ------                                      --------------  -----  \n",
            " 0   (Anscombe-Data-Set, Unnamed: 0_level_1)     0 non-null      float64\n",
            " 1   (I, X)                                      11 non-null     int64  \n",
            " 2   (I, Y)                                      11 non-null     float64\n",
            " 3   (II, X)                                     11 non-null     int64  \n",
            " 4   (II, Y)                                     11 non-null     float64\n",
            " 5   (III, X)                                    11 non-null     int64  \n",
            " 6   (III, Y)                                    11 non-null     float64\n",
            " 7   (IV, X)                                     11 non-null     int64  \n",
            " 8   (IV, Y)                                     11 non-null     float64\n",
            " 9   (Unnamed: 9_level_0, Unnamed: 9_level_1)    0 non-null      float64\n",
            " 10  (Unnamed: 10_level_0, Unnamed: 10_level_1)  0 non-null      float64\n",
            "dtypes: float64(7), int64(4)\n",
            "memory usage: 1.1 KB\n"
          ]
        }
      ]
    },
    {
      "cell_type": "markdown",
      "metadata": {
        "run_control": {
          "frozen": false,
          "read_only": false
        },
        "id": "UjDO3O-L-29V"
      },
      "source": [
        "## The dataframe is a class. In this case the class hosts 4 datasets: I,II,III,IV. We can think of the dataframe as a python dictionary as well. \n",
        "## If we think of it as a class lets refer to the first dataset identified as I as ansc.I\n",
        "## Otherwise I can refer to it as a dictionary as ansc[I]\n",
        "\n",
        "this structure propagates downward to elements of ansc.I too!"
      ]
    },
    {
      "cell_type": "code",
      "metadata": {
        "ExecuteTime": {
          "end_time": "2018-11-14T16:31:06.675260Z",
          "start_time": "2018-11-14T16:31:06.660494Z"
        },
        "run_control": {
          "frozen": false,
          "read_only": false
        },
        "colab": {
          "base_uri": "https://localhost:8080/"
        },
        "id": "GgCcOPQJ-29W",
        "outputId": "708ce1d4-2ac4-4b39-fc84-0e2d3d53ecbf"
      },
      "source": [
        "print (ansc.I)"
      ],
      "execution_count": null,
      "outputs": [
        {
          "output_type": "stream",
          "name": "stdout",
          "text": [
            "     X      Y\n",
            "0   10   8.04\n",
            "1    8   6.95\n",
            "2   13   7.58\n",
            "3    9   8.81\n",
            "4   11   8.33\n",
            "5   14   9.96\n",
            "6    6   7.24\n",
            "7    4   4.26\n",
            "8   12  10.84\n",
            "9    7   4.82\n",
            "10   5   5.68\n"
          ]
        }
      ]
    },
    {
      "cell_type": "code",
      "metadata": {
        "ExecuteTime": {
          "end_time": "2018-11-14T16:31:06.700427Z",
          "start_time": "2018-11-14T16:31:06.680706Z"
        },
        "run_control": {
          "frozen": false,
          "read_only": false
        },
        "colab": {
          "base_uri": "https://localhost:8080/"
        },
        "id": "x0ZXWktg-29W",
        "outputId": "e1573292-2d18-4eff-9189-29122fe4f71f"
      },
      "source": [
        "print (ansc['I'])"
      ],
      "execution_count": null,
      "outputs": [
        {
          "output_type": "stream",
          "name": "stdout",
          "text": [
            "     X      Y\n",
            "0   10   8.04\n",
            "1    8   6.95\n",
            "2   13   7.58\n",
            "3    9   8.81\n",
            "4   11   8.33\n",
            "5   14   9.96\n",
            "6    6   7.24\n",
            "7    4   4.26\n",
            "8   12  10.84\n",
            "9    7   4.82\n",
            "10   5   5.68\n"
          ]
        }
      ]
    },
    {
      "cell_type": "code",
      "metadata": {
        "ExecuteTime": {
          "end_time": "2018-11-14T16:31:06.768147Z",
          "start_time": "2018-11-14T16:31:06.708474Z"
        },
        "run_control": {
          "frozen": false,
          "read_only": false
        },
        "colab": {
          "base_uri": "https://localhost:8080/",
          "height": 357
        },
        "id": "7uMNmz8q-29W",
        "outputId": "a0c74a8f-f4ee-4c92-e33b-765655781aec"
      },
      "source": [
        "ansc.describe()\n"
      ],
      "execution_count": null,
      "outputs": [
        {
          "output_type": "execute_result",
          "data": {
            "text/html": [
              "<div>\n",
              "<style scoped>\n",
              "    .dataframe tbody tr th:only-of-type {\n",
              "        vertical-align: middle;\n",
              "    }\n",
              "\n",
              "    .dataframe tbody tr th {\n",
              "        vertical-align: top;\n",
              "    }\n",
              "\n",
              "    .dataframe thead tr th {\n",
              "        text-align: left;\n",
              "    }\n",
              "</style>\n",
              "<table border=\"1\" class=\"dataframe\">\n",
              "  <thead>\n",
              "    <tr>\n",
              "      <th></th>\n",
              "      <th>Anscombe-Data-Set</th>\n",
              "      <th colspan=\"2\" halign=\"left\">I</th>\n",
              "      <th colspan=\"2\" halign=\"left\">II</th>\n",
              "      <th colspan=\"2\" halign=\"left\">III</th>\n",
              "      <th colspan=\"2\" halign=\"left\">IV</th>\n",
              "      <th>Unnamed: 9_level_0</th>\n",
              "      <th>Unnamed: 10_level_0</th>\n",
              "    </tr>\n",
              "    <tr>\n",
              "      <th></th>\n",
              "      <th>Unnamed: 0_level_1</th>\n",
              "      <th>X</th>\n",
              "      <th>Y</th>\n",
              "      <th>X</th>\n",
              "      <th>Y</th>\n",
              "      <th>X</th>\n",
              "      <th>Y</th>\n",
              "      <th>X</th>\n",
              "      <th>Y</th>\n",
              "      <th>Unnamed: 9_level_1</th>\n",
              "      <th>Unnamed: 10_level_1</th>\n",
              "    </tr>\n",
              "  </thead>\n",
              "  <tbody>\n",
              "    <tr>\n",
              "      <th>count</th>\n",
              "      <td>0.0</td>\n",
              "      <td>11.000000</td>\n",
              "      <td>11.000000</td>\n",
              "      <td>11.000000</td>\n",
              "      <td>11.000000</td>\n",
              "      <td>11.000000</td>\n",
              "      <td>11.000000</td>\n",
              "      <td>11.000000</td>\n",
              "      <td>11.000000</td>\n",
              "      <td>0.0</td>\n",
              "      <td>0.0</td>\n",
              "    </tr>\n",
              "    <tr>\n",
              "      <th>mean</th>\n",
              "      <td>NaN</td>\n",
              "      <td>9.000000</td>\n",
              "      <td>7.500909</td>\n",
              "      <td>9.000000</td>\n",
              "      <td>7.500909</td>\n",
              "      <td>9.000000</td>\n",
              "      <td>7.500000</td>\n",
              "      <td>9.000000</td>\n",
              "      <td>7.500909</td>\n",
              "      <td>NaN</td>\n",
              "      <td>NaN</td>\n",
              "    </tr>\n",
              "    <tr>\n",
              "      <th>std</th>\n",
              "      <td>NaN</td>\n",
              "      <td>3.316625</td>\n",
              "      <td>2.031568</td>\n",
              "      <td>3.316625</td>\n",
              "      <td>2.031657</td>\n",
              "      <td>3.316625</td>\n",
              "      <td>2.030424</td>\n",
              "      <td>3.316625</td>\n",
              "      <td>2.030579</td>\n",
              "      <td>NaN</td>\n",
              "      <td>NaN</td>\n",
              "    </tr>\n",
              "    <tr>\n",
              "      <th>min</th>\n",
              "      <td>NaN</td>\n",
              "      <td>4.000000</td>\n",
              "      <td>4.260000</td>\n",
              "      <td>4.000000</td>\n",
              "      <td>3.100000</td>\n",
              "      <td>4.000000</td>\n",
              "      <td>5.390000</td>\n",
              "      <td>8.000000</td>\n",
              "      <td>5.250000</td>\n",
              "      <td>NaN</td>\n",
              "      <td>NaN</td>\n",
              "    </tr>\n",
              "    <tr>\n",
              "      <th>25%</th>\n",
              "      <td>NaN</td>\n",
              "      <td>6.500000</td>\n",
              "      <td>6.315000</td>\n",
              "      <td>6.500000</td>\n",
              "      <td>6.695000</td>\n",
              "      <td>6.500000</td>\n",
              "      <td>6.250000</td>\n",
              "      <td>8.000000</td>\n",
              "      <td>6.170000</td>\n",
              "      <td>NaN</td>\n",
              "      <td>NaN</td>\n",
              "    </tr>\n",
              "    <tr>\n",
              "      <th>50%</th>\n",
              "      <td>NaN</td>\n",
              "      <td>9.000000</td>\n",
              "      <td>7.580000</td>\n",
              "      <td>9.000000</td>\n",
              "      <td>8.140000</td>\n",
              "      <td>9.000000</td>\n",
              "      <td>7.110000</td>\n",
              "      <td>8.000000</td>\n",
              "      <td>7.040000</td>\n",
              "      <td>NaN</td>\n",
              "      <td>NaN</td>\n",
              "    </tr>\n",
              "    <tr>\n",
              "      <th>75%</th>\n",
              "      <td>NaN</td>\n",
              "      <td>11.500000</td>\n",
              "      <td>8.570000</td>\n",
              "      <td>11.500000</td>\n",
              "      <td>8.950000</td>\n",
              "      <td>11.500000</td>\n",
              "      <td>7.980000</td>\n",
              "      <td>8.000000</td>\n",
              "      <td>8.190000</td>\n",
              "      <td>NaN</td>\n",
              "      <td>NaN</td>\n",
              "    </tr>\n",
              "    <tr>\n",
              "      <th>max</th>\n",
              "      <td>NaN</td>\n",
              "      <td>14.000000</td>\n",
              "      <td>10.840000</td>\n",
              "      <td>14.000000</td>\n",
              "      <td>9.260000</td>\n",
              "      <td>14.000000</td>\n",
              "      <td>12.740000</td>\n",
              "      <td>19.000000</td>\n",
              "      <td>12.500000</td>\n",
              "      <td>NaN</td>\n",
              "      <td>NaN</td>\n",
              "    </tr>\n",
              "  </tbody>\n",
              "</table>\n",
              "</div>"
            ],
            "text/plain": [
              "       Anscombe-Data-Set          I  ... Unnamed: 9_level_0 Unnamed: 10_level_0\n",
              "      Unnamed: 0_level_1          X  ... Unnamed: 9_level_1 Unnamed: 10_level_1\n",
              "count                0.0  11.000000  ...                0.0                 0.0\n",
              "mean                 NaN   9.000000  ...                NaN                 NaN\n",
              "std                  NaN   3.316625  ...                NaN                 NaN\n",
              "min                  NaN   4.000000  ...                NaN                 NaN\n",
              "25%                  NaN   6.500000  ...                NaN                 NaN\n",
              "50%                  NaN   9.000000  ...                NaN                 NaN\n",
              "75%                  NaN  11.500000  ...                NaN                 NaN\n",
              "max                  NaN  14.000000  ...                NaN                 NaN\n",
              "\n",
              "[8 rows x 11 columns]"
            ]
          },
          "metadata": {},
          "execution_count": 9
        }
      ]
    },
    {
      "cell_type": "markdown",
      "metadata": {
        "run_control": {
          "frozen": false,
          "read_only": false
        },
        "id": "C3y57eXV-29X"
      },
      "source": [
        "# Lets Look at the first and second moment: mean and standard deviation"
      ]
    },
    {
      "cell_type": "code",
      "metadata": {
        "ExecuteTime": {
          "end_time": "2018-11-14T16:31:06.791730Z",
          "start_time": "2018-11-14T16:31:06.771215Z"
        },
        "run_control": {
          "frozen": false,
          "read_only": false
        },
        "colab": {
          "base_uri": "https://localhost:8080/"
        },
        "id": "_XADTobn-29X",
        "outputId": "ae67f6b8-2d64-45a9-f4bd-cb4a06628a0d"
      },
      "source": [
        "print(\"Distribution Means:               {0:.2f}, {1:.2f}, {2:.2f}, {3:.2f}\"\\\n",
        "    .format(ansc.I.Y.mean(), ansc.II.Y.mean(), ansc.III.Y.mean(), ansc.IV.Y.mean()))\n",
        "print(\"Distribution Standard Deviations: {0:.2f}, {1:.2f}, {2:.2f}, {3:.2f}\"\\\n",
        "    .format(ansc.I.Y.std(), ansc.II.Y.std(), ansc.III.Y.std(), ansc.IV.Y.std()))\n"
      ],
      "execution_count": null,
      "outputs": [
        {
          "output_type": "stream",
          "name": "stdout",
          "text": [
            "Distribution Means:               7.50, 7.50, 7.50, 7.50\n",
            "Distribution Standard Deviations: 2.03, 2.03, 2.03, 2.03\n"
          ]
        }
      ]
    },
    {
      "cell_type": "code",
      "metadata": {
        "ExecuteTime": {
          "end_time": "2018-11-14T16:31:07.160202Z",
          "start_time": "2018-11-14T16:31:06.795351Z"
        },
        "run_control": {
          "frozen": false,
          "read_only": false
        },
        "colab": {
          "base_uri": "https://localhost:8080/",
          "height": 405
        },
        "id": "0_plLPK7-29X",
        "outputId": "6e34b567-d78e-471e-b6e7-088f3caf13ec"
      },
      "source": [
        "fig = pl.figure(figsize=(10, 5))\n",
        "ax = [0] * 2\n",
        "\n",
        "ax[0] = fig.add_subplot(121)\n",
        "ax[1] = fig.add_subplot(122)\n",
        "colors=['DarkMagenta', 'MediumTurquoise', 'tomato', 'gray']\n",
        "for i in range(2):\n",
        "    ax[i].set_xticks([],[])\n",
        "ax[0].scatter(range(4), [ansc.I.Y.mean(), ansc.II.Y.mean(), ansc.III.Y.mean(), ansc.IV.Y.mean()], \n",
        "              s = 100, c = colors)\n",
        "ax[0].text(0.5, 0.75, 'mean', horizontalalignment = \"center\", \n",
        "           transform = ax[0].transAxes, fontsize = 19)\n",
        "ax[1].scatter(range(4), [ansc.I.Y.std(), ansc.II.Y.std(), ansc.III.Y.std(), ansc.IV.Y.std()], \n",
        "              s = 100, c = colors)\n",
        "ax[1].text(0.5, 0.75, 'standard deviation', horizontalalignment = \"center\", \n",
        "           transform = ax[1].transAxes, fontsize = 19)\n"
      ],
      "execution_count": null,
      "outputs": [
        {
          "output_type": "stream",
          "name": "stderr",
          "text": [
            "/usr/local/lib/python3.7/dist-packages/ipykernel_launcher.py:8: MatplotlibDeprecationWarning: Passing the minor parameter of set_xticks() positionally is deprecated since Matplotlib 3.2; the parameter will become keyword-only two minor releases later.\n",
            "  \n"
          ]
        },
        {
          "output_type": "execute_result",
          "data": {
            "text/plain": [
              "Text(0.5, 0.75, 'standard deviation')"
            ]
          },
          "metadata": {},
          "execution_count": 11
        },
        {
          "output_type": "stream",
          "name": "stderr",
          "text": [
            "findfont: Font family ['[\"sans-serif\"]'] not found. Falling back to DejaVu Sans.\n",
            "findfont: Font family ['[\"sans-serif\"]'] not found. Falling back to DejaVu Sans.\n"
          ]
        },
        {
          "output_type": "display_data",
          "data": {
            "image/png": "[encoded data removed]",
            "text/plain": [
              "<Figure size 720x360 with 2 Axes>"
            ]
          },
          "metadata": {
            "needs_background": "light"
          }
        }
      ]
    },
    {
      "cell_type": "code",
      "metadata": {
        "ExecuteTime": {
          "end_time": "2018-11-14T16:31:07.454283Z",
          "start_time": "2018-11-14T16:31:07.163149Z"
        },
        "run_control": {
          "frozen": false,
          "read_only": false
        },
        "colab": {
          "base_uri": "https://localhost:8080/",
          "height": 376
        },
        "id": "eSWp92mH-29Y",
        "outputId": "524fd570-acc9-497b-ec64-e720954a1aa8"
      },
      "source": [
        "ax = pl.figure(figsize=(10, 5)).add_subplot(111) \n",
        "\n",
        "colors=['DarkMagenta', 'MediumTurquoise', 'tomato', 'gray']\n",
        "ax.set_xticks([],[])\n",
        "ax.errorbar(range(4), [ansc.I.Y.mean(), ansc.II.Y.mean(), ansc.III.Y.mean(), ansc.IV.Y.mean()], \n",
        "            yerr = [ansc.I.Y.std(), ansc.II.Y.std(), ansc.III.Y.std(), ansc.IV.Y.std()], \n",
        "            label= ['mean I', 'mean II', 'mean II', 'mean VI'], alpha=0.5, ecolor = colors, \n",
        "            fmt='o', )\n"
      ],
      "execution_count": null,
      "outputs": [
        {
          "output_type": "stream",
          "name": "stderr",
          "text": [
            "/usr/local/lib/python3.7/dist-packages/ipykernel_launcher.py:4: MatplotlibDeprecationWarning: Passing the minor parameter of set_xticks() positionally is deprecated since Matplotlib 3.2; the parameter will become keyword-only two minor releases later.\n",
            "  after removing the cwd from sys.path.\n"
          ]
        },
        {
          "output_type": "execute_result",
          "data": {
            "text/plain": [
              "<ErrorbarContainer object of 3 artists>"
            ]
          },
          "metadata": {},
          "execution_count": 12
        },
        {
          "output_type": "display_data",
          "data": {
            "image/png": "[encoded data removed]",
            "text/plain": [
              "<Figure size 720x360 with 1 Axes>"
            ]
          },
          "metadata": {
            "needs_background": "light"
          }
        }
      ]
    },
    {
      "cell_type": "markdown",
      "metadata": {
        "run_control": {
          "frozen": false,
          "read_only": false
        },
        "id": "QkaCDsuo-29Y"
      },
      "source": [
        "# cool! they are identical! identical mean, identical standard deviation\n",
        "# hence we are looking at the same distribution i guess. \n",
        "\n",
        "## let's fit a line to it"
      ]
    },
    {
      "cell_type": "code",
      "metadata": {
        "ExecuteTime": {
          "end_time": "2018-11-14T16:34:03.752359Z",
          "start_time": "2018-11-14T16:34:03.456651Z"
        },
        "run_control": {
          "frozen": false,
          "read_only": false
        },
        "colab": {
          "base_uri": "https://localhost:8080/"
        },
        "id": "BQBJufEu-29Z",
        "outputId": "967f85ba-630c-4f39-9362-87d54467b5cd"
      },
      "source": [
        "import statsmodels.api as sm\n",
        "import statsmodels.formula.api as smf\n",
        "\n",
        "\n",
        "lregmodels={}\n",
        "pregmodels={}\n",
        "for i,a in enumerate([ansc.I,ansc.II,ansc.III,ansc.IV]):\n",
        "    #create x^2 column\n",
        "    a['X2'] = a.X**2\n",
        "    rm = sm.OLS(a.Y, sm.add_constant(a.X))\n",
        "    lregmodels[i] = rm.fit()\n",
        "    \n",
        "    pregmodels[i] = smf.ols(formula='Y ~ X2 + X', data = a).fit()\n",
        "    \n",
        "    print (\"linear regression slope {}\".format(lregmodels[i].params))\n",
        "    print (\"polynomial regression slope {}\".format(pregmodels[i].params))    "
      ],
      "execution_count": null,
      "outputs": [
        {
          "output_type": "stream",
          "name": "stderr",
          "text": [
            "/usr/local/lib/python3.7/dist-packages/statsmodels/tools/_testing.py:19: FutureWarning: pandas.util.testing is deprecated. Use the functions in the public API at pandas.testing instead.\n",
            "  import pandas.util.testing as tm\n"
          ]
        },
        {
          "output_type": "stream",
          "name": "stdout",
          "text": [
            "linear regression slope const    3.000091\n",
            "X        0.500091\n",
            "dtype: float64\n",
            "polynomial regression slope Intercept    0.755068\n",
            "X2          -0.031620\n",
            "X            1.069252\n",
            "dtype: float64\n",
            "linear regression slope const    3.000909\n",
            "X        0.500000\n",
            "dtype: float64\n",
            "polynomial regression slope Intercept   -5.995734\n",
            "X2          -0.126713\n",
            "X            2.780839\n",
            "dtype: float64\n",
            "linear regression slope const    3.002455\n",
            "X        0.499727\n",
            "dtype: float64\n",
            "polynomial regression slope Intercept    5.111767\n",
            "X2           0.029709\n",
            "X           -0.035028\n",
            "dtype: float64\n",
            "linear regression slope const    3.001727\n",
            "X        0.499909\n",
            "dtype: float64\n",
            "polynomial regression slope Intercept    0.178018\n",
            "X2          -0.018577\n",
            "X            1.001489\n",
            "dtype: float64\n"
          ]
        },
        {
          "output_type": "stream",
          "name": "stderr",
          "text": [
            "/usr/local/lib/python3.7/dist-packages/ipykernel_launcher.py:9: SettingWithCopyWarning: \n",
            "A value is trying to be set on a copy of a slice from a DataFrame.\n",
            "Try using .loc[row_indexer,col_indexer] = value instead\n",
            "\n",
            "See the caveats in the documentation: https://pandas.pydata.org/pandas-docs/stable/user_guide/indexing.html#returning-a-view-versus-a-copy\n",
            "  if __name__ == '__main__':\n"
          ]
        }
      ]
    },
    {
      "cell_type": "markdown",
      "metadata": {
        "run_control": {
          "frozen": false,
          "read_only": false
        },
        "id": "0RbodThu-29Z"
      },
      "source": [
        "## the linear regression slopes are also the same to the third decimal digit! we must indeed be looking at the same distribution\n",
        "\n",
        "## what other ways to see the data could help us understand what we are looking at? how about a boxplot?"
      ]
    },
    {
      "cell_type": "code",
      "metadata": {
        "ExecuteTime": {
          "end_time": "2018-11-14T16:34:04.866670Z",
          "start_time": "2018-11-14T16:34:04.475780Z"
        },
        "run_control": {
          "frozen": false,
          "read_only": false
        },
        "scrolled": false,
        "colab": {
          "base_uri": "https://localhost:8080/",
          "height": 587
        },
        "id": "YJWGLp6j-29Z",
        "outputId": "d5bdd320-4337-4e5d-e2be-97cd0e7d73d0"
      },
      "source": [
        "fig = pl.figure(figsize=(10,10))\n",
        "ax = [0]*4\n",
        "\n",
        "ax[0] = fig.add_subplot(221)\n",
        "ax[1] = fig.add_subplot(222)\n",
        "ax[2] = fig.add_subplot(223)\n",
        "ax[3] = fig.add_subplot(224)\n",
        "# setting y axis limits to the max and mean of each distribution\n",
        "ylims = (min(np.concatenate([ansc.I.Y, ansc.II.Y, ansc.III.Y, ansc.IV.Y])) \n",
        "         + 0.3,\n",
        "         max(np.concatenate([ansc.I.Y, ansc.II.Y, ansc.III.Y, ansc.IV.Y])) \n",
        "         + 0.3)\n",
        "for i,a in enumerate([ansc.I, ansc.II, ansc.III, ansc.IV]):\n",
        "    a.boxplot(column = 'Y', ax = ax[i])\n",
        "    ax[i].set_ylim(ylims)\n",
        "pl.show()"
      ],
      "execution_count": null,
      "outputs": [
        {
          "output_type": "display_data",
          "data": {
            "image/png": "[encoded data removed]",
            "text/plain": [
              "<Figure size 720x720 with 4 Axes>"
            ]
          },
          "metadata": {
            "needs_background": "light"
          }
        }
      ]
    },
    {
      "cell_type": "markdown",
      "metadata": {
        "run_control": {
          "frozen": false,
          "read_only": false
        },
        "id": "76BGKt43-29a"
      },
      "source": [
        "# hmmmm some differences are appearing. \n",
        "\n",
        "## lets make a histogram of the data. this is not much data but if we were looking at really large datasets histogramming rather then plotting the data directly may be necessary"
      ]
    },
    {
      "cell_type": "code",
      "metadata": {
        "ExecuteTime": {
          "end_time": "2018-11-14T16:34:05.611030Z",
          "start_time": "2018-11-14T16:34:04.984314Z"
        },
        "run_control": {
          "frozen": false,
          "read_only": false
        },
        "colab": {
          "base_uri": "https://localhost:8080/",
          "height": 622
        },
        "id": "Rnhslsel-29a",
        "outputId": "ff7b74f3-7801-4c90-b1f1-d38fc2a3c556"
      },
      "source": [
        "fig = pl.figure(figsize = (10,10))\n",
        "ax=[0] * 4\n",
        "\n",
        "ax[0] = fig.add_subplot(221)\n",
        "ax[1] = fig.add_subplot(222)\n",
        "ax[2] = fig.add_subplot(223)\n",
        "ax[3] = fig.add_subplot(224)\n",
        "\n",
        "for i, a in enumerate([ansc.I, ansc.II, ansc.III, ansc.IV]):\n",
        "    #\n",
        "    a.hist(column = 'Y', color = 'SteelBlue', bins = 5, ax = ax[i])\n",
        "    ax[i].plot([a.Y.mean(), a.Y.mean()], ax[i].get_ylim(), '-', \n",
        "               color = 'IndianRed', lw = 2)\n",
        "    ax[i].set_title(\"Anscombe's %d\"%(i+1))\n",
        "pl.show()"
      ],
      "execution_count": null,
      "outputs": [
        {
          "output_type": "stream",
          "name": "stderr",
          "text": [
            "findfont: Font family ['[\"sans-serif\"]'] not found. Falling back to DejaVu Sans.\n"
          ]
        },
        {
          "output_type": "display_data",
          "data": {
            "image/png": "[encoded data removed]",
            "text/plain": [
              "<Figure size 720x720 with 4 Axes>"
            ]
          },
          "metadata": {
            "needs_background": "light"
          }
        }
      ]
    },
    {
      "cell_type": "markdown",
      "metadata": {
        "run_control": {
          "frozen": false,
          "read_only": false
        },
        "id": "0mT9RvSg-29a"
      },
      "source": [
        "# lets plot the data itself... surprise!"
      ]
    },
    {
      "cell_type": "code",
      "metadata": {
        "ExecuteTime": {
          "end_time": "2018-11-14T16:34:06.596906Z",
          "start_time": "2018-11-14T16:34:05.614270Z"
        },
        "run_control": {
          "frozen": false,
          "read_only": false
        },
        "scrolled": false,
        "colab": {
          "base_uri": "https://localhost:8080/",
          "height": 673
        },
        "id": "qOQbBn_e-29a",
        "outputId": "d094ae93-b6cf-41e8-c263-d8a52e4a4bff"
      },
      "source": [
        "fig=pl.figure(figsize=(10,10))\n",
        "ax=[0]*4\n",
        "\n",
        "ax[0]=fig.add_subplot(221)\n",
        "ax[1]=fig.add_subplot(222)\n",
        "ax[2]=fig.add_subplot(223)\n",
        "ax[3]=fig.add_subplot(224)\n",
        "\n",
        "for i,a in enumerate([ansc.I,ansc.II,ansc.III,ansc.IV]):\n",
        "    #\n",
        "    a.plot(kind='scatter',s=100, x='X',y='Y', color='SteelBlue', ax=ax[i])\n",
        "    xlims=ax[i].get_xlim()\n",
        "    X_prime = sm.add_constant(np.linspace(a.X.min(), a.X.max(), 100))\n",
        "    y_hat = lregmodels[i].predict(X_prime)\n",
        "    print (*lregmodels[i].params)\n",
        "    ax[i].plot(X_prime[:,1], y_hat, '-', color='IndianRed')  \n",
        "    ax[i].text(0.5, 0.9, r\"$\\mu$: %.2f $\\sigma$: %.2f\"%(a.Y.mean(),\n",
        "                                                        a.Y.std()), \n",
        "               horizontalalignment=\"center\", transform=ax[i].transAxes, \n",
        "               fontsize=19)\n",
        "    ax[i].text(0.5, 0.1, r\"$y$={:.2f}$x$+{:.2f}\".format(*lregmodels[i].params), \n",
        "               horizontalalignment=\"center\", transform=ax[i].transAxes, \n",
        "               fontsize=19)\n",
        "pl.savefig(\"anscombe.png\")\n"
      ],
      "execution_count": null,
      "outputs": [
        {
          "output_type": "stream",
          "name": "stdout",
          "text": [
            "3.0000909090909076 0.5000909090909093\n",
            "3.0009090909090905 0.5000000000000001\n",
            "3.0024545454545444 0.4997272727272729\n",
            "3.001727272727269 0.49990909090909097\n"
          ]
        },
        {
          "output_type": "display_data",
          "data": {
            "image/png": "[encoded data removed]",
            "text/plain": [
              "<Figure size 720x720 with 4 Axes>"
            ]
          },
          "metadata": {
            "needs_background": "light"
          }
        }
      ]
    },
    {
      "cell_type": "code",
      "metadata": {
        "ExecuteTime": {
          "end_time": "2018-11-14T16:34:07.647048Z",
          "start_time": "2018-11-14T16:34:06.599486Z"
        },
        "run_control": {
          "frozen": false,
          "read_only": false
        },
        "colab": {
          "base_uri": "https://localhost:8080/",
          "height": 620
        },
        "id": "NdUxl5jU-29b",
        "outputId": "18999fdf-361a-4a1b-ff11-1643d435d0b6"
      },
      "source": [
        "fig=pl.figure(figsize=(10,10))\n",
        "ax=[0]*4\n",
        "\n",
        "ax[0]=fig.add_subplot(221)\n",
        "ax[1]=fig.add_subplot(222)\n",
        "ax[2]=fig.add_subplot(223)\n",
        "ax[3]=fig.add_subplot(224)\n",
        "\n",
        "for i,a in enumerate([ansc.I,ansc.II,ansc.III,ansc.IV]):\n",
        "    #\n",
        "    a.plot(kind='scatter',s=100, x='X',y='Y', color='SteelBlue', ax=ax[i])\n",
        "    xlims=ax[i].get_xlim()\n",
        "    X_prime = np.linspace(a.X.min(), a.X.max(), 100)\n",
        "    atmp = pd.DataFrame()\n",
        "    atmp['X'] = X_prime\n",
        "    atmp['X2'] = atmp['X']**2\n",
        "    \n",
        "    y_hat = pregmodels[i].predict(atmp)\n",
        "    ax[i].plot(X_prime, y_hat, '-', color='IndianRed')  \n",
        "    ax[i].text(0.5, 0.9, r\"$\\mu$: %.2f $\\sigma$: %.2f\"%(a.Y.mean(),a.Y.std()), \n",
        "               horizontalalignment=\"center\", transform=ax[i].transAxes, fontsize=19)\n",
        "    ax[i].text(0.5, 0.1, r\"y={:.2f}$x^2$  {:+.2f} $x$ {:+.2f}\".format(*pregmodels[i].params[::-1]), \n",
        "               horizontalalignment=\"center\", transform=ax[i].transAxes, \n",
        "               fontsize=16)\n",
        "pl.savefig(\"anscombe.png\")\n"
      ],
      "execution_count": null,
      "outputs": [
        {
          "output_type": "stream",
          "name": "stderr",
          "text": [
            "findfont: Font family ['[\"sans-serif\"]'] not found. Falling back to DejaVu Sans.\n"
          ]
        },
        {
          "output_type": "display_data",
          "data": {
            "image/png": "[encoded data removed]",
            "text/plain": [
              "<Figure size 720x720 with 4 Axes>"
            ]
          },
          "metadata": {
            "needs_background": "light"
          }
        }
      ]
    },
    {
      "cell_type": "markdown",
      "metadata": {
        "run_control": {
          "frozen": false,
          "read_only": false
        },
        "id": "S-Ea3CAk-29b"
      },
      "source": [
        "## note that the higher order moments also suggested differences"
      ]
    },
    {
      "cell_type": "code",
      "metadata": {
        "ExecuteTime": {
          "end_time": "2018-11-14T16:34:08.361181Z",
          "start_time": "2018-11-14T16:34:07.650498Z"
        },
        "run_control": {
          "frozen": false,
          "read_only": false
        },
        "colab": {
          "base_uri": "https://localhost:8080/",
          "height": 693
        },
        "id": "kTwfFSqz-29b",
        "outputId": "bab8519b-37a2-43e8-cd20-47917490d738"
      },
      "source": [
        "print (\"Distribution Skewness: {0:.2f}, {1:.2f}, {2:.2f}, {3:.2f}\"\\\n",
        "    .format(ansc.I.Y.skew(), ansc.II.Y.skew(), ansc.III.Y.skew(), ansc.IV.Y.skew()))\n",
        "print (\"Distribution Kurtosis: {0:.2f}, {1:.2f}, {2:.2f}, {3:.2f}\"\\\n",
        "    .format(ansc.I.Y.kurt(), ansc.II.Y.kurt(), ansc.III.Y.kurt(), ansc.IV.Y.kurt()))\n",
        "\n",
        "fig = pl.figure(figsize=(10, 10))\n",
        "ax = [0] * 4\n",
        "\n",
        "ax[0] = fig.add_subplot(221)\n",
        "ax[1] = fig.add_subplot(222)\n",
        "ax[2] = fig.add_subplot(223)\n",
        "ax[3] = fig.add_subplot(224)\n",
        "colors=['DarkMagenta', 'MediumTurquoise', 'tomato', 'gray']\n",
        "for i in range(4):\n",
        "    ax[i].set_xticks([],[])\n",
        "ax[0].scatter(range(4), [ansc.I.Y.mean(), ansc.II.Y.mean(), ansc.III.Y.mean(), ansc.IV.Y.mean()], \n",
        "              s = 100, c = colors)\n",
        "ax[0].text(0.5, 0.75, 'mean', horizontalalignment = \"center\", \n",
        "           transform = ax[0].transAxes, fontsize = 19)\n",
        "ax[1].scatter(range(4), [ansc.I.Y.std(), ansc.II.Y.std(), ansc.III.Y.std(), ansc.IV.Y.std()], \n",
        "              s = 100, c = colors)\n",
        "ax[1].text(0.5, 0.75, 'standard deviation', horizontalalignment = \"center\", \n",
        "           transform = ax[1].transAxes, fontsize = 19)\n",
        "ax[2].scatter(range(4), [ansc.I.Y.skew(), ansc.II.Y.skew(), ansc.III.Y.skew(), ansc.IV.Y.skew()], \n",
        "              s = 100, c = colors)\n",
        "ax[2].text(0.5, 0.75, 'skewness', horizontalalignment = \"center\", \n",
        "           transform = ax[2].transAxes, fontsize = 19)\n",
        "ax[3].scatter(range(4), [ansc.I.Y.kurt(), ansc.II.Y.kurt(), ansc.III.Y.kurt(), ansc.IV.Y.kurt()], \n",
        "              s = 100, c = colors)\n",
        "ax[3].text(0.5, 0.75, 'kurtosis', horizontalalignment = \"center\", \n",
        "           transform = ax[3].transAxes, fontsize = 19)\n"
      ],
      "execution_count": null,
      "outputs": [
        {
          "output_type": "stream",
          "name": "stdout",
          "text": [
            "Distribution Skewness: -0.07, -1.32, 1.86, 1.51\n",
            "Distribution Kurtosis: -0.53, 0.85, 4.38, 3.15\n"
          ]
        },
        {
          "output_type": "stream",
          "name": "stderr",
          "text": [
            "/usr/local/lib/python3.7/dist-packages/ipykernel_launcher.py:13: MatplotlibDeprecationWarning: Passing the minor parameter of set_xticks() positionally is deprecated since Matplotlib 3.2; the parameter will become keyword-only two minor releases later.\n",
            "  del sys.path[0]\n"
          ]
        },
        {
          "output_type": "execute_result",
          "data": {
            "text/plain": [
              "Text(0.5, 0.75, 'kurtosis')"
            ]
          },
          "metadata": {},
          "execution_count": 18
        },
        {
          "output_type": "display_data",
          "data": {
            "image/png": "[encoded data removed]",
            "text/plain": [
              "<Figure size 720x720 with 4 Axes>"
            ]
          },
          "metadata": {
            "needs_background": "light"
          }
        }
      ]
    },
    {
      "cell_type": "markdown",
      "metadata": {
        "run_control": {
          "frozen": false,
          "read_only": false
        },
        "id": "9wCfwklx-29b"
      },
      "source": [
        "# what to the residual of the linear fit say?"
      ]
    },
    {
      "cell_type": "code",
      "metadata": {
        "ExecuteTime": {
          "end_time": "2018-11-14T20:49:33.273972Z",
          "start_time": "2018-11-14T20:49:31.860061Z"
        },
        "run_control": {
          "frozen": false,
          "read_only": false
        },
        "scrolled": false,
        "colab": {
          "base_uri": "https://localhost:8080/",
          "height": 1000
        },
        "id": "esVYg6la-29b",
        "outputId": "b0024733-ce0b-42a5-e3c8-dca052c003ab"
      },
      "source": [
        "fig = pl.figure(figsize = (20, 10))\n",
        "ax=[0] * 8\n",
        "\n",
        "ax[0] = fig.add_subplot(241)\n",
        "ax[1] = fig.add_subplot(242)\n",
        "ax[2] = fig.add_subplot(243)\n",
        "ax[3] = fig.add_subplot(244)\n",
        "ax[4] = fig.add_subplot(245)\n",
        "ax[5] = fig.add_subplot(246)\n",
        "ax[6] = fig.add_subplot(247)\n",
        "ax[7] = fig.add_subplot(248)\n",
        "\n",
        "for i, a in enumerate([ansc.I, ansc.II, ansc.III, ansc.IV]):\n",
        "    print (lregmodels[i].summary())\n",
        "    a.plot(kind = 'scatter', s = 100, x = 'X', y = 'Y', \n",
        "           color = 'SteelBlue', ax = ax[i])\n",
        "    xlims = ax[i].get_xlim()\n",
        "\n",
        "    X_prime = sm.add_constant(np.linspace(a.X.min(), a.X.max(), 100))\n",
        "    y_hat = lregmodels[i].predict(X_prime)\n",
        "    ax[i].plot(X_prime[:, 1], y_hat, '-', color = 'IndianRed')  \n",
        "    ax[i].text(0.5, 0.9, r\"slope: {0:.2f} intercept: {1:.2f}\"\\\n",
        "               .format(*lregmodels[i].params.values),\n",
        "        horizontalalignment=\"center\", transform = ax[i].transAxes, \n",
        "               fontsize = 19)\n",
        "    ax[i + 4].plot([a.X.min(), a.X.max()], [0, 0], '-', \n",
        "                   color = 'IndianRed')\n",
        "    ax[i + 4].plot(a.X, a.Y - lregmodels[i].predict(sm.add_constant(a.X)), \n",
        "                                                   'o', color='DarkGreen')\n",
        "    ax[i + 4].set_xlim(xlims)"
      ],
      "execution_count": null,
      "outputs": [
        {
          "output_type": "stream",
          "name": "stderr",
          "text": [
            "/usr/local/lib/python3.7/dist-packages/scipy/stats/stats.py:1535: UserWarning: kurtosistest only valid for n>=20 ... continuing anyway, n=11\n",
            "  \"anyway, n=%i\" % int(n))\n",
            "/usr/local/lib/python3.7/dist-packages/scipy/stats/stats.py:1535: UserWarning: kurtosistest only valid for n>=20 ... continuing anyway, n=11\n",
            "  \"anyway, n=%i\" % int(n))\n",
            "/usr/local/lib/python3.7/dist-packages/scipy/stats/stats.py:1535: UserWarning: kurtosistest only valid for n>=20 ... continuing anyway, n=11\n",
            "  \"anyway, n=%i\" % int(n))\n",
            "/usr/local/lib/python3.7/dist-packages/scipy/stats/stats.py:1535: UserWarning: kurtosistest only valid for n>=20 ... continuing anyway, n=11\n",
            "  \"anyway, n=%i\" % int(n))\n"
          ]
        },
        {
          "output_type": "stream",
          "name": "stdout",
          "text": [
            "                            OLS Regression Results                            \n",
            "==============================================================================\n",
            "Dep. Variable:                      Y   R-squared:                       0.667\n",
            "Model:                            OLS   Adj. R-squared:                  0.629\n",
            "Method:                 Least Squares   F-statistic:                     17.99\n",
            "Date:                Sun, 24 Oct 2021   Prob (F-statistic):            0.00217\n",
            "Time:                        15:48:03   Log-Likelihood:                -16.841\n",
            "No. Observations:                  11   AIC:                             37.68\n",
            "Df Residuals:                       9   BIC:                             38.48\n",
            "Df Model:                           1                                         \n",
            "Covariance Type:            nonrobust                                         \n",
            "==============================================================================\n",
            "                 coef    std err          t      P>|t|      [0.025      0.975]\n",
            "------------------------------------------------------------------------------\n",
            "const          3.0001      1.125      2.667      0.026       0.456       5.544\n",
            "X              0.5001      0.118      4.241      0.002       0.233       0.767\n",
            "==============================================================================\n",
            "Omnibus:                        0.082   Durbin-Watson:                   3.212\n",
            "Prob(Omnibus):                  0.960   Jarque-Bera (JB):                0.289\n",
            "Skew:                          -0.122   Prob(JB):                        0.865\n",
            "Kurtosis:                       2.244   Cond. No.                         29.1\n",
            "==============================================================================\n",
            "\n",
            "Warnings:\n",
            "[1] Standard Errors assume that the covariance matrix of the errors is correctly specified.\n",
            "                            OLS Regression Results                            \n",
            "==============================================================================\n",
            "Dep. Variable:                      Y   R-squared:                       0.666\n",
            "Model:                            OLS   Adj. R-squared:                  0.629\n",
            "Method:                 Least Squares   F-statistic:                     17.97\n",
            "Date:                Sun, 24 Oct 2021   Prob (F-statistic):            0.00218\n",
            "Time:                        15:48:03   Log-Likelihood:                -16.846\n",
            "No. Observations:                  11   AIC:                             37.69\n",
            "Df Residuals:                       9   BIC:                             38.49\n",
            "Df Model:                           1                                         \n",
            "Covariance Type:            nonrobust                                         \n",
            "==============================================================================\n",
            "                 coef    std err          t      P>|t|      [0.025      0.975]\n",
            "------------------------------------------------------------------------------\n",
            "const          3.0009      1.125      2.667      0.026       0.455       5.547\n",
            "X              0.5000      0.118      4.239      0.002       0.233       0.767\n",
            "==============================================================================\n",
            "Omnibus:                        1.594   Durbin-Watson:                   2.188\n",
            "Prob(Omnibus):                  0.451   Jarque-Bera (JB):                1.108\n",
            "Skew:                          -0.567   Prob(JB):                        0.575\n",
            "Kurtosis:                       1.936   Cond. No.                         29.1\n",
            "==============================================================================\n",
            "\n",
            "Warnings:\n",
            "[1] Standard Errors assume that the covariance matrix of the errors is correctly specified.\n",
            "                            OLS Regression Results                            \n",
            "==============================================================================\n",
            "Dep. Variable:                      Y   R-squared:                       0.666\n",
            "Model:                            OLS   Adj. R-squared:                  0.629\n",
            "Method:                 Least Squares   F-statistic:                     17.97\n",
            "Date:                Sun, 24 Oct 2021   Prob (F-statistic):            0.00218\n",
            "Time:                        15:48:03   Log-Likelihood:                -16.838\n",
            "No. Observations:                  11   AIC:                             37.68\n",
            "Df Residuals:                       9   BIC:                             38.47\n",
            "Df Model:                           1                                         \n",
            "Covariance Type:            nonrobust                                         \n",
            "==============================================================================\n",
            "                 coef    std err          t      P>|t|      [0.025      0.975]\n",
            "------------------------------------------------------------------------------\n",
            "const          3.0025      1.124      2.670      0.026       0.459       5.546\n",
            "X              0.4997      0.118      4.239      0.002       0.233       0.766\n",
            "==============================================================================\n",
            "Omnibus:                       19.540   Durbin-Watson:                   2.144\n",
            "Prob(Omnibus):                  0.000   Jarque-Bera (JB):               13.478\n",
            "Skew:                           2.041   Prob(JB):                      0.00118\n",
            "Kurtosis:                       6.571   Cond. No.                         29.1\n",
            "==============================================================================\n",
            "\n",
            "Warnings:\n",
            "[1] Standard Errors assume that the covariance matrix of the errors is correctly specified.\n",
            "                            OLS Regression Results                            \n",
            "==============================================================================\n",
            "Dep. Variable:                      Y   R-squared:                       0.667\n",
            "Model:                            OLS   Adj. R-squared:                  0.630\n",
            "Method:                 Least Squares   F-statistic:                     18.00\n",
            "Date:                Sun, 24 Oct 2021   Prob (F-statistic):            0.00216\n",
            "Time:                        15:48:03   Log-Likelihood:                -16.833\n",
            "No. Observations:                  11   AIC:                             37.67\n",
            "Df Residuals:                       9   BIC:                             38.46\n",
            "Df Model:                           1                                         \n",
            "Covariance Type:            nonrobust                                         \n",
            "==============================================================================\n",
            "                 coef    std err          t      P>|t|      [0.025      0.975]\n",
            "------------------------------------------------------------------------------\n",
            "const          3.0017      1.124      2.671      0.026       0.459       5.544\n",
            "X              0.4999      0.118      4.243      0.002       0.233       0.766\n",
            "==============================================================================\n",
            "Omnibus:                        0.555   Durbin-Watson:                   1.662\n",
            "Prob(Omnibus):                  0.758   Jarque-Bera (JB):                0.524\n",
            "Skew:                           0.010   Prob(JB):                        0.769\n",
            "Kurtosis:                       1.931   Cond. No.                         29.1\n",
            "==============================================================================\n",
            "\n",
            "Warnings:\n",
            "[1] Standard Errors assume that the covariance matrix of the errors is correctly specified.\n"
          ]
        },
        {
          "output_type": "display_data",
          "data": {
            "image/png": "[encoded data removed]",
            "text/plain": [
              "<Figure size 1440x720 with 8 Axes>"
            ]
          },
          "metadata": {
            "needs_background": "light"
          }
        }
      ]
    },
    {
      "cell_type": "code",
      "metadata": {
        "ExecuteTime": {
          "end_time": "2018-11-14T16:34:13.134764Z",
          "start_time": "2018-11-14T16:34:10.025933Z"
        },
        "run_control": {
          "frozen": false,
          "read_only": false
        },
        "scrolled": false,
        "colab": {
          "base_uri": "https://localhost:8080/",
          "height": 1000
        },
        "id": "rTYEixHl-29c",
        "outputId": "d0ffe575-e106-43de-9177-9e207d2b0eda"
      },
      "source": [
        "fig = pl.figure(figsize = (20, 10))\n",
        "ax=[0] * 8\n",
        "\n",
        "ax[0] = fig.add_subplot(241)\n",
        "ax[1] = fig.add_subplot(242)\n",
        "ax[2] = fig.add_subplot(243)\n",
        "ax[3] = fig.add_subplot(244)\n",
        "ax[4] = fig.add_subplot(245)\n",
        "ax[5] = fig.add_subplot(246)\n",
        "ax[6] = fig.add_subplot(247)\n",
        "ax[7] = fig.add_subplot(248)\n",
        "\n",
        "\n",
        "for i, a in enumerate([ansc.I, ansc.II, ansc.III, ansc.IV]):\n",
        "    print (pregmodels[i].summary())\n",
        "    a.plot(kind = 'scatter', s = 100, x = 'X', y = 'Y', \n",
        "           color = 'SteelBlue', ax = ax[i])\n",
        "    xlims = ax[i].get_xlim()\n",
        "\n",
        "    \n",
        "    atmp = a.sort_values(by='X', axis=0)\n",
        "    atmp['X2'] = atmp['X']*atmp['X']\n",
        "    y_hatp = pregmodels[i].predict(atmp)    \n",
        "    ax[i].plot(atmp.X, pregmodels[i].predict(atmp), \n",
        "                   '-', color='IndianRed')\n",
        "    \n",
        "    ax[i + 4].plot([a.X.min(), a.X.max()], [0, 0], '-', \n",
        "                   color = 'IndianRed')\n",
        "    ax[i + 4].plot(atmp.X, atmp.Y - pregmodels[i].predict(atmp), \n",
        "                   'o', color='DarkGreen')\n",
        "    ax[i + 4].plot(a.X, a.Y - lregmodels[i].predict(sm.add_constant(a.X)), \n",
        "                                                   'o', color='gray')\n",
        "    ax[i + 4].set_xlim(xlims)\n",
        "    "
      ],
      "execution_count": null,
      "outputs": [
        {
          "output_type": "stream",
          "name": "stderr",
          "text": [
            "/usr/local/lib/python3.7/dist-packages/scipy/stats/stats.py:1535: UserWarning: kurtosistest only valid for n>=20 ... continuing anyway, n=11\n",
            "  \"anyway, n=%i\" % int(n))\n",
            "/usr/local/lib/python3.7/dist-packages/scipy/stats/stats.py:1535: UserWarning: kurtosistest only valid for n>=20 ... continuing anyway, n=11\n",
            "  \"anyway, n=%i\" % int(n))\n",
            "/usr/local/lib/python3.7/dist-packages/scipy/stats/stats.py:1535: UserWarning: kurtosistest only valid for n>=20 ... continuing anyway, n=11\n",
            "  \"anyway, n=%i\" % int(n))\n",
            "/usr/local/lib/python3.7/dist-packages/scipy/stats/stats.py:1535: UserWarning: kurtosistest only valid for n>=20 ... continuing anyway, n=11\n",
            "  \"anyway, n=%i\" % int(n))\n"
          ]
        },
        {
          "output_type": "stream",
          "name": "stdout",
          "text": [
            "                            OLS Regression Results                            \n",
            "==============================================================================\n",
            "Dep. Variable:                      Y   R-squared:                       0.687\n",
            "Model:                            OLS   Adj. R-squared:                  0.609\n",
            "Method:                 Least Squares   F-statistic:                     8.793\n",
            "Date:                Sun, 24 Oct 2021   Prob (F-statistic):            0.00956\n",
            "Time:                        15:48:04   Log-Likelihood:                -16.487\n",
            "No. Observations:                  11   AIC:                             38.97\n",
            "Df Residuals:                       8   BIC:                             40.17\n",
            "Df Model:                           2                                         \n",
            "Covariance Type:            nonrobust                                         \n",
            "==============================================================================\n",
            "                 coef    std err          t      P>|t|      [0.025      0.975]\n",
            "------------------------------------------------------------------------------\n",
            "Intercept      0.7551      3.288      0.230      0.824      -6.827       8.338\n",
            "X2            -0.0316      0.043     -0.729      0.487      -0.132       0.068\n",
            "X              1.0693      0.790      1.354      0.213      -0.752       2.891\n",
            "==============================================================================\n",
            "Omnibus:                        0.167   Durbin-Watson:                   2.902\n",
            "Prob(Omnibus):                  0.920   Jarque-Bera (JB):                0.302\n",
            "Skew:                          -0.220   Prob(JB):                        0.860\n",
            "Kurtosis:                       2.318   Cond. No.                         954.\n",
            "==============================================================================\n",
            "\n",
            "Warnings:\n",
            "[1] Standard Errors assume that the covariance matrix of the errors is correctly specified.\n",
            "                            OLS Regression Results                            \n",
            "==============================================================================\n",
            "Dep. Variable:                      Y   R-squared:                       1.000\n",
            "Model:                            OLS   Adj. R-squared:                  1.000\n",
            "Method:                 Least Squares   F-statistic:                 7.378e+06\n",
            "Date:                Sun, 24 Oct 2021   Prob (F-statistic):           8.64e-26\n",
            "Time:                        15:48:04   Log-Likelihood:                 56.471\n",
            "No. Observations:                  11   AIC:                            -106.9\n",
            "Df Residuals:                       8   BIC:                            -105.7\n",
            "Df Model:                           2                                         \n",
            "Covariance Type:            nonrobust                                         \n",
            "==============================================================================\n",
            "                 coef    std err          t      P>|t|      [0.025      0.975]\n",
            "------------------------------------------------------------------------------\n",
            "Intercept     -5.9957      0.004  -1384.713      0.000      -6.006      -5.986\n",
            "X2            -0.1267   5.71e-05  -2219.238      0.000      -0.127      -0.127\n",
            "X              2.7808      0.001   2673.741      0.000       2.778       2.783\n",
            "==============================================================================\n",
            "Omnibus:                        2.566   Durbin-Watson:                   2.286\n",
            "Prob(Omnibus):                  0.277   Jarque-Bera (JB):                1.697\n",
            "Skew:                           0.809   Prob(JB):                        0.428\n",
            "Kurtosis:                       1.959   Cond. No.                         954.\n",
            "==============================================================================\n",
            "\n",
            "Warnings:\n",
            "[1] Standard Errors assume that the covariance matrix of the errors is correctly specified.\n",
            "                            OLS Regression Results                            \n",
            "==============================================================================\n",
            "Dep. Variable:                      Y   R-squared:                       0.685\n",
            "Model:                            OLS   Adj. R-squared:                  0.606\n",
            "Method:                 Least Squares   F-statistic:                     8.686\n",
            "Date:                Sun, 24 Oct 2021   Prob (F-statistic):            0.00988\n",
            "Time:                        15:48:05   Log-Likelihood:                -16.527\n",
            "No. Observations:                  11   AIC:                             39.05\n",
            "Df Residuals:                       8   BIC:                             40.25\n",
            "Df Model:                           2                                         \n",
            "Covariance Type:            nonrobust                                         \n",
            "==============================================================================\n",
            "                 coef    std err          t      P>|t|      [0.025      0.975]\n",
            "------------------------------------------------------------------------------\n",
            "Intercept      5.1118      3.300      1.549      0.160      -2.498      12.722\n",
            "X2             0.0297      0.044      0.683      0.514      -0.071       0.130\n",
            "X             -0.0350      0.793     -0.044      0.966      -1.863       1.793\n",
            "==============================================================================\n",
            "Omnibus:                       15.954   Durbin-Watson:                   1.921\n",
            "Prob(Omnibus):                  0.000   Jarque-Bera (JB):                9.922\n",
            "Skew:                           1.691   Prob(JB):                      0.00701\n",
            "Kurtosis:                       6.194   Cond. No.                         954.\n",
            "==============================================================================\n",
            "\n",
            "Warnings:\n",
            "[1] Standard Errors assume that the covariance matrix of the errors is correctly specified.\n",
            "                            OLS Regression Results                            \n",
            "==============================================================================\n",
            "Dep. Variable:                      Y   R-squared:                       0.667\n",
            "Model:                            OLS   Adj. R-squared:                  0.630\n",
            "Method:                 Least Squares   F-statistic:                     18.00\n",
            "Date:                Sun, 24 Oct 2021   Prob (F-statistic):            0.00216\n",
            "Time:                        15:48:05   Log-Likelihood:                -16.833\n",
            "No. Observations:                  11   AIC:                             37.67\n",
            "Df Residuals:                       9   BIC:                             38.46\n",
            "Df Model:                           1                                         \n",
            "Covariance Type:            nonrobust                                         \n",
            "==============================================================================\n",
            "                 coef    std err          t      P>|t|      [0.025      0.975]\n",
            "------------------------------------------------------------------------------\n",
            "Intercept      0.1780      0.017     10.661      0.000       0.140       0.216\n",
            "X2            -0.0186      0.007     -2.547      0.031      -0.035      -0.002\n",
            "X              1.0015      0.094     10.682      0.000       0.789       1.214\n",
            "==============================================================================\n",
            "Omnibus:                        0.555   Durbin-Watson:                   1.662\n",
            "Prob(Omnibus):                  0.758   Jarque-Bera (JB):                0.524\n",
            "Skew:                           0.010   Prob(JB):                        0.769\n",
            "Kurtosis:                       1.931   Cond. No.                     1.12e+18\n",
            "==============================================================================\n",
            "\n",
            "Warnings:\n",
            "[1] Standard Errors assume that the covariance matrix of the errors is correctly specified.\n",
            "[2] The smallest eigenvalue is 1.37e-31. This might indicate that there are\n",
            "strong multicollinearity problems or that the design matrix is singular.\n"
          ]
        },
        {
          "output_type": "display_data",
          "data": {
            "image/png": "[encoded data removed]",
            "text/plain": [
              "<Figure size 1440x720 with 8 Axes>"
            ]
          },
          "metadata": {
            "needs_background": "light"
          }
        }
      ]
    },
    {
      "cell_type": "code",
      "metadata": {
        "ExecuteTime": {
          "end_time": "2018-11-14T16:34:27.313061Z",
          "start_time": "2018-11-14T16:34:23.390975Z"
        },
        "run_control": {
          "frozen": false,
          "read_only": false
        },
        "scrolled": false,
        "colab": {
          "base_uri": "https://localhost:8080/",
          "height": 1000
        },
        "id": "oZ6TFiDU-29c",
        "outputId": "28721f7d-96e7-4434-a2c6-72a5dd918a75"
      },
      "source": [
        "fig = pl.figure(figsize = (20, 10))\n",
        "ax=[0] * 8\n",
        "\n",
        "ax[0] = fig.add_subplot(241)\n",
        "ax[1] = fig.add_subplot(242)\n",
        "ax[2] = fig.add_subplot(243)\n",
        "ax[3] = fig.add_subplot(244)\n",
        "ax[4] = fig.add_subplot(245)\n",
        "ax[5] = fig.add_subplot(246)\n",
        "ax[6] = fig.add_subplot(247)\n",
        "ax[7] = fig.add_subplot(248)\n",
        "\n",
        "\n",
        "for i, a in enumerate([ansc.I, ansc.II, ansc.III, ansc.IV]):\n",
        "    print (pregmodels[i].summary())\n",
        "    a.plot(kind = 'scatter', s = 100, x = 'X', y = 'Y', \n",
        "           color = 'SteelBlue', ax = ax[i])\n",
        "    xlims = ax[i].get_xlim()\n",
        "\n",
        "    \n",
        "    atmp = a.sort_values(by='X', axis=0)\n",
        "    atmp['X2'] = atmp['X']*atmp['X']\n",
        "    y_hatp = pregmodels[i].predict(atmp)    \n",
        "    ax[i].plot(atmp.X, pregmodels[i].predict(atmp), \n",
        "                   '-', color='IndianRed')\n",
        "    \n",
        "    ax[i + 4].plot([a.X.min(), a.X.max()], [0, 0], '-', \n",
        "                   color = 'IndianRed')\n",
        "    ax[i + 4].plot(atmp.X, atmp.Y - pregmodels[i].predict(atmp), \n",
        "                   'o', color='DarkGreen')\n",
        "    ax[i + 4].plot(a.X, a.Y - lregmodels[i].predict(sm.add_constant(a.X)), \n",
        "                                                   'o', color='gray')\n",
        "    ax[i + 4].set_xlim(xlims)\n"
      ],
      "execution_count": null,
      "outputs": [
        {
          "output_type": "stream",
          "name": "stderr",
          "text": [
            "/usr/local/lib/python3.7/dist-packages/scipy/stats/stats.py:1535: UserWarning: kurtosistest only valid for n>=20 ... continuing anyway, n=11\n",
            "  \"anyway, n=%i\" % int(n))\n",
            "/usr/local/lib/python3.7/dist-packages/scipy/stats/stats.py:1535: UserWarning: kurtosistest only valid for n>=20 ... continuing anyway, n=11\n",
            "  \"anyway, n=%i\" % int(n))\n",
            "/usr/local/lib/python3.7/dist-packages/scipy/stats/stats.py:1535: UserWarning: kurtosistest only valid for n>=20 ... continuing anyway, n=11\n",
            "  \"anyway, n=%i\" % int(n))\n",
            "/usr/local/lib/python3.7/dist-packages/scipy/stats/stats.py:1535: UserWarning: kurtosistest only valid for n>=20 ... continuing anyway, n=11\n",
            "  \"anyway, n=%i\" % int(n))\n"
          ]
        },
        {
          "output_type": "stream",
          "name": "stdout",
          "text": [
            "                            OLS Regression Results                            \n",
            "==============================================================================\n",
            "Dep. Variable:                      Y   R-squared:                       0.687\n",
            "Model:                            OLS   Adj. R-squared:                  0.609\n",
            "Method:                 Least Squares   F-statistic:                     8.793\n",
            "Date:                Sun, 24 Oct 2021   Prob (F-statistic):            0.00956\n",
            "Time:                        15:48:06   Log-Likelihood:                -16.487\n",
            "No. Observations:                  11   AIC:                             38.97\n",
            "Df Residuals:                       8   BIC:                             40.17\n",
            "Df Model:                           2                                         \n",
            "Covariance Type:            nonrobust                                         \n",
            "==============================================================================\n",
            "                 coef    std err          t      P>|t|      [0.025      0.975]\n",
            "------------------------------------------------------------------------------\n",
            "Intercept      0.7551      3.288      0.230      0.824      -6.827       8.338\n",
            "X2            -0.0316      0.043     -0.729      0.487      -0.132       0.068\n",
            "X              1.0693      0.790      1.354      0.213      -0.752       2.891\n",
            "==============================================================================\n",
            "Omnibus:                        0.167   Durbin-Watson:                   2.902\n",
            "Prob(Omnibus):                  0.920   Jarque-Bera (JB):                0.302\n",
            "Skew:                          -0.220   Prob(JB):                        0.860\n",
            "Kurtosis:                       2.318   Cond. No.                         954.\n",
            "==============================================================================\n",
            "\n",
            "Warnings:\n",
            "[1] Standard Errors assume that the covariance matrix of the errors is correctly specified.\n",
            "                            OLS Regression Results                            \n",
            "==============================================================================\n",
            "Dep. Variable:                      Y   R-squared:                       1.000\n",
            "Model:                            OLS   Adj. R-squared:                  1.000\n",
            "Method:                 Least Squares   F-statistic:                 7.378e+06\n",
            "Date:                Sun, 24 Oct 2021   Prob (F-statistic):           8.64e-26\n",
            "Time:                        15:48:06   Log-Likelihood:                 56.471\n",
            "No. Observations:                  11   AIC:                            -106.9\n",
            "Df Residuals:                       8   BIC:                            -105.7\n",
            "Df Model:                           2                                         \n",
            "Covariance Type:            nonrobust                                         \n",
            "==============================================================================\n",
            "                 coef    std err          t      P>|t|      [0.025      0.975]\n",
            "------------------------------------------------------------------------------\n",
            "Intercept     -5.9957      0.004  -1384.713      0.000      -6.006      -5.986\n",
            "X2            -0.1267   5.71e-05  -2219.238      0.000      -0.127      -0.127\n",
            "X              2.7808      0.001   2673.741      0.000       2.778       2.783\n",
            "==============================================================================\n",
            "Omnibus:                        2.566   Durbin-Watson:                   2.286\n",
            "Prob(Omnibus):                  0.277   Jarque-Bera (JB):                1.697\n",
            "Skew:                           0.809   Prob(JB):                        0.428\n",
            "Kurtosis:                       1.959   Cond. No.                         954.\n",
            "==============================================================================\n",
            "\n",
            "Warnings:\n",
            "[1] Standard Errors assume that the covariance matrix of the errors is correctly specified.\n",
            "                            OLS Regression Results                            \n",
            "==============================================================================\n",
            "Dep. Variable:                      Y   R-squared:                       0.685\n",
            "Model:                            OLS   Adj. R-squared:                  0.606\n",
            "Method:                 Least Squares   F-statistic:                     8.686\n",
            "Date:                Sun, 24 Oct 2021   Prob (F-statistic):            0.00988\n",
            "Time:                        15:48:06   Log-Likelihood:                -16.527\n",
            "No. Observations:                  11   AIC:                             39.05\n",
            "Df Residuals:                       8   BIC:                             40.25\n",
            "Df Model:                           2                                         \n",
            "Covariance Type:            nonrobust                                         \n",
            "==============================================================================\n",
            "                 coef    std err          t      P>|t|      [0.025      0.975]\n",
            "------------------------------------------------------------------------------\n",
            "Intercept      5.1118      3.300      1.549      0.160      -2.498      12.722\n",
            "X2             0.0297      0.044      0.683      0.514      -0.071       0.130\n",
            "X             -0.0350      0.793     -0.044      0.966      -1.863       1.793\n",
            "==============================================================================\n",
            "Omnibus:                       15.954   Durbin-Watson:                   1.921\n",
            "Prob(Omnibus):                  0.000   Jarque-Bera (JB):                9.922\n",
            "Skew:                           1.691   Prob(JB):                      0.00701\n",
            "Kurtosis:                       6.194   Cond. No.                         954.\n",
            "==============================================================================\n",
            "\n",
            "Warnings:\n",
            "[1] Standard Errors assume that the covariance matrix of the errors is correctly specified.\n",
            "                            OLS Regression Results                            \n",
            "==============================================================================\n",
            "Dep. Variable:                      Y   R-squared:                       0.667\n",
            "Model:                            OLS   Adj. R-squared:                  0.630\n",
            "Method:                 Least Squares   F-statistic:                     18.00\n",
            "Date:                Sun, 24 Oct 2021   Prob (F-statistic):            0.00216\n",
            "Time:                        15:48:06   Log-Likelihood:                -16.833\n",
            "No. Observations:                  11   AIC:                             37.67\n",
            "Df Residuals:                       9   BIC:                             38.46\n",
            "Df Model:                           1                                         \n",
            "Covariance Type:            nonrobust                                         \n",
            "==============================================================================\n",
            "                 coef    std err          t      P>|t|      [0.025      0.975]\n",
            "------------------------------------------------------------------------------\n",
            "Intercept      0.1780      0.017     10.661      0.000       0.140       0.216\n",
            "X2            -0.0186      0.007     -2.547      0.031      -0.035      -0.002\n",
            "X              1.0015      0.094     10.682      0.000       0.789       1.214\n",
            "==============================================================================\n",
            "Omnibus:                        0.555   Durbin-Watson:                   1.662\n",
            "Prob(Omnibus):                  0.758   Jarque-Bera (JB):                0.524\n",
            "Skew:                           0.010   Prob(JB):                        0.769\n",
            "Kurtosis:                       1.931   Cond. No.                     1.12e+18\n",
            "==============================================================================\n",
            "\n",
            "Warnings:\n",
            "[1] Standard Errors assume that the covariance matrix of the errors is correctly specified.\n",
            "[2] The smallest eigenvalue is 1.37e-31. This might indicate that there are\n",
            "strong multicollinearity problems or that the design matrix is singular.\n"
          ]
        },
        {
          "output_type": "display_data",
          "data": {
            "image/png": "[encoded data removed]",
            "text/plain": [
              "<Figure size 1440x720 with 8 Axes>"
            ]
          },
          "metadata": {
            "needs_background": "light"
          }
        }
      ]
    },
    {
      "cell_type": "code",
      "metadata": {
        "ExecuteTime": {
          "end_time": "2018-11-14T20:47:35.572801Z",
          "start_time": "2018-11-14T20:47:32.923204Z"
        },
        "run_control": {
          "frozen": false,
          "read_only": false
        },
        "colab": {
          "base_uri": "https://localhost:8080/"
        },
        "id": "ls846dWR-29c",
        "outputId": "0822542e-821c-4435-f14e-ffc466afa05d"
      },
      "source": [
        "# let's create a 10 parameter model (why 10?)\n",
        "\n",
        "Crazyregmodels={}\n",
        "for i,atmp in enumerate([ansc.I,ansc.II,ansc.III,ansc.IV]):\n",
        "    #create x^2 column\n",
        "    atmp['X2'] = atmp['X']*atmp['X']\n",
        "    atmp['X3'] = atmp['X']*atmp['X']*atmp['X']\n",
        "    atmp['X4'] = atmp['X']*atmp['X']*atmp['X']*atmp['X']\n",
        "    atmp['X5'] = atmp['X']*atmp['X']*atmp['X']*atmp['X']*atmp['X']\n",
        "    atmp['X6'] = atmp['X']*atmp['X']*atmp['X']*atmp['X']*atmp['X']*atmp['X']\n",
        "    atmp['X7'] = atmp['X']*atmp['X']*atmp['X']*atmp['X']*atmp['X']*atmp['X']*atmp['X']\n",
        "    atmp['X8'] = atmp['X']*atmp['X']*atmp['X']*atmp['X']*atmp['X']*atmp['X']*atmp['X']*atmp['X']\n",
        "    atmp['X9'] = atmp['X']*atmp['X']*atmp['X']*atmp['X']*atmp['X']*atmp['X']*atmp['X']*atmp['X']*atmp['X']\n",
        "    \n",
        "    rm = sm.OLS(a.Y, sm.add_constant(a.X))\n",
        "    Crazyregmodels[i] = smf.ols(formula='Y ~ X9 + X8 + X7 + X6 + X5 + X4 + X3 + X2 + X', data = atmp).fit()\n",
        "    \n",
        "    print (\"polynomial regression slope {}\".format(Crazyregmodels[i].params))    "
      ],
      "execution_count": null,
      "outputs": [
        {
          "output_type": "stream",
          "name": "stdout",
          "text": [
            "polynomial regression slope Intercept    943.727422\n",
            "X9             0.000061\n",
            "X8            -0.004325\n",
            "X7             0.130871\n",
            "X6            -2.198866\n",
            "X5            22.312031\n",
            "X4          -138.628086\n",
            "X3           503.311890\n",
            "X2          -901.160728\n",
            "X            259.548705\n",
            "dtype: float64\n",
            "polynomial regression slope Intercept   -9.413046e-01\n",
            "X9           8.079207e-08\n",
            "X8          -5.625955e-06\n",
            "X7           1.653527e-04\n",
            "X6          -2.648161e-03\n",
            "X5           2.468720e-02\n",
            "X4          -1.290559e-01\n",
            "X3           2.853582e-01\n",
            "X2           2.990793e-01\n",
            "X           -6.907555e-01\n",
            "dtype: float64\n",
            "polynomial regression slope Intercept   -175.029261\n",
            "X9            -0.000014\n",
            "X8             0.000987\n",
            "X7            -0.028834\n",
            "X6             0.468551\n",
            "X5            -4.607281\n",
            "X4            27.807476\n",
            "X3           -98.320239\n",
            "X2           171.545488\n",
            "X            -45.079295\n",
            "dtype: float64\n",
            "polynomial regression slope Intercept    7.200525e-14\n",
            "X9          -3.703094e-08\n",
            "X8           6.977391e-07\n",
            "X7           1.241841e-07\n",
            "X6           1.746863e-08\n",
            "X5           2.285980e-09\n",
            "X4           2.911370e-10\n",
            "X3           3.667579e-11\n",
            "X2           4.599403e-12\n",
            "X            5.757112e-13\n",
            "dtype: float64\n"
          ]
        },
        {
          "output_type": "stream",
          "name": "stderr",
          "text": [
            "/usr/local/lib/python3.7/dist-packages/ipykernel_launcher.py:6: SettingWithCopyWarning: \n",
            "A value is trying to be set on a copy of a slice from a DataFrame.\n",
            "Try using .loc[row_indexer,col_indexer] = value instead\n",
            "\n",
            "See the caveats in the documentation: https://pandas.pydata.org/pandas-docs/stable/user_guide/indexing.html#returning-a-view-versus-a-copy\n",
            "  \n",
            "/usr/local/lib/python3.7/dist-packages/ipykernel_launcher.py:7: SettingWithCopyWarning: \n",
            "A value is trying to be set on a copy of a slice from a DataFrame.\n",
            "Try using .loc[row_indexer,col_indexer] = value instead\n",
            "\n",
            "See the caveats in the documentation: https://pandas.pydata.org/pandas-docs/stable/user_guide/indexing.html#returning-a-view-versus-a-copy\n",
            "  import sys\n",
            "/usr/local/lib/python3.7/dist-packages/ipykernel_launcher.py:8: SettingWithCopyWarning: \n",
            "A value is trying to be set on a copy of a slice from a DataFrame.\n",
            "Try using .loc[row_indexer,col_indexer] = value instead\n",
            "\n",
            "See the caveats in the documentation: https://pandas.pydata.org/pandas-docs/stable/user_guide/indexing.html#returning-a-view-versus-a-copy\n",
            "  \n",
            "/usr/local/lib/python3.7/dist-packages/ipykernel_launcher.py:9: SettingWithCopyWarning: \n",
            "A value is trying to be set on a copy of a slice from a DataFrame.\n",
            "Try using .loc[row_indexer,col_indexer] = value instead\n",
            "\n",
            "See the caveats in the documentation: https://pandas.pydata.org/pandas-docs/stable/user_guide/indexing.html#returning-a-view-versus-a-copy\n",
            "  if __name__ == '__main__':\n",
            "/usr/local/lib/python3.7/dist-packages/ipykernel_launcher.py:10: SettingWithCopyWarning: \n",
            "A value is trying to be set on a copy of a slice from a DataFrame.\n",
            "Try using .loc[row_indexer,col_indexer] = value instead\n",
            "\n",
            "See the caveats in the documentation: https://pandas.pydata.org/pandas-docs/stable/user_guide/indexing.html#returning-a-view-versus-a-copy\n",
            "  # Remove the CWD from sys.path while we load stuff.\n",
            "/usr/local/lib/python3.7/dist-packages/ipykernel_launcher.py:11: SettingWithCopyWarning: \n",
            "A value is trying to be set on a copy of a slice from a DataFrame.\n",
            "Try using .loc[row_indexer,col_indexer] = value instead\n",
            "\n",
            "See the caveats in the documentation: https://pandas.pydata.org/pandas-docs/stable/user_guide/indexing.html#returning-a-view-versus-a-copy\n",
            "  # This is added back by InteractiveShellApp.init_path()\n",
            "/usr/local/lib/python3.7/dist-packages/ipykernel_launcher.py:12: SettingWithCopyWarning: \n",
            "A value is trying to be set on a copy of a slice from a DataFrame.\n",
            "Try using .loc[row_indexer,col_indexer] = value instead\n",
            "\n",
            "See the caveats in the documentation: https://pandas.pydata.org/pandas-docs/stable/user_guide/indexing.html#returning-a-view-versus-a-copy\n",
            "  if sys.path[0] == '':\n",
            "/usr/local/lib/python3.7/dist-packages/ipykernel_launcher.py:13: SettingWithCopyWarning: \n",
            "A value is trying to be set on a copy of a slice from a DataFrame.\n",
            "Try using .loc[row_indexer,col_indexer] = value instead\n",
            "\n",
            "See the caveats in the documentation: https://pandas.pydata.org/pandas-docs/stable/user_guide/indexing.html#returning-a-view-versus-a-copy\n",
            "  del sys.path[0]\n"
          ]
        }
      ]
    },
    {
      "cell_type": "code",
      "metadata": {
        "ExecuteTime": {
          "end_time": "2018-11-14T20:47:35.631969Z",
          "start_time": "2018-11-14T20:47:35.577267Z"
        },
        "colab": {
          "base_uri": "https://localhost:8080/",
          "height": 666
        },
        "id": "G602PMl--29d",
        "outputId": "ee2055e4-5a24-4dda-a67c-78c229fad39e"
      },
      "source": [
        "Crazyregmodels[i].summary()"
      ],
      "execution_count": null,
      "outputs": [
        {
          "output_type": "stream",
          "name": "stderr",
          "text": [
            "/usr/local/lib/python3.7/dist-packages/scipy/stats/stats.py:1535: UserWarning: kurtosistest only valid for n>=20 ... continuing anyway, n=11\n",
            "  \"anyway, n=%i\" % int(n))\n"
          ]
        },
        {
          "output_type": "execute_result",
          "data": {
            "text/html": [
              "<table class=\"simpletable\">\n",
              "<caption>OLS Regression Results</caption>\n",
              "<tr>\n",
              "  <th>Dep. Variable:</th>            <td>Y</td>        <th>  R-squared:         </th> <td>   0.667</td>\n",
              "</tr>\n",
              "<tr>\n",
              "  <th>Model:</th>                   <td>OLS</td>       <th>  Adj. R-squared:    </th> <td>   0.630</td>\n",
              "</tr>\n",
              "<tr>\n",
              "  <th>Method:</th>             <td>Least Squares</td>  <th>  F-statistic:       </th> <td>   18.00</td>\n",
              "</tr>\n",
              "<tr>\n",
              "  <th>Date:</th>             <td>Sun, 24 Oct 2021</td> <th>  Prob (F-statistic):</th>  <td>0.00216</td>\n",
              "</tr>\n",
              "<tr>\n",
              "  <th>Time:</th>                 <td>15:48:09</td>     <th>  Log-Likelihood:    </th> <td> -16.833</td>\n",
              "</tr>\n",
              "<tr>\n",
              "  <th>No. Observations:</th>      <td>    11</td>      <th>  AIC:               </th> <td>   37.67</td>\n",
              "</tr>\n",
              "<tr>\n",
              "  <th>Df Residuals:</th>          <td>     9</td>      <th>  BIC:               </th> <td>   38.46</td>\n",
              "</tr>\n",
              "<tr>\n",
              "  <th>Df Model:</th>              <td>     1</td>      <th>                     </th>     <td> </td>   \n",
              "</tr>\n",
              "<tr>\n",
              "  <th>Covariance Type:</th>      <td>nonrobust</td>    <th>                     </th>     <td> </td>   \n",
              "</tr>\n",
              "</table>\n",
              "<table class=\"simpletable\">\n",
              "<tr>\n",
              "      <td></td>         <th>coef</th>     <th>std err</th>      <th>t</th>      <th>P>|t|</th>  <th>[0.025</th>    <th>0.975]</th>  \n",
              "</tr>\n",
              "<tr>\n",
              "  <th>Intercept</th> <td> 7.201e-14</td> <td> 4.02e-15</td> <td>   17.903</td> <td> 0.000</td> <td> 6.29e-14</td> <td> 8.11e-14</td>\n",
              "</tr>\n",
              "<tr>\n",
              "  <th>X9</th>        <td>-3.703e-08</td> <td> 2.07e-09</td> <td>  -17.884</td> <td> 0.000</td> <td>-4.17e-08</td> <td>-3.23e-08</td>\n",
              "</tr>\n",
              "<tr>\n",
              "  <th>X8</th>        <td> 6.977e-07</td> <td>  3.9e-08</td> <td>   17.903</td> <td> 0.000</td> <td>  6.1e-07</td> <td> 7.86e-07</td>\n",
              "</tr>\n",
              "<tr>\n",
              "  <th>X7</th>        <td> 1.242e-07</td> <td> 6.94e-09</td> <td>   17.903</td> <td> 0.000</td> <td> 1.08e-07</td> <td>  1.4e-07</td>\n",
              "</tr>\n",
              "<tr>\n",
              "  <th>X6</th>        <td> 1.747e-08</td> <td> 9.76e-10</td> <td>   17.903</td> <td> 0.000</td> <td> 1.53e-08</td> <td> 1.97e-08</td>\n",
              "</tr>\n",
              "<tr>\n",
              "  <th>X5</th>        <td> 2.286e-09</td> <td> 1.28e-10</td> <td>   17.903</td> <td> 0.000</td> <td>    2e-09</td> <td> 2.57e-09</td>\n",
              "</tr>\n",
              "<tr>\n",
              "  <th>X4</th>        <td> 2.911e-10</td> <td> 1.63e-11</td> <td>   17.903</td> <td> 0.000</td> <td> 2.54e-10</td> <td> 3.28e-10</td>\n",
              "</tr>\n",
              "<tr>\n",
              "  <th>X3</th>        <td> 3.668e-11</td> <td> 2.05e-12</td> <td>   17.903</td> <td> 0.000</td> <td>  3.2e-11</td> <td> 4.13e-11</td>\n",
              "</tr>\n",
              "<tr>\n",
              "  <th>X2</th>        <td> 4.599e-12</td> <td> 2.57e-13</td> <td>   17.903</td> <td> 0.000</td> <td> 4.02e-12</td> <td> 5.18e-12</td>\n",
              "</tr>\n",
              "<tr>\n",
              "  <th>X</th>         <td> 5.757e-13</td> <td> 3.22e-14</td> <td>   17.903</td> <td> 0.000</td> <td> 5.03e-13</td> <td> 6.48e-13</td>\n",
              "</tr>\n",
              "</table>\n",
              "<table class=\"simpletable\">\n",
              "<tr>\n",
              "  <th>Omnibus:</th>       <td> 0.555</td> <th>  Durbin-Watson:     </th> <td>   1.662</td>\n",
              "</tr>\n",
              "<tr>\n",
              "  <th>Prob(Omnibus):</th> <td> 0.758</td> <th>  Jarque-Bera (JB):  </th> <td>   0.524</td>\n",
              "</tr>\n",
              "<tr>\n",
              "  <th>Skew:</th>          <td> 0.010</td> <th>  Prob(JB):          </th> <td>   0.769</td>\n",
              "</tr>\n",
              "<tr>\n",
              "  <th>Kurtosis:</th>      <td> 1.931</td> <th>  Cond. No.          </th> <td>1.80e+57</td>\n",
              "</tr>\n",
              "</table><br/><br/>Warnings:<br/>[1] Standard Errors assume that the covariance matrix of the errors is correctly specified.<br/>[2] The smallest eigenvalue is 3.22e-92. This might indicate that there are<br/>strong multicollinearity problems or that the design matrix is singular."
            ],
            "text/plain": [
              "<class 'statsmodels.iolib.summary.Summary'>\n",
              "\"\"\"\n",
              "                            OLS Regression Results                            \n",
              "==============================================================================\n",
              "Dep. Variable:                      Y   R-squared:                       0.667\n",
              "Model:                            OLS   Adj. R-squared:                  0.630\n",
              "Method:                 Least Squares   F-statistic:                     18.00\n",
              "Date:                Sun, 24 Oct 2021   Prob (F-statistic):            0.00216\n",
              "Time:                        15:48:09   Log-Likelihood:                -16.833\n",
              "No. Observations:                  11   AIC:                             37.67\n",
              "Df Residuals:                       9   BIC:                             38.46\n",
              "Df Model:                           1                                         \n",
              "Covariance Type:            nonrobust                                         \n",
              "==============================================================================\n",
              "                 coef    std err          t      P>|t|      [0.025      0.975]\n",
              "------------------------------------------------------------------------------\n",
              "Intercept   7.201e-14   4.02e-15     17.903      0.000    6.29e-14    8.11e-14\n",
              "X9         -3.703e-08   2.07e-09    -17.884      0.000   -4.17e-08   -3.23e-08\n",
              "X8          6.977e-07    3.9e-08     17.903      0.000     6.1e-07    7.86e-07\n",
              "X7          1.242e-07   6.94e-09     17.903      0.000    1.08e-07     1.4e-07\n",
              "X6          1.747e-08   9.76e-10     17.903      0.000    1.53e-08    1.97e-08\n",
              "X5          2.286e-09   1.28e-10     17.903      0.000       2e-09    2.57e-09\n",
              "X4          2.911e-10   1.63e-11     17.903      0.000    2.54e-10    3.28e-10\n",
              "X3          3.668e-11   2.05e-12     17.903      0.000     3.2e-11    4.13e-11\n",
              "X2          4.599e-12   2.57e-13     17.903      0.000    4.02e-12    5.18e-12\n",
              "X           5.757e-13   3.22e-14     17.903      0.000    5.03e-13    6.48e-13\n",
              "==============================================================================\n",
              "Omnibus:                        0.555   Durbin-Watson:                   1.662\n",
              "Prob(Omnibus):                  0.758   Jarque-Bera (JB):                0.524\n",
              "Skew:                           0.010   Prob(JB):                        0.769\n",
              "Kurtosis:                       1.931   Cond. No.                     1.80e+57\n",
              "==============================================================================\n",
              "\n",
              "Warnings:\n",
              "[1] Standard Errors assume that the covariance matrix of the errors is correctly specified.\n",
              "[2] The smallest eigenvalue is 3.22e-92. This might indicate that there are\n",
              "strong multicollinearity problems or that the design matrix is singular.\n",
              "\"\"\""
            ]
          },
          "metadata": {},
          "execution_count": 23
        }
      ]
    },
    {
      "cell_type": "code",
      "metadata": {
        "ExecuteTime": {
          "end_time": "2018-11-14T20:50:15.691735Z",
          "start_time": "2018-11-14T20:50:14.223088Z"
        },
        "scrolled": false,
        "colab": {
          "base_uri": "https://localhost:8080/",
          "height": 1000
        },
        "id": "1sGaGPPt-29d",
        "outputId": "52c9f664-954c-476c-e297-d4503f62db7f"
      },
      "source": [
        "fig = pl.figure(figsize = (20, 10))\n",
        "ax=[0] * 8\n",
        "\n",
        "ax[0] = fig.add_subplot(241)\n",
        "ax[1] = fig.add_subplot(242)\n",
        "ax[2] = fig.add_subplot(243)\n",
        "ax[3] = fig.add_subplot(244)\n",
        "ax[4] = fig.add_subplot(245)\n",
        "ax[5] = fig.add_subplot(246)\n",
        "ax[6] = fig.add_subplot(247)\n",
        "ax[7] = fig.add_subplot(248)\n",
        "\n",
        "\n",
        "for i, a in enumerate([ansc.I, ansc.II, ansc.III, ansc.IV]):\n",
        "    print (pregmodels[i].summary())\n",
        "    a.plot(kind = 'scatter', s = 100, x = 'X', y = 'Y', \n",
        "           color = 'SteelBlue', ax = ax[i])\n",
        "    xlims = ax[i].get_xlim()\n",
        "\n",
        "    \n",
        "    atmp = a.sort_values(by='X', axis=0)\n",
        "    atmp['X2'] = atmp['X']*atmp['X']\n",
        "    atmp['X3'] = atmp['X']*atmp['X']*atmp['X']\n",
        "    atmp['X4'] = atmp['X']*atmp['X']*atmp['X']*atmp['X']\n",
        "    atmp['X5'] = atmp['X']*atmp['X']*atmp['X']*atmp['X']*atmp['X']\n",
        "    atmp['X6'] = atmp['X']*atmp['X']*atmp['X']*atmp['X']*atmp['X']*atmp['X']\n",
        "    atmp['X7'] = atmp['X']*atmp['X']*atmp['X']*atmp['X']*atmp['X']*atmp['X']*atmp['X']\n",
        "    atmp['X8'] = atmp['X']*atmp['X']*atmp['X']*atmp['X']*atmp['X']*atmp['X']*atmp['X']*atmp['X']\n",
        "    atmp['X9'] = atmp['X']*atmp['X']*atmp['X']*atmp['X']*atmp['X']*atmp['X']*atmp['X']*atmp['X']*atmp['X']\n",
        "    atmp['X10'] = atmp['X']*atmp['X']*atmp['X']*atmp['X']*atmp['X']*atmp['X']*atmp['X']*atmp['X']*atmp['X']*atmp['X']\n",
        "    y_hatp = Crazyregmodels[i].predict(atmp)    \n",
        "    ax[i].plot(atmp.X, Crazyregmodels[i].predict(atmp), \n",
        "                   '-', color='IndianRed')\n",
        "    \n",
        "    ax[i + 4].plot([a.X.min(), a.X.max()], [0, 0], '-', \n",
        "                   color = 'IndianRed')\n",
        "    ax[i + 4].plot(atmp.X, atmp.Y - Crazyregmodels[i].predict(atmp), \n",
        "                   'o', color='DarkGreen')\n",
        "    ax[i + 4].plot(a.X, a.Y - lregmodels[i].predict(sm.add_constant(a.X)), \n",
        "                                                   'o', color='gray')\n",
        "    ax[i + 4].set_xlim(xlims)\n"
      ],
      "execution_count": null,
      "outputs": [
        {
          "output_type": "stream",
          "name": "stderr",
          "text": [
            "/usr/local/lib/python3.7/dist-packages/scipy/stats/stats.py:1535: UserWarning: kurtosistest only valid for n>=20 ... continuing anyway, n=11\n",
            "  \"anyway, n=%i\" % int(n))\n",
            "/usr/local/lib/python3.7/dist-packages/scipy/stats/stats.py:1535: UserWarning: kurtosistest only valid for n>=20 ... continuing anyway, n=11\n",
            "  \"anyway, n=%i\" % int(n))\n",
            "/usr/local/lib/python3.7/dist-packages/scipy/stats/stats.py:1535: UserWarning: kurtosistest only valid for n>=20 ... continuing anyway, n=11\n",
            "  \"anyway, n=%i\" % int(n))\n"
          ]
        },
        {
          "output_type": "stream",
          "name": "stdout",
          "text": [
            "                            OLS Regression Results                            \n",
            "==============================================================================\n",
            "Dep. Variable:                      Y   R-squared:                       0.687\n",
            "Model:                            OLS   Adj. R-squared:                  0.609\n",
            "Method:                 Least Squares   F-statistic:                     8.793\n",
            "Date:                Sun, 24 Oct 2021   Prob (F-statistic):            0.00956\n",
            "Time:                        15:48:10   Log-Likelihood:                -16.487\n",
            "No. Observations:                  11   AIC:                             38.97\n",
            "Df Residuals:                       8   BIC:                             40.17\n",
            "Df Model:                           2                                         \n",
            "Covariance Type:            nonrobust                                         \n",
            "==============================================================================\n",
            "                 coef    std err          t      P>|t|      [0.025      0.975]\n",
            "------------------------------------------------------------------------------\n",
            "Intercept      0.7551      3.288      0.230      0.824      -6.827       8.338\n",
            "X2            -0.0316      0.043     -0.729      0.487      -0.132       0.068\n",
            "X              1.0693      0.790      1.354      0.213      -0.752       2.891\n",
            "==============================================================================\n",
            "Omnibus:                        0.167   Durbin-Watson:                   2.902\n",
            "Prob(Omnibus):                  0.920   Jarque-Bera (JB):                0.302\n",
            "Skew:                          -0.220   Prob(JB):                        0.860\n",
            "Kurtosis:                       2.318   Cond. No.                         954.\n",
            "==============================================================================\n",
            "\n",
            "Warnings:\n",
            "[1] Standard Errors assume that the covariance matrix of the errors is correctly specified.\n",
            "                            OLS Regression Results                            \n",
            "==============================================================================\n",
            "Dep. Variable:                      Y   R-squared:                       1.000\n",
            "Model:                            OLS   Adj. R-squared:                  1.000\n",
            "Method:                 Least Squares   F-statistic:                 7.378e+06\n",
            "Date:                Sun, 24 Oct 2021   Prob (F-statistic):           8.64e-26\n",
            "Time:                        15:48:10   Log-Likelihood:                 56.471\n",
            "No. Observations:                  11   AIC:                            -106.9\n",
            "Df Residuals:                       8   BIC:                            -105.7\n",
            "Df Model:                           2                                         \n",
            "Covariance Type:            nonrobust                                         \n",
            "==============================================================================\n",
            "                 coef    std err          t      P>|t|      [0.025      0.975]\n",
            "------------------------------------------------------------------------------\n",
            "Intercept     -5.9957      0.004  -1384.713      0.000      -6.006      -5.986\n",
            "X2            -0.1267   5.71e-05  -2219.238      0.000      -0.127      -0.127\n",
            "X              2.7808      0.001   2673.741      0.000       2.778       2.783\n",
            "==============================================================================\n",
            "Omnibus:                        2.566   Durbin-Watson:                   2.286\n",
            "Prob(Omnibus):                  0.277   Jarque-Bera (JB):                1.697\n",
            "Skew:                           0.809   Prob(JB):                        0.428\n",
            "Kurtosis:                       1.959   Cond. No.                         954.\n",
            "==============================================================================\n",
            "\n",
            "Warnings:\n",
            "[1] Standard Errors assume that the covariance matrix of the errors is correctly specified.\n",
            "                            OLS Regression Results                            \n",
            "==============================================================================\n",
            "Dep. Variable:                      Y   R-squared:                       0.685\n",
            "Model:                            OLS   Adj. R-squared:                  0.606\n",
            "Method:                 Least Squares   F-statistic:                     8.686\n",
            "Date:                Sun, 24 Oct 2021   Prob (F-statistic):            0.00988\n",
            "Time:                        15:48:11   Log-Likelihood:                -16.527\n",
            "No. Observations:                  11   AIC:                             39.05\n",
            "Df Residuals:                       8   BIC:                             40.25\n",
            "Df Model:                           2                                         \n",
            "Covariance Type:            nonrobust                                         \n",
            "==============================================================================\n",
            "                 coef    std err          t      P>|t|      [0.025      0.975]\n",
            "------------------------------------------------------------------------------\n",
            "Intercept      5.1118      3.300      1.549      0.160      -2.498      12.722\n",
            "X2             0.0297      0.044      0.683      0.514      -0.071       0.130\n",
            "X             -0.0350      0.793     -0.044      0.966      -1.863       1.793\n",
            "==============================================================================\n",
            "Omnibus:                       15.954   Durbin-Watson:                   1.921\n",
            "Prob(Omnibus):                  0.000   Jarque-Bera (JB):                9.922\n",
            "Skew:                           1.691   Prob(JB):                      0.00701\n",
            "Kurtosis:                       6.194   Cond. No.                         954.\n",
            "==============================================================================\n",
            "\n",
            "Warnings:\n",
            "[1] Standard Errors assume that the covariance matrix of the errors is correctly specified.\n"
          ]
        },
        {
          "output_type": "stream",
          "name": "stderr",
          "text": [
            "/usr/local/lib/python3.7/dist-packages/scipy/stats/stats.py:1535: UserWarning: kurtosistest only valid for n>=20 ... continuing anyway, n=11\n",
            "  \"anyway, n=%i\" % int(n))\n"
          ]
        },
        {
          "output_type": "stream",
          "name": "stdout",
          "text": [
            "                            OLS Regression Results                            \n",
            "==============================================================================\n",
            "Dep. Variable:                      Y   R-squared:                       0.667\n",
            "Model:                            OLS   Adj. R-squared:                  0.630\n",
            "Method:                 Least Squares   F-statistic:                     18.00\n",
            "Date:                Sun, 24 Oct 2021   Prob (F-statistic):            0.00216\n",
            "Time:                        15:48:11   Log-Likelihood:                -16.833\n",
            "No. Observations:                  11   AIC:                             37.67\n",
            "Df Residuals:                       9   BIC:                             38.46\n",
            "Df Model:                           1                                         \n",
            "Covariance Type:            nonrobust                                         \n",
            "==============================================================================\n",
            "                 coef    std err          t      P>|t|      [0.025      0.975]\n",
            "------------------------------------------------------------------------------\n",
            "Intercept      0.1780      0.017     10.661      0.000       0.140       0.216\n",
            "X2            -0.0186      0.007     -2.547      0.031      -0.035      -0.002\n",
            "X              1.0015      0.094     10.682      0.000       0.789       1.214\n",
            "==============================================================================\n",
            "Omnibus:                        0.555   Durbin-Watson:                   1.662\n",
            "Prob(Omnibus):                  0.758   Jarque-Bera (JB):                0.524\n",
            "Skew:                           0.010   Prob(JB):                        0.769\n",
            "Kurtosis:                       1.931   Cond. No.                     1.12e+18\n",
            "==============================================================================\n",
            "\n",
            "Warnings:\n",
            "[1] Standard Errors assume that the covariance matrix of the errors is correctly specified.\n",
            "[2] The smallest eigenvalue is 1.37e-31. This might indicate that there are\n",
            "strong multicollinearity problems or that the design matrix is singular.\n"
          ]
        },
        {
          "output_type": "display_data",
          "data": {
            "image/png": "[encoded data removed]",
            "text/plain": [
              "<Figure size 1440x720 with 8 Axes>"
            ]
          },
          "metadata": {
            "needs_background": "light"
          }
        }
      ]
    },
    {
      "cell_type": "markdown",
      "metadata": {
        "id": "90lQ6_JL-29e"
      },
      "source": [
        "# Figure: increasing the number of parameters in the model gives a progressively better fit, but not a better model!"
      ]
    },
    {
      "cell_type": "code",
      "metadata": {
        "id": "HF8An9YB-29e"
      },
      "source": [],
      "execution_count": null,
      "outputs": []
    }
  ]
}
