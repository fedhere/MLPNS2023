{
  "nbformat": 4,
  "nbformat_minor": 0,
  "metadata": {
    "colab": {
      "provenance": [],
      "authorship_tag": "ABX9TyPzJCTY0xGzEfit4zB1I2Ao",
      "include_colab_link": true
    },
    "kernelspec": {
      "name": "python3",
      "display_name": "Python 3"
    },
    "language_info": {
      "name": "python"
    }
  },
  "cells": [
    {
      "cell_type": "markdown",
      "metadata": {
        "id": "view-in-github",
        "colab_type": "text"
      },
      "source": [
        "<a href=\"https://colab.research.google.com/github/fedhere/MLPNS_FBianco/blob/main/slides_code/mlpns23_2_rulesexamples.ipynb\" target=\"_parent\"><img src=\"https://colab.research.google.com/assets/colab-badge.svg\" alt=\"Open In Colab\"/></a>"
      ]
    },
    {
      "cell_type": "code",
      "execution_count": 1,
      "metadata": {
        "id": "1xJO56HiCU1K"
      },
      "outputs": [],
      "source": [
        "import numpy as np\n",
        "import pylab as pl"
      ]
    },
    {
      "cell_type": "code",
      "source": [
        "x = np.random.randint(0,12,100)\n",
        "y = 2.0 + 0.7 * x + 1.2 * x**2\n",
        "x = x + np.random.randn(x.shape[0])\n",
        "scatter = np.random.randn(y.shape[0]) * np.sqrt(y)\n",
        "yerr = np.random.randn(y.shape[0]) * 2 + scatter \n",
        "index1 = np.random.choice(np.arange(x.shape[0]), 63, replace=False)\n",
        "index2 = np.array(list(set(np.arange(x.shape[0])) - set(index1)))\n",
        "index1"
      ],
      "metadata": {
        "colab": {
          "base_uri": "https://localhost:8080/"
        },
        "id": "lOCEkFvVCXko",
        "outputId": "84443012-0581-41dd-f6ab-e47af99d6eac"
      },
      "execution_count": 25,
      "outputs": [
        {
          "output_type": "execute_result",
          "data": {
            "text/plain": [
              "array([97, 36, 29, 88, 46, 30, 48, 53, 52, 95,  4,  6, 13, 20,  1, 24, 25,\n",
              "       37, 82, 98, 90, 80, 67, 61, 74,  5, 22, 15, 18, 93,  8, 71, 69, 94,\n",
              "       44, 33, 38, 31, 28, 81, 59, 47, 64, 19, 49, 40, 51, 83, 42, 50,  2,\n",
              "       87, 78, 26, 70, 84, 17, 68, 99, 65, 55, 62, 75])"
            ]
          },
          "metadata": {},
          "execution_count": 25
        }
      ]
    },
    {
      "cell_type": "code",
      "source": [
        "pl.errorbar(x[index1], y[index1] + scatter[index1], \n",
        "            yerr=yerr[index1], fmt='.k', label=\"some values\")\n",
        "pl.errorbar(x[index2], y[index2] + scatter[index2], \n",
        "            yerr=yerr[index2], fmt='s', label=\"some other values\")\n",
        "pl.plot(np.arange(0, 12), np.arange(0, 12) * 3);\n",
        "pl.xlabel(\"some quantity [some units]\")\n",
        "pl.ylabel(\"some other quantity [some units]\");"
      ],
      "metadata": {
        "colab": {
          "base_uri": "https://localhost:8080/",
          "height": 279
        },
        "id": "fLzT_6rgCfV6",
        "outputId": "5f6210c4-c25d-4cd8-b027-4e089c7c163d"
      },
      "execution_count": 33,
      "outputs": [
        {
          "output_type": "display_data",
          "data": {
            "text/plain": [
              "<Figure size 432x288 with 1 Axes>"
            ],
            "image/png": "[encoded data removed]"
          },
          "metadata": {
            "needs_background": "light"
          }
        }
      ]
    },
    {
      "cell_type": "code",
      "source": [
        "import pandas as pd\n",
        "videos = pd.read_csv(\"https://github.com/fedhere/MLPNS_FBianco/blob/main/data/USyoutubes.csv?raw=true\")"
      ],
      "metadata": {
        "id": "YRaBJA5oDaP3"
      },
      "execution_count": 34,
      "outputs": []
    },
    {
      "cell_type": "code",
      "source": [
        "videos.columns"
      ],
      "metadata": {
        "colab": {
          "base_uri": "https://localhost:8080/"
        },
        "id": "Alybw9oVHsQ4",
        "outputId": "c373803a-7660-42fe-b1c5-57697a0a9eea"
      },
      "execution_count": 35,
      "outputs": [
        {
          "output_type": "execute_result",
          "data": {
            "text/plain": [
              "Index(['trending_date', 'title', 'channel_title', 'category_id',\n",
              "       'publish_time', 'tags', 'views', 'likes', 'dislikes', 'comment_count'],\n",
              "      dtype='object')"
            ]
          },
          "metadata": {},
          "execution_count": 35
        }
      ]
    },
    {
      "cell_type": "code",
      "source": [
        "print(\"the average number of video views is {:.1f}\".format(videos[\"views\"].mean()))"
      ],
      "metadata": {
        "colab": {
          "base_uri": "https://localhost:8080/"
        },
        "id": "VRF2VSVRHu4t",
        "outputId": "002bec7f-a2f1-4eee-c801-07d046dcf4b7"
      },
      "execution_count": 39,
      "outputs": [
        {
          "output_type": "stream",
          "name": "stdout",
          "text": [
            "the average number of video views is 2360784.6\n"
          ]
        }
      ]
    },
    {
      "cell_type": "code",
      "source": [],
      "metadata": {
        "id": "5VcpQVmFHyuq"
      },
      "execution_count": null,
      "outputs": []
    }
  ]
}